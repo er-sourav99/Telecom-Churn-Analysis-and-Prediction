{
 "cells": [
  {
   "cell_type": "code",
   "execution_count": 1,
   "metadata": {},
   "outputs": [
    {
     "data": {
      "text/html": [
       "\n",
       "    <div class=\"bk-root\">\n",
       "        <a href=\"https://bokeh.org\" target=\"_blank\" class=\"bk-logo bk-logo-small bk-logo-notebook\"></a>\n",
       "        <span id=\"1001\">Loading BokehJS ...</span>\n",
       "    </div>"
      ]
     },
     "metadata": {},
     "output_type": "display_data"
    },
    {
     "data": {
      "application/javascript": [
       "\n",
       "(function(root) {\n",
       "  function now() {\n",
       "    return new Date();\n",
       "  }\n",
       "\n",
       "  var force = true;\n",
       "\n",
       "  if (typeof root._bokeh_onload_callbacks === \"undefined\" || force === true) {\n",
       "    root._bokeh_onload_callbacks = [];\n",
       "    root._bokeh_is_loading = undefined;\n",
       "  }\n",
       "\n",
       "  var JS_MIME_TYPE = 'application/javascript';\n",
       "  var HTML_MIME_TYPE = 'text/html';\n",
       "  var EXEC_MIME_TYPE = 'application/vnd.bokehjs_exec.v0+json';\n",
       "  var CLASS_NAME = 'output_bokeh rendered_html';\n",
       "\n",
       "  /**\n",
       "   * Render data to the DOM node\n",
       "   */\n",
       "  function render(props, node) {\n",
       "    var script = document.createElement(\"script\");\n",
       "    node.appendChild(script);\n",
       "  }\n",
       "\n",
       "  /**\n",
       "   * Handle when an output is cleared or removed\n",
       "   */\n",
       "  function handleClearOutput(event, handle) {\n",
       "    var cell = handle.cell;\n",
       "\n",
       "    var id = cell.output_area._bokeh_element_id;\n",
       "    var server_id = cell.output_area._bokeh_server_id;\n",
       "    // Clean up Bokeh references\n",
       "    if (id != null && id in Bokeh.index) {\n",
       "      Bokeh.index[id].model.document.clear();\n",
       "      delete Bokeh.index[id];\n",
       "    }\n",
       "\n",
       "    if (server_id !== undefined) {\n",
       "      // Clean up Bokeh references\n",
       "      var cmd = \"from bokeh.io.state import curstate; print(curstate().uuid_to_server['\" + server_id + \"'].get_sessions()[0].document.roots[0]._id)\";\n",
       "      cell.notebook.kernel.execute(cmd, {\n",
       "        iopub: {\n",
       "          output: function(msg) {\n",
       "            var id = msg.content.text.trim();\n",
       "            if (id in Bokeh.index) {\n",
       "              Bokeh.index[id].model.document.clear();\n",
       "              delete Bokeh.index[id];\n",
       "            }\n",
       "          }\n",
       "        }\n",
       "      });\n",
       "      // Destroy server and session\n",
       "      var cmd = \"import bokeh.io.notebook as ion; ion.destroy_server('\" + server_id + \"')\";\n",
       "      cell.notebook.kernel.execute(cmd);\n",
       "    }\n",
       "  }\n",
       "\n",
       "  /**\n",
       "   * Handle when a new output is added\n",
       "   */\n",
       "  function handleAddOutput(event, handle) {\n",
       "    var output_area = handle.output_area;\n",
       "    var output = handle.output;\n",
       "\n",
       "    // limit handleAddOutput to display_data with EXEC_MIME_TYPE content only\n",
       "    if ((output.output_type != \"display_data\") || (!output.data.hasOwnProperty(EXEC_MIME_TYPE))) {\n",
       "      return\n",
       "    }\n",
       "\n",
       "    var toinsert = output_area.element.find(\".\" + CLASS_NAME.split(' ')[0]);\n",
       "\n",
       "    if (output.metadata[EXEC_MIME_TYPE][\"id\"] !== undefined) {\n",
       "      toinsert[toinsert.length - 1].firstChild.textContent = output.data[JS_MIME_TYPE];\n",
       "      // store reference to embed id on output_area\n",
       "      output_area._bokeh_element_id = output.metadata[EXEC_MIME_TYPE][\"id\"];\n",
       "    }\n",
       "    if (output.metadata[EXEC_MIME_TYPE][\"server_id\"] !== undefined) {\n",
       "      var bk_div = document.createElement(\"div\");\n",
       "      bk_div.innerHTML = output.data[HTML_MIME_TYPE];\n",
       "      var script_attrs = bk_div.children[0].attributes;\n",
       "      for (var i = 0; i < script_attrs.length; i++) {\n",
       "        toinsert[toinsert.length - 1].firstChild.setAttribute(script_attrs[i].name, script_attrs[i].value);\n",
       "      }\n",
       "      // store reference to server id on output_area\n",
       "      output_area._bokeh_server_id = output.metadata[EXEC_MIME_TYPE][\"server_id\"];\n",
       "    }\n",
       "  }\n",
       "\n",
       "  function register_renderer(events, OutputArea) {\n",
       "\n",
       "    function append_mime(data, metadata, element) {\n",
       "      // create a DOM node to render to\n",
       "      var toinsert = this.create_output_subarea(\n",
       "        metadata,\n",
       "        CLASS_NAME,\n",
       "        EXEC_MIME_TYPE\n",
       "      );\n",
       "      this.keyboard_manager.register_events(toinsert);\n",
       "      // Render to node\n",
       "      var props = {data: data, metadata: metadata[EXEC_MIME_TYPE]};\n",
       "      render(props, toinsert[toinsert.length - 1]);\n",
       "      element.append(toinsert);\n",
       "      return toinsert\n",
       "    }\n",
       "\n",
       "    /* Handle when an output is cleared or removed */\n",
       "    events.on('clear_output.CodeCell', handleClearOutput);\n",
       "    events.on('delete.Cell', handleClearOutput);\n",
       "\n",
       "    /* Handle when a new output is added */\n",
       "    events.on('output_added.OutputArea', handleAddOutput);\n",
       "\n",
       "    /**\n",
       "     * Register the mime type and append_mime function with output_area\n",
       "     */\n",
       "    OutputArea.prototype.register_mime_type(EXEC_MIME_TYPE, append_mime, {\n",
       "      /* Is output safe? */\n",
       "      safe: true,\n",
       "      /* Index of renderer in `output_area.display_order` */\n",
       "      index: 0\n",
       "    });\n",
       "  }\n",
       "\n",
       "  // register the mime type if in Jupyter Notebook environment and previously unregistered\n",
       "  if (root.Jupyter !== undefined) {\n",
       "    var events = require('base/js/events');\n",
       "    var OutputArea = require('notebook/js/outputarea').OutputArea;\n",
       "\n",
       "    if (OutputArea.prototype.mime_types().indexOf(EXEC_MIME_TYPE) == -1) {\n",
       "      register_renderer(events, OutputArea);\n",
       "    }\n",
       "  }\n",
       "\n",
       "  \n",
       "  if (typeof (root._bokeh_timeout) === \"undefined\" || force === true) {\n",
       "    root._bokeh_timeout = Date.now() + 5000;\n",
       "    root._bokeh_failed_load = false;\n",
       "  }\n",
       "\n",
       "  var NB_LOAD_WARNING = {'data': {'text/html':\n",
       "     \"<div style='background-color: #fdd'>\\n\"+\n",
       "     \"<p>\\n\"+\n",
       "     \"BokehJS does not appear to have successfully loaded. If loading BokehJS from CDN, this \\n\"+\n",
       "     \"may be due to a slow or bad network connection. Possible fixes:\\n\"+\n",
       "     \"</p>\\n\"+\n",
       "     \"<ul>\\n\"+\n",
       "     \"<li>re-rerun `output_notebook()` to attempt to load from CDN again, or</li>\\n\"+\n",
       "     \"<li>use INLINE resources instead, as so:</li>\\n\"+\n",
       "     \"</ul>\\n\"+\n",
       "     \"<code>\\n\"+\n",
       "     \"from bokeh.resources import INLINE\\n\"+\n",
       "     \"output_notebook(resources=INLINE)\\n\"+\n",
       "     \"</code>\\n\"+\n",
       "     \"</div>\"}};\n",
       "\n",
       "  function display_loaded() {\n",
       "    var el = document.getElementById(\"1001\");\n",
       "    if (el != null) {\n",
       "      el.textContent = \"BokehJS is loading...\";\n",
       "    }\n",
       "    if (root.Bokeh !== undefined) {\n",
       "      if (el != null) {\n",
       "        el.textContent = \"BokehJS \" + root.Bokeh.version + \" successfully loaded.\";\n",
       "      }\n",
       "    } else if (Date.now() < root._bokeh_timeout) {\n",
       "      setTimeout(display_loaded, 100)\n",
       "    }\n",
       "  }\n",
       "\n",
       "\n",
       "  function run_callbacks() {\n",
       "    try {\n",
       "      root._bokeh_onload_callbacks.forEach(function(callback) {\n",
       "        if (callback != null)\n",
       "          callback();\n",
       "      });\n",
       "    } finally {\n",
       "      delete root._bokeh_onload_callbacks\n",
       "    }\n",
       "    console.debug(\"Bokeh: all callbacks have finished\");\n",
       "  }\n",
       "\n",
       "  function load_libs(css_urls, js_urls, callback) {\n",
       "    if (css_urls == null) css_urls = [];\n",
       "    if (js_urls == null) js_urls = [];\n",
       "\n",
       "    root._bokeh_onload_callbacks.push(callback);\n",
       "    if (root._bokeh_is_loading > 0) {\n",
       "      console.debug(\"Bokeh: BokehJS is being loaded, scheduling callback at\", now());\n",
       "      return null;\n",
       "    }\n",
       "    if (js_urls == null || js_urls.length === 0) {\n",
       "      run_callbacks();\n",
       "      return null;\n",
       "    }\n",
       "    console.debug(\"Bokeh: BokehJS not loaded, scheduling load and callback at\", now());\n",
       "    root._bokeh_is_loading = css_urls.length + js_urls.length;\n",
       "\n",
       "    function on_load() {\n",
       "      root._bokeh_is_loading--;\n",
       "      if (root._bokeh_is_loading === 0) {\n",
       "        console.debug(\"Bokeh: all BokehJS libraries/stylesheets loaded\");\n",
       "        run_callbacks()\n",
       "      }\n",
       "    }\n",
       "\n",
       "    function on_error() {\n",
       "      console.error(\"failed to load \" + url);\n",
       "    }\n",
       "\n",
       "    for (var i = 0; i < css_urls.length; i++) {\n",
       "      var url = css_urls[i];\n",
       "      const element = document.createElement(\"link\");\n",
       "      element.onload = on_load;\n",
       "      element.onerror = on_error;\n",
       "      element.rel = \"stylesheet\";\n",
       "      element.type = \"text/css\";\n",
       "      element.href = url;\n",
       "      console.debug(\"Bokeh: injecting link tag for BokehJS stylesheet: \", url);\n",
       "      document.body.appendChild(element);\n",
       "    }\n",
       "\n",
       "    for (var i = 0; i < js_urls.length; i++) {\n",
       "      var url = js_urls[i];\n",
       "      var element = document.createElement('script');\n",
       "      element.onload = on_load;\n",
       "      element.onerror = on_error;\n",
       "      element.async = false;\n",
       "      element.src = url;\n",
       "      console.debug(\"Bokeh: injecting script tag for BokehJS library: \", url);\n",
       "      document.head.appendChild(element);\n",
       "    }\n",
       "  };var element = document.getElementById(\"1001\");\n",
       "  if (element == null) {\n",
       "    console.error(\"Bokeh: ERROR: autoload.js configured with elementid '1001' but no matching script tag was found. \")\n",
       "    return false;\n",
       "  }\n",
       "\n",
       "  function inject_raw_css(css) {\n",
       "    const element = document.createElement(\"style\");\n",
       "    element.appendChild(document.createTextNode(css));\n",
       "    document.body.appendChild(element);\n",
       "  }\n",
       "\n",
       "  \n",
       "  var js_urls = [\"https://cdn.pydata.org/bokeh/release/bokeh-1.4.0.min.js\", \"https://cdn.pydata.org/bokeh/release/bokeh-widgets-1.4.0.min.js\", \"https://cdn.pydata.org/bokeh/release/bokeh-tables-1.4.0.min.js\", \"https://cdn.pydata.org/bokeh/release/bokeh-gl-1.4.0.min.js\"];\n",
       "  var css_urls = [];\n",
       "  \n",
       "\n",
       "  var inline_js = [\n",
       "    function(Bokeh) {\n",
       "      Bokeh.set_log_level(\"info\");\n",
       "    },\n",
       "    function(Bokeh) {\n",
       "    \n",
       "    \n",
       "    }\n",
       "  ];\n",
       "\n",
       "  function run_inline_js() {\n",
       "    \n",
       "    if (root.Bokeh !== undefined || force === true) {\n",
       "      \n",
       "    for (var i = 0; i < inline_js.length; i++) {\n",
       "      inline_js[i].call(root, root.Bokeh);\n",
       "    }\n",
       "    if (force === true) {\n",
       "        display_loaded();\n",
       "      }} else if (Date.now() < root._bokeh_timeout) {\n",
       "      setTimeout(run_inline_js, 100);\n",
       "    } else if (!root._bokeh_failed_load) {\n",
       "      console.log(\"Bokeh: BokehJS failed to load within specified timeout.\");\n",
       "      root._bokeh_failed_load = true;\n",
       "    } else if (force !== true) {\n",
       "      var cell = $(document.getElementById(\"1001\")).parents('.cell').data().cell;\n",
       "      cell.output_area.append_execute_result(NB_LOAD_WARNING)\n",
       "    }\n",
       "\n",
       "  }\n",
       "\n",
       "  if (root._bokeh_is_loading === 0) {\n",
       "    console.debug(\"Bokeh: BokehJS loaded, going straight to plotting\");\n",
       "    run_inline_js();\n",
       "  } else {\n",
       "    load_libs(css_urls, js_urls, function() {\n",
       "      console.debug(\"Bokeh: BokehJS plotting callback run at\", now());\n",
       "      run_inline_js();\n",
       "    });\n",
       "  }\n",
       "}(window));"
      ],
      "application/vnd.bokehjs_load.v0+json": "\n(function(root) {\n  function now() {\n    return new Date();\n  }\n\n  var force = true;\n\n  if (typeof root._bokeh_onload_callbacks === \"undefined\" || force === true) {\n    root._bokeh_onload_callbacks = [];\n    root._bokeh_is_loading = undefined;\n  }\n\n  \n\n  \n  if (typeof (root._bokeh_timeout) === \"undefined\" || force === true) {\n    root._bokeh_timeout = Date.now() + 5000;\n    root._bokeh_failed_load = false;\n  }\n\n  var NB_LOAD_WARNING = {'data': {'text/html':\n     \"<div style='background-color: #fdd'>\\n\"+\n     \"<p>\\n\"+\n     \"BokehJS does not appear to have successfully loaded. If loading BokehJS from CDN, this \\n\"+\n     \"may be due to a slow or bad network connection. Possible fixes:\\n\"+\n     \"</p>\\n\"+\n     \"<ul>\\n\"+\n     \"<li>re-rerun `output_notebook()` to attempt to load from CDN again, or</li>\\n\"+\n     \"<li>use INLINE resources instead, as so:</li>\\n\"+\n     \"</ul>\\n\"+\n     \"<code>\\n\"+\n     \"from bokeh.resources import INLINE\\n\"+\n     \"output_notebook(resources=INLINE)\\n\"+\n     \"</code>\\n\"+\n     \"</div>\"}};\n\n  function display_loaded() {\n    var el = document.getElementById(\"1001\");\n    if (el != null) {\n      el.textContent = \"BokehJS is loading...\";\n    }\n    if (root.Bokeh !== undefined) {\n      if (el != null) {\n        el.textContent = \"BokehJS \" + root.Bokeh.version + \" successfully loaded.\";\n      }\n    } else if (Date.now() < root._bokeh_timeout) {\n      setTimeout(display_loaded, 100)\n    }\n  }\n\n\n  function run_callbacks() {\n    try {\n      root._bokeh_onload_callbacks.forEach(function(callback) {\n        if (callback != null)\n          callback();\n      });\n    } finally {\n      delete root._bokeh_onload_callbacks\n    }\n    console.debug(\"Bokeh: all callbacks have finished\");\n  }\n\n  function load_libs(css_urls, js_urls, callback) {\n    if (css_urls == null) css_urls = [];\n    if (js_urls == null) js_urls = [];\n\n    root._bokeh_onload_callbacks.push(callback);\n    if (root._bokeh_is_loading > 0) {\n      console.debug(\"Bokeh: BokehJS is being loaded, scheduling callback at\", now());\n      return null;\n    }\n    if (js_urls == null || js_urls.length === 0) {\n      run_callbacks();\n      return null;\n    }\n    console.debug(\"Bokeh: BokehJS not loaded, scheduling load and callback at\", now());\n    root._bokeh_is_loading = css_urls.length + js_urls.length;\n\n    function on_load() {\n      root._bokeh_is_loading--;\n      if (root._bokeh_is_loading === 0) {\n        console.debug(\"Bokeh: all BokehJS libraries/stylesheets loaded\");\n        run_callbacks()\n      }\n    }\n\n    function on_error() {\n      console.error(\"failed to load \" + url);\n    }\n\n    for (var i = 0; i < css_urls.length; i++) {\n      var url = css_urls[i];\n      const element = document.createElement(\"link\");\n      element.onload = on_load;\n      element.onerror = on_error;\n      element.rel = \"stylesheet\";\n      element.type = \"text/css\";\n      element.href = url;\n      console.debug(\"Bokeh: injecting link tag for BokehJS stylesheet: \", url);\n      document.body.appendChild(element);\n    }\n\n    for (var i = 0; i < js_urls.length; i++) {\n      var url = js_urls[i];\n      var element = document.createElement('script');\n      element.onload = on_load;\n      element.onerror = on_error;\n      element.async = false;\n      element.src = url;\n      console.debug(\"Bokeh: injecting script tag for BokehJS library: \", url);\n      document.head.appendChild(element);\n    }\n  };var element = document.getElementById(\"1001\");\n  if (element == null) {\n    console.error(\"Bokeh: ERROR: autoload.js configured with elementid '1001' but no matching script tag was found. \")\n    return false;\n  }\n\n  function inject_raw_css(css) {\n    const element = document.createElement(\"style\");\n    element.appendChild(document.createTextNode(css));\n    document.body.appendChild(element);\n  }\n\n  \n  var js_urls = [\"https://cdn.pydata.org/bokeh/release/bokeh-1.4.0.min.js\", \"https://cdn.pydata.org/bokeh/release/bokeh-widgets-1.4.0.min.js\", \"https://cdn.pydata.org/bokeh/release/bokeh-tables-1.4.0.min.js\", \"https://cdn.pydata.org/bokeh/release/bokeh-gl-1.4.0.min.js\"];\n  var css_urls = [];\n  \n\n  var inline_js = [\n    function(Bokeh) {\n      Bokeh.set_log_level(\"info\");\n    },\n    function(Bokeh) {\n    \n    \n    }\n  ];\n\n  function run_inline_js() {\n    \n    if (root.Bokeh !== undefined || force === true) {\n      \n    for (var i = 0; i < inline_js.length; i++) {\n      inline_js[i].call(root, root.Bokeh);\n    }\n    if (force === true) {\n        display_loaded();\n      }} else if (Date.now() < root._bokeh_timeout) {\n      setTimeout(run_inline_js, 100);\n    } else if (!root._bokeh_failed_load) {\n      console.log(\"Bokeh: BokehJS failed to load within specified timeout.\");\n      root._bokeh_failed_load = true;\n    } else if (force !== true) {\n      var cell = $(document.getElementById(\"1001\")).parents('.cell').data().cell;\n      cell.output_area.append_execute_result(NB_LOAD_WARNING)\n    }\n\n  }\n\n  if (root._bokeh_is_loading === 0) {\n    console.debug(\"Bokeh: BokehJS loaded, going straight to plotting\");\n    run_inline_js();\n  } else {\n    load_libs(css_urls, js_urls, function() {\n      console.debug(\"Bokeh: BokehJS plotting callback run at\", now());\n      run_inline_js();\n    });\n  }\n}(window));"
     },
     "metadata": {},
     "output_type": "display_data"
    }
   ],
   "source": [
    "import time\n",
    "import random\n",
    "import os\n",
    "import numpy as np\n",
    "import pandas as pd\n",
    "import seaborn as sns\n",
    "\n",
    "from bokeh import *\n",
    "from ipywidgets import interact\n",
    "from bokeh.plotting import figure\n",
    "from bokeh.io import push_notebook, show, output_notebook\n",
    "output_notebook()\n",
    "from sklearn import metrics\n",
    "from sklearn.metrics import auc,roc_curve\n",
    "\n",
    "from sklearn.preprocessing import StandardScaler\n",
    "from sklearn.model_selection import KFold, cross_val_score\n",
    "from sklearn.model_selection import train_test_split, GridSearchCV\n",
    "from sklearn.ensemble import RandomForestClassifier \n",
    "from sklearn.metrics import *\n",
    "import scikitplot as skplt\n",
    "from sklearn.decomposition import PCA\n",
    "import matplotlib.pyplot as plt\n",
    "%matplotlib inline\n",
    "from IPython.display import Image\n",
    "from IPython.core.display import HTML \n",
    "import os\n",
    "os.chdir(\"C:\\\\Computer_Vision\")\n",
    "\n",
    "import warnings\n",
    "warnings.filterwarnings(\"ignore\") "
   ]
  },
  {
   "cell_type": "code",
   "execution_count": 2,
   "metadata": {},
   "outputs": [],
   "source": [
    "pd.set_option('display.max_columns',None)\n",
    "\n",
    "pd.set_option('display.max_rows',100)"
   ]
  },
  {
   "cell_type": "markdown",
   "metadata": {},
   "source": [
    "# Load Data"
   ]
  },
  {
   "cell_type": "code",
   "execution_count": 3,
   "metadata": {},
   "outputs": [
    {
     "name": "stdout",
     "output_type": "stream",
     "text": [
      "imported successfully\n"
     ]
    }
   ],
   "source": [
    "Active_customers = pd.read_excel(\"segmentt.xlsx\" , sheet_name = \"new\"  )\n",
    "\n",
    "print(\"imported successfully\")"
   ]
  },
  {
   "cell_type": "code",
   "execution_count": 4,
   "metadata": {},
   "outputs": [
    {
     "name": "stdout",
     "output_type": "stream",
     "text": [
      "imported successfully\n"
     ]
    }
   ],
   "source": [
    "Churned_customers = pd.read_excel(\"segmentt.xlsx\" , sheet_name = \"past\"  )\n",
    "\n",
    "print(\"imported successfully\")"
   ]
  },
  {
   "cell_type": "code",
   "execution_count": 5,
   "metadata": {},
   "outputs": [
    {
     "name": "stdout",
     "output_type": "stream",
     "text": [
      "The shape of the Active_Customers :  (9999, 29)\n"
     ]
    }
   ],
   "source": [
    "print(\"The shape of the Active_Customers : \" , Active_customers.shape)"
   ]
  },
  {
   "cell_type": "code",
   "execution_count": 6,
   "metadata": {},
   "outputs": [
    {
     "name": "stdout",
     "output_type": "stream",
     "text": [
      "The shape of the Churned_Customers :  (10000, 30)\n"
     ]
    }
   ],
   "source": [
    "print(\"The shape of the Churned_Customers : \" , Churned_customers.shape)"
   ]
  },
  {
   "cell_type": "code",
   "execution_count": 7,
   "metadata": {},
   "outputs": [
    {
     "name": "stdout",
     "output_type": "stream",
     "text": [
      "<class 'pandas.core.frame.DataFrame'>\n",
      "RangeIndex: 9999 entries, 0 to 9998\n",
      "Data columns (total 29 columns):\n",
      " #   Column                     Non-Null Count  Dtype         \n",
      "---  ------                     --------------  -----         \n",
      " 0   SITE_ACCOUNT_NUMBER        9998 non-null   object        \n",
      " 1   ACCOUNT_STATUS             9998 non-null   object        \n",
      " 2   FIRST_COMMUNICATION_DATE   9989 non-null   datetime64[ns]\n",
      " 3   UPGRADE_DATE               9989 non-null   datetime64[ns]\n",
      " 4   SERVICE_ PLAN              8760 non-null   object        \n",
      " 5   MODEL                      9323 non-null   object        \n",
      " 6   SALES_CHANNEL              7093 non-null   object        \n",
      " 7   DIRECT_INDIRECT_CHANNEL    9954 non-null   object        \n",
      " 8   SALES_SOURCE               9306 non-null   object        \n",
      " 9   COMPANY_SOURCE_NAME        9988 non-null   object        \n",
      " 10  FIRST_NAME                 9998 non-null   object        \n",
      " 11  LAST_NAME                  9998 non-null   object        \n",
      " 12  ADDRESS                    9945 non-null   object        \n",
      " 13  CITY                       9998 non-null   object        \n",
      " 14  STATE                      9977 non-null   object        \n",
      " 15  ZIPCODE                    9977 non-null   object        \n",
      " 16  EMAIL_ADDRESS              9979 non-null   object        \n",
      " 17  FEEDBACK                   8085 non-null   object        \n",
      " 18  SATELLITE                  9603 non-null   object        \n",
      " 19  SITE_TYPE_DESC             9988 non-null   object        \n",
      " 20  WARRANTY_NAME              9042 non-null   object        \n",
      " 21  MOST_RECENT_SALES_CHANNEL  9992 non-null   object        \n",
      " 22  GENDER                     8728 non-null   float64       \n",
      " 23  DATE_OF_BIRTH              9998 non-null   object        \n",
      " 24  AGE                        9998 non-null   object        \n",
      " 25  INCOME                     9681 non-null   object        \n",
      " 26  MARITAL_STATUS             9680 non-null   float64       \n",
      " 27  PRESENCE_OF_CHILDREN       8684 non-null   float64       \n",
      " 28  COMPUTER_OWNER             6944 non-null   object        \n",
      "dtypes: datetime64[ns](2), float64(3), object(24)\n",
      "memory usage: 2.2+ MB\n"
     ]
    }
   ],
   "source": [
    "Active_customers.info()"
   ]
  },
  {
   "cell_type": "code",
   "execution_count": 8,
   "metadata": {},
   "outputs": [
    {
     "name": "stdout",
     "output_type": "stream",
     "text": [
      "<class 'pandas.core.frame.DataFrame'>\n",
      "RangeIndex: 10000 entries, 0 to 9999\n",
      "Data columns (total 30 columns):\n",
      " #   Column                     Non-Null Count  Dtype         \n",
      "---  ------                     --------------  -----         \n",
      " 0   SITE_ACCOUNT_NUMBER        10000 non-null  object        \n",
      " 1   ACCOUNT_STATUS             9985 non-null   object        \n",
      " 2   FIRST_COMMUNICATION_DATE   10000 non-null  datetime64[ns]\n",
      " 3   CHURN_DATE                 10000 non-null  datetime64[ns]\n",
      " 4   UPGRADE_DATE               9121 non-null   datetime64[ns]\n",
      " 5   SERVICE_PLAN               8518 non-null   object        \n",
      " 6   MODEL                      9290 non-null   object        \n",
      " 7   SALES_CHANNEL              7398 non-null   object        \n",
      " 8   DIRECT_INDIRECT_CHANNEL    9216 non-null   object        \n",
      " 9   SALES_SOURCE               9710 non-null   object        \n",
      " 10  COMPANY_SOURCE_NAME        9992 non-null   object        \n",
      " 11  FIRST_NAME                 9974 non-null   object        \n",
      " 12  LAST_NAME                  9993 non-null   object        \n",
      " 13  ADDRESS                    9991 non-null   object        \n",
      " 14  CITY                       10000 non-null  object        \n",
      " 15  STATE                      9955 non-null   object        \n",
      " 16  ZIPCODE                    9955 non-null   object        \n",
      " 17  EMAIL_ADDRESS              9980 non-null   object        \n",
      " 18  FEEDBACK                   7972 non-null   object        \n",
      " 19  SATELLITE                  8987 non-null   object        \n",
      " 20  SITE_TYPE_DESC             9937 non-null   object        \n",
      " 21  WARRANTY_NAME              9319 non-null   object        \n",
      " 22  MOST_RECENT_SALES_CHANNEL  9979 non-null   object        \n",
      " 23  GENDER                     8762 non-null   float64       \n",
      " 24  DATE_OF_BIRTH              9992 non-null   object        \n",
      " 25  AGE                        9992 non-null   float64       \n",
      " 26  INCOME                     10000 non-null  object        \n",
      " 27  MARITAL_STATUS             9719 non-null   object        \n",
      " 28  PRESENCE_OF_CHILDREN       8748 non-null   float64       \n",
      " 29  COMPUTER_OWNER             6757 non-null   object        \n",
      "dtypes: datetime64[ns](3), float64(3), object(24)\n",
      "memory usage: 2.3+ MB\n"
     ]
    }
   ],
   "source": [
    "Churned_customers.info()"
   ]
  },
  {
   "cell_type": "code",
   "execution_count": 9,
   "metadata": {},
   "outputs": [],
   "source": [
    "Active_customers.columns = ['SITE_ACCOUNT_NUMBER', 'ACCOUNT_STATUS', 'FIRST_COMMUNICATION_DATE',\n",
    "       'UPGRADE_DATE', 'SERVICE_PLAN', 'MODEL', 'SALES_CHANNEL',\n",
    "       'DIRECT_INDIRECT_CHANNEL', 'SALES_SOURCE', 'COMPANY_SOURCE_NAME',\n",
    "       'FIRST_NAME', 'LAST_NAME', 'ADDRESS', 'CITY', 'STATE', 'ZIPCODE',\n",
    "       'EMAIL_ADDRESS', 'FEEDBACK', 'SATELLITE', 'SITE_TYPE_DESC',\n",
    "       'WARRANTY_NAME', 'MOST_RECENT_SALES_CHANNEL', 'GENDER', 'DATE_OF_BIRTH',\n",
    "       'AGE', 'INCOME', 'MARITAL_STATUS', 'PRESENCE_OF_CHILDREN',\n",
    "       'COMPUTER_OWNER']"
   ]
  },
  {
   "cell_type": "markdown",
   "metadata": {},
   "source": [
    "# Visualizing Missing Values"
   ]
  },
  {
   "cell_type": "code",
   "execution_count": 10,
   "metadata": {},
   "outputs": [
    {
     "data": {
      "text/plain": [
       "SITE_ACCOUNT_NUMBER             1\n",
       "ACCOUNT_STATUS                  1\n",
       "FIRST_COMMUNICATION_DATE       10\n",
       "UPGRADE_DATE                   10\n",
       "SERVICE_PLAN                 1239\n",
       "MODEL                         676\n",
       "SALES_CHANNEL                2906\n",
       "DIRECT_INDIRECT_CHANNEL        45\n",
       "SALES_SOURCE                  693\n",
       "COMPANY_SOURCE_NAME            11\n",
       "FIRST_NAME                      1\n",
       "LAST_NAME                       1\n",
       "ADDRESS                        54\n",
       "CITY                            1\n",
       "STATE                          22\n",
       "ZIPCODE                        22\n",
       "EMAIL_ADDRESS                  20\n",
       "FEEDBACK                     1914\n",
       "SATELLITE                     396\n",
       "SITE_TYPE_DESC                 11\n",
       "WARRANTY_NAME                 957\n",
       "MOST_RECENT_SALES_CHANNEL       7\n",
       "GENDER                       1271\n",
       "DATE_OF_BIRTH                   1\n",
       "AGE                             1\n",
       "INCOME                        318\n",
       "MARITAL_STATUS                319\n",
       "PRESENCE_OF_CHILDREN         1315\n",
       "COMPUTER_OWNER               3055\n",
       "dtype: int64"
      ]
     },
     "execution_count": 10,
     "metadata": {},
     "output_type": "execute_result"
    }
   ],
   "source": [
    "Active_customers.isnull().sum()[Active_customers.isnull().sum()!=0]"
   ]
  },
  {
   "cell_type": "code",
   "execution_count": 11,
   "metadata": {},
   "outputs": [
    {
     "data": {
      "text/plain": [
       "<matplotlib.axes._subplots.AxesSubplot at 0x26c150eebc8>"
      ]
     },
     "execution_count": 11,
     "metadata": {},
     "output_type": "execute_result"
    },
    {
     "data": {
      "image/png": "[encoded data removed]",
      "text/plain": [
       "<Figure size 1440x720 with 2 Axes>"
      ]
     },
     "metadata": {
      "needs_background": "light"
     },
     "output_type": "display_data"
    }
   ],
   "source": [
    "plt.figure(figsize=(20, 10))\n",
    "\n",
    "# cubehelix palette is a part of seaborn that produces a colormap\n",
    "cmap = sns.cubehelix_palette(light=1, as_cmap=True, reverse=True)\n",
    "sns.heatmap(Active_customers.isnull(), cmap=cmap)"
   ]
  },
  {
   "cell_type": "code",
   "execution_count": 12,
   "metadata": {},
   "outputs": [
    {
     "data": {
      "text/plain": [
       "ACCOUNT_STATUS                 15\n",
       "UPGRADE_DATE                  879\n",
       "SERVICE_PLAN                 1482\n",
       "MODEL                         710\n",
       "SALES_CHANNEL                2602\n",
       "DIRECT_INDIRECT_CHANNEL       784\n",
       "SALES_SOURCE                  290\n",
       "COMPANY_SOURCE_NAME             8\n",
       "FIRST_NAME                     26\n",
       "LAST_NAME                       7\n",
       "ADDRESS                         9\n",
       "STATE                          45\n",
       "ZIPCODE                        45\n",
       "EMAIL_ADDRESS                  20\n",
       "FEEDBACK                     2028\n",
       "SATELLITE                    1013\n",
       "SITE_TYPE_DESC                 63\n",
       "WARRANTY_NAME                 681\n",
       "MOST_RECENT_SALES_CHANNEL      21\n",
       "GENDER                       1238\n",
       "DATE_OF_BIRTH                   8\n",
       "AGE                             8\n",
       "MARITAL_STATUS                281\n",
       "PRESENCE_OF_CHILDREN         1252\n",
       "COMPUTER_OWNER               3243\n",
       "dtype: int64"
      ]
     },
     "execution_count": 12,
     "metadata": {},
     "output_type": "execute_result"
    }
   ],
   "source": [
    "Churned_customers.isnull().sum()[Churned_customers.isnull().sum()!=0]"
   ]
  },
  {
   "cell_type": "code",
   "execution_count": 13,
   "metadata": {},
   "outputs": [
    {
     "data": {
      "text/plain": [
       "<matplotlib.axes._subplots.AxesSubplot at 0x26c14cf16c8>"
      ]
     },
     "execution_count": 13,
     "metadata": {},
     "output_type": "execute_result"
    },
    {
     "data": {
      "image/png": "[encoded data removed]",
      "text/plain": [
       "<Figure size 1440x720 with 2 Axes>"
      ]
     },
     "metadata": {
      "needs_background": "light"
     },
     "output_type": "display_data"
    }
   ],
   "source": [
    "plt.figure(figsize=(20, 10))\n",
    "\n",
    "# cubehelix palette is a part of seaborn that produces a colormap\n",
    "cmap = sns.cubehelix_palette(light=1, as_cmap=True, reverse=True)\n",
    "sns.heatmap(Churned_customers.isnull(), cmap=cmap)"
   ]
  },
  {
   "cell_type": "code",
   "execution_count": 14,
   "metadata": {},
   "outputs": [],
   "source": [
    "obj_cols = Active_customers.select_dtypes(\"object\")"
   ]
  },
  {
   "cell_type": "code",
   "execution_count": 15,
   "metadata": {},
   "outputs": [],
   "source": [
    "num_cols = Active_customers.select_dtypes([\"int64\",\"float64\"])"
   ]
  },
  {
   "cell_type": "markdown",
   "metadata": {},
   "source": [
    "# Categorical Data"
   ]
  },
  {
   "cell_type": "code",
   "execution_count": 16,
   "metadata": {},
   "outputs": [
    {
     "data": {
      "text/plain": [
       "<matplotlib.axes._subplots.AxesSubplot at 0x26c155492c8>"
      ]
     },
     "execution_count": 16,
     "metadata": {},
     "output_type": "execute_result"
    },
    {
     "data": {
      "image/png": "[encoded data removed]",
      "text/plain": [
       "<Figure size 432x288 with 1 Axes>"
      ]
     },
     "metadata": {
      "needs_background": "light"
     },
     "output_type": "display_data"
    }
   ],
   "source": [
    "Active_customers['SATELLITE'].value_counts().plot(kind=\"bar\") #0 seems confusing here, am considering it as Unknown."
   ]
  },
  {
   "cell_type": "code",
   "execution_count": null,
   "metadata": {},
   "outputs": [],
   "source": []
  },
  {
   "cell_type": "code",
   "execution_count": 17,
   "metadata": {},
   "outputs": [
    {
     "data": {
      "text/plain": [
       "<matplotlib.axes._subplots.AxesSubplot at 0x26c154c6fc8>"
      ]
     },
     "execution_count": 17,
     "metadata": {},
     "output_type": "execute_result"
    },
    {
     "data": {
      "image/png": "[encoded data removed]",
      "text/plain": [
       "<Figure size 432x288 with 1 Axes>"
      ]
     },
     "metadata": {
      "needs_background": "light"
     },
     "output_type": "display_data"
    }
   ],
   "source": [
    "Churned_customers['SATELLITE'].value_counts().plot(kind=\"bar\") #0 seems confusing here, am considering it as Unknown."
   ]
  },
  {
   "cell_type": "code",
   "execution_count": 18,
   "metadata": {},
   "outputs": [],
   "source": [
    "Active_customers['SATELLITE'].replace(0,\"Unknown-\",inplace=True) #considering 0 as Unknown.\n",
    "Churned_customers['SATELLITE'].replace(0,\"Unknown-\",inplace=True) #considering 0 as Unknown."
   ]
  },
  {
   "cell_type": "code",
   "execution_count": 19,
   "metadata": {},
   "outputs": [
    {
     "data": {
      "text/plain": [
       "1013"
      ]
     },
     "execution_count": 19,
     "metadata": {},
     "output_type": "execute_result"
    }
   ],
   "source": [
    "Churned_customers['SATELLITE'].isnull().sum() #Since Satellite do have Missing Values, "
   ]
  },
  {
   "cell_type": "code",
   "execution_count": 20,
   "metadata": {},
   "outputs": [
    {
     "data": {
      "text/plain": [
       "396"
      ]
     },
     "execution_count": 20,
     "metadata": {},
     "output_type": "execute_result"
    }
   ],
   "source": [
    "Active_customers['SATELLITE'].isnull().sum() #Since Satellite do have Missing Values, "
   ]
  },
  {
   "cell_type": "code",
   "execution_count": 21,
   "metadata": {},
   "outputs": [],
   "source": [
    "def Satellite(df,col):\n",
    "    Satellite = [ ]\n",
    "    for i in df[col]:\n",
    "        temp = str(i)\n",
    "    \n",
    "        if(temp==\"nan\"):\n",
    "            Satellite.append(np.nan)\n",
    "        else:\n",
    "            p = temp.split(\"-\",1)\n",
    "            Satellite.append(p[0])\n",
    "    return(Satellite)"
   ]
  },
  {
   "cell_type": "code",
   "execution_count": 22,
   "metadata": {},
   "outputs": [],
   "source": [
    "Active_customers['Satellite'] = Satellite(Active_customers,\"SATELLITE\")"
   ]
  },
  {
   "cell_type": "code",
   "execution_count": 23,
   "metadata": {},
   "outputs": [],
   "source": [
    "Churned_customers['Satellite'] = Satellite(Churned_customers,\"SATELLITE\")"
   ]
  },
  {
   "cell_type": "code",
   "execution_count": 24,
   "metadata": {},
   "outputs": [
    {
     "data": {
      "text/plain": [
       "396"
      ]
     },
     "execution_count": 24,
     "metadata": {},
     "output_type": "execute_result"
    }
   ],
   "source": [
    "Active_customers['SATELLITE'].isnull().sum() #Since Satellite do have Missing Values, "
   ]
  },
  {
   "cell_type": "code",
   "execution_count": 25,
   "metadata": {},
   "outputs": [
    {
     "data": {
      "text/plain": [
       "1013"
      ]
     },
     "execution_count": 25,
     "metadata": {},
     "output_type": "execute_result"
    }
   ],
   "source": [
    "Churned_customers.Satellite.isnull().sum()"
   ]
  },
  {
   "cell_type": "code",
   "execution_count": 26,
   "metadata": {},
   "outputs": [],
   "source": [
    "Churned_customers.Satellite.fillna(\"Unknown\",inplace=True)"
   ]
  },
  {
   "cell_type": "code",
   "execution_count": 27,
   "metadata": {},
   "outputs": [],
   "source": [
    "plt.rcParams[\"figure.figsize\"] = (5,5)"
   ]
  },
  {
   "cell_type": "code",
   "execution_count": 28,
   "metadata": {},
   "outputs": [
    {
     "data": {
      "text/plain": [
       "<matplotlib.axes._subplots.AxesSubplot at 0x26c14d93448>"
      ]
     },
     "execution_count": 28,
     "metadata": {},
     "output_type": "execute_result"
    },
    {
     "data": {
      "image/png": "[encoded data removed]",
      "text/plain": [
       "<Figure size 360x360 with 1 Axes>"
      ]
     },
     "metadata": {
      "needs_background": "light"
     },
     "output_type": "display_data"
    }
   ],
   "source": [
    "Active_customers['Satellite'].value_counts().plot(kind=\"bar\") #0 seems confusing here, am considering it as Unknown."
   ]
  },
  {
   "cell_type": "code",
   "execution_count": 29,
   "metadata": {},
   "outputs": [
    {
     "data": {
      "text/plain": [
       "<matplotlib.axes._subplots.AxesSubplot at 0x26c14d68b08>"
      ]
     },
     "execution_count": 29,
     "metadata": {},
     "output_type": "execute_result"
    },
    {
     "data": {
      "image/png": "[encoded data removed]",
      "text/plain": [
       "<Figure size 360x360 with 1 Axes>"
      ]
     },
     "metadata": {
      "needs_background": "light"
     },
     "output_type": "display_data"
    }
   ],
   "source": [
    "Churned_customers['Satellite'].value_counts().plot(kind=\"bar\") #0 seems confusing here, am considering it as Unknown."
   ]
  },
  {
   "cell_type": "code",
   "execution_count": 30,
   "metadata": {},
   "outputs": [],
   "source": [
    "Active_customers.replace(\"HZN2\",\"HZN\",inplace=True)"
   ]
  },
  {
   "cell_type": "code",
   "execution_count": 31,
   "metadata": {},
   "outputs": [],
   "source": [
    "Active_customers.replace(\"G17\",\"G16\",inplace=True)"
   ]
  },
  {
   "cell_type": "code",
   "execution_count": 32,
   "metadata": {},
   "outputs": [],
   "source": [
    "Active_customers.replace(\"AM32\",\"AM9\",inplace=True)"
   ]
  },
  {
   "cell_type": "code",
   "execution_count": 33,
   "metadata": {},
   "outputs": [
    {
     "data": {
      "text/plain": [
       "<matplotlib.axes._subplots.AxesSubplot at 0x26c143d7188>"
      ]
     },
     "execution_count": 33,
     "metadata": {},
     "output_type": "execute_result"
    },
    {
     "data": {
      "image/png": "[encoded data removed]",
      "text/plain": [
       "<Figure size 360x360 with 1 Axes>"
      ]
     },
     "metadata": {
      "needs_background": "light"
     },
     "output_type": "display_data"
    }
   ],
   "source": [
    "Active_customers.MODEL.value_counts().plot(kind=\"bar\")"
   ]
  },
  {
   "cell_type": "code",
   "execution_count": 34,
   "metadata": {},
   "outputs": [
    {
     "data": {
      "text/plain": [
       "<matplotlib.axes._subplots.AxesSubplot at 0x26c14fd1888>"
      ]
     },
     "execution_count": 34,
     "metadata": {},
     "output_type": "execute_result"
    },
    {
     "data": {
      "image/png": "[encoded data removed]",
      "text/plain": [
       "<Figure size 360x360 with 1 Axes>"
      ]
     },
     "metadata": {
      "needs_background": "light"
     },
     "output_type": "display_data"
    }
   ],
   "source": [
    "Churned_customers.MODEL.value_counts().plot(kind=\"bar\")"
   ]
  },
  {
   "cell_type": "code",
   "execution_count": 35,
   "metadata": {},
   "outputs": [],
   "source": [
    "Active_customers.replace(\"DW4020\",\"DW4000\",inplace=True)"
   ]
  },
  {
   "cell_type": "code",
   "execution_count": null,
   "metadata": {},
   "outputs": [],
   "source": []
  },
  {
   "cell_type": "code",
   "execution_count": 36,
   "metadata": {},
   "outputs": [
    {
     "data": {
      "text/plain": [
       "<matplotlib.axes._subplots.AxesSubplot at 0x26c14383a88>"
      ]
     },
     "execution_count": 36,
     "metadata": {},
     "output_type": "execute_result"
    },
    {
     "data": {
      "image/png": "[encoded data removed]",
      "text/plain": [
       "<Figure size 360x360 with 1 Axes>"
      ]
     },
     "metadata": {
      "needs_background": "light"
     },
     "output_type": "display_data"
    }
   ],
   "source": [
    "Active_customers['SERVICE_PLAN'].value_counts().plot(kind=\"bar\")"
   ]
  },
  {
   "cell_type": "code",
   "execution_count": 37,
   "metadata": {},
   "outputs": [
    {
     "data": {
      "text/plain": [
       "<matplotlib.axes._subplots.AxesSubplot at 0x26c14e74e08>"
      ]
     },
     "execution_count": 37,
     "metadata": {},
     "output_type": "execute_result"
    },
    {
     "data": {
      "image/png": "[encoded data removed]",
      "text/plain": [
       "<Figure size 360x360 with 1 Axes>"
      ]
     },
     "metadata": {
      "needs_background": "light"
     },
     "output_type": "display_data"
    }
   ],
   "source": [
    "Churned_customers['SERVICE_PLAN'].value_counts().plot(kind=\"bar\")"
   ]
  },
  {
   "cell_type": "code",
   "execution_count": 38,
   "metadata": {},
   "outputs": [
    {
     "data": {
      "text/plain": [
       "1482"
      ]
     },
     "execution_count": 38,
     "metadata": {},
     "output_type": "execute_result"
    }
   ],
   "source": [
    "Churned_customers['SERVICE_PLAN'].isnull().sum()"
   ]
  },
  {
   "cell_type": "code",
   "execution_count": 39,
   "metadata": {},
   "outputs": [
    {
     "data": {
      "text/plain": [
       "1239"
      ]
     },
     "execution_count": 39,
     "metadata": {},
     "output_type": "execute_result"
    }
   ],
   "source": [
    "Active_customers['SERVICE_PLAN'].isnull().sum()"
   ]
  },
  {
   "cell_type": "code",
   "execution_count": 40,
   "metadata": {},
   "outputs": [],
   "source": [
    "Churned_customers['SERVICE_PLAN'].replace(\"Professional Plus\",\"Proplus\",inplace=True)"
   ]
  },
  {
   "cell_type": "code",
   "execution_count": 41,
   "metadata": {},
   "outputs": [],
   "source": [
    "Churned_customers['SERVICE_PLAN'].replace(\"power15\",\"Power150\",inplace=True)"
   ]
  },
  {
   "cell_type": "code",
   "execution_count": 42,
   "metadata": {},
   "outputs": [],
   "source": [
    "Churned_customers['SERVICE_PLAN'].replace(\"Professional\",\"Pro\",inplace=True)"
   ]
  },
  {
   "cell_type": "code",
   "execution_count": 43,
   "metadata": {},
   "outputs": [
    {
     "name": "stdout",
     "output_type": "stream",
     "text": [
      "Total Unique Elements in  SITE_ACCOUNT_NUMBER  :  9998\n",
      "Total Value Count in  SITE_ACCOUNT_NUMBER  :  AMR-34328911    1\n",
      "AMR-23745688    1\n",
      "AMR-20626834    1\n",
      "AMR-39063139    1\n",
      "AMR-39714318    1\n",
      "               ..\n",
      "AMR-47244205    1\n",
      "AMR-44075529    1\n",
      "AMR-44513813    1\n",
      "AMR-21516650    1\n",
      "AMR-18206724    1\n",
      "Name: SITE_ACCOUNT_NUMBER, Length: 9998, dtype: int64\n",
      "Total Unique Elements in  ACCOUNT_STATUS  :  2\n",
      "Total Value Count in  ACCOUNT_STATUS  :  Active      9985\n",
      "Inactive      13\n",
      "Name: ACCOUNT_STATUS, dtype: int64\n",
      "Total Unique Elements in  SERVICE_PLAN  :  7\n",
      "Total Value Count in  SERVICE_PLAN  :  Proplus      1272\n",
      "Basic_Ltd    1268\n",
      "Basic        1263\n",
      "Elite        1256\n",
      "Power150     1248\n",
      "Home         1243\n",
      "Pro          1210\n",
      "Name: SERVICE_PLAN, dtype: int64\n",
      "Total Unique Elements in  MODEL  :  6\n",
      "Total Value Count in  MODEL  :  HN7000S    4296\n",
      "HN9000     1985\n",
      "DW4000     1300\n",
      "UNK         977\n",
      "DW6000      514\n",
      "DW7000      251\n",
      "Name: MODEL, dtype: int64\n",
      "Total Unique Elements in  SALES_CHANNEL  :  5\n",
      "Total Value Count in  SALES_CHANNEL  :  Sales Agents     1454\n",
      "Retail/others    1445\n",
      "Vars             1421\n",
      "Web orders       1391\n",
      "Call Center      1382\n",
      "Name: SALES_CHANNEL, dtype: int64\n",
      "Total Unique Elements in  DIRECT_INDIRECT_CHANNEL  :  3\n",
      "Total Value Count in  DIRECT_INDIRECT_CHANNEL  :  Indirect    7626\n",
      "Direct      2319\n",
      "0              9\n",
      "Name: DIRECT_INDIRECT_CHANNEL, dtype: int64\n",
      "Total Unique Elements in  SALES_SOURCE  :  30\n",
      "Total Value Count in  SALES_SOURCE  :  TAG                                        1726\n",
      "Hughes Web Order                           1372\n",
      "RS&I                                       1051\n",
      "Perfect 10                                  859\n",
      "AmericanSat                                 816\n",
      "NCC                                         591\n",
      "ACS                                         438\n",
      "LiveBridge Communications LLC               435\n",
      "InfoDish                                    367\n",
      "UNKNOWN                                     299\n",
      "ACS Pre-Install                             298\n",
      "Best Buy                                    291\n",
      "Verisign Web Ordering                       240\n",
      "MiniDish                                    121\n",
      "ValueElectronics                             94\n",
      "NRTC                                         64\n",
      "PEGASUS BROADBAND COMMUNICATIO               64\n",
      "PEGASUS                                      34\n",
      "D&H DISTRIBUTING                             25\n",
      "OROURKE BROTHERS                             16\n",
      "Hughes Internal Sales                        16\n",
      "Ridgeline USA LLC (RSI573306)                12\n",
      "Skylink (RSI572499)                          12\n",
      "0                                            10\n",
      "SKYWALKER COMMUNICATIONS                     10\n",
      "Skylink                                      10\n",
      "Todays TV                                    10\n",
      "Alpha Satellite (RSI568059)                  10\n",
      "J & L AND SONS CUSTOM INSTALLATIONS INC       8\n",
      "Professional Satellites                       7\n",
      "Name: SALES_SOURCE, dtype: int64\n",
      "Total Unique Elements in  COMPANY_SOURCE_NAME  :  1\n",
      "Total Value Count in  COMPANY_SOURCE_NAME  :  HNS Customers    9988\n",
      "Name: COMPANY_SOURCE_NAME, dtype: int64\n",
      "Total Unique Elements in  FIRST_NAME  :  576\n",
      "Total Value Count in  FIRST_NAME  :  David          227\n",
      "Michael        170\n",
      "John           168\n",
      "Richard        158\n",
      "James          134\n",
      "              ... \n",
      "Horace           4\n",
      "ADRIENNEa        4\n",
      "Kristia          4\n",
      "Myra             4\n",
      "SAMUELJRICa      3\n",
      "Name: FIRST_NAME, Length: 576, dtype: int64\n",
      "Total Unique Elements in  LAST_NAME  :  878\n",
      "Total Value Count in  LAST_NAME  :  Smith        91\n",
      "Davis        86\n",
      "Anderson     85\n",
      "Taylor       72\n",
      "Johnson      65\n",
      "             ..\n",
      "Newton        4\n",
      "GILCHRIST     3\n",
      "CONNALLY      3\n",
      "Mcgeorge      3\n",
      "Rapoport      2\n",
      "Name: LAST_NAME, Length: 878, dtype: int64\n",
      "Total Unique Elements in  ADDRESS  :  9910\n",
      "Total Value Count in  ADDRESS  :  PO BOX RD 0 0 0              7\n",
      "PO BOX DR 0 0 0              3\n",
      "PO COUNTY RD 0 0 0           3\n",
      "PO N DR RD 0 0               3\n",
      "PO COUNTY COUNTY 0 0 0       2\n",
      "                            ..\n",
      "90 N CORNERS 0 0 0           1\n",
      "6600 RIDGE RD 0 0 0          1\n",
      "19772 ALEGRE PAMET 0 10 0    1\n",
      "69330 VALLEY WAY RD 0 0      1\n",
      "1898 FM CREEK 0 0 0          1\n",
      "Name: ADDRESS, Length: 9910, dtype: int64\n",
      "Total Unique Elements in  CITY  :  828\n",
      "Total Value Count in  CITY  :  GERMANTOWN       69\n",
      "AUBURN           58\n",
      "MARSHALL         51\n",
      "GAITHERSBURG     45\n",
      "FREDERICKSBRG    44\n",
      "                 ..\n",
      "SAN FRANCISCO     3\n",
      "HIGHLAND MLS      3\n",
      "CANANDAIGUA       3\n",
      "COUPLAND          2\n",
      "HVRE DE GRACE     2\n",
      "Name: CITY, Length: 828, dtype: int64\n",
      "Total Unique Elements in  STATE  :  47\n",
      "Total Value Count in  STATE  :   CA    1249\n",
      " TX     992\n",
      " MD     582\n",
      " CO     472\n",
      " NY     454\n",
      " VA     446\n",
      " MI     364\n",
      " AR     362\n",
      " IL     329\n",
      " OR     326\n",
      " MO     320\n",
      " AZ     251\n",
      " OH     249\n",
      " WA     236\n",
      " OK     228\n",
      " MS     209\n",
      " PA     187\n",
      " TN     180\n",
      " FL     175\n",
      " NC     173\n",
      " LA     151\n",
      " IN     148\n",
      " WI     143\n",
      " AL     142\n",
      " NM     124\n",
      " GA     119\n",
      " MN     116\n",
      " NV     114\n",
      " WY     107\n",
      " IA     103\n",
      " MT     100\n",
      " KY      93\n",
      " NJ      87\n",
      " MA      84\n",
      " WV      80\n",
      " KS      77\n",
      " SC      75\n",
      " ID      66\n",
      " NH      51\n",
      " NE      45\n",
      " ME      37\n",
      " VT      29\n",
      " SD      26\n",
      " UT      25\n",
      " PR      25\n",
      " DE      14\n",
      " CT      12\n",
      "Name: STATE, dtype: int64\n",
      "Total Unique Elements in  ZIPCODE  :  896\n",
      "Total Value Count in  ZIPCODE  :           67\n",
      "93561    39\n",
      "20876    38\n",
      "75792    37\n",
      "20115    36\n",
      "         ..\n",
      "10930     3\n",
      "22960     2\n",
      "97470     2\n",
      "78615     2\n",
      "21078     2\n",
      "Name: ZIPCODE, Length: 896, dtype: int64\n",
      "Total Unique Elements in  EMAIL_ADDRESS  :  9926\n",
      "Total Value Count in  EMAIL_ADDRESS  :  nobody@hns.com                      3\n",
      "hagins@hughes.net                   3\n",
      "Michael.Martin@yahoo.com            3\n",
      "John.Smith@geeksquad.com            2\n",
      "Richard.Christensen@rossaweb.net    2\n",
      "                                   ..\n",
      "Maryellen.ramsey@hotmail.com        1\n",
      "Margaret.Neusch@hotmail.com         1\n",
      "Tony.Johnson@hotmail.com            1\n",
      "John.Blair@compuserve.com           1\n",
      "gjfrey@hughes.net                   1\n",
      "Name: EMAIL_ADDRESS, Length: 9926, dtype: int64\n",
      "Total Unique Elements in  FEEDBACK  :  2\n",
      "Total Value Count in  FEEDBACK  :  GOOD    5031\n",
      "BAD     3054\n",
      "Name: FEEDBACK, dtype: int64\n",
      "Total Unique Elements in  SATELLITE  :  45\n",
      "Total Value Count in  SATELLITE  :  SPACEWAY3       1387\n",
      "SM5-VER-5K       887\n",
      "Unknown-         842\n",
      "SM5-VER-15K      814\n",
      "G17-HOR-6K       720\n",
      "AM6-HOR-21K      667\n",
      "G17-HOR-2K       649\n",
      "SM5-VER-1K       564\n",
      "SM5-HOR-6K       429\n",
      "SM5-VER-7K       390\n",
      "AM9-VER-2K       358\n",
      "SM5-HOR-14K      346\n",
      "HZN2-VER-4K      254\n",
      "G16-VER-15K      146\n",
      "G3C-VER-21K       99\n",
      "G16-VER-1K        78\n",
      "G16-HOR-8K        75\n",
      "HZN2-VER-8K       67\n",
      "G3C-VER-24K       67\n",
      "AM9-HOR-21K       61\n",
      "AM32-HOR-19K      54\n",
      "HZN-HOR-8K        51\n",
      "HZN-VER-23K       50\n",
      "HZN-HOR-19K       49\n",
      "G16-VER-21K       44\n",
      "G3C-VER-9K        42\n",
      "AM9-HOR-17K       34\n",
      "HZN2-VER-5K       32\n",
      "HZN-VER-6K        32\n",
      "G16-HOR-2K        31\n",
      "SM6-HOR-13K       29\n",
      "SM6-HOR-12K       27\n",
      "SM6-VER-2K        26\n",
      "AM32-HOR-7K       26\n",
      "AM9-HOR-19K       23\n",
      "HZN-VER-11K       23\n",
      "G16-VER-2K        23\n",
      "AM9-VER-22K       19\n",
      "G28-HOR-16K       18\n",
      "G26-HOR-14K       16\n",
      "AMC-HOR-10K       13\n",
      "SM6-HOR-10K       12\n",
      "G28-HOR-10K       12\n",
      "AM9-VER-2K         9\n",
      "AMC-VER-5K         8\n",
      "Name: SATELLITE, dtype: int64\n",
      "Total Unique Elements in  SITE_TYPE_DESC  :  2\n",
      "Total Value Count in  SITE_TYPE_DESC  :  Broadband Remote    7755\n",
      "Spaceway            2233\n",
      "Name: SITE_TYPE_DESC, dtype: int64\n",
      "Total Unique Elements in  WARRANTY_NAME  :  9\n",
      "Total Value Count in  WARRANTY_NAME  :  0                                                8519\n",
      "EXPRESS REPAIR HOME WITH TERM                     295\n",
      "EXPRESS REPAIR HOME WITH COMMITMENT WITH TERM      52\n",
      "EXPRESS REPAIR BASIC                               50\n",
      "EXPRESS REPAIR HOME                                44\n",
      "EXPRESS REPAIR BUSINESS WITH TERM                  38\n",
      "EXPRESS REPAIR HOME W/O COMMITMENT WITH TERM       20\n",
      "SRVC ASSUR STD EXISTING CUST NO COMMIT             17\n",
      "SRVC ASSUR STD NEW CUST                             7\n",
      "Name: WARRANTY_NAME, dtype: int64\n",
      "Total Unique Elements in  MOST_RECENT_SALES_CHANNEL  :  16\n",
      "Total Value Count in  MOST_RECENT_SALES_CHANNEL  :  HN7000 Upgrade           1709\n",
      "Direct                   1499\n",
      "Dealer-Generated Sale    1292\n",
      "DW6000 Upgrade           1076\n",
      "DPC Classic upgrade       995\n",
      "Retail                    995\n",
      "HN9000 Upgrade            707\n",
      "DW7000 Upgrade            498\n",
      "National Sales            368\n",
      "Retail                    271\n",
      "Classic Migration         259\n",
      "Dial Return Upgrade       214\n",
      "UNKNOWN                    76\n",
      "Used Equipment             14\n",
      "0                          13\n",
      "Business Edition            6\n",
      "Name: MOST_RECENT_SALES_CHANNEL, dtype: int64\n",
      "Total Unique Elements in  DATE_OF_BIRTH  :  7187\n",
      "Total Value Count in  DATE_OF_BIRTH  :  .             356\n",
      "12-12-1965      6\n",
      "15-4-1954       6\n",
      "5-5-1969        6\n",
      "13-12-1981      6\n",
      "             ... \n",
      "4-8-1963        1\n",
      "24-7-1989       1\n",
      "25-5-1972       1\n",
      "12-7-1946       1\n",
      "11-7-1990       1\n",
      "Name: DATE_OF_BIRTH, Length: 7187, dtype: int64\n",
      "Total Unique Elements in  AGE  :  63\n",
      "Total Value Count in  AGE  :  58    368\n",
      ".     356\n",
      "47    344\n",
      "33    253\n",
      "27    251\n",
      "22    250\n",
      "23    246\n",
      "28    236\n",
      "31    233\n",
      "52    227\n",
      "32    227\n",
      "26    224\n",
      "40    222\n",
      "30    221\n",
      "25    216\n",
      "45    215\n",
      "35    214\n",
      "29    213\n",
      "42    213\n",
      "34    212\n",
      "54    210\n",
      "24    209\n",
      "38    209\n",
      "46    204\n",
      "44    200\n",
      "56    200\n",
      "66    199\n",
      "37    198\n",
      "50    196\n",
      "36    196\n",
      "41    193\n",
      "64    193\n",
      "48    192\n",
      "55    186\n",
      "49    183\n",
      "43    180\n",
      "60    175\n",
      "62    175\n",
      "39    173\n",
      "53    173\n",
      "63    164\n",
      "51    160\n",
      "57    154\n",
      "61    146\n",
      "59    140\n",
      "65    122\n",
      "68     52\n",
      "72     46\n",
      "74     40\n",
      "75     38\n",
      "70     36\n",
      "69     20\n",
      "71     20\n",
      "73     19\n",
      "67     18\n",
      "76     15\n",
      "78     10\n",
      "80      6\n",
      "84      2\n",
      "88      2\n",
      "82      1\n",
      "92      1\n",
      "86      1\n",
      "Name: AGE, dtype: int64\n",
      "Total Unique Elements in  INCOME  :  14\n",
      "Total Value Count in  INCOME  :  0    2734\n",
      "6    1545\n",
      "7    1015\n",
      "4     963\n",
      "5     876\n",
      "3     669\n",
      "8     597\n",
      "9     464\n",
      "A     193\n",
      "2     169\n",
      "D     158\n",
      "1     156\n",
      "C      99\n",
      "B      43\n",
      "Name: INCOME, dtype: int64\n",
      "Total Unique Elements in  COMPUTER_OWNER  :  2\n",
      "Total Value Count in  COMPUTER_OWNER  :  N    5819\n",
      "Y    1125\n",
      "Name: COMPUTER_OWNER, dtype: int64\n",
      "Total Unique Elements in  Satellite  :  12\n",
      "Total Value Count in  Satellite  :  SM5          3430\n",
      "G16          1766\n",
      "SPACEWAY3    1387\n",
      "Unknown       842\n",
      "AM6           667\n",
      "AM9           584\n",
      "HZN           558\n",
      "G3C           208\n",
      "SM6            94\n",
      "G28            30\n",
      "AMC            21\n",
      "G26            16\n",
      "Name: Satellite, dtype: int64\n"
     ]
    }
   ],
   "source": [
    "obj_cols = Active_customers.select_dtypes(\"object\")\n",
    "for i in obj_cols.columns :\n",
    "    \n",
    "    print(\"Total Unique Elements in \", i, \" : \", Active_customers[i].nunique())\n",
    "    print(\"Total Value Count in \", i, \" : \", Active_customers[i].value_counts())"
   ]
  },
  {
   "cell_type": "code",
   "execution_count": null,
   "metadata": {},
   "outputs": [],
   "source": []
  },
  {
   "cell_type": "markdown",
   "metadata": {},
   "source": [
    "# Merging "
   ]
  },
  {
   "cell_type": "code",
   "execution_count": 44,
   "metadata": {},
   "outputs": [],
   "source": [
    "#Active_customers.columns = Churned_customers.columns\n",
    "\n",
    "combined_df = pd.concat([Active_customers,Churned_customers], ignore_index=True)"
   ]
  },
  {
   "cell_type": "code",
   "execution_count": 45,
   "metadata": {},
   "outputs": [
    {
     "data": {
      "text/plain": [
       "<matplotlib.axes._subplots.AxesSubplot at 0x26c14738188>"
      ]
     },
     "execution_count": 45,
     "metadata": {},
     "output_type": "execute_result"
    },
    {
     "data": {
      "image/png": "[encoded data removed]",
      "text/plain": [
       "<Figure size 360x360 with 1 Axes>"
      ]
     },
     "metadata": {
      "needs_background": "light"
     },
     "output_type": "display_data"
    }
   ],
   "source": [
    "combined_df.INCOME.value_counts().plot(kind=\"bar\")  # Income is categorised between Income Ranges"
   ]
  },
  {
   "cell_type": "code",
   "execution_count": 46,
   "metadata": {},
   "outputs": [
    {
     "data": {
      "text/plain": [
       "828"
      ]
     },
     "execution_count": 46,
     "metadata": {},
     "output_type": "execute_result"
    }
   ],
   "source": [
    "combined_df.CITY.nunique() #Too much Names, Too costly to process and keep"
   ]
  },
  {
   "cell_type": "code",
   "execution_count": 47,
   "metadata": {},
   "outputs": [
    {
     "data": {
      "text/plain": [
       "<matplotlib.axes._subplots.AxesSubplot at 0x26c14cacdc8>"
      ]
     },
     "execution_count": 47,
     "metadata": {},
     "output_type": "execute_result"
    },
    {
     "data": {
      "image/png": "[encoded data removed]",
      "text/plain": [
       "<Figure size 360x360 with 1 Axes>"
      ]
     },
     "metadata": {
      "needs_background": "light"
     },
     "output_type": "display_data"
    }
   ],
   "source": [
    "combined_df.MOST_RECENT_SALES_CHANNEL.value_counts().plot(kind=\"bar\")"
   ]
  },
  {
   "cell_type": "code",
   "execution_count": 48,
   "metadata": {},
   "outputs": [
    {
     "data": {
      "text/plain": [
       "<matplotlib.axes._subplots.AxesSubplot at 0x26c15104ec8>"
      ]
     },
     "execution_count": 48,
     "metadata": {},
     "output_type": "execute_result"
    },
    {
     "data": {
      "image/png": "[encoded data removed]",
      "text/plain": [
       "<Figure size 360x360 with 1 Axes>"
      ]
     },
     "metadata": {
      "needs_background": "light"
     },
     "output_type": "display_data"
    }
   ],
   "source": [
    "combined_df.SALES_CHANNEL.value_counts().plot(kind=\"bar\")"
   ]
  },
  {
   "cell_type": "code",
   "execution_count": 49,
   "metadata": {},
   "outputs": [
    {
     "data": {
      "text/plain": [
       "<matplotlib.axes._subplots.AxesSubplot at 0x26c14c1cc08>"
      ]
     },
     "execution_count": 49,
     "metadata": {},
     "output_type": "execute_result"
    },
    {
     "data": {
      "image/png": "[encoded data removed]",
      "text/plain": [
       "<Figure size 360x360 with 1 Axes>"
      ]
     },
     "metadata": {
      "needs_background": "light"
     },
     "output_type": "display_data"
    }
   ],
   "source": [
    "combined_df.MODEL.value_counts().plot(kind=\"bar\")"
   ]
  },
  {
   "cell_type": "code",
   "execution_count": 50,
   "metadata": {},
   "outputs": [
    {
     "data": {
      "text/plain": [
       "<matplotlib.axes._subplots.AxesSubplot at 0x26c1478a948>"
      ]
     },
     "execution_count": 50,
     "metadata": {},
     "output_type": "execute_result"
    },
    {
     "data": {
      "image/png": "[encoded data removed]",
      "text/plain": [
       "<Figure size 360x360 with 1 Axes>"
      ]
     },
     "metadata": {
      "needs_background": "light"
     },
     "output_type": "display_data"
    }
   ],
   "source": [
    "combined_df.WARRANTY_NAME.value_counts().plot(kind=\"bar\") # This 0 is suspicious here, am gonna take it as unknown"
   ]
  },
  {
   "cell_type": "code",
   "execution_count": 51,
   "metadata": {},
   "outputs": [
    {
     "data": {
      "text/plain": [
       "150"
      ]
     },
     "execution_count": 51,
     "metadata": {},
     "output_type": "execute_result"
    }
   ],
   "source": [
    "combined_df.SALES_SOURCE.nunique()"
   ]
  },
  {
   "cell_type": "code",
   "execution_count": 52,
   "metadata": {},
   "outputs": [
    {
     "data": {
      "text/plain": [
       "<matplotlib.axes._subplots.AxesSubplot at 0x26c14d04f48>"
      ]
     },
     "execution_count": 52,
     "metadata": {},
     "output_type": "execute_result"
    },
    {
     "data": {
      "image/png": "[encoded data removed]",
      "text/plain": [
       "<Figure size 360x360 with 1 Axes>"
      ]
     },
     "metadata": {
      "needs_background": "light"
     },
     "output_type": "display_data"
    }
   ],
   "source": [
    "combined_df.STATE.value_counts().plot(kind=\"bar\") #Total 47 states, where CA is at top followed by Texas and MD."
   ]
  },
  {
   "cell_type": "markdown",
   "metadata": {},
   "source": [
    "# Feature Engineering"
   ]
  },
  {
   "cell_type": "code",
   "execution_count": 53,
   "metadata": {},
   "outputs": [
    {
     "data": {
      "text/plain": [
       "318"
      ]
     },
     "execution_count": 53,
     "metadata": {},
     "output_type": "execute_result"
    }
   ],
   "source": [
    "combined_df.INCOME.isnull().sum()"
   ]
  },
  {
   "cell_type": "code",
   "execution_count": 54,
   "metadata": {},
   "outputs": [],
   "source": [
    "lizzt = []\n",
    "for i in combined_df['INCOME']:\n",
    "    temp=str(i)\n",
    "    if(temp==\"nan\"):\n",
    "        temp = np.nan\n",
    "    elif temp == \"A\":\n",
    "        temp=11\n",
    "    elif temp == \"B\":\n",
    "        temp=12\n",
    "    elif temp == \"C\":\n",
    "        temp=13\n",
    "    elif temp == \"D\":\n",
    "        temp=14\n",
    "    else:\n",
    "        temp=i\n",
    "    lizzt.append(temp)"
   ]
  },
  {
   "cell_type": "code",
   "execution_count": 55,
   "metadata": {},
   "outputs": [],
   "source": [
    "combined_df[\"Income\"] = lizzt"
   ]
  },
  {
   "cell_type": "code",
   "execution_count": 56,
   "metadata": {},
   "outputs": [
    {
     "data": {
      "text/plain": [
       "SM5          3948\n",
       "SPACEWAY3    3845\n",
       "G16          2287\n",
       "Unknown      1855\n",
       "HZN          1586\n",
       "G3C          1185\n",
       "AM6          1171\n",
       "G28           975\n",
       "AM9           920\n",
       "SM6           901\n",
       "G26           491\n",
       "AMC           439\n",
       "Name: Satellite, dtype: int64"
      ]
     },
     "execution_count": 56,
     "metadata": {},
     "output_type": "execute_result"
    }
   ],
   "source": [
    "combined_df.Satellite.value_counts()"
   ]
  },
  {
   "cell_type": "code",
   "execution_count": 57,
   "metadata": {},
   "outputs": [
    {
     "data": {
      "text/plain": [
       "828"
      ]
     },
     "execution_count": 57,
     "metadata": {},
     "output_type": "execute_result"
    }
   ],
   "source": [
    "combined_df.CITY.nunique()"
   ]
  },
  {
   "cell_type": "code",
   "execution_count": 58,
   "metadata": {},
   "outputs": [
    {
     "data": {
      "text/plain": [
       "896"
      ]
     },
     "execution_count": 58,
     "metadata": {},
     "output_type": "execute_result"
    }
   ],
   "source": [
    "combined_df.ZIPCODE.nunique()  #The Value seems to be suspicious. Not considering"
   ]
  },
  {
   "cell_type": "code",
   "execution_count": 59,
   "metadata": {},
   "outputs": [
    {
     "data": {
      "text/plain": [
       "SITE_ACCOUNT_NUMBER                  object\n",
       "ACCOUNT_STATUS                       object\n",
       "FIRST_COMMUNICATION_DATE     datetime64[ns]\n",
       "UPGRADE_DATE                 datetime64[ns]\n",
       "SERVICE_PLAN                         object\n",
       "MODEL                                object\n",
       "SALES_CHANNEL                        object\n",
       "DIRECT_INDIRECT_CHANNEL              object\n",
       "SALES_SOURCE                         object\n",
       "COMPANY_SOURCE_NAME                  object\n",
       "FIRST_NAME                           object\n",
       "LAST_NAME                            object\n",
       "ADDRESS                              object\n",
       "CITY                                 object\n",
       "STATE                                object\n",
       "ZIPCODE                              object\n",
       "EMAIL_ADDRESS                        object\n",
       "FEEDBACK                             object\n",
       "SATELLITE                            object\n",
       "SITE_TYPE_DESC                       object\n",
       "WARRANTY_NAME                        object\n",
       "MOST_RECENT_SALES_CHANNEL            object\n",
       "GENDER                              float64\n",
       "DATE_OF_BIRTH                        object\n",
       "AGE                                  object\n",
       "INCOME                               object\n",
       "MARITAL_STATUS                       object\n",
       "PRESENCE_OF_CHILDREN                float64\n",
       "COMPUTER_OWNER                       object\n",
       "Satellite                            object\n",
       "CHURN_DATE                   datetime64[ns]\n",
       "Income                              float64\n",
       "dtype: object"
      ]
     },
     "execution_count": 59,
     "metadata": {},
     "output_type": "execute_result"
    }
   ],
   "source": [
    "combined_df.dtypes"
   ]
  },
  {
   "cell_type": "code",
   "execution_count": 60,
   "metadata": {},
   "outputs": [],
   "source": [
    "combined_df.MARITAL_STATUS.replace(\".\",np.nan,inplace=True)"
   ]
  },
  {
   "cell_type": "code",
   "execution_count": 61,
   "metadata": {},
   "outputs": [],
   "source": [
    "combined_df.AGE.replace(\".\",np.nan , inplace=True)"
   ]
  },
  {
   "cell_type": "code",
   "execution_count": 62,
   "metadata": {},
   "outputs": [],
   "source": [
    "combined = combined_df.drop(['SITE_ACCOUNT_NUMBER',  'FIRST_COMMUNICATION_DATE', 'UPGRADE_DATE',\n",
    "                                    'SALES_SOURCE', 'COMPANY_SOURCE_NAME','FIRST_NAME', 'LAST_NAME', 'ADDRESS', 'CITY', \n",
    "                                    \"STATE\",  'EMAIL_ADDRESS','SATELLITE', 'DATE_OF_BIRTH','INCOME',\n",
    "                            \"WARRANTY_NAME\",\"MOST_RECENT_SALES_CHANNEL\",\"CHURN_DATE\"] , axis=1)"
   ]
  },
  {
   "cell_type": "code",
   "execution_count": 63,
   "metadata": {},
   "outputs": [
    {
     "data": {
      "text/plain": [
       "ACCOUNT_STATUS               16\n",
       "SERVICE_PLAN               2721\n",
       "MODEL                      1386\n",
       "SALES_CHANNEL              5508\n",
       "DIRECT_INDIRECT_CHANNEL     829\n",
       "ZIPCODE                      67\n",
       "FEEDBACK                   3942\n",
       "SITE_TYPE_DESC               74\n",
       "GENDER                     2509\n",
       "AGE                         365\n",
       "MARITAL_STATUS             3941\n",
       "PRESENCE_OF_CHILDREN       2567\n",
       "COMPUTER_OWNER             6298\n",
       "Satellite                   396\n",
       "Income                      318\n",
       "dtype: int64"
      ]
     },
     "execution_count": 63,
     "metadata": {},
     "output_type": "execute_result"
    }
   ],
   "source": [
    "combined.isnull().sum()[combined.isnull().sum()!=0]"
   ]
  },
  {
   "cell_type": "markdown",
   "metadata": {},
   "source": [
    "# Missing Values Treatment"
   ]
  },
  {
   "cell_type": "code",
   "execution_count": 64,
   "metadata": {},
   "outputs": [],
   "source": [
    "combined['MODEL'].fillna(str(combined['MODEL'].mode()[0]) , inplace=True)\n",
    "\n",
    "combined['SALES_CHANNEL'].fillna(str(combined['SALES_CHANNEL'].mode()[0]) , inplace=True)\n",
    "\n",
    "combined['DIRECT_INDIRECT_CHANNEL'].fillna(str(combined['DIRECT_INDIRECT_CHANNEL'].mode()[0]) , inplace=True)\n",
    "\n",
    "combined['SITE_TYPE_DESC'].fillna(str(combined['SITE_TYPE_DESC'].mode()[0]) , inplace=True)\n",
    "\n",
    "combined['GENDER'].fillna(str(combined['GENDER'].mode()[0]) , inplace=True)\n",
    "\n",
    "combined['MARITAL_STATUS'].fillna(str(combined['MARITAL_STATUS'].mode()[0]) , inplace=True)\n",
    "\n",
    "combined['PRESENCE_OF_CHILDREN'].fillna(str(combined['PRESENCE_OF_CHILDREN'].mode()[0]) , inplace=True)"
   ]
  },
  {
   "cell_type": "code",
   "execution_count": 65,
   "metadata": {},
   "outputs": [],
   "source": [
    "combined['SERVICE_PLAN'].fillna((\"Unknown\") , inplace=True)\n",
    "\n",
    "combined['FEEDBACK'].fillna(str(combined['FEEDBACK'].mode()[0]) , inplace=True)\n",
    "\n",
    "combined['COMPUTER_OWNER'].fillna(str(combined['COMPUTER_OWNER'].mode()[0]) , inplace=True)\n",
    "\n",
    "combined['Income'].fillna(str(combined['Income'].mode()[0]) , inplace=True)\n",
    "\n",
    "combined['ACCOUNT_STATUS'].fillna(str(combined['ACCOUNT_STATUS'].mode()[0]) , inplace=True)\n",
    "\n",
    "combined['Satellite'].fillna(\"Unknown\" , inplace=True)"
   ]
  },
  {
   "cell_type": "code",
   "execution_count": 66,
   "metadata": {},
   "outputs": [
    {
     "data": {
      "text/plain": [
       "count    19634.000000\n",
       "mean        46.792146\n",
       "std         14.291461\n",
       "min         22.000000\n",
       "1%          22.000000\n",
       "5%          24.000000\n",
       "10%         27.000000\n",
       "25%         35.000000\n",
       "50%         47.000000\n",
       "75%         58.000000\n",
       "90%         66.000000\n",
       "95%         70.000000\n",
       "99%         77.000000\n",
       "max         92.000000\n",
       "Name: AGE, dtype: float64"
      ]
     },
     "execution_count": 66,
     "metadata": {},
     "output_type": "execute_result"
    }
   ],
   "source": [
    "combined.AGE.describe(percentiles=[0.01,0.05,0.1,0.25,0.5,0.75,0.90,0.95,0.99])"
   ]
  },
  {
   "cell_type": "code",
   "execution_count": 67,
   "metadata": {},
   "outputs": [],
   "source": [
    "combined.AGE.replace(\".\",np.nan,inplace=True)"
   ]
  },
  {
   "cell_type": "code",
   "execution_count": 68,
   "metadata": {},
   "outputs": [
    {
     "data": {
      "text/plain": [
       "365"
      ]
     },
     "execution_count": 68,
     "metadata": {},
     "output_type": "execute_result"
    }
   ],
   "source": [
    "combined.AGE.isnull().sum()"
   ]
  },
  {
   "cell_type": "code",
   "execution_count": 69,
   "metadata": {},
   "outputs": [
    {
     "data": {
      "text/plain": [
       "54"
      ]
     },
     "execution_count": 69,
     "metadata": {},
     "output_type": "execute_result"
    }
   ],
   "source": [
    "len( combined [combined.AGE > 85] )"
   ]
  },
  {
   "cell_type": "code",
   "execution_count": 70,
   "metadata": {},
   "outputs": [
    {
     "data": {
      "text/plain": [
       "<matplotlib.axes._subplots.AxesSubplot at 0x26c13b1ea48>"
      ]
     },
     "execution_count": 70,
     "metadata": {},
     "output_type": "execute_result"
    },
    {
     "data": {
      "image/png": "[encoded data removed]",
      "text/plain": [
       "<Figure size 360x360 with 1 Axes>"
      ]
     },
     "metadata": {
      "needs_background": "light"
     },
     "output_type": "display_data"
    }
   ],
   "source": [
    "sns.boxplot(combined.AGE)"
   ]
  },
  {
   "cell_type": "code",
   "execution_count": 71,
   "metadata": {},
   "outputs": [
    {
     "data": {
      "text/plain": [
       "count    19634.000000\n",
       "mean        46.792146\n",
       "std         14.291461\n",
       "min         22.000000\n",
       "1%          22.000000\n",
       "5%          24.000000\n",
       "10%         27.000000\n",
       "25%         35.000000\n",
       "50%         47.000000\n",
       "75%         58.000000\n",
       "90%         66.000000\n",
       "95%         70.000000\n",
       "99%         77.000000\n",
       "max         92.000000\n",
       "Name: AGE, dtype: float64"
      ]
     },
     "execution_count": 71,
     "metadata": {},
     "output_type": "execute_result"
    }
   ],
   "source": [
    "combined.AGE.describe(percentiles=[0.01,0.05,0.1,0.25,0.5,0.75,0.90,0.95,0.99])"
   ]
  },
  {
   "cell_type": "code",
   "execution_count": 72,
   "metadata": {},
   "outputs": [
    {
     "data": {
      "text/plain": [
       "<matplotlib.axes._subplots.AxesSubplot at 0x26c1457c8c8>"
      ]
     },
     "execution_count": 72,
     "metadata": {},
     "output_type": "execute_result"
    },
    {
     "data": {
      "image/png": "[encoded data removed]",
      "text/plain": [
       "<Figure size 360x360 with 1 Axes>"
      ]
     },
     "metadata": {
      "needs_background": "light"
     },
     "output_type": "display_data"
    }
   ],
   "source": [
    "sns.boxplot(combined.AGE)"
   ]
  },
  {
   "cell_type": "code",
   "execution_count": 73,
   "metadata": {},
   "outputs": [],
   "source": [
    "#Seems Better now with No outliers, now we can directly put mean.\n",
    "\n",
    "combined['AGE'].fillna(int(combined['AGE'].median()) , inplace=True)"
   ]
  },
  {
   "cell_type": "code",
   "execution_count": 74,
   "metadata": {},
   "outputs": [
    {
     "data": {
      "image/png": "[encoded data removed]",
      "text/plain": [
       "<Figure size 576x504 with 1 Axes>"
      ]
     },
     "metadata": {},
     "output_type": "display_data"
    }
   ],
   "source": [
    "sns.set_style(\"white\")\n",
    "sns.set_color_codes(palette='deep')\n",
    "f, ax = plt.subplots(figsize=(8, 7))\n",
    "#Check the new distribution \n",
    "sns.distplot(combined['AGE'], color=\"b\");\n",
    "ax.xaxis.grid(False)\n",
    "ax.set(ylabel=\"Frequency\")\n",
    "ax.set(xlabel=\"Age\")\n",
    "ax.set(title=\"Age distribution\")\n",
    "sns.despine(trim=True, left=True)\n",
    "plt.show()"
   ]
  },
  {
   "cell_type": "code",
   "execution_count": 75,
   "metadata": {},
   "outputs": [
    {
     "data": {
      "text/plain": [
       "ACCOUNT_STATUS              object\n",
       "SERVICE_PLAN                object\n",
       "MODEL                       object\n",
       "SALES_CHANNEL               object\n",
       "DIRECT_INDIRECT_CHANNEL     object\n",
       "ZIPCODE                     object\n",
       "FEEDBACK                    object\n",
       "SITE_TYPE_DESC              object\n",
       "GENDER                      object\n",
       "AGE                        float64\n",
       "MARITAL_STATUS              object\n",
       "PRESENCE_OF_CHILDREN        object\n",
       "COMPUTER_OWNER              object\n",
       "Satellite                   object\n",
       "Income                      object\n",
       "dtype: object"
      ]
     },
     "execution_count": 75,
     "metadata": {},
     "output_type": "execute_result"
    }
   ],
   "source": [
    "combined.dtypes"
   ]
  },
  {
   "cell_type": "code",
   "execution_count": 76,
   "metadata": {},
   "outputs": [
    {
     "data": {
      "text/plain": [
       "67"
      ]
     },
     "execution_count": 76,
     "metadata": {},
     "output_type": "execute_result"
    }
   ],
   "source": [
    "combined.ZIPCODE.isnull().sum()"
   ]
  },
  {
   "cell_type": "code",
   "execution_count": 77,
   "metadata": {},
   "outputs": [],
   "source": [
    "combined.ZIPCODE.replace(\" \",np.nan,inplace=True)"
   ]
  },
  {
   "cell_type": "code",
   "execution_count": 78,
   "metadata": {},
   "outputs": [
    {
     "data": {
      "text/plain": [
       "230"
      ]
     },
     "execution_count": 78,
     "metadata": {},
     "output_type": "execute_result"
    }
   ],
   "source": [
    "combined.ZIPCODE.isnull().sum()"
   ]
  },
  {
   "cell_type": "code",
   "execution_count": 79,
   "metadata": {},
   "outputs": [],
   "source": [
    "Zip = [ ]\n",
    "\n",
    "for i in combined.ZIPCODE:\n",
    "    if(str(i)==\"nan\"):\n",
    "       \n",
    "        Zip.append(np.nan)\n",
    "    elif(len(str(i))<=6):\n",
    "        \n",
    "        Zip.append(np.nan)\n",
    "    else:\n",
    "        temp = str(i)\n",
    "        p = temp.split(\".\")\n",
    "        p = p[0]\n",
    "        q = list(map( int , p))\n",
    "        q = q[0]\n",
    "        \n",
    "        Zip.append(q)"
   ]
  },
  {
   "cell_type": "code",
   "execution_count": 80,
   "metadata": {},
   "outputs": [],
   "source": [
    "combined [ \"Zip\" ] = Zip"
   ]
  },
  {
   "cell_type": "code",
   "execution_count": 81,
   "metadata": {},
   "outputs": [],
   "source": [
    "combined.Zip.fillna(0 , inplace = True)"
   ]
  },
  {
   "cell_type": "code",
   "execution_count": 82,
   "metadata": {},
   "outputs": [
    {
     "data": {
      "text/plain": [
       "0"
      ]
     },
     "execution_count": 82,
     "metadata": {},
     "output_type": "execute_result"
    }
   ],
   "source": [
    "combined.Zip.isnull().sum()"
   ]
  },
  {
   "cell_type": "code",
   "execution_count": 83,
   "metadata": {},
   "outputs": [],
   "source": [
    "combined.drop([\"ZIPCODE\"],inplace=True,axis=1)"
   ]
  },
  {
   "cell_type": "code",
   "execution_count": 84,
   "metadata": {},
   "outputs": [
    {
     "data": {
      "text/plain": [
       "9.0    3626\n",
       "7.0    3381\n",
       "2.0    2703\n",
       "8.0    2400\n",
       "6.0    1620\n",
       "3.0    1582\n",
       "4.0    1567\n",
       "1.0    1393\n",
       "5.0    1023\n",
       "0.0     704\n",
       "Name: Zip, dtype: int64"
      ]
     },
     "execution_count": 84,
     "metadata": {},
     "output_type": "execute_result"
    }
   ],
   "source": [
    "combined.Zip.value_counts()"
   ]
  },
  {
   "cell_type": "code",
   "execution_count": 85,
   "metadata": {},
   "outputs": [
    {
     "data": {
      "text/plain": [
       "ACCOUNT_STATUS              object\n",
       "SERVICE_PLAN                object\n",
       "MODEL                       object\n",
       "SALES_CHANNEL               object\n",
       "DIRECT_INDIRECT_CHANNEL     object\n",
       "FEEDBACK                    object\n",
       "SITE_TYPE_DESC              object\n",
       "GENDER                      object\n",
       "AGE                        float64\n",
       "MARITAL_STATUS              object\n",
       "PRESENCE_OF_CHILDREN        object\n",
       "COMPUTER_OWNER              object\n",
       "Satellite                   object\n",
       "Income                      object\n",
       "Zip                        float64\n",
       "dtype: object"
      ]
     },
     "execution_count": 85,
     "metadata": {},
     "output_type": "execute_result"
    }
   ],
   "source": [
    "combined.dtypes"
   ]
  },
  {
   "cell_type": "code",
   "execution_count": 86,
   "metadata": {},
   "outputs": [
    {
     "data": {
      "text/html": [
       "<div>\n",
       "<style scoped>\n",
       "    .dataframe tbody tr th:only-of-type {\n",
       "        vertical-align: middle;\n",
       "    }\n",
       "\n",
       "    .dataframe tbody tr th {\n",
       "        vertical-align: top;\n",
       "    }\n",
       "\n",
       "    .dataframe thead th {\n",
       "        text-align: right;\n",
       "    }\n",
       "</style>\n",
       "<table border=\"1\" class=\"dataframe\">\n",
       "  <thead>\n",
       "    <tr style=\"text-align: right;\">\n",
       "      <th></th>\n",
       "      <th>ACCOUNT_STATUS</th>\n",
       "      <th>SERVICE_PLAN</th>\n",
       "      <th>MODEL</th>\n",
       "      <th>SALES_CHANNEL</th>\n",
       "      <th>DIRECT_INDIRECT_CHANNEL</th>\n",
       "      <th>FEEDBACK</th>\n",
       "      <th>SITE_TYPE_DESC</th>\n",
       "      <th>GENDER</th>\n",
       "      <th>AGE</th>\n",
       "      <th>MARITAL_STATUS</th>\n",
       "      <th>PRESENCE_OF_CHILDREN</th>\n",
       "      <th>COMPUTER_OWNER</th>\n",
       "      <th>Satellite</th>\n",
       "      <th>Income</th>\n",
       "      <th>Zip</th>\n",
       "    </tr>\n",
       "  </thead>\n",
       "  <tbody>\n",
       "    <tr>\n",
       "      <th>0</th>\n",
       "      <td>Active</td>\n",
       "      <td>Unknown</td>\n",
       "      <td>HN9000</td>\n",
       "      <td>Vars</td>\n",
       "      <td>Indirect</td>\n",
       "      <td>BAD</td>\n",
       "      <td>Broadband Remote</td>\n",
       "      <td>2</td>\n",
       "      <td>69.0</td>\n",
       "      <td>1</td>\n",
       "      <td>0</td>\n",
       "      <td>N</td>\n",
       "      <td>SPACEWAY3</td>\n",
       "      <td>0</td>\n",
       "      <td>2.0</td>\n",
       "    </tr>\n",
       "    <tr>\n",
       "      <th>1</th>\n",
       "      <td>Active</td>\n",
       "      <td>Pro</td>\n",
       "      <td>HN7000S</td>\n",
       "      <td>Sales Agents</td>\n",
       "      <td>Indirect</td>\n",
       "      <td>GOOD</td>\n",
       "      <td>Spaceway</td>\n",
       "      <td>2</td>\n",
       "      <td>43.0</td>\n",
       "      <td>1</td>\n",
       "      <td>0</td>\n",
       "      <td>N</td>\n",
       "      <td>HZN</td>\n",
       "      <td>4</td>\n",
       "      <td>0.0</td>\n",
       "    </tr>\n",
       "    <tr>\n",
       "      <th>2</th>\n",
       "      <td>Active</td>\n",
       "      <td>Power150</td>\n",
       "      <td>HN9000</td>\n",
       "      <td>Call Center</td>\n",
       "      <td>Indirect</td>\n",
       "      <td>BAD</td>\n",
       "      <td>Broadband Remote</td>\n",
       "      <td>2</td>\n",
       "      <td>58.0</td>\n",
       "      <td>1</td>\n",
       "      <td>0</td>\n",
       "      <td>N</td>\n",
       "      <td>SM5</td>\n",
       "      <td>4</td>\n",
       "      <td>7.0</td>\n",
       "    </tr>\n",
       "    <tr>\n",
       "      <th>3</th>\n",
       "      <td>Active</td>\n",
       "      <td>Power150</td>\n",
       "      <td>DW6000</td>\n",
       "      <td>Sales Agents</td>\n",
       "      <td>Direct</td>\n",
       "      <td>BAD</td>\n",
       "      <td>Spaceway</td>\n",
       "      <td>1.0</td>\n",
       "      <td>22.0</td>\n",
       "      <td>1</td>\n",
       "      <td>1</td>\n",
       "      <td>N</td>\n",
       "      <td>SPACEWAY3</td>\n",
       "      <td>6</td>\n",
       "      <td>4.0</td>\n",
       "    </tr>\n",
       "    <tr>\n",
       "      <th>4</th>\n",
       "      <td>Active</td>\n",
       "      <td>Home</td>\n",
       "      <td>HN7000S</td>\n",
       "      <td>Call Center</td>\n",
       "      <td>Indirect</td>\n",
       "      <td>GOOD</td>\n",
       "      <td>Broadband Remote</td>\n",
       "      <td>1</td>\n",
       "      <td>36.0</td>\n",
       "      <td>0</td>\n",
       "      <td>0</td>\n",
       "      <td>N</td>\n",
       "      <td>Unknown</td>\n",
       "      <td>7</td>\n",
       "      <td>1.0</td>\n",
       "    </tr>\n",
       "    <tr>\n",
       "      <th>...</th>\n",
       "      <td>...</td>\n",
       "      <td>...</td>\n",
       "      <td>...</td>\n",
       "      <td>...</td>\n",
       "      <td>...</td>\n",
       "      <td>...</td>\n",
       "      <td>...</td>\n",
       "      <td>...</td>\n",
       "      <td>...</td>\n",
       "      <td>...</td>\n",
       "      <td>...</td>\n",
       "      <td>...</td>\n",
       "      <td>...</td>\n",
       "      <td>...</td>\n",
       "      <td>...</td>\n",
       "    </tr>\n",
       "    <tr>\n",
       "      <th>19994</th>\n",
       "      <td>Closed</td>\n",
       "      <td>Basic</td>\n",
       "      <td>HN9000</td>\n",
       "      <td>Call Centers</td>\n",
       "      <td>Indirect</td>\n",
       "      <td>GOOD</td>\n",
       "      <td>Spaceway</td>\n",
       "      <td>2</td>\n",
       "      <td>49.0</td>\n",
       "      <td>0.0</td>\n",
       "      <td>1</td>\n",
       "      <td>N</td>\n",
       "      <td>G28</td>\n",
       "      <td>3</td>\n",
       "      <td>7.0</td>\n",
       "    </tr>\n",
       "    <tr>\n",
       "      <th>19995</th>\n",
       "      <td>Closed</td>\n",
       "      <td>Proplus</td>\n",
       "      <td>DW6000</td>\n",
       "      <td>Retail/Others</td>\n",
       "      <td>Direct</td>\n",
       "      <td>BAD</td>\n",
       "      <td>Spaceway</td>\n",
       "      <td>2</td>\n",
       "      <td>38.0</td>\n",
       "      <td>1</td>\n",
       "      <td>1</td>\n",
       "      <td>Y</td>\n",
       "      <td>G28</td>\n",
       "      <td>2</td>\n",
       "      <td>7.0</td>\n",
       "    </tr>\n",
       "    <tr>\n",
       "      <th>19996</th>\n",
       "      <td>Closed</td>\n",
       "      <td>Home</td>\n",
       "      <td>DW4000</td>\n",
       "      <td>Retail/Others</td>\n",
       "      <td>Indirect</td>\n",
       "      <td>BAD</td>\n",
       "      <td>Broadband Remote</td>\n",
       "      <td>2</td>\n",
       "      <td>67.0</td>\n",
       "      <td>0</td>\n",
       "      <td>0</td>\n",
       "      <td>N</td>\n",
       "      <td>SPACEWAY3</td>\n",
       "      <td>8</td>\n",
       "      <td>3.0</td>\n",
       "    </tr>\n",
       "    <tr>\n",
       "      <th>19997</th>\n",
       "      <td>Closed</td>\n",
       "      <td>Power15</td>\n",
       "      <td>DW6000</td>\n",
       "      <td>Sales Agents</td>\n",
       "      <td>Indirect</td>\n",
       "      <td>BAD</td>\n",
       "      <td>Broadband Remote</td>\n",
       "      <td>1</td>\n",
       "      <td>63.0</td>\n",
       "      <td>0.0</td>\n",
       "      <td>0.0</td>\n",
       "      <td>N</td>\n",
       "      <td>SPACEWAY3</td>\n",
       "      <td>0</td>\n",
       "      <td>7.0</td>\n",
       "    </tr>\n",
       "    <tr>\n",
       "      <th>19998</th>\n",
       "      <td>Closed</td>\n",
       "      <td>Proplus</td>\n",
       "      <td>HN7000S</td>\n",
       "      <td>Sales Agents</td>\n",
       "      <td>Indirect</td>\n",
       "      <td>BAD</td>\n",
       "      <td>Broadband Remote</td>\n",
       "      <td>1</td>\n",
       "      <td>43.0</td>\n",
       "      <td>0.0</td>\n",
       "      <td>0.0</td>\n",
       "      <td>N</td>\n",
       "      <td>SPACEWAY3</td>\n",
       "      <td>0</td>\n",
       "      <td>9.0</td>\n",
       "    </tr>\n",
       "  </tbody>\n",
       "</table>\n",
       "<p>19999 rows × 15 columns</p>\n",
       "</div>"
      ],
      "text/plain": [
       "      ACCOUNT_STATUS SERVICE_PLAN    MODEL  SALES_CHANNEL  \\\n",
       "0             Active      Unknown   HN9000           Vars   \n",
       "1             Active          Pro  HN7000S   Sales Agents   \n",
       "2             Active     Power150   HN9000    Call Center   \n",
       "3             Active     Power150   DW6000   Sales Agents   \n",
       "4             Active         Home  HN7000S    Call Center   \n",
       "...              ...          ...      ...            ...   \n",
       "19994         Closed        Basic   HN9000   Call Centers   \n",
       "19995         Closed      Proplus   DW6000  Retail/Others   \n",
       "19996         Closed         Home   DW4000  Retail/Others   \n",
       "19997         Closed      Power15   DW6000   Sales Agents   \n",
       "19998         Closed      Proplus  HN7000S   Sales Agents   \n",
       "\n",
       "      DIRECT_INDIRECT_CHANNEL FEEDBACK    SITE_TYPE_DESC GENDER   AGE  \\\n",
       "0                    Indirect      BAD  Broadband Remote      2  69.0   \n",
       "1                    Indirect     GOOD          Spaceway      2  43.0   \n",
       "2                    Indirect      BAD  Broadband Remote      2  58.0   \n",
       "3                      Direct      BAD          Spaceway    1.0  22.0   \n",
       "4                    Indirect     GOOD  Broadband Remote      1  36.0   \n",
       "...                       ...      ...               ...    ...   ...   \n",
       "19994                Indirect     GOOD          Spaceway      2  49.0   \n",
       "19995                  Direct      BAD          Spaceway      2  38.0   \n",
       "19996                Indirect      BAD  Broadband Remote      2  67.0   \n",
       "19997                Indirect      BAD  Broadband Remote      1  63.0   \n",
       "19998                Indirect      BAD  Broadband Remote      1  43.0   \n",
       "\n",
       "      MARITAL_STATUS PRESENCE_OF_CHILDREN COMPUTER_OWNER  Satellite Income  \\\n",
       "0                  1                    0              N  SPACEWAY3      0   \n",
       "1                  1                    0              N        HZN      4   \n",
       "2                  1                    0              N        SM5      4   \n",
       "3                  1                    1              N  SPACEWAY3      6   \n",
       "4                  0                    0              N    Unknown      7   \n",
       "...              ...                  ...            ...        ...    ...   \n",
       "19994            0.0                    1              N        G28      3   \n",
       "19995              1                    1              Y        G28      2   \n",
       "19996              0                    0              N  SPACEWAY3      8   \n",
       "19997            0.0                  0.0              N  SPACEWAY3      0   \n",
       "19998            0.0                  0.0              N  SPACEWAY3      0   \n",
       "\n",
       "       Zip  \n",
       "0      2.0  \n",
       "1      0.0  \n",
       "2      7.0  \n",
       "3      4.0  \n",
       "4      1.0  \n",
       "...    ...  \n",
       "19994  7.0  \n",
       "19995  7.0  \n",
       "19996  3.0  \n",
       "19997  7.0  \n",
       "19998  9.0  \n",
       "\n",
       "[19999 rows x 15 columns]"
      ]
     },
     "execution_count": 86,
     "metadata": {},
     "output_type": "execute_result"
    }
   ],
   "source": [
    "combined"
   ]
  },
  {
   "cell_type": "code",
   "execution_count": 87,
   "metadata": {},
   "outputs": [
    {
     "name": "stdout",
     "output_type": "stream",
     "text": [
      "Total Unique Elements in  ACCOUNT_STATUS  :  3\n",
      "Total Value Count in  ACCOUNT_STATUS  :  Active      10001\n",
      "Closed       9985\n",
      "Inactive       13\n",
      "Name: ACCOUNT_STATUS, dtype: int64\n",
      "Total Unique Elements in  SERVICE_PLAN  :  10\n",
      "Total Value Count in  SERVICE_PLAN  :  Elite        3051\n",
      "Unknown      2721\n",
      "Pro          2545\n",
      "Proplus      2441\n",
      "Home         2365\n",
      "Basic_Ltd    1934\n",
      "Basic        1886\n",
      "Power150     1248\n",
      "SO           1184\n",
      "Power15       624\n",
      "Name: SERVICE_PLAN, dtype: int64\n",
      "Total Unique Elements in  MODEL  :  6\n",
      "Total Value Count in  MODEL  :  HN7000S    7581\n",
      "HN9000     4835\n",
      "DW4000     2918\n",
      "DW6000     1894\n",
      "DW7000     1751\n",
      "UNK        1020\n",
      "Name: MODEL, dtype: int64\n",
      "Total Unique Elements in  SALES_CHANNEL  :  8\n",
      "Total Value Count in  SALES_CHANNEL  :  Sales Agents     8333\n",
      "Vars             2778\n",
      "Call Centers     1675\n",
      "Retail/Others    1576\n",
      "Retail/others    1445\n",
      "Web Orders       1419\n",
      "Web orders       1391\n",
      "Call Center      1382\n",
      "Name: SALES_CHANNEL, dtype: int64\n",
      "Total Unique Elements in  DIRECT_INDIRECT_CHANNEL  :  3\n",
      "Total Value Count in  DIRECT_INDIRECT_CHANNEL  :  Indirect    14866\n",
      "Direct       5124\n",
      "0               9\n",
      "Name: DIRECT_INDIRECT_CHANNEL, dtype: int64\n",
      "Total Unique Elements in  FEEDBACK  :  2\n",
      "Total Value Count in  FEEDBACK  :  BAD     12049\n",
      "GOOD     7950\n",
      "Name: FEEDBACK, dtype: int64\n",
      "Total Unique Elements in  SITE_TYPE_DESC  :  2\n",
      "Total Value Count in  SITE_TYPE_DESC  :  Broadband Remote    11653\n",
      "Spaceway             8346\n",
      "Name: SITE_TYPE_DESC, dtype: int64\n",
      "Total Unique Elements in  GENDER  :  3\n",
      "Total Value Count in  GENDER  :  1.0    9747\n",
      "2.0    7743\n",
      "1.0    2509\n",
      "Name: GENDER, dtype: int64\n",
      "Total Unique Elements in  AGE  :  68\n",
      "Total Value Count in  AGE  :  47.0    887\n",
      "58.0    582\n",
      "53.0    498\n",
      "54.0    463\n",
      "56.0    462\n",
      "49.0    453\n",
      "52.0    453\n",
      "42.0    445\n",
      "46.0    444\n",
      "64.0    444\n",
      "33.0    436\n",
      "40.0    433\n",
      "50.0    418\n",
      "55.0    418\n",
      "48.0    415\n",
      "41.0    411\n",
      "34.0    410\n",
      "62.0    409\n",
      "38.0    403\n",
      "32.0    401\n",
      "43.0    401\n",
      "35.0    400\n",
      "45.0    399\n",
      "51.0    398\n",
      "30.0    392\n",
      "27.0    388\n",
      "61.0    383\n",
      "31.0    382\n",
      "37.0    377\n",
      "23.0    376\n",
      "26.0    375\n",
      "65.0    373\n",
      "39.0    370\n",
      "63.0    363\n",
      "44.0    360\n",
      "59.0    356\n",
      "25.0    353\n",
      "28.0    350\n",
      "29.0    344\n",
      "36.0    344\n",
      "66.0    341\n",
      "24.0    341\n",
      "57.0    330\n",
      "60.0    309\n",
      "22.0    274\n",
      "70.0    254\n",
      "71.0    209\n",
      "68.0    199\n",
      "72.0    191\n",
      "69.0    176\n",
      "67.0    175\n",
      "74.0     92\n",
      "75.0     73\n",
      "77.0     39\n",
      "73.0     32\n",
      "76.0     31\n",
      "86.0     27\n",
      "79.0     26\n",
      "81.0     20\n",
      "80.0     20\n",
      "78.0     18\n",
      "90.0     15\n",
      "83.0     13\n",
      "84.0     12\n",
      "89.0      9\n",
      "88.0      2\n",
      "82.0      1\n",
      "92.0      1\n",
      "Name: AGE, dtype: int64\n",
      "Total Unique Elements in  MARITAL_STATUS  :  4\n",
      "Total Value Count in  MARITAL_STATUS  :  0.0    7707\n",
      "1.0    7351\n",
      "0.0    3941\n",
      "2.0    1000\n",
      "Name: MARITAL_STATUS, dtype: int64\n",
      "Total Unique Elements in  PRESENCE_OF_CHILDREN  :  3\n",
      "Total Value Count in  PRESENCE_OF_CHILDREN  :  0.0    12063\n",
      "1.0     5369\n",
      "0.0     2567\n",
      "Name: PRESENCE_OF_CHILDREN, dtype: int64\n",
      "Total Unique Elements in  COMPUTER_OWNER  :  2\n",
      "Total Value Count in  COMPUTER_OWNER  :  N    14942\n",
      "Y     5057\n",
      "Name: COMPUTER_OWNER, dtype: int64\n",
      "Total Unique Elements in  Satellite  :  12\n",
      "Total Value Count in  Satellite  :  SM5          3948\n",
      "SPACEWAY3    3845\n",
      "G16          2287\n",
      "Unknown      2251\n",
      "HZN          1586\n",
      "G3C          1185\n",
      "AM6          1171\n",
      "G28           975\n",
      "AM9           920\n",
      "SM6           901\n",
      "G26           491\n",
      "AMC           439\n",
      "Name: Satellite, dtype: int64\n",
      "Total Unique Elements in  Income  :  15\n",
      "Total Value Count in  Income  :  0.0     5060\n",
      "6.0     2648\n",
      "4.0     2134\n",
      "3.0     2109\n",
      "5.0     2051\n",
      "7.0     1436\n",
      "8.0      976\n",
      "11.0     744\n",
      "9.0      698\n",
      "2.0      552\n",
      "14.0     430\n",
      "1.0      384\n",
      "0.0      318\n",
      "13.0     278\n",
      "12.0     181\n",
      "Name: Income, dtype: int64\n",
      "Total Unique Elements in  Zip  :  10\n",
      "Total Value Count in  Zip  :  9.0    3626\n",
      "7.0    3381\n",
      "2.0    2703\n",
      "8.0    2400\n",
      "6.0    1620\n",
      "3.0    1582\n",
      "4.0    1567\n",
      "1.0    1393\n",
      "5.0    1023\n",
      "0.0     704\n",
      "Name: Zip, dtype: int64\n"
     ]
    }
   ],
   "source": [
    "for i in combined.columns :\n",
    "    \n",
    "    print(\"Total Unique Elements in \", i, \" : \", combined[i].nunique())\n",
    "    print(\"Total Value Count in \", i, \" : \", combined[i].value_counts())"
   ]
  },
  {
   "cell_type": "code",
   "execution_count": 88,
   "metadata": {},
   "outputs": [],
   "source": [
    "combined.ACCOUNT_STATUS.replace(\"Inactive\",\"Closed\",inplace=True)"
   ]
  },
  {
   "cell_type": "code",
   "execution_count": 89,
   "metadata": {},
   "outputs": [],
   "source": [
    "combined.ACCOUNT_STATUS.replace(\"0.0\",\"Closed\",inplace=True)"
   ]
  },
  {
   "cell_type": "code",
   "execution_count": 90,
   "metadata": {},
   "outputs": [],
   "source": [
    "combined = combined.astype({ \"Zip\": \"int\" , 'GENDER': 'float', \"PRESENCE_OF_CHILDREN\" : \"float\", \n",
    "                              \"Income\" : \"float\",'MARITAL_STATUS' : 'float' } )"
   ]
  },
  {
   "cell_type": "code",
   "execution_count": 91,
   "metadata": {},
   "outputs": [],
   "source": [
    "cleanup_nums =  {\"DIRECT_INDIRECT_CHANNEL\":     {\"Indirect\" : 0, \"Direct\" : 1} ,\"FEEDBACK\" : { \"BAD\" : 0, \"GOOD\" : 1} \n",
    "                 , \"COMPUTER_OWNER\" : {\"N\" : 0 , \"Y\" : 1 } , \"GENDER\" : {1.0 : 1 , 2.0 : 0 },\n",
    "                \"SITE_TYPE_DESC\":     {\"Broadband Remote\" : 0, \"Spaceway\" : 1},\n",
    "                 \"ACCOUNT_STATUS\":     {\"Active\" : 0, \"Closed\" : 1} }\n",
    "                    "
   ]
  },
  {
   "cell_type": "code",
   "execution_count": 92,
   "metadata": {},
   "outputs": [],
   "source": [
    "combined.replace(cleanup_nums,inplace=True)"
   ]
  },
  {
   "cell_type": "code",
   "execution_count": 93,
   "metadata": {},
   "outputs": [
    {
     "data": {
      "text/plain": [
       "ACCOUNT_STATUS               int64\n",
       "SERVICE_PLAN                object\n",
       "MODEL                       object\n",
       "SALES_CHANNEL               object\n",
       "DIRECT_INDIRECT_CHANNEL      int64\n",
       "FEEDBACK                     int64\n",
       "SITE_TYPE_DESC               int64\n",
       "GENDER                     float64\n",
       "AGE                        float64\n",
       "MARITAL_STATUS             float64\n",
       "PRESENCE_OF_CHILDREN       float64\n",
       "COMPUTER_OWNER               int64\n",
       "Satellite                   object\n",
       "Income                     float64\n",
       "Zip                          int32\n",
       "dtype: object"
      ]
     },
     "execution_count": 93,
     "metadata": {},
     "output_type": "execute_result"
    }
   ],
   "source": [
    "combined.dtypes"
   ]
  },
  {
   "cell_type": "code",
   "execution_count": 94,
   "metadata": {},
   "outputs": [],
   "source": [
    "combined = combined.astype({ \"Income\": \"int64\" ,  'MARITAL_STATUS': 'int64' , \"PRESENCE_OF_CHILDREN\" : \"int64\", \n",
    "                             \"AGE\" : \"int64\" , \"GENDER\" : \"int64\" } )"
   ]
  },
  {
   "cell_type": "code",
   "execution_count": null,
   "metadata": {},
   "outputs": [],
   "source": []
  },
  {
   "cell_type": "code",
   "execution_count": 95,
   "metadata": {},
   "outputs": [
    {
     "data": {
      "text/plain": [
       "9    3626\n",
       "7    3381\n",
       "2    2703\n",
       "8    2400\n",
       "6    1620\n",
       "3    1582\n",
       "4    1567\n",
       "1    1393\n",
       "5    1023\n",
       "0     704\n",
       "Name: Zip, dtype: int64"
      ]
     },
     "execution_count": 95,
     "metadata": {},
     "output_type": "execute_result"
    }
   ],
   "source": [
    "combined.Zip.value_counts()"
   ]
  },
  {
   "cell_type": "code",
   "execution_count": 97,
   "metadata": {},
   "outputs": [
    {
     "data": {
      "text/html": [
       "<img src=\"https://d33wubrfki0l68.cloudfront.net/979d9b9012d8bbb1e4f14b85fd7b0dc5f961feaa/109d1/img/docs/zip-code-map.png\"/>"
      ],
      "text/plain": [
       "<IPython.core.display.Image object>"
      ]
     },
     "execution_count": 97,
     "metadata": {},
     "output_type": "execute_result"
    }
   ],
   "source": [
    "Image(url= \"https://d33wubrfki0l68.cloudfront.net/979d9b9012d8bbb1e4f14b85fd7b0dc5f961feaa/109d1/img/docs/zip-code-map.png\")"
   ]
  },
  {
   "cell_type": "markdown",
   "metadata": {},
   "source": [
    "# ZIP Codes Beginning With                        States\n",
    "                   0                        Connecticut, Massachusetts, Maine, New Hampshire, New Jersey, Puerto Rico, \n",
    "                                            Rhode Island, Vermont, Virgin Islands, Army Post Office Europe, \n",
    "                                            Fleet Post Office Europe\n",
    "                   \n",
    "                   1\t                    Delaware, New York, Pennsylvania\n",
    "                   \n",
    "                   2\t                    District of Columbia, Maryland, North Carolina, South Carolina, \n",
    "                                            Virginia, West Virginia\n",
    "                   \n",
    "                   3\t                    Alabama, Florida, Georgia, Mississippi, Tennessee, \n",
    "                                            Army Post Office Americas, Fleet Post Office Americas\n",
    "                   \n",
    "                   4\t                    Indiana, Kentucky, Michigan, Ohio\n",
    "                   \n",
    "                   5\t                    Iowa, Minnesota, Montana, North Dakota, South Dakota, Wisconsin\n",
    "                   \n",
    "                   6\t                    Illinois, Kansas, Missouri, Nebraska\n",
    "                   \n",
    "                   7\t                    Arkansas, Louisiana, Oklahoma, Texas\n",
    "                   \n",
    "                   8\t                    Arizona, Colorado, Idaho, New Mexico, Nevada, Utah, Wyoming\n",
    "                   \n",
    "                   9\t                    Alaska, American Samoa, California, Guam, Hawaii, Marshall Islands, \n",
    "                                            Federated States of Micronesia, Northern Mariana Islands, Oregon, Palau,\n",
    "                                            Washington, Army Post Office Pacific, Fleet Post Office Pacific"
   ]
  },
  {
   "cell_type": "code",
   "execution_count": null,
   "metadata": {},
   "outputs": [],
   "source": []
  },
  {
   "cell_type": "code",
   "execution_count": null,
   "metadata": {},
   "outputs": [],
   "source": []
  },
  {
   "cell_type": "code",
   "execution_count": 98,
   "metadata": {},
   "outputs": [],
   "source": [
    "combo_df = pd.get_dummies(data = combined, columns = [\"SERVICE_PLAN\" , \"MODEL\" ,\"SALES_CHANNEL\" , \"Zip\" ,\n",
    "                                                       \"Satellite\" , \"MARITAL_STATUS\"\n",
    "                                                       ])"
   ]
  },
  {
   "cell_type": "code",
   "execution_count": 99,
   "metadata": {},
   "outputs": [],
   "source": [
    "X = combo_df.drop([\"ACCOUNT_STATUS\"],axis=1)\n",
    "Y = combo_df.ACCOUNT_STATUS"
   ]
  },
  {
   "cell_type": "code",
   "execution_count": 100,
   "metadata": {},
   "outputs": [
    {
     "data": {
      "text/html": [
       "<div>\n",
       "<style scoped>\n",
       "    .dataframe tbody tr th:only-of-type {\n",
       "        vertical-align: middle;\n",
       "    }\n",
       "\n",
       "    .dataframe tbody tr th {\n",
       "        vertical-align: top;\n",
       "    }\n",
       "\n",
       "    .dataframe thead th {\n",
       "        text-align: right;\n",
       "    }\n",
       "</style>\n",
       "<table border=\"1\" class=\"dataframe\">\n",
       "  <thead>\n",
       "    <tr style=\"text-align: right;\">\n",
       "      <th></th>\n",
       "      <th>DIRECT_INDIRECT_CHANNEL</th>\n",
       "      <th>FEEDBACK</th>\n",
       "      <th>SITE_TYPE_DESC</th>\n",
       "      <th>GENDER</th>\n",
       "      <th>AGE</th>\n",
       "      <th>PRESENCE_OF_CHILDREN</th>\n",
       "      <th>COMPUTER_OWNER</th>\n",
       "      <th>Income</th>\n",
       "      <th>SERVICE_PLAN_Basic</th>\n",
       "      <th>SERVICE_PLAN_Basic_Ltd</th>\n",
       "      <th>SERVICE_PLAN_Elite</th>\n",
       "      <th>SERVICE_PLAN_Home</th>\n",
       "      <th>SERVICE_PLAN_Power15</th>\n",
       "      <th>SERVICE_PLAN_Power150</th>\n",
       "      <th>SERVICE_PLAN_Pro</th>\n",
       "      <th>SERVICE_PLAN_Proplus</th>\n",
       "      <th>SERVICE_PLAN_SO</th>\n",
       "      <th>SERVICE_PLAN_Unknown</th>\n",
       "      <th>MODEL_DW4000</th>\n",
       "      <th>MODEL_DW6000</th>\n",
       "      <th>MODEL_DW7000</th>\n",
       "      <th>MODEL_HN7000S</th>\n",
       "      <th>MODEL_HN9000</th>\n",
       "      <th>MODEL_UNK</th>\n",
       "      <th>SALES_CHANNEL_Call Center</th>\n",
       "      <th>SALES_CHANNEL_Call Centers</th>\n",
       "      <th>SALES_CHANNEL_Retail/Others</th>\n",
       "      <th>SALES_CHANNEL_Retail/others</th>\n",
       "      <th>SALES_CHANNEL_Sales Agents</th>\n",
       "      <th>SALES_CHANNEL_Vars</th>\n",
       "      <th>SALES_CHANNEL_Web Orders</th>\n",
       "      <th>SALES_CHANNEL_Web orders</th>\n",
       "      <th>Zip_0</th>\n",
       "      <th>Zip_1</th>\n",
       "      <th>Zip_2</th>\n",
       "      <th>Zip_3</th>\n",
       "      <th>Zip_4</th>\n",
       "      <th>Zip_5</th>\n",
       "      <th>Zip_6</th>\n",
       "      <th>Zip_7</th>\n",
       "      <th>Zip_8</th>\n",
       "      <th>Zip_9</th>\n",
       "      <th>Satellite_AM6</th>\n",
       "      <th>Satellite_AM9</th>\n",
       "      <th>Satellite_AMC</th>\n",
       "      <th>Satellite_G16</th>\n",
       "      <th>Satellite_G26</th>\n",
       "      <th>Satellite_G28</th>\n",
       "      <th>Satellite_G3C</th>\n",
       "      <th>Satellite_HZN</th>\n",
       "      <th>Satellite_SM5</th>\n",
       "      <th>Satellite_SM6</th>\n",
       "      <th>Satellite_SPACEWAY3</th>\n",
       "      <th>Satellite_Unknown</th>\n",
       "      <th>MARITAL_STATUS_0</th>\n",
       "      <th>MARITAL_STATUS_1</th>\n",
       "      <th>MARITAL_STATUS_2</th>\n",
       "    </tr>\n",
       "  </thead>\n",
       "  <tbody>\n",
       "    <tr>\n",
       "      <th>0</th>\n",
       "      <td>0</td>\n",
       "      <td>0</td>\n",
       "      <td>0</td>\n",
       "      <td>0</td>\n",
       "      <td>69</td>\n",
       "      <td>0</td>\n",
       "      <td>0</td>\n",
       "      <td>0</td>\n",
       "      <td>0</td>\n",
       "      <td>0</td>\n",
       "      <td>0</td>\n",
       "      <td>0</td>\n",
       "      <td>0</td>\n",
       "      <td>0</td>\n",
       "      <td>0</td>\n",
       "      <td>0</td>\n",
       "      <td>0</td>\n",
       "      <td>1</td>\n",
       "      <td>0</td>\n",
       "      <td>0</td>\n",
       "      <td>0</td>\n",
       "      <td>0</td>\n",
       "      <td>1</td>\n",
       "      <td>0</td>\n",
       "      <td>0</td>\n",
       "      <td>0</td>\n",
       "      <td>0</td>\n",
       "      <td>0</td>\n",
       "      <td>0</td>\n",
       "      <td>1</td>\n",
       "      <td>0</td>\n",
       "      <td>0</td>\n",
       "      <td>0</td>\n",
       "      <td>0</td>\n",
       "      <td>1</td>\n",
       "      <td>0</td>\n",
       "      <td>0</td>\n",
       "      <td>0</td>\n",
       "      <td>0</td>\n",
       "      <td>0</td>\n",
       "      <td>0</td>\n",
       "      <td>0</td>\n",
       "      <td>0</td>\n",
       "      <td>0</td>\n",
       "      <td>0</td>\n",
       "      <td>0</td>\n",
       "      <td>0</td>\n",
       "      <td>0</td>\n",
       "      <td>0</td>\n",
       "      <td>0</td>\n",
       "      <td>0</td>\n",
       "      <td>0</td>\n",
       "      <td>1</td>\n",
       "      <td>0</td>\n",
       "      <td>0</td>\n",
       "      <td>1</td>\n",
       "      <td>0</td>\n",
       "    </tr>\n",
       "    <tr>\n",
       "      <th>1</th>\n",
       "      <td>0</td>\n",
       "      <td>1</td>\n",
       "      <td>1</td>\n",
       "      <td>0</td>\n",
       "      <td>43</td>\n",
       "      <td>0</td>\n",
       "      <td>0</td>\n",
       "      <td>4</td>\n",
       "      <td>0</td>\n",
       "      <td>0</td>\n",
       "      <td>0</td>\n",
       "      <td>0</td>\n",
       "      <td>0</td>\n",
       "      <td>0</td>\n",
       "      <td>1</td>\n",
       "      <td>0</td>\n",
       "      <td>0</td>\n",
       "      <td>0</td>\n",
       "      <td>0</td>\n",
       "      <td>0</td>\n",
       "      <td>0</td>\n",
       "      <td>1</td>\n",
       "      <td>0</td>\n",
       "      <td>0</td>\n",
       "      <td>0</td>\n",
       "      <td>0</td>\n",
       "      <td>0</td>\n",
       "      <td>0</td>\n",
       "      <td>1</td>\n",
       "      <td>0</td>\n",
       "      <td>0</td>\n",
       "      <td>0</td>\n",
       "      <td>1</td>\n",
       "      <td>0</td>\n",
       "      <td>0</td>\n",
       "      <td>0</td>\n",
       "      <td>0</td>\n",
       "      <td>0</td>\n",
       "      <td>0</td>\n",
       "      <td>0</td>\n",
       "      <td>0</td>\n",
       "      <td>0</td>\n",
       "      <td>0</td>\n",
       "      <td>0</td>\n",
       "      <td>0</td>\n",
       "      <td>0</td>\n",
       "      <td>0</td>\n",
       "      <td>0</td>\n",
       "      <td>0</td>\n",
       "      <td>1</td>\n",
       "      <td>0</td>\n",
       "      <td>0</td>\n",
       "      <td>0</td>\n",
       "      <td>0</td>\n",
       "      <td>0</td>\n",
       "      <td>1</td>\n",
       "      <td>0</td>\n",
       "    </tr>\n",
       "    <tr>\n",
       "      <th>2</th>\n",
       "      <td>0</td>\n",
       "      <td>0</td>\n",
       "      <td>0</td>\n",
       "      <td>0</td>\n",
       "      <td>58</td>\n",
       "      <td>0</td>\n",
       "      <td>0</td>\n",
       "      <td>4</td>\n",
       "      <td>0</td>\n",
       "      <td>0</td>\n",
       "      <td>0</td>\n",
       "      <td>0</td>\n",
       "      <td>0</td>\n",
       "      <td>1</td>\n",
       "      <td>0</td>\n",
       "      <td>0</td>\n",
       "      <td>0</td>\n",
       "      <td>0</td>\n",
       "      <td>0</td>\n",
       "      <td>0</td>\n",
       "      <td>0</td>\n",
       "      <td>0</td>\n",
       "      <td>1</td>\n",
       "      <td>0</td>\n",
       "      <td>1</td>\n",
       "      <td>0</td>\n",
       "      <td>0</td>\n",
       "      <td>0</td>\n",
       "      <td>0</td>\n",
       "      <td>0</td>\n",
       "      <td>0</td>\n",
       "      <td>0</td>\n",
       "      <td>0</td>\n",
       "      <td>0</td>\n",
       "      <td>0</td>\n",
       "      <td>0</td>\n",
       "      <td>0</td>\n",
       "      <td>0</td>\n",
       "      <td>0</td>\n",
       "      <td>1</td>\n",
       "      <td>0</td>\n",
       "      <td>0</td>\n",
       "      <td>0</td>\n",
       "      <td>0</td>\n",
       "      <td>0</td>\n",
       "      <td>0</td>\n",
       "      <td>0</td>\n",
       "      <td>0</td>\n",
       "      <td>0</td>\n",
       "      <td>0</td>\n",
       "      <td>1</td>\n",
       "      <td>0</td>\n",
       "      <td>0</td>\n",
       "      <td>0</td>\n",
       "      <td>0</td>\n",
       "      <td>1</td>\n",
       "      <td>0</td>\n",
       "    </tr>\n",
       "    <tr>\n",
       "      <th>3</th>\n",
       "      <td>1</td>\n",
       "      <td>0</td>\n",
       "      <td>1</td>\n",
       "      <td>1</td>\n",
       "      <td>22</td>\n",
       "      <td>1</td>\n",
       "      <td>0</td>\n",
       "      <td>6</td>\n",
       "      <td>0</td>\n",
       "      <td>0</td>\n",
       "      <td>0</td>\n",
       "      <td>0</td>\n",
       "      <td>0</td>\n",
       "      <td>1</td>\n",
       "      <td>0</td>\n",
       "      <td>0</td>\n",
       "      <td>0</td>\n",
       "      <td>0</td>\n",
       "      <td>0</td>\n",
       "      <td>1</td>\n",
       "      <td>0</td>\n",
       "      <td>0</td>\n",
       "      <td>0</td>\n",
       "      <td>0</td>\n",
       "      <td>0</td>\n",
       "      <td>0</td>\n",
       "      <td>0</td>\n",
       "      <td>0</td>\n",
       "      <td>1</td>\n",
       "      <td>0</td>\n",
       "      <td>0</td>\n",
       "      <td>0</td>\n",
       "      <td>0</td>\n",
       "      <td>0</td>\n",
       "      <td>0</td>\n",
       "      <td>0</td>\n",
       "      <td>1</td>\n",
       "      <td>0</td>\n",
       "      <td>0</td>\n",
       "      <td>0</td>\n",
       "      <td>0</td>\n",
       "      <td>0</td>\n",
       "      <td>0</td>\n",
       "      <td>0</td>\n",
       "      <td>0</td>\n",
       "      <td>0</td>\n",
       "      <td>0</td>\n",
       "      <td>0</td>\n",
       "      <td>0</td>\n",
       "      <td>0</td>\n",
       "      <td>0</td>\n",
       "      <td>0</td>\n",
       "      <td>1</td>\n",
       "      <td>0</td>\n",
       "      <td>0</td>\n",
       "      <td>1</td>\n",
       "      <td>0</td>\n",
       "    </tr>\n",
       "    <tr>\n",
       "      <th>4</th>\n",
       "      <td>0</td>\n",
       "      <td>1</td>\n",
       "      <td>0</td>\n",
       "      <td>1</td>\n",
       "      <td>36</td>\n",
       "      <td>0</td>\n",
       "      <td>0</td>\n",
       "      <td>7</td>\n",
       "      <td>0</td>\n",
       "      <td>0</td>\n",
       "      <td>0</td>\n",
       "      <td>1</td>\n",
       "      <td>0</td>\n",
       "      <td>0</td>\n",
       "      <td>0</td>\n",
       "      <td>0</td>\n",
       "      <td>0</td>\n",
       "      <td>0</td>\n",
       "      <td>0</td>\n",
       "      <td>0</td>\n",
       "      <td>0</td>\n",
       "      <td>1</td>\n",
       "      <td>0</td>\n",
       "      <td>0</td>\n",
       "      <td>1</td>\n",
       "      <td>0</td>\n",
       "      <td>0</td>\n",
       "      <td>0</td>\n",
       "      <td>0</td>\n",
       "      <td>0</td>\n",
       "      <td>0</td>\n",
       "      <td>0</td>\n",
       "      <td>0</td>\n",
       "      <td>1</td>\n",
       "      <td>0</td>\n",
       "      <td>0</td>\n",
       "      <td>0</td>\n",
       "      <td>0</td>\n",
       "      <td>0</td>\n",
       "      <td>0</td>\n",
       "      <td>0</td>\n",
       "      <td>0</td>\n",
       "      <td>0</td>\n",
       "      <td>0</td>\n",
       "      <td>0</td>\n",
       "      <td>0</td>\n",
       "      <td>0</td>\n",
       "      <td>0</td>\n",
       "      <td>0</td>\n",
       "      <td>0</td>\n",
       "      <td>0</td>\n",
       "      <td>0</td>\n",
       "      <td>0</td>\n",
       "      <td>1</td>\n",
       "      <td>1</td>\n",
       "      <td>0</td>\n",
       "      <td>0</td>\n",
       "    </tr>\n",
       "  </tbody>\n",
       "</table>\n",
       "</div>"
      ],
      "text/plain": [
       "   DIRECT_INDIRECT_CHANNEL  FEEDBACK  SITE_TYPE_DESC  GENDER  AGE  \\\n",
       "0                        0         0               0       0   69   \n",
       "1                        0         1               1       0   43   \n",
       "2                        0         0               0       0   58   \n",
       "3                        1         0               1       1   22   \n",
       "4                        0         1               0       1   36   \n",
       "\n",
       "   PRESENCE_OF_CHILDREN  COMPUTER_OWNER  Income  SERVICE_PLAN_Basic  \\\n",
       "0                     0               0       0                   0   \n",
       "1                     0               0       4                   0   \n",
       "2                     0               0       4                   0   \n",
       "3                     1               0       6                   0   \n",
       "4                     0               0       7                   0   \n",
       "\n",
       "   SERVICE_PLAN_Basic_Ltd  SERVICE_PLAN_Elite  SERVICE_PLAN_Home  \\\n",
       "0                       0                   0                  0   \n",
       "1                       0                   0                  0   \n",
       "2                       0                   0                  0   \n",
       "3                       0                   0                  0   \n",
       "4                       0                   0                  1   \n",
       "\n",
       "   SERVICE_PLAN_Power15  SERVICE_PLAN_Power150  SERVICE_PLAN_Pro  \\\n",
       "0                     0                      0                 0   \n",
       "1                     0                      0                 1   \n",
       "2                     0                      1                 0   \n",
       "3                     0                      1                 0   \n",
       "4                     0                      0                 0   \n",
       "\n",
       "   SERVICE_PLAN_Proplus  SERVICE_PLAN_SO  SERVICE_PLAN_Unknown  MODEL_DW4000  \\\n",
       "0                     0                0                     1             0   \n",
       "1                     0                0                     0             0   \n",
       "2                     0                0                     0             0   \n",
       "3                     0                0                     0             0   \n",
       "4                     0                0                     0             0   \n",
       "\n",
       "   MODEL_DW6000  MODEL_DW7000  MODEL_HN7000S  MODEL_HN9000  MODEL_UNK  \\\n",
       "0             0             0              0             1          0   \n",
       "1             0             0              1             0          0   \n",
       "2             0             0              0             1          0   \n",
       "3             1             0              0             0          0   \n",
       "4             0             0              1             0          0   \n",
       "\n",
       "   SALES_CHANNEL_Call Center  SALES_CHANNEL_Call Centers  \\\n",
       "0                          0                           0   \n",
       "1                          0                           0   \n",
       "2                          1                           0   \n",
       "3                          0                           0   \n",
       "4                          1                           0   \n",
       "\n",
       "   SALES_CHANNEL_Retail/Others  SALES_CHANNEL_Retail/others  \\\n",
       "0                            0                            0   \n",
       "1                            0                            0   \n",
       "2                            0                            0   \n",
       "3                            0                            0   \n",
       "4                            0                            0   \n",
       "\n",
       "   SALES_CHANNEL_Sales Agents  SALES_CHANNEL_Vars  SALES_CHANNEL_Web Orders  \\\n",
       "0                           0                   1                         0   \n",
       "1                           1                   0                         0   \n",
       "2                           0                   0                         0   \n",
       "3                           1                   0                         0   \n",
       "4                           0                   0                         0   \n",
       "\n",
       "   SALES_CHANNEL_Web orders  Zip_0  Zip_1  Zip_2  Zip_3  Zip_4  Zip_5  Zip_6  \\\n",
       "0                         0      0      0      1      0      0      0      0   \n",
       "1                         0      1      0      0      0      0      0      0   \n",
       "2                         0      0      0      0      0      0      0      0   \n",
       "3                         0      0      0      0      0      1      0      0   \n",
       "4                         0      0      1      0      0      0      0      0   \n",
       "\n",
       "   Zip_7  Zip_8  Zip_9  Satellite_AM6  Satellite_AM9  Satellite_AMC  \\\n",
       "0      0      0      0              0              0              0   \n",
       "1      0      0      0              0              0              0   \n",
       "2      1      0      0              0              0              0   \n",
       "3      0      0      0              0              0              0   \n",
       "4      0      0      0              0              0              0   \n",
       "\n",
       "   Satellite_G16  Satellite_G26  Satellite_G28  Satellite_G3C  Satellite_HZN  \\\n",
       "0              0              0              0              0              0   \n",
       "1              0              0              0              0              1   \n",
       "2              0              0              0              0              0   \n",
       "3              0              0              0              0              0   \n",
       "4              0              0              0              0              0   \n",
       "\n",
       "   Satellite_SM5  Satellite_SM6  Satellite_SPACEWAY3  Satellite_Unknown  \\\n",
       "0              0              0                    1                  0   \n",
       "1              0              0                    0                  0   \n",
       "2              1              0                    0                  0   \n",
       "3              0              0                    1                  0   \n",
       "4              0              0                    0                  1   \n",
       "\n",
       "   MARITAL_STATUS_0  MARITAL_STATUS_1  MARITAL_STATUS_2  \n",
       "0                 0                 1                 0  \n",
       "1                 0                 1                 0  \n",
       "2                 0                 1                 0  \n",
       "3                 0                 1                 0  \n",
       "4                 1                 0                 0  "
      ]
     },
     "execution_count": 100,
     "metadata": {},
     "output_type": "execute_result"
    }
   ],
   "source": [
    "X.head()"
   ]
  },
  {
   "cell_type": "code",
   "execution_count": 101,
   "metadata": {},
   "outputs": [
    {
     "data": {
      "text/plain": [
       "0    0\n",
       "1    0\n",
       "2    0\n",
       "3    0\n",
       "4    0\n",
       "Name: ACCOUNT_STATUS, dtype: int64"
      ]
     },
     "execution_count": 101,
     "metadata": {},
     "output_type": "execute_result"
    }
   ],
   "source": [
    "Y.head()"
   ]
  },
  {
   "cell_type": "markdown",
   "metadata": {},
   "source": [
    "## Scaling "
   ]
  },
  {
   "cell_type": "code",
   "execution_count": 102,
   "metadata": {},
   "outputs": [],
   "source": [
    "StdScaler = StandardScaler()\n",
    "\n",
    "X[[\"AGE\",\"Income\"]] = StdScaler.fit_transform(X[[\"AGE\",\"Income\"]])\n",
    "\n",
    "X_train, X_test, Y_train, Y_test = train_test_split( X, Y , test_size=0.25, random_state=42)"
   ]
  },
  {
   "cell_type": "code",
   "execution_count": 103,
   "metadata": {},
   "outputs": [],
   "source": [
    "def eval_metrics(Y,pred_Y):\n",
    "    \n",
    "    print(\"accuracy :\" ,accuracy_score(Y,pred_Y))\n",
    "    print(\"Precision :\" ,precision_score(Y,pred_Y, average='binary'))\n",
    "    print(\"Recall :\" ,recall_score(Y,pred_Y, average='binary'))\n",
    "    print(\"F1 score :\" ,f1_score(Y,pred_Y, average='binary'))\n",
    "    print(\"ROC_AUC_Score\" ,roc_auc_score(Y,pred_Y))\n",
    "    print('Jaccard Similarity Score : ',round(jaccard_similarity_score(Y,pred_Y)*100,2),'%')"
   ]
  },
  {
   "cell_type": "code",
   "execution_count": 123,
   "metadata": {},
   "outputs": [],
   "source": [
    "def model_validation(x,y, model):\n",
    "    X=x.copy()\n",
    "    y=y.copy()\n",
    "    y_pred=model.predict(X)\n",
    "    X[\"Prob_event\"]=model.predict_proba(X)[:,1]\n",
    "    X[\"Y_actual\"]=y\n",
    "    X[\"Y_pred\"]=y_pred\n",
    "    X[\"Rank\"]=pd.qcut(X[\"Prob_event\"].rank(method='first'), 10 ,labels = np.arange(0,10,1))\n",
    "    X[\"numb\"]=10\n",
    "    X[\"Decile\"]=X[\"numb\"]-X[\"Rank\"].astype(\"int\")\n",
    "    profile=pd.DataFrame(X.groupby(\"Decile\")\\\n",
    "                        .apply(lambda x: pd.Series({\n",
    "        \"min_score\": x[\"Prob_event\"].min(),\n",
    "        \"max_score\": x[\"Prob_event\"].max(),\n",
    "        \"Bad\":x[\"Y_actual\"].sum(),\n",
    "        \"Good\":x[\"Y_actual\"].count()-x[\"Y_actual\"].sum(),\n",
    "        \"Total\":x[\"Y_actual\"].count() })))\n",
    "    return profile\n"
   ]
  },
  {
   "cell_type": "code",
   "execution_count": null,
   "metadata": {},
   "outputs": [],
   "source": []
  },
  {
   "cell_type": "code",
   "execution_count": null,
   "metadata": {},
   "outputs": [],
   "source": []
  },
  {
   "cell_type": "markdown",
   "metadata": {},
   "source": [
    "## Random Forest"
   ]
  },
  {
   "cell_type": "code",
   "execution_count": 104,
   "metadata": {},
   "outputs": [
    {
     "name": "stdout",
     "output_type": "stream",
     "text": [
      "Train 1.0\n",
      "Test 0.955453149001536\n"
     ]
    }
   ],
   "source": [
    "RF = RandomForestClassifier()\n",
    "\n",
    "RF.fit(X_train, Y_train)\n",
    "\n",
    "Pred_Y_train = RF.predict(X_train)\n",
    "Pred_Y_train_p = RF.predict_proba(X_train)\n",
    "\n",
    "Rf_auc1 = roc_auc_score(Y_train, Pred_Y_train)\n",
    "\n",
    "Pred_Y_test = RF.predict(X_test)\n",
    "Pred_Y_test_p = RF.predict_proba(X_test)\n",
    "\n",
    "Rf_auc2 = roc_auc_score(Y_test, Pred_Y_test)\n",
    "\n",
    "print(\"Train\", Rf_auc1)\n",
    "print(\"Test\", Rf_auc2)"
   ]
  },
  {
   "cell_type": "code",
   "execution_count": 105,
   "metadata": {},
   "outputs": [
    {
     "name": "stdout",
     "output_type": "stream",
     "text": [
      "accuracy : 1.0\n",
      "Precision : 1.0\n",
      "Recall : 1.0\n",
      "F1 score : 1.0\n",
      "ROC_AUC_Score 1.0\n",
      "Jaccard Similarity Score :  100.0 %\n"
     ]
    }
   ],
   "source": [
    "eval_metrics(Y_train, Pred_Y_train)"
   ]
  },
  {
   "cell_type": "code",
   "execution_count": 106,
   "metadata": {},
   "outputs": [
    {
     "name": "stdout",
     "output_type": "stream",
     "text": [
      "accuracy : 0.9554\n",
      "Precision : 0.9487077534791253\n",
      "Recall : 0.9620967741935483\n",
      "F1 score : 0.9553553553553552\n",
      "ROC_AUC_Score 0.955453149001536\n",
      "Jaccard Similarity Score :  95.54 %\n"
     ]
    }
   ],
   "source": [
    "eval_metrics(Y_test, Pred_Y_test)"
   ]
  },
  {
   "cell_type": "code",
   "execution_count": 107,
   "metadata": {},
   "outputs": [
    {
     "data": {
      "text/plain": [
       "array([[7481,    0],\n",
       "       [   0, 7518]], dtype=int64)"
      ]
     },
     "execution_count": 107,
     "metadata": {},
     "output_type": "execute_result"
    }
   ],
   "source": [
    "confusion_matrix(Y_train, Pred_Y_train) "
   ]
  },
  {
   "cell_type": "code",
   "execution_count": 108,
   "metadata": {},
   "outputs": [
    {
     "data": {
      "text/plain": [
       "array([[2391,  129],\n",
       "       [  94, 2386]], dtype=int64)"
      ]
     },
     "execution_count": 108,
     "metadata": {},
     "output_type": "execute_result"
    }
   ],
   "source": [
    "confusion_matrix(Y_test, Pred_Y_test) "
   ]
  },
  {
   "cell_type": "code",
   "execution_count": 273,
   "metadata": {},
   "outputs": [
    {
     "data": {
      "text/html": [
       "\n",
       "\n",
       "\n",
       "\n",
       "\n",
       "\n",
       "  <div class=\"bk-root\" id=\"aaf11f46-6e18-40e4-9e6b-42102ea95e51\" data-root-id=\"2258\"></div>\n"
      ]
     },
     "metadata": {},
     "output_type": "display_data"
    },
    {
     "data": {
      "application/javascript": [
       "(function(root) {\n",
       "  function embed_document(root) {\n",
       "    \n",
       "  var docs_json = {\"fadfe741-d4db-4e23-a84a-67c30da2b0f4\":{\"roots\":{\"references\":[{\"attributes\":{\"below\":[{\"id\":\"2269\",\"type\":\"LinearAxis\"}],\"center\":[{\"id\":\"2273\",\"type\":\"Grid\"},{\"id\":\"2278\",\"type\":\"Grid\"},{\"id\":\"2303\",\"type\":\"Legend\"}],\"left\":[{\"id\":\"2274\",\"type\":\"LinearAxis\"}],\"renderers\":[{\"id\":\"2295\",\"type\":\"GlyphRenderer\"},{\"id\":\"2308\",\"type\":\"GlyphRenderer\"}],\"title\":{\"id\":\"2259\",\"type\":\"Title\"},\"toolbar\":{\"id\":\"2285\",\"type\":\"Toolbar\"},\"x_range\":{\"id\":\"2261\",\"type\":\"DataRange1d\"},\"x_scale\":{\"id\":\"2265\",\"type\":\"LinearScale\"},\"y_range\":{\"id\":\"2263\",\"type\":\"DataRange1d\"},\"y_scale\":{\"id\":\"2267\",\"type\":\"LinearScale\"}},\"id\":\"2258\",\"subtype\":\"Figure\",\"type\":\"Plot\"},{\"attributes\":{\"text\":\"ROC Curve - Train data\"},\"id\":\"2259\",\"type\":\"Title\"},{\"attributes\":{},\"id\":\"2280\",\"type\":\"WheelZoomTool\"},{\"attributes\":{\"items\":[{\"id\":\"2304\",\"type\":\"LegendItem\"}]},\"id\":\"2303\",\"type\":\"Legend\"},{\"attributes\":{},\"id\":\"2283\",\"type\":\"ResetTool\"},{\"attributes\":{\"callback\":null,\"data\":{\"x\":{\"__ndarray__\":\"AAAAAAAAAAAAAAAAAAAAAAAAAAAAAPA/\",\"dtype\":\"float64\",\"shape\":[3]},\"y\":{\"__ndarray__\":\"AAAAAAAAAAAAAAAAAADwPwAAAAAAAPA/\",\"dtype\":\"float64\",\"shape\":[3]}},\"selected\":{\"id\":\"2395\",\"type\":\"Selection\"},\"selection_policy\":{\"id\":\"2396\",\"type\":\"UnionRenderers\"}},\"id\":\"2292\",\"type\":\"ColumnDataSource\"},{\"attributes\":{},\"id\":\"2299\",\"type\":\"BasicTickFormatter\"},{\"attributes\":{},\"id\":\"2397\",\"type\":\"Selection\"},{\"attributes\":{\"data_source\":{\"id\":\"2305\",\"type\":\"ColumnDataSource\"},\"glyph\":{\"id\":\"2306\",\"type\":\"Line\"},\"hover_glyph\":null,\"muted_glyph\":null,\"nonselection_glyph\":{\"id\":\"2307\",\"type\":\"Line\"},\"selection_glyph\":null,\"view\":{\"id\":\"2309\",\"type\":\"CDSView\"}},\"id\":\"2308\",\"type\":\"GlyphRenderer\"},{\"attributes\":{},\"id\":\"2265\",\"type\":\"LinearScale\"},{\"attributes\":{},\"id\":\"2270\",\"type\":\"BasicTicker\"},{\"attributes\":{},\"id\":\"2267\",\"type\":\"LinearScale\"},{\"attributes\":{\"line_alpha\":0.1,\"line_color\":\"#1f77b4\",\"line_width\":2,\"x\":{\"field\":\"x\"},\"y\":{\"field\":\"y\"}},\"id\":\"2294\",\"type\":\"Line\"},{\"attributes\":{\"label\":{\"value\":\"AUC = 1.0\"},\"renderers\":[{\"id\":\"2295\",\"type\":\"GlyphRenderer\"}]},\"id\":\"2304\",\"type\":\"LegendItem\"},{\"attributes\":{\"formatter\":{\"id\":\"2299\",\"type\":\"BasicTickFormatter\"},\"ticker\":{\"id\":\"2275\",\"type\":\"BasicTicker\"}},\"id\":\"2274\",\"type\":\"LinearAxis\"},{\"attributes\":{},\"id\":\"2282\",\"type\":\"SaveTool\"},{\"attributes\":{\"line_color\":\"#0077bc\",\"line_width\":2,\"x\":{\"field\":\"x\"},\"y\":{\"field\":\"y\"}},\"id\":\"2293\",\"type\":\"Line\"},{\"attributes\":{\"source\":{\"id\":\"2305\",\"type\":\"ColumnDataSource\"}},\"id\":\"2309\",\"type\":\"CDSView\"},{\"attributes\":{\"callback\":null},\"id\":\"2261\",\"type\":\"DataRange1d\"},{\"attributes\":{\"line_alpha\":0.1,\"line_color\":\"#1f77b4\",\"line_dash\":[2,4,6,4],\"line_width\":2,\"x\":{\"field\":\"x\"},\"y\":{\"field\":\"y\"}},\"id\":\"2307\",\"type\":\"Line\"},{\"attributes\":{\"formatter\":{\"id\":\"2301\",\"type\":\"BasicTickFormatter\"},\"ticker\":{\"id\":\"2270\",\"type\":\"BasicTicker\"}},\"id\":\"2269\",\"type\":\"LinearAxis\"},{\"attributes\":{\"callback\":null,\"data\":{\"x\":[0,1],\"y\":[0,1]},\"selected\":{\"id\":\"2397\",\"type\":\"Selection\"},\"selection_policy\":{\"id\":\"2398\",\"type\":\"UnionRenderers\"}},\"id\":\"2305\",\"type\":\"ColumnDataSource\"},{\"attributes\":{},\"id\":\"2279\",\"type\":\"PanTool\"},{\"attributes\":{\"ticker\":{\"id\":\"2270\",\"type\":\"BasicTicker\"}},\"id\":\"2273\",\"type\":\"Grid\"},{\"attributes\":{},\"id\":\"2395\",\"type\":\"Selection\"},{\"attributes\":{},\"id\":\"2284\",\"type\":\"HelpTool\"},{\"attributes\":{\"source\":{\"id\":\"2292\",\"type\":\"ColumnDataSource\"}},\"id\":\"2296\",\"type\":\"CDSView\"},{\"attributes\":{},\"id\":\"2398\",\"type\":\"UnionRenderers\"},{\"attributes\":{\"active_drag\":\"auto\",\"active_inspect\":\"auto\",\"active_multi\":null,\"active_scroll\":\"auto\",\"active_tap\":\"auto\",\"tools\":[{\"id\":\"2279\",\"type\":\"PanTool\"},{\"id\":\"2280\",\"type\":\"WheelZoomTool\"},{\"id\":\"2281\",\"type\":\"BoxZoomTool\"},{\"id\":\"2282\",\"type\":\"SaveTool\"},{\"id\":\"2283\",\"type\":\"ResetTool\"},{\"id\":\"2284\",\"type\":\"HelpTool\"}]},\"id\":\"2285\",\"type\":\"Toolbar\"},{\"attributes\":{\"callback\":null},\"id\":\"2263\",\"type\":\"DataRange1d\"},{\"attributes\":{},\"id\":\"2275\",\"type\":\"BasicTicker\"},{\"attributes\":{\"line_color\":\"#d15555\",\"line_dash\":[2,4,6,4],\"line_width\":2,\"x\":{\"field\":\"x\"},\"y\":{\"field\":\"y\"}},\"id\":\"2306\",\"type\":\"Line\"},{\"attributes\":{\"dimension\":1,\"ticker\":{\"id\":\"2275\",\"type\":\"BasicTicker\"}},\"id\":\"2278\",\"type\":\"Grid\"},{\"attributes\":{},\"id\":\"2301\",\"type\":\"BasicTickFormatter\"},{\"attributes\":{},\"id\":\"2396\",\"type\":\"UnionRenderers\"},{\"attributes\":{\"overlay\":{\"id\":\"2302\",\"type\":\"BoxAnnotation\"}},\"id\":\"2281\",\"type\":\"BoxZoomTool\"},{\"attributes\":{\"data_source\":{\"id\":\"2292\",\"type\":\"ColumnDataSource\"},\"glyph\":{\"id\":\"2293\",\"type\":\"Line\"},\"hover_glyph\":null,\"muted_glyph\":null,\"nonselection_glyph\":{\"id\":\"2294\",\"type\":\"Line\"},\"selection_glyph\":null,\"view\":{\"id\":\"2296\",\"type\":\"CDSView\"}},\"id\":\"2295\",\"type\":\"GlyphRenderer\"},{\"attributes\":{\"bottom_units\":\"screen\",\"fill_alpha\":{\"value\":0.5},\"fill_color\":{\"value\":\"lightgrey\"},\"left_units\":\"screen\",\"level\":\"overlay\",\"line_alpha\":{\"value\":1.0},\"line_color\":{\"value\":\"black\"},\"line_dash\":[4,4],\"line_width\":{\"value\":2},\"render_mode\":\"css\",\"right_units\":\"screen\",\"top_units\":\"screen\"},\"id\":\"2302\",\"type\":\"BoxAnnotation\"}],\"root_ids\":[\"2258\"]},\"title\":\"Bokeh Application\",\"version\":\"1.4.0\"}};\n",
       "  var render_items = [{\"docid\":\"fadfe741-d4db-4e23-a84a-67c30da2b0f4\",\"roots\":{\"2258\":\"aaf11f46-6e18-40e4-9e6b-42102ea95e51\"}}];\n",
       "  root.Bokeh.embed.embed_items_notebook(docs_json, render_items);\n",
       "\n",
       "  }\n",
       "  if (root.Bokeh !== undefined) {\n",
       "    embed_document(root);\n",
       "  } else {\n",
       "    var attempts = 0;\n",
       "    var timer = setInterval(function(root) {\n",
       "      if (root.Bokeh !== undefined) {\n",
       "        clearInterval(timer);\n",
       "        embed_document(root);\n",
       "      } else {\n",
       "        attempts++;\n",
       "        if (attempts > 100) {\n",
       "          clearInterval(timer);\n",
       "          console.log(\"Bokeh: ERROR: Unable to run BokehJS code because BokehJS library is missing\");\n",
       "        }\n",
       "      }\n",
       "    }, 10, root)\n",
       "  }\n",
       "})(window);"
      ],
      "application/vnd.bokehjs_exec.v0+json": ""
     },
     "metadata": {
      "application/vnd.bokehjs_exec.v0+json": {
       "id": "2258"
      }
     },
     "output_type": "display_data"
    }
   ],
   "source": [
    "from sklearn.metrics import auc\n",
    "fpr, tpr, _ = roc_curve(np.array(Y_train), Pred_Y_train)\n",
    "auc = auc(fpr,tpr)\n",
    "p = figure(title=\"ROC Curve - Train data\")\n",
    "r = p.line(fpr,tpr,color='#0077bc',legend = 'AUC = '+ str(round(auc,3)), line_width=2)\n",
    "s = p.line([0,1],[0,1], color= '#d15555',line_dash='dotdash',line_width=2)\n",
    "show(p)"
   ]
  },
  {
   "cell_type": "code",
   "execution_count": 274,
   "metadata": {},
   "outputs": [
    {
     "data": {
      "text/html": [
       "\n",
       "\n",
       "\n",
       "\n",
       "\n",
       "\n",
       "  <div class=\"bk-root\" id=\"1a7de8b6-7e75-4de5-8f69-3ecda7c39cae\" data-root-id=\"2460\"></div>\n"
      ]
     },
     "metadata": {},
     "output_type": "display_data"
    },
    {
     "data": {
      "application/javascript": [
       "(function(root) {\n",
       "  function embed_document(root) {\n",
       "    \n",
       "  var docs_json = {\"e7206510-c557-45fe-a182-dd7c2301c4b3\":{\"roots\":{\"references\":[{\"attributes\":{\"below\":[{\"id\":\"2471\",\"type\":\"LinearAxis\"}],\"center\":[{\"id\":\"2475\",\"type\":\"Grid\"},{\"id\":\"2480\",\"type\":\"Grid\"},{\"id\":\"2505\",\"type\":\"Legend\"}],\"left\":[{\"id\":\"2476\",\"type\":\"LinearAxis\"}],\"renderers\":[{\"id\":\"2497\",\"type\":\"GlyphRenderer\"},{\"id\":\"2510\",\"type\":\"GlyphRenderer\"}],\"title\":{\"id\":\"2461\",\"type\":\"Title\"},\"toolbar\":{\"id\":\"2487\",\"type\":\"Toolbar\"},\"x_range\":{\"id\":\"2463\",\"type\":\"DataRange1d\"},\"x_scale\":{\"id\":\"2467\",\"type\":\"LinearScale\"},\"y_range\":{\"id\":\"2465\",\"type\":\"DataRange1d\"},\"y_scale\":{\"id\":\"2469\",\"type\":\"LinearScale\"}},\"id\":\"2460\",\"subtype\":\"Figure\",\"type\":\"Plot\"},{\"attributes\":{\"line_color\":\"#0077bc\",\"line_width\":2,\"x\":{\"field\":\"x\"},\"y\":{\"field\":\"y\"}},\"id\":\"2495\",\"type\":\"Line\"},{\"attributes\":{\"source\":{\"id\":\"2494\",\"type\":\"ColumnDataSource\"}},\"id\":\"2498\",\"type\":\"CDSView\"},{\"attributes\":{},\"id\":\"2501\",\"type\":\"BasicTickFormatter\"},{\"attributes\":{\"ticker\":{\"id\":\"2472\",\"type\":\"BasicTicker\"}},\"id\":\"2475\",\"type\":\"Grid\"},{\"attributes\":{\"items\":[{\"id\":\"2506\",\"type\":\"LegendItem\"}]},\"id\":\"2505\",\"type\":\"Legend\"},{\"attributes\":{\"dimension\":1,\"ticker\":{\"id\":\"2477\",\"type\":\"BasicTicker\"}},\"id\":\"2480\",\"type\":\"Grid\"},{\"attributes\":{},\"id\":\"2484\",\"type\":\"SaveTool\"},{\"attributes\":{\"line_alpha\":0.1,\"line_color\":\"#1f77b4\",\"line_dash\":[2,4,6,4],\"line_width\":2,\"x\":{\"field\":\"x\"},\"y\":{\"field\":\"y\"}},\"id\":\"2509\",\"type\":\"Line\"},{\"attributes\":{\"callback\":null,\"data\":{\"x\":[0,1],\"y\":[0,1]},\"selected\":{\"id\":\"2609\",\"type\":\"Selection\"},\"selection_policy\":{\"id\":\"2610\",\"type\":\"UnionRenderers\"}},\"id\":\"2507\",\"type\":\"ColumnDataSource\"},{\"attributes\":{},\"id\":\"2610\",\"type\":\"UnionRenderers\"},{\"attributes\":{},\"id\":\"2481\",\"type\":\"PanTool\"},{\"attributes\":{},\"id\":\"2608\",\"type\":\"UnionRenderers\"},{\"attributes\":{\"callback\":null,\"data\":{\"x\":{\"__ndarray__\":\"AAAAAAAAAABaozVaozWqPwAAAAAAAPA/\",\"dtype\":\"float64\",\"shape\":[3]},\"y\":{\"__ndarray__\":\"AAAAAAAAAADJ8pcsf8nuPwAAAAAAAPA/\",\"dtype\":\"float64\",\"shape\":[3]}},\"selected\":{\"id\":\"2607\",\"type\":\"Selection\"},\"selection_policy\":{\"id\":\"2608\",\"type\":\"UnionRenderers\"}},\"id\":\"2494\",\"type\":\"ColumnDataSource\"},{\"attributes\":{},\"id\":\"2609\",\"type\":\"Selection\"},{\"attributes\":{\"overlay\":{\"id\":\"2504\",\"type\":\"BoxAnnotation\"}},\"id\":\"2483\",\"type\":\"BoxZoomTool\"},{\"attributes\":{},\"id\":\"2607\",\"type\":\"Selection\"},{\"attributes\":{},\"id\":\"2467\",\"type\":\"LinearScale\"},{\"attributes\":{\"line_alpha\":0.1,\"line_color\":\"#1f77b4\",\"line_width\":2,\"x\":{\"field\":\"x\"},\"y\":{\"field\":\"y\"}},\"id\":\"2496\",\"type\":\"Line\"},{\"attributes\":{\"source\":{\"id\":\"2507\",\"type\":\"ColumnDataSource\"}},\"id\":\"2511\",\"type\":\"CDSView\"},{\"attributes\":{},\"id\":\"2486\",\"type\":\"HelpTool\"},{\"attributes\":{},\"id\":\"2472\",\"type\":\"BasicTicker\"},{\"attributes\":{\"text\":\"ROC Curve - Train data\"},\"id\":\"2461\",\"type\":\"Title\"},{\"attributes\":{\"data_source\":{\"id\":\"2494\",\"type\":\"ColumnDataSource\"},\"glyph\":{\"id\":\"2495\",\"type\":\"Line\"},\"hover_glyph\":null,\"muted_glyph\":null,\"nonselection_glyph\":{\"id\":\"2496\",\"type\":\"Line\"},\"selection_glyph\":null,\"view\":{\"id\":\"2498\",\"type\":\"CDSView\"}},\"id\":\"2497\",\"type\":\"GlyphRenderer\"},{\"attributes\":{},\"id\":\"2485\",\"type\":\"ResetTool\"},{\"attributes\":{\"callback\":null},\"id\":\"2465\",\"type\":\"DataRange1d\"},{\"attributes\":{},\"id\":\"2482\",\"type\":\"WheelZoomTool\"},{\"attributes\":{\"formatter\":{\"id\":\"2503\",\"type\":\"BasicTickFormatter\"},\"ticker\":{\"id\":\"2472\",\"type\":\"BasicTicker\"}},\"id\":\"2471\",\"type\":\"LinearAxis\"},{\"attributes\":{\"bottom_units\":\"screen\",\"fill_alpha\":{\"value\":0.5},\"fill_color\":{\"value\":\"lightgrey\"},\"left_units\":\"screen\",\"level\":\"overlay\",\"line_alpha\":{\"value\":1.0},\"line_color\":{\"value\":\"black\"},\"line_dash\":[4,4],\"line_width\":{\"value\":2},\"render_mode\":\"css\",\"right_units\":\"screen\",\"top_units\":\"screen\"},\"id\":\"2504\",\"type\":\"BoxAnnotation\"},{\"attributes\":{\"line_color\":\"#d15555\",\"line_dash\":[2,4,6,4],\"line_width\":2,\"x\":{\"field\":\"x\"},\"y\":{\"field\":\"y\"}},\"id\":\"2508\",\"type\":\"Line\"},{\"attributes\":{\"formatter\":{\"id\":\"2501\",\"type\":\"BasicTickFormatter\"},\"ticker\":{\"id\":\"2477\",\"type\":\"BasicTicker\"}},\"id\":\"2476\",\"type\":\"LinearAxis\"},{\"attributes\":{},\"id\":\"2503\",\"type\":\"BasicTickFormatter\"},{\"attributes\":{\"data_source\":{\"id\":\"2507\",\"type\":\"ColumnDataSource\"},\"glyph\":{\"id\":\"2508\",\"type\":\"Line\"},\"hover_glyph\":null,\"muted_glyph\":null,\"nonselection_glyph\":{\"id\":\"2509\",\"type\":\"Line\"},\"selection_glyph\":null,\"view\":{\"id\":\"2511\",\"type\":\"CDSView\"}},\"id\":\"2510\",\"type\":\"GlyphRenderer\"},{\"attributes\":{},\"id\":\"2469\",\"type\":\"LinearScale\"},{\"attributes\":{},\"id\":\"2477\",\"type\":\"BasicTicker\"},{\"attributes\":{\"label\":{\"value\":\"AUC = 0.955\"},\"renderers\":[{\"id\":\"2497\",\"type\":\"GlyphRenderer\"}]},\"id\":\"2506\",\"type\":\"LegendItem\"},{\"attributes\":{\"active_drag\":\"auto\",\"active_inspect\":\"auto\",\"active_multi\":null,\"active_scroll\":\"auto\",\"active_tap\":\"auto\",\"tools\":[{\"id\":\"2481\",\"type\":\"PanTool\"},{\"id\":\"2482\",\"type\":\"WheelZoomTool\"},{\"id\":\"2483\",\"type\":\"BoxZoomTool\"},{\"id\":\"2484\",\"type\":\"SaveTool\"},{\"id\":\"2485\",\"type\":\"ResetTool\"},{\"id\":\"2486\",\"type\":\"HelpTool\"}]},\"id\":\"2487\",\"type\":\"Toolbar\"},{\"attributes\":{\"callback\":null},\"id\":\"2463\",\"type\":\"DataRange1d\"}],\"root_ids\":[\"2460\"]},\"title\":\"Bokeh Application\",\"version\":\"1.4.0\"}};\n",
       "  var render_items = [{\"docid\":\"e7206510-c557-45fe-a182-dd7c2301c4b3\",\"roots\":{\"2460\":\"1a7de8b6-7e75-4de5-8f69-3ecda7c39cae\"}}];\n",
       "  root.Bokeh.embed.embed_items_notebook(docs_json, render_items);\n",
       "\n",
       "  }\n",
       "  if (root.Bokeh !== undefined) {\n",
       "    embed_document(root);\n",
       "  } else {\n",
       "    var attempts = 0;\n",
       "    var timer = setInterval(function(root) {\n",
       "      if (root.Bokeh !== undefined) {\n",
       "        clearInterval(timer);\n",
       "        embed_document(root);\n",
       "      } else {\n",
       "        attempts++;\n",
       "        if (attempts > 100) {\n",
       "          clearInterval(timer);\n",
       "          console.log(\"Bokeh: ERROR: Unable to run BokehJS code because BokehJS library is missing\");\n",
       "        }\n",
       "      }\n",
       "    }, 10, root)\n",
       "  }\n",
       "})(window);"
      ],
      "application/vnd.bokehjs_exec.v0+json": ""
     },
     "metadata": {
      "application/vnd.bokehjs_exec.v0+json": {
       "id": "2460"
      }
     },
     "output_type": "display_data"
    }
   ],
   "source": [
    "from sklearn.metrics import auc\n",
    "fpr, tpr, _ = roc_curve(Y_test, Pred_Y_test)\n",
    "auc = auc(fpr,tpr)\n",
    "p = figure(title=\"ROC Curve - Train data\")\n",
    "r = p.line(fpr,tpr,color='#0077bc',legend = 'AUC = '+ str(round(auc,3)), line_width=2)\n",
    "s = p.line([0,1],[0,1], color= '#d15555',line_dash='dotdash',line_width=2)\n",
    "show(p)"
   ]
  },
  {
   "cell_type": "code",
   "execution_count": 111,
   "metadata": {},
   "outputs": [],
   "source": [
    "imp_features = pd.DataFrame({'feature': X_train.columns,\n",
    "                   'importance': RF.feature_importances_*100}).\\\n",
    "                    sort_values('importance', ascending = False)"
   ]
  },
  {
   "cell_type": "code",
   "execution_count": 112,
   "metadata": {},
   "outputs": [
    {
     "data": {
      "text/html": [
       "<div>\n",
       "<style scoped>\n",
       "    .dataframe tbody tr th:only-of-type {\n",
       "        vertical-align: middle;\n",
       "    }\n",
       "\n",
       "    .dataframe tbody tr th {\n",
       "        vertical-align: top;\n",
       "    }\n",
       "\n",
       "    .dataframe thead th {\n",
       "        text-align: right;\n",
       "    }\n",
       "</style>\n",
       "<table border=\"1\" class=\"dataframe\">\n",
       "  <thead>\n",
       "    <tr style=\"text-align: right;\">\n",
       "      <th></th>\n",
       "      <th>feature</th>\n",
       "      <th>importance</th>\n",
       "    </tr>\n",
       "  </thead>\n",
       "  <tbody>\n",
       "    <tr>\n",
       "      <th>2</th>\n",
       "      <td>SITE_TYPE_DESC</td>\n",
       "      <td>9.372599</td>\n",
       "    </tr>\n",
       "    <tr>\n",
       "      <th>50</th>\n",
       "      <td>Satellite_SM5</td>\n",
       "      <td>7.231125</td>\n",
       "    </tr>\n",
       "    <tr>\n",
       "      <th>25</th>\n",
       "      <td>SALES_CHANNEL_Call Centers</td>\n",
       "      <td>5.056851</td>\n",
       "    </tr>\n",
       "    <tr>\n",
       "      <th>6</th>\n",
       "      <td>COMPUTER_OWNER</td>\n",
       "      <td>5.050127</td>\n",
       "    </tr>\n",
       "    <tr>\n",
       "      <th>7</th>\n",
       "      <td>Income</td>\n",
       "      <td>4.651635</td>\n",
       "    </tr>\n",
       "    <tr>\n",
       "      <th>4</th>\n",
       "      <td>AGE</td>\n",
       "      <td>4.602254</td>\n",
       "    </tr>\n",
       "    <tr>\n",
       "      <th>26</th>\n",
       "      <td>SALES_CHANNEL_Retail/Others</td>\n",
       "      <td>4.563995</td>\n",
       "    </tr>\n",
       "    <tr>\n",
       "      <th>30</th>\n",
       "      <td>SALES_CHANNEL_Web Orders</td>\n",
       "      <td>4.304866</td>\n",
       "    </tr>\n",
       "    <tr>\n",
       "      <th>27</th>\n",
       "      <td>SALES_CHANNEL_Retail/others</td>\n",
       "      <td>3.954152</td>\n",
       "    </tr>\n",
       "    <tr>\n",
       "      <th>24</th>\n",
       "      <td>SALES_CHANNEL_Call Center</td>\n",
       "      <td>3.828713</td>\n",
       "    </tr>\n",
       "    <tr>\n",
       "      <th>31</th>\n",
       "      <td>SALES_CHANNEL_Web orders</td>\n",
       "      <td>3.605051</td>\n",
       "    </tr>\n",
       "    <tr>\n",
       "      <th>1</th>\n",
       "      <td>FEEDBACK</td>\n",
       "      <td>2.717566</td>\n",
       "    </tr>\n",
       "    <tr>\n",
       "      <th>13</th>\n",
       "      <td>SERVICE_PLAN_Power150</td>\n",
       "      <td>2.700439</td>\n",
       "    </tr>\n",
       "    <tr>\n",
       "      <th>45</th>\n",
       "      <td>Satellite_G16</td>\n",
       "      <td>2.672904</td>\n",
       "    </tr>\n",
       "    <tr>\n",
       "      <th>16</th>\n",
       "      <td>SERVICE_PLAN_SO</td>\n",
       "      <td>2.465230</td>\n",
       "    </tr>\n",
       "    <tr>\n",
       "      <th>53</th>\n",
       "      <td>Satellite_Unknown</td>\n",
       "      <td>2.346678</td>\n",
       "    </tr>\n",
       "    <tr>\n",
       "      <th>52</th>\n",
       "      <td>Satellite_SPACEWAY3</td>\n",
       "      <td>2.111990</td>\n",
       "    </tr>\n",
       "    <tr>\n",
       "      <th>21</th>\n",
       "      <td>MODEL_HN7000S</td>\n",
       "      <td>2.026315</td>\n",
       "    </tr>\n",
       "    <tr>\n",
       "      <th>23</th>\n",
       "      <td>MODEL_UNK</td>\n",
       "      <td>1.797335</td>\n",
       "    </tr>\n",
       "    <tr>\n",
       "      <th>20</th>\n",
       "      <td>MODEL_DW7000</td>\n",
       "      <td>1.692837</td>\n",
       "    </tr>\n",
       "    <tr>\n",
       "      <th>48</th>\n",
       "      <td>Satellite_G3C</td>\n",
       "      <td>1.348213</td>\n",
       "    </tr>\n",
       "    <tr>\n",
       "      <th>12</th>\n",
       "      <td>SERVICE_PLAN_Power15</td>\n",
       "      <td>1.293091</td>\n",
       "    </tr>\n",
       "    <tr>\n",
       "      <th>47</th>\n",
       "      <td>Satellite_G28</td>\n",
       "      <td>1.217499</td>\n",
       "    </tr>\n",
       "    <tr>\n",
       "      <th>28</th>\n",
       "      <td>SALES_CHANNEL_Sales Agents</td>\n",
       "      <td>1.138205</td>\n",
       "    </tr>\n",
       "    <tr>\n",
       "      <th>5</th>\n",
       "      <td>PRESENCE_OF_CHILDREN</td>\n",
       "      <td>1.136433</td>\n",
       "    </tr>\n",
       "    <tr>\n",
       "      <th>54</th>\n",
       "      <td>MARITAL_STATUS_0</td>\n",
       "      <td>0.913966</td>\n",
       "    </tr>\n",
       "    <tr>\n",
       "      <th>42</th>\n",
       "      <td>Satellite_AM6</td>\n",
       "      <td>0.892533</td>\n",
       "    </tr>\n",
       "    <tr>\n",
       "      <th>22</th>\n",
       "      <td>MODEL_HN9000</td>\n",
       "      <td>0.865869</td>\n",
       "    </tr>\n",
       "    <tr>\n",
       "      <th>55</th>\n",
       "      <td>MARITAL_STATUS_1</td>\n",
       "      <td>0.807722</td>\n",
       "    </tr>\n",
       "    <tr>\n",
       "      <th>29</th>\n",
       "      <td>SALES_CHANNEL_Vars</td>\n",
       "      <td>0.757071</td>\n",
       "    </tr>\n",
       "    <tr>\n",
       "      <th>3</th>\n",
       "      <td>GENDER</td>\n",
       "      <td>0.742563</td>\n",
       "    </tr>\n",
       "    <tr>\n",
       "      <th>43</th>\n",
       "      <td>Satellite_AM9</td>\n",
       "      <td>0.739152</td>\n",
       "    </tr>\n",
       "    <tr>\n",
       "      <th>14</th>\n",
       "      <td>SERVICE_PLAN_Pro</td>\n",
       "      <td>0.723167</td>\n",
       "    </tr>\n",
       "    <tr>\n",
       "      <th>0</th>\n",
       "      <td>DIRECT_INDIRECT_CHANNEL</td>\n",
       "      <td>0.721114</td>\n",
       "    </tr>\n",
       "    <tr>\n",
       "      <th>17</th>\n",
       "      <td>SERVICE_PLAN_Unknown</td>\n",
       "      <td>0.662860</td>\n",
       "    </tr>\n",
       "    <tr>\n",
       "      <th>8</th>\n",
       "      <td>SERVICE_PLAN_Basic</td>\n",
       "      <td>0.655907</td>\n",
       "    </tr>\n",
       "    <tr>\n",
       "      <th>10</th>\n",
       "      <td>SERVICE_PLAN_Elite</td>\n",
       "      <td>0.612937</td>\n",
       "    </tr>\n",
       "    <tr>\n",
       "      <th>9</th>\n",
       "      <td>SERVICE_PLAN_Basic_Ltd</td>\n",
       "      <td>0.599773</td>\n",
       "    </tr>\n",
       "    <tr>\n",
       "      <th>51</th>\n",
       "      <td>Satellite_SM6</td>\n",
       "      <td>0.596707</td>\n",
       "    </tr>\n",
       "    <tr>\n",
       "      <th>15</th>\n",
       "      <td>SERVICE_PLAN_Proplus</td>\n",
       "      <td>0.548306</td>\n",
       "    </tr>\n",
       "    <tr>\n",
       "      <th>39</th>\n",
       "      <td>Zip_7</td>\n",
       "      <td>0.528869</td>\n",
       "    </tr>\n",
       "    <tr>\n",
       "      <th>41</th>\n",
       "      <td>Zip_9</td>\n",
       "      <td>0.511957</td>\n",
       "    </tr>\n",
       "    <tr>\n",
       "      <th>18</th>\n",
       "      <td>MODEL_DW4000</td>\n",
       "      <td>0.502210</td>\n",
       "    </tr>\n",
       "    <tr>\n",
       "      <th>49</th>\n",
       "      <td>Satellite_HZN</td>\n",
       "      <td>0.499571</td>\n",
       "    </tr>\n",
       "    <tr>\n",
       "      <th>11</th>\n",
       "      <td>SERVICE_PLAN_Home</td>\n",
       "      <td>0.488337</td>\n",
       "    </tr>\n",
       "    <tr>\n",
       "      <th>34</th>\n",
       "      <td>Zip_2</td>\n",
       "      <td>0.426080</td>\n",
       "    </tr>\n",
       "    <tr>\n",
       "      <th>40</th>\n",
       "      <td>Zip_8</td>\n",
       "      <td>0.422181</td>\n",
       "    </tr>\n",
       "    <tr>\n",
       "      <th>19</th>\n",
       "      <td>MODEL_DW6000</td>\n",
       "      <td>0.410216</td>\n",
       "    </tr>\n",
       "    <tr>\n",
       "      <th>36</th>\n",
       "      <td>Zip_4</td>\n",
       "      <td>0.381919</td>\n",
       "    </tr>\n",
       "    <tr>\n",
       "      <th>38</th>\n",
       "      <td>Zip_6</td>\n",
       "      <td>0.364646</td>\n",
       "    </tr>\n",
       "    <tr>\n",
       "      <th>35</th>\n",
       "      <td>Zip_3</td>\n",
       "      <td>0.337752</td>\n",
       "    </tr>\n",
       "    <tr>\n",
       "      <th>33</th>\n",
       "      <td>Zip_1</td>\n",
       "      <td>0.280562</td>\n",
       "    </tr>\n",
       "    <tr>\n",
       "      <th>37</th>\n",
       "      <td>Zip_5</td>\n",
       "      <td>0.280126</td>\n",
       "    </tr>\n",
       "    <tr>\n",
       "      <th>46</th>\n",
       "      <td>Satellite_G26</td>\n",
       "      <td>0.273611</td>\n",
       "    </tr>\n",
       "    <tr>\n",
       "      <th>56</th>\n",
       "      <td>MARITAL_STATUS_2</td>\n",
       "      <td>0.223547</td>\n",
       "    </tr>\n",
       "    <tr>\n",
       "      <th>32</th>\n",
       "      <td>Zip_0</td>\n",
       "      <td>0.202580</td>\n",
       "    </tr>\n",
       "    <tr>\n",
       "      <th>44</th>\n",
       "      <td>Satellite_AMC</td>\n",
       "      <td>0.140086</td>\n",
       "    </tr>\n",
       "  </tbody>\n",
       "</table>\n",
       "</div>"
      ],
      "text/plain": [
       "                        feature  importance\n",
       "2                SITE_TYPE_DESC    9.372599\n",
       "50                Satellite_SM5    7.231125\n",
       "25   SALES_CHANNEL_Call Centers    5.056851\n",
       "6                COMPUTER_OWNER    5.050127\n",
       "7                        Income    4.651635\n",
       "4                           AGE    4.602254\n",
       "26  SALES_CHANNEL_Retail/Others    4.563995\n",
       "30     SALES_CHANNEL_Web Orders    4.304866\n",
       "27  SALES_CHANNEL_Retail/others    3.954152\n",
       "24    SALES_CHANNEL_Call Center    3.828713\n",
       "31     SALES_CHANNEL_Web orders    3.605051\n",
       "1                      FEEDBACK    2.717566\n",
       "13        SERVICE_PLAN_Power150    2.700439\n",
       "45                Satellite_G16    2.672904\n",
       "16              SERVICE_PLAN_SO    2.465230\n",
       "53            Satellite_Unknown    2.346678\n",
       "52          Satellite_SPACEWAY3    2.111990\n",
       "21                MODEL_HN7000S    2.026315\n",
       "23                    MODEL_UNK    1.797335\n",
       "20                 MODEL_DW7000    1.692837\n",
       "48                Satellite_G3C    1.348213\n",
       "12         SERVICE_PLAN_Power15    1.293091\n",
       "47                Satellite_G28    1.217499\n",
       "28   SALES_CHANNEL_Sales Agents    1.138205\n",
       "5          PRESENCE_OF_CHILDREN    1.136433\n",
       "54             MARITAL_STATUS_0    0.913966\n",
       "42                Satellite_AM6    0.892533\n",
       "22                 MODEL_HN9000    0.865869\n",
       "55             MARITAL_STATUS_1    0.807722\n",
       "29           SALES_CHANNEL_Vars    0.757071\n",
       "3                        GENDER    0.742563\n",
       "43                Satellite_AM9    0.739152\n",
       "14             SERVICE_PLAN_Pro    0.723167\n",
       "0       DIRECT_INDIRECT_CHANNEL    0.721114\n",
       "17         SERVICE_PLAN_Unknown    0.662860\n",
       "8            SERVICE_PLAN_Basic    0.655907\n",
       "10           SERVICE_PLAN_Elite    0.612937\n",
       "9        SERVICE_PLAN_Basic_Ltd    0.599773\n",
       "51                Satellite_SM6    0.596707\n",
       "15         SERVICE_PLAN_Proplus    0.548306\n",
       "39                        Zip_7    0.528869\n",
       "41                        Zip_9    0.511957\n",
       "18                 MODEL_DW4000    0.502210\n",
       "49                Satellite_HZN    0.499571\n",
       "11            SERVICE_PLAN_Home    0.488337\n",
       "34                        Zip_2    0.426080\n",
       "40                        Zip_8    0.422181\n",
       "19                 MODEL_DW6000    0.410216\n",
       "36                        Zip_4    0.381919\n",
       "38                        Zip_6    0.364646\n",
       "35                        Zip_3    0.337752\n",
       "33                        Zip_1    0.280562\n",
       "37                        Zip_5    0.280126\n",
       "46                Satellite_G26    0.273611\n",
       "56             MARITAL_STATUS_2    0.223547\n",
       "32                        Zip_0    0.202580\n",
       "44                Satellite_AMC    0.140086"
      ]
     },
     "execution_count": 112,
     "metadata": {},
     "output_type": "execute_result"
    }
   ],
   "source": [
    "imp_features"
   ]
  },
  {
   "cell_type": "code",
   "execution_count": 124,
   "metadata": {},
   "outputs": [],
   "source": [
    "validate_train_RF = model_validation(X_train,Y_train,RF)\n",
    "validate_test_RF = model_validation(X_test,Y_test,RF)"
   ]
  },
  {
   "cell_type": "code",
   "execution_count": 125,
   "metadata": {},
   "outputs": [
    {
     "data": {
      "text/html": [
       "<div>\n",
       "<style scoped>\n",
       "    .dataframe tbody tr th:only-of-type {\n",
       "        vertical-align: middle;\n",
       "    }\n",
       "\n",
       "    .dataframe tbody tr th {\n",
       "        vertical-align: top;\n",
       "    }\n",
       "\n",
       "    .dataframe thead th {\n",
       "        text-align: right;\n",
       "    }\n",
       "</style>\n",
       "<table border=\"1\" class=\"dataframe\">\n",
       "  <thead>\n",
       "    <tr style=\"text-align: right;\">\n",
       "      <th></th>\n",
       "      <th>min_score</th>\n",
       "      <th>max_score</th>\n",
       "      <th>Bad</th>\n",
       "      <th>Good</th>\n",
       "      <th>Total</th>\n",
       "    </tr>\n",
       "    <tr>\n",
       "      <th>Decile</th>\n",
       "      <th></th>\n",
       "      <th></th>\n",
       "      <th></th>\n",
       "      <th></th>\n",
       "      <th></th>\n",
       "    </tr>\n",
       "  </thead>\n",
       "  <tbody>\n",
       "    <tr>\n",
       "      <th>1</th>\n",
       "      <td>1.00</td>\n",
       "      <td>1.00</td>\n",
       "      <td>1500.0</td>\n",
       "      <td>0.0</td>\n",
       "      <td>1500.0</td>\n",
       "    </tr>\n",
       "    <tr>\n",
       "      <th>2</th>\n",
       "      <td>0.99</td>\n",
       "      <td>1.00</td>\n",
       "      <td>1500.0</td>\n",
       "      <td>0.0</td>\n",
       "      <td>1500.0</td>\n",
       "    </tr>\n",
       "    <tr>\n",
       "      <th>3</th>\n",
       "      <td>0.98</td>\n",
       "      <td>0.99</td>\n",
       "      <td>1500.0</td>\n",
       "      <td>0.0</td>\n",
       "      <td>1500.0</td>\n",
       "    </tr>\n",
       "    <tr>\n",
       "      <th>4</th>\n",
       "      <td>0.94</td>\n",
       "      <td>0.98</td>\n",
       "      <td>1500.0</td>\n",
       "      <td>0.0</td>\n",
       "      <td>1500.0</td>\n",
       "    </tr>\n",
       "    <tr>\n",
       "      <th>5</th>\n",
       "      <td>0.64</td>\n",
       "      <td>0.94</td>\n",
       "      <td>1499.0</td>\n",
       "      <td>0.0</td>\n",
       "      <td>1499.0</td>\n",
       "    </tr>\n",
       "    <tr>\n",
       "      <th>6</th>\n",
       "      <td>0.06</td>\n",
       "      <td>0.64</td>\n",
       "      <td>19.0</td>\n",
       "      <td>1481.0</td>\n",
       "      <td>1500.0</td>\n",
       "    </tr>\n",
       "    <tr>\n",
       "      <th>7</th>\n",
       "      <td>0.02</td>\n",
       "      <td>0.06</td>\n",
       "      <td>0.0</td>\n",
       "      <td>1500.0</td>\n",
       "      <td>1500.0</td>\n",
       "    </tr>\n",
       "    <tr>\n",
       "      <th>8</th>\n",
       "      <td>0.01</td>\n",
       "      <td>0.02</td>\n",
       "      <td>0.0</td>\n",
       "      <td>1500.0</td>\n",
       "      <td>1500.0</td>\n",
       "    </tr>\n",
       "    <tr>\n",
       "      <th>9</th>\n",
       "      <td>0.00</td>\n",
       "      <td>0.01</td>\n",
       "      <td>0.0</td>\n",
       "      <td>1500.0</td>\n",
       "      <td>1500.0</td>\n",
       "    </tr>\n",
       "    <tr>\n",
       "      <th>10</th>\n",
       "      <td>0.00</td>\n",
       "      <td>0.00</td>\n",
       "      <td>0.0</td>\n",
       "      <td>1500.0</td>\n",
       "      <td>1500.0</td>\n",
       "    </tr>\n",
       "  </tbody>\n",
       "</table>\n",
       "</div>"
      ],
      "text/plain": [
       "        min_score  max_score     Bad    Good   Total\n",
       "Decile                                              \n",
       "1            1.00       1.00  1500.0     0.0  1500.0\n",
       "2            0.99       1.00  1500.0     0.0  1500.0\n",
       "3            0.98       0.99  1500.0     0.0  1500.0\n",
       "4            0.94       0.98  1500.0     0.0  1500.0\n",
       "5            0.64       0.94  1499.0     0.0  1499.0\n",
       "6            0.06       0.64    19.0  1481.0  1500.0\n",
       "7            0.02       0.06     0.0  1500.0  1500.0\n",
       "8            0.01       0.02     0.0  1500.0  1500.0\n",
       "9            0.00       0.01     0.0  1500.0  1500.0\n",
       "10           0.00       0.00     0.0  1500.0  1500.0"
      ]
     },
     "execution_count": 125,
     "metadata": {},
     "output_type": "execute_result"
    }
   ],
   "source": [
    "validate_train_RF"
   ]
  },
  {
   "cell_type": "code",
   "execution_count": 126,
   "metadata": {},
   "outputs": [
    {
     "data": {
      "text/html": [
       "<div>\n",
       "<style scoped>\n",
       "    .dataframe tbody tr th:only-of-type {\n",
       "        vertical-align: middle;\n",
       "    }\n",
       "\n",
       "    .dataframe tbody tr th {\n",
       "        vertical-align: top;\n",
       "    }\n",
       "\n",
       "    .dataframe thead th {\n",
       "        text-align: right;\n",
       "    }\n",
       "</style>\n",
       "<table border=\"1\" class=\"dataframe\">\n",
       "  <thead>\n",
       "    <tr style=\"text-align: right;\">\n",
       "      <th></th>\n",
       "      <th>min_score</th>\n",
       "      <th>max_score</th>\n",
       "      <th>Bad</th>\n",
       "      <th>Good</th>\n",
       "      <th>Total</th>\n",
       "    </tr>\n",
       "    <tr>\n",
       "      <th>Decile</th>\n",
       "      <th></th>\n",
       "      <th></th>\n",
       "      <th></th>\n",
       "      <th></th>\n",
       "      <th></th>\n",
       "    </tr>\n",
       "  </thead>\n",
       "  <tbody>\n",
       "    <tr>\n",
       "      <th>1</th>\n",
       "      <td>0.99</td>\n",
       "      <td>1.00</td>\n",
       "      <td>500.0</td>\n",
       "      <td>0.0</td>\n",
       "      <td>500.0</td>\n",
       "    </tr>\n",
       "    <tr>\n",
       "      <th>2</th>\n",
       "      <td>0.97</td>\n",
       "      <td>0.99</td>\n",
       "      <td>500.0</td>\n",
       "      <td>0.0</td>\n",
       "      <td>500.0</td>\n",
       "    </tr>\n",
       "    <tr>\n",
       "      <th>3</th>\n",
       "      <td>0.94</td>\n",
       "      <td>0.97</td>\n",
       "      <td>499.0</td>\n",
       "      <td>1.0</td>\n",
       "      <td>500.0</td>\n",
       "    </tr>\n",
       "    <tr>\n",
       "      <th>4</th>\n",
       "      <td>0.85</td>\n",
       "      <td>0.94</td>\n",
       "      <td>485.0</td>\n",
       "      <td>15.0</td>\n",
       "      <td>500.0</td>\n",
       "    </tr>\n",
       "    <tr>\n",
       "      <th>5</th>\n",
       "      <td>0.53</td>\n",
       "      <td>0.85</td>\n",
       "      <td>395.0</td>\n",
       "      <td>105.0</td>\n",
       "      <td>500.0</td>\n",
       "    </tr>\n",
       "    <tr>\n",
       "      <th>6</th>\n",
       "      <td>0.14</td>\n",
       "      <td>0.53</td>\n",
       "      <td>85.0</td>\n",
       "      <td>415.0</td>\n",
       "      <td>500.0</td>\n",
       "    </tr>\n",
       "    <tr>\n",
       "      <th>7</th>\n",
       "      <td>0.06</td>\n",
       "      <td>0.14</td>\n",
       "      <td>11.0</td>\n",
       "      <td>489.0</td>\n",
       "      <td>500.0</td>\n",
       "    </tr>\n",
       "    <tr>\n",
       "      <th>8</th>\n",
       "      <td>0.02</td>\n",
       "      <td>0.06</td>\n",
       "      <td>2.0</td>\n",
       "      <td>498.0</td>\n",
       "      <td>500.0</td>\n",
       "    </tr>\n",
       "    <tr>\n",
       "      <th>9</th>\n",
       "      <td>0.00</td>\n",
       "      <td>0.02</td>\n",
       "      <td>2.0</td>\n",
       "      <td>498.0</td>\n",
       "      <td>500.0</td>\n",
       "    </tr>\n",
       "    <tr>\n",
       "      <th>10</th>\n",
       "      <td>0.00</td>\n",
       "      <td>0.00</td>\n",
       "      <td>1.0</td>\n",
       "      <td>499.0</td>\n",
       "      <td>500.0</td>\n",
       "    </tr>\n",
       "  </tbody>\n",
       "</table>\n",
       "</div>"
      ],
      "text/plain": [
       "        min_score  max_score    Bad   Good  Total\n",
       "Decile                                           \n",
       "1            0.99       1.00  500.0    0.0  500.0\n",
       "2            0.97       0.99  500.0    0.0  500.0\n",
       "3            0.94       0.97  499.0    1.0  500.0\n",
       "4            0.85       0.94  485.0   15.0  500.0\n",
       "5            0.53       0.85  395.0  105.0  500.0\n",
       "6            0.14       0.53   85.0  415.0  500.0\n",
       "7            0.06       0.14   11.0  489.0  500.0\n",
       "8            0.02       0.06    2.0  498.0  500.0\n",
       "9            0.00       0.02    2.0  498.0  500.0\n",
       "10           0.00       0.00    1.0  499.0  500.0"
      ]
     },
     "execution_count": 126,
     "metadata": {},
     "output_type": "execute_result"
    }
   ],
   "source": [
    "validate_test_RF"
   ]
  },
  {
   "cell_type": "code",
   "execution_count": null,
   "metadata": {},
   "outputs": [],
   "source": [
    "validate_train_RF.to_csv(\"C:\\\\TELECOM\\\\profile_train.csv\")\n",
    "validate_test_RF.to_csv(\"C:\\\\TELECOM\\\\profile_test.csv\")"
   ]
  },
  {
   "cell_type": "code",
   "execution_count": 132,
   "metadata": {},
   "outputs": [
    {
     "data": {
      "image/png": "[encoded data removed]",
      "text/plain": [
       "<Figure size 360x360 with 1 Axes>"
      ]
     },
     "metadata": {},
     "output_type": "display_data"
    }
   ],
   "source": [
    "plt.rcParams[\"figure.figsize\"]=5,5\n",
    "skplt.metrics.plot_cumulative_gain(Y_train, Pred_Y_train_p)\n",
    "plt.show()"
   ]
  },
  {
   "cell_type": "code",
   "execution_count": 133,
   "metadata": {},
   "outputs": [
    {
     "data": {
      "image/png": "[encoded data removed]",
      "text/plain": [
       "<Figure size 360x360 with 1 Axes>"
      ]
     },
     "metadata": {},
     "output_type": "display_data"
    }
   ],
   "source": [
    "skplt.metrics.plot_cumulative_gain(Y_test, Pred_Y_test_p)\n",
    "plt.show()"
   ]
  },
  {
   "cell_type": "markdown",
   "metadata": {},
   "source": [
    "## Hyper-Parameter Tuning of Random Forest using Random Search"
   ]
  },
  {
   "cell_type": "code",
   "execution_count": 134,
   "metadata": {},
   "outputs": [],
   "source": [
    "from sklearn.model_selection import RandomizedSearchCV\n",
    "\n",
    "rf = RandomForestClassifier(random_state=42)\n",
    "start = time.time()\n",
    "\n",
    "\n",
    "param = {\n",
    "              'max_depth':[45,46,47,48,49,50],\n",
    "              'min_samples_split':[13,14,15,16],\n",
    "              'n_estimators':[34,35,36,37,38],\n",
    "              'bootstrap': [True, False],\n",
    "              'max_features': ['auto', 'sqrt', None],\n",
    "              'criterion': ['gini', 'entropy']\n",
    "}\n",
    "\n",
    "rsearch = RandomizedSearchCV( estimator = rf, param_distributions = param , scoring=\"accuracy\", n_jobs=-1, cv=10, verbose=2 , refit=True)"
   ]
  },
  {
   "cell_type": "code",
   "execution_count": 135,
   "metadata": {},
   "outputs": [
    {
     "name": "stdout",
     "output_type": "stream",
     "text": [
      "Fitting 10 folds for each of 10 candidates, totalling 100 fits\n"
     ]
    },
    {
     "name": "stderr",
     "output_type": "stream",
     "text": [
      "[Parallel(n_jobs=-1)]: Using backend LokyBackend with 8 concurrent workers.\n",
      "[Parallel(n_jobs=-1)]: Done  25 tasks      | elapsed:   13.8s\n",
      "[Parallel(n_jobs=-1)]: Done 100 out of 100 | elapsed:  1.0min finished\n"
     ]
    },
    {
     "data": {
      "text/plain": [
       "RandomizedSearchCV(cv=10, error_score=nan,\n",
       "                   estimator=RandomForestClassifier(bootstrap=True,\n",
       "                                                    ccp_alpha=0.0,\n",
       "                                                    class_weight=None,\n",
       "                                                    criterion='gini',\n",
       "                                                    max_depth=None,\n",
       "                                                    max_features='auto',\n",
       "                                                    max_leaf_nodes=None,\n",
       "                                                    max_samples=None,\n",
       "                                                    min_impurity_decrease=0.0,\n",
       "                                                    min_impurity_split=None,\n",
       "                                                    min_samples_leaf=1,\n",
       "                                                    min_samples_split=2,\n",
       "                                                    min_weight_fraction_leaf=0.0,\n",
       "                                                    n_estimators=100,\n",
       "                                                    n_job...\n",
       "                   iid='deprecated', n_iter=10, n_jobs=-1,\n",
       "                   param_distributions={'bootstrap': [True, False],\n",
       "                                        'criterion': ['gini', 'entropy'],\n",
       "                                        'max_depth': [45, 46, 47, 48, 49, 50],\n",
       "                                        'max_features': ['auto', 'sqrt', None],\n",
       "                                        'min_samples_split': [13, 14, 15, 16],\n",
       "                                        'n_estimators': [34, 35, 36, 37, 38]},\n",
       "                   pre_dispatch='2*n_jobs', random_state=None, refit=True,\n",
       "                   return_train_score=False, scoring='accuracy', verbose=2)"
      ]
     },
     "execution_count": 135,
     "metadata": {},
     "output_type": "execute_result"
    }
   ],
   "source": [
    "rsearch.fit(X_train, Y_train)"
   ]
  },
  {
   "cell_type": "code",
   "execution_count": 136,
   "metadata": {},
   "outputs": [
    {
     "data": {
      "text/plain": [
       "0.9568639982210362"
      ]
     },
     "execution_count": 136,
     "metadata": {},
     "output_type": "execute_result"
    }
   ],
   "source": [
    "rsearch.best_score_"
   ]
  },
  {
   "cell_type": "code",
   "execution_count": 137,
   "metadata": {},
   "outputs": [
    {
     "data": {
      "text/plain": [
       "{'n_estimators': 38,\n",
       " 'min_samples_split': 13,\n",
       " 'max_features': 'auto',\n",
       " 'max_depth': 49,\n",
       " 'criterion': 'entropy',\n",
       " 'bootstrap': False}"
      ]
     },
     "execution_count": 137,
     "metadata": {},
     "output_type": "execute_result"
    }
   ],
   "source": [
    "rsearch.best_params_"
   ]
  },
  {
   "cell_type": "code",
   "execution_count": null,
   "metadata": {},
   "outputs": [],
   "source": []
  },
  {
   "cell_type": "code",
   "execution_count": 138,
   "metadata": {},
   "outputs": [
    {
     "name": "stdout",
     "output_type": "stream",
     "text": [
      "Train 0.9879925482233453\n",
      "Test 0.9562660010240653\n"
     ]
    }
   ],
   "source": [
    "Tuned_RF = RandomForestClassifier(n_estimators = 38 , min_samples_split = 13 ,max_features = \"auto\" , max_depth = 49,\n",
    "                               criterion = \"entropy\" , bootstrap = False  )\n",
    "\n",
    "Tuned_RF.fit(X_train, Y_train)\n",
    "\n",
    "Tuned_Pred_Y_train = Tuned_RF.predict(X_train)\n",
    "Tuned_Pred_Y_train_p = Tuned_RF.predict_proba(X_train)\n",
    "\n",
    "Rf_auc1 = roc_auc_score(Y_train, Tuned_Pred_Y_train)\n",
    "\n",
    "Tuned_Pred_Y_test = Tuned_RF.predict(X_test)\n",
    "Tuned_Pred_Y_test_p = Tuned_RF.predict_proba(X_test)\n",
    "\n",
    "Rf_auc2 = roc_auc_score(Y_test, Tuned_Pred_Y_test)\n",
    "\n",
    "print(\"Train\", Rf_auc1)\n",
    "print(\"Test\", Rf_auc2)"
   ]
  },
  {
   "cell_type": "code",
   "execution_count": 139,
   "metadata": {},
   "outputs": [
    {
     "name": "stdout",
     "output_type": "stream",
     "text": [
      "accuracy : 0.9879991999466631\n",
      "Precision : 0.9854458851548028\n",
      "Recall : 0.9906890130353817\n",
      "F1 score : 0.9880604934996019\n",
      "ROC_AUC_Score 0.9879925482233453\n",
      "Jaccard Similarity Score :  98.8 %\n"
     ]
    }
   ],
   "source": [
    "eval_metrics(Y_train, Tuned_Pred_Y_train)"
   ]
  },
  {
   "cell_type": "code",
   "execution_count": 140,
   "metadata": {},
   "outputs": [
    {
     "name": "stdout",
     "output_type": "stream",
     "text": [
      "accuracy : 0.9562\n",
      "Precision : 0.9480776852952834\n",
      "Recall : 0.964516129032258\n",
      "F1 score : 0.9562262642414552\n",
      "ROC_AUC_Score 0.9562660010240653\n",
      "Jaccard Similarity Score :  95.62 %\n"
     ]
    }
   ],
   "source": [
    "eval_metrics(Y_test, Tuned_Pred_Y_test)"
   ]
  },
  {
   "cell_type": "code",
   "execution_count": 141,
   "metadata": {},
   "outputs": [
    {
     "data": {
      "text/plain": [
       "array([[7371,  110],\n",
       "       [  70, 7448]], dtype=int64)"
      ]
     },
     "execution_count": 141,
     "metadata": {},
     "output_type": "execute_result"
    }
   ],
   "source": [
    "confusion_matrix(Y_train, Tuned_Pred_Y_train)"
   ]
  },
  {
   "cell_type": "code",
   "execution_count": 142,
   "metadata": {},
   "outputs": [
    {
     "data": {
      "text/plain": [
       "array([[2389,  131],\n",
       "       [  88, 2392]], dtype=int64)"
      ]
     },
     "execution_count": 142,
     "metadata": {},
     "output_type": "execute_result"
    }
   ],
   "source": [
    "confusion_matrix(Y_test, Tuned_Pred_Y_test)"
   ]
  },
  {
   "cell_type": "code",
   "execution_count": 143,
   "metadata": {},
   "outputs": [],
   "source": [
    "validate_train_tuned_RF = profile_decile(X_train,Y_train,Tuned_RF)\n",
    "validate_test_tuned_RF = profile_decile(X_test,Y_test,Tuned_RF)"
   ]
  },
  {
   "cell_type": "code",
   "execution_count": 144,
   "metadata": {},
   "outputs": [
    {
     "data": {
      "text/html": [
       "<div>\n",
       "<style scoped>\n",
       "    .dataframe tbody tr th:only-of-type {\n",
       "        vertical-align: middle;\n",
       "    }\n",
       "\n",
       "    .dataframe tbody tr th {\n",
       "        vertical-align: top;\n",
       "    }\n",
       "\n",
       "    .dataframe thead th {\n",
       "        text-align: right;\n",
       "    }\n",
       "</style>\n",
       "<table border=\"1\" class=\"dataframe\">\n",
       "  <thead>\n",
       "    <tr style=\"text-align: right;\">\n",
       "      <th></th>\n",
       "      <th>min_score</th>\n",
       "      <th>max_score</th>\n",
       "      <th>Bad</th>\n",
       "      <th>Good</th>\n",
       "      <th>Total</th>\n",
       "    </tr>\n",
       "    <tr>\n",
       "      <th>Decile</th>\n",
       "      <th></th>\n",
       "      <th></th>\n",
       "      <th></th>\n",
       "      <th></th>\n",
       "      <th></th>\n",
       "    </tr>\n",
       "  </thead>\n",
       "  <tbody>\n",
       "    <tr>\n",
       "      <th>1</th>\n",
       "      <td>0.997807</td>\n",
       "      <td>1.000000</td>\n",
       "      <td>1500.0</td>\n",
       "      <td>0.0</td>\n",
       "      <td>1500.0</td>\n",
       "    </tr>\n",
       "    <tr>\n",
       "      <th>2</th>\n",
       "      <td>0.988038</td>\n",
       "      <td>0.997807</td>\n",
       "      <td>1500.0</td>\n",
       "      <td>0.0</td>\n",
       "      <td>1500.0</td>\n",
       "    </tr>\n",
       "    <tr>\n",
       "      <th>3</th>\n",
       "      <td>0.966806</td>\n",
       "      <td>0.987959</td>\n",
       "      <td>1500.0</td>\n",
       "      <td>0.0</td>\n",
       "      <td>1500.0</td>\n",
       "    </tr>\n",
       "    <tr>\n",
       "      <th>4</th>\n",
       "      <td>0.906603</td>\n",
       "      <td>0.966806</td>\n",
       "      <td>1500.0</td>\n",
       "      <td>0.0</td>\n",
       "      <td>1500.0</td>\n",
       "    </tr>\n",
       "    <tr>\n",
       "      <th>5</th>\n",
       "      <td>0.541707</td>\n",
       "      <td>0.906547</td>\n",
       "      <td>1417.0</td>\n",
       "      <td>82.0</td>\n",
       "      <td>1499.0</td>\n",
       "    </tr>\n",
       "    <tr>\n",
       "      <th>6</th>\n",
       "      <td>0.089027</td>\n",
       "      <td>0.541563</td>\n",
       "      <td>101.0</td>\n",
       "      <td>1399.0</td>\n",
       "      <td>1500.0</td>\n",
       "    </tr>\n",
       "    <tr>\n",
       "      <th>7</th>\n",
       "      <td>0.027256</td>\n",
       "      <td>0.089014</td>\n",
       "      <td>0.0</td>\n",
       "      <td>1500.0</td>\n",
       "      <td>1500.0</td>\n",
       "    </tr>\n",
       "    <tr>\n",
       "      <th>8</th>\n",
       "      <td>0.008772</td>\n",
       "      <td>0.027204</td>\n",
       "      <td>0.0</td>\n",
       "      <td>1500.0</td>\n",
       "      <td>1500.0</td>\n",
       "    </tr>\n",
       "    <tr>\n",
       "      <th>9</th>\n",
       "      <td>0.000000</td>\n",
       "      <td>0.008772</td>\n",
       "      <td>0.0</td>\n",
       "      <td>1500.0</td>\n",
       "      <td>1500.0</td>\n",
       "    </tr>\n",
       "    <tr>\n",
       "      <th>10</th>\n",
       "      <td>0.000000</td>\n",
       "      <td>0.000000</td>\n",
       "      <td>0.0</td>\n",
       "      <td>1500.0</td>\n",
       "      <td>1500.0</td>\n",
       "    </tr>\n",
       "  </tbody>\n",
       "</table>\n",
       "</div>"
      ],
      "text/plain": [
       "        min_score  max_score     Bad    Good   Total\n",
       "Decile                                              \n",
       "1        0.997807   1.000000  1500.0     0.0  1500.0\n",
       "2        0.988038   0.997807  1500.0     0.0  1500.0\n",
       "3        0.966806   0.987959  1500.0     0.0  1500.0\n",
       "4        0.906603   0.966806  1500.0     0.0  1500.0\n",
       "5        0.541707   0.906547  1417.0    82.0  1499.0\n",
       "6        0.089027   0.541563   101.0  1399.0  1500.0\n",
       "7        0.027256   0.089014     0.0  1500.0  1500.0\n",
       "8        0.008772   0.027204     0.0  1500.0  1500.0\n",
       "9        0.000000   0.008772     0.0  1500.0  1500.0\n",
       "10       0.000000   0.000000     0.0  1500.0  1500.0"
      ]
     },
     "execution_count": 144,
     "metadata": {},
     "output_type": "execute_result"
    }
   ],
   "source": [
    "validate_train_tuned_RF"
   ]
  },
  {
   "cell_type": "code",
   "execution_count": 145,
   "metadata": {},
   "outputs": [
    {
     "data": {
      "text/html": [
       "<div>\n",
       "<style scoped>\n",
       "    .dataframe tbody tr th:only-of-type {\n",
       "        vertical-align: middle;\n",
       "    }\n",
       "\n",
       "    .dataframe tbody tr th {\n",
       "        vertical-align: top;\n",
       "    }\n",
       "\n",
       "    .dataframe thead th {\n",
       "        text-align: right;\n",
       "    }\n",
       "</style>\n",
       "<table border=\"1\" class=\"dataframe\">\n",
       "  <thead>\n",
       "    <tr style=\"text-align: right;\">\n",
       "      <th></th>\n",
       "      <th>min_score</th>\n",
       "      <th>max_score</th>\n",
       "      <th>Bad</th>\n",
       "      <th>Good</th>\n",
       "      <th>Total</th>\n",
       "    </tr>\n",
       "    <tr>\n",
       "      <th>Decile</th>\n",
       "      <th></th>\n",
       "      <th></th>\n",
       "      <th></th>\n",
       "      <th></th>\n",
       "      <th></th>\n",
       "    </tr>\n",
       "  </thead>\n",
       "  <tbody>\n",
       "    <tr>\n",
       "      <th>1</th>\n",
       "      <td>0.996711</td>\n",
       "      <td>1.000000</td>\n",
       "      <td>500.0</td>\n",
       "      <td>0.0</td>\n",
       "      <td>500.0</td>\n",
       "    </tr>\n",
       "    <tr>\n",
       "      <th>2</th>\n",
       "      <td>0.980263</td>\n",
       "      <td>0.996711</td>\n",
       "      <td>500.0</td>\n",
       "      <td>0.0</td>\n",
       "      <td>500.0</td>\n",
       "    </tr>\n",
       "    <tr>\n",
       "      <th>3</th>\n",
       "      <td>0.946531</td>\n",
       "      <td>0.980263</td>\n",
       "      <td>500.0</td>\n",
       "      <td>0.0</td>\n",
       "      <td>500.0</td>\n",
       "    </tr>\n",
       "    <tr>\n",
       "      <th>4</th>\n",
       "      <td>0.847294</td>\n",
       "      <td>0.946491</td>\n",
       "      <td>486.0</td>\n",
       "      <td>14.0</td>\n",
       "      <td>500.0</td>\n",
       "    </tr>\n",
       "    <tr>\n",
       "      <th>5</th>\n",
       "      <td>0.526352</td>\n",
       "      <td>0.847275</td>\n",
       "      <td>398.0</td>\n",
       "      <td>102.0</td>\n",
       "      <td>500.0</td>\n",
       "    </tr>\n",
       "    <tr>\n",
       "      <th>6</th>\n",
       "      <td>0.128807</td>\n",
       "      <td>0.525207</td>\n",
       "      <td>87.0</td>\n",
       "      <td>413.0</td>\n",
       "      <td>500.0</td>\n",
       "    </tr>\n",
       "    <tr>\n",
       "      <th>7</th>\n",
       "      <td>0.043860</td>\n",
       "      <td>0.128761</td>\n",
       "      <td>4.0</td>\n",
       "      <td>496.0</td>\n",
       "      <td>500.0</td>\n",
       "    </tr>\n",
       "    <tr>\n",
       "      <th>8</th>\n",
       "      <td>0.014912</td>\n",
       "      <td>0.043793</td>\n",
       "      <td>2.0</td>\n",
       "      <td>498.0</td>\n",
       "      <td>500.0</td>\n",
       "    </tr>\n",
       "    <tr>\n",
       "      <th>9</th>\n",
       "      <td>0.002193</td>\n",
       "      <td>0.014833</td>\n",
       "      <td>1.0</td>\n",
       "      <td>499.0</td>\n",
       "      <td>500.0</td>\n",
       "    </tr>\n",
       "    <tr>\n",
       "      <th>10</th>\n",
       "      <td>0.000000</td>\n",
       "      <td>0.002193</td>\n",
       "      <td>2.0</td>\n",
       "      <td>498.0</td>\n",
       "      <td>500.0</td>\n",
       "    </tr>\n",
       "  </tbody>\n",
       "</table>\n",
       "</div>"
      ],
      "text/plain": [
       "        min_score  max_score    Bad   Good  Total\n",
       "Decile                                           \n",
       "1        0.996711   1.000000  500.0    0.0  500.0\n",
       "2        0.980263   0.996711  500.0    0.0  500.0\n",
       "3        0.946531   0.980263  500.0    0.0  500.0\n",
       "4        0.847294   0.946491  486.0   14.0  500.0\n",
       "5        0.526352   0.847275  398.0  102.0  500.0\n",
       "6        0.128807   0.525207   87.0  413.0  500.0\n",
       "7        0.043860   0.128761    4.0  496.0  500.0\n",
       "8        0.014912   0.043793    2.0  498.0  500.0\n",
       "9        0.002193   0.014833    1.0  499.0  500.0\n",
       "10       0.000000   0.002193    2.0  498.0  500.0"
      ]
     },
     "execution_count": 145,
     "metadata": {},
     "output_type": "execute_result"
    }
   ],
   "source": [
    "validate_test_tuned_RF"
   ]
  },
  {
   "cell_type": "code",
   "execution_count": null,
   "metadata": {},
   "outputs": [],
   "source": []
  },
  {
   "cell_type": "markdown",
   "metadata": {},
   "source": [
    "## Xtreme Gradient Boosting Classification model (XGboost)"
   ]
  },
  {
   "cell_type": "code",
   "execution_count": 146,
   "metadata": {},
   "outputs": [
    {
     "name": "stdout",
     "output_type": "stream",
     "text": [
      "Train 0.9830655377025135\n",
      "Test 0.9624\n"
     ]
    }
   ],
   "source": [
    "from xgboost import XGBClassifier\n",
    "\n",
    "xgb = XGBClassifier()\n",
    "\n",
    "xgb.fit(X_train, Y_train)\n",
    "\n",
    "Pred_Y_Train = xgb.predict(X_train)\n",
    "Pred_Y_Train_p = xgb.predict_proba(X_train)\n",
    "\n",
    "xgb_accuracy_train = accuracy_score(Y_train, Pred_Y_Train)\n",
    "\n",
    "Pred_Y_Test = xgb.predict(X_test)\n",
    "Pred_Y_Test_p = xgb.predict_proba(X_test)\n",
    "\n",
    "xgb_accuracy_test = accuracy_score(Y_test, Pred_Y_Test)\n",
    "\n",
    "print(\"Train\", xgb_accuracy_train)\n",
    "print(\"Test\", xgb_accuracy_test)"
   ]
  },
  {
   "cell_type": "code",
   "execution_count": 147,
   "metadata": {},
   "outputs": [
    {
     "name": "stdout",
     "output_type": "stream",
     "text": [
      "accuracy : 0.9830655377025135\n",
      "Precision : 0.9806776071995765\n",
      "Recall : 0.985634477254589\n",
      "F1 score : 0.9831497943478839\n",
      "ROC_AUC_Score 0.983059184891163\n",
      "Jaccard Similarity Score :  98.31 %\n"
     ]
    }
   ],
   "source": [
    "eval_metrics(Y_train, Pred_Y_Train)"
   ]
  },
  {
   "cell_type": "code",
   "execution_count": 148,
   "metadata": {},
   "outputs": [
    {
     "name": "stdout",
     "output_type": "stream",
     "text": [
      "accuracy : 0.9624\n",
      "Precision : 0.9558472553699284\n",
      "Recall : 0.9689516129032258\n",
      "F1 score : 0.9623548257909492\n",
      "ROC_AUC_Score 0.9624519969278035\n",
      "Jaccard Similarity Score :  96.24 %\n"
     ]
    }
   ],
   "source": [
    "eval_metrics(Y_test, Pred_Y_Test)"
   ]
  },
  {
   "cell_type": "code",
   "execution_count": 149,
   "metadata": {},
   "outputs": [
    {
     "data": {
      "text/plain": [
       "array([[7335,  146],\n",
       "       [ 108, 7410]], dtype=int64)"
      ]
     },
     "execution_count": 149,
     "metadata": {},
     "output_type": "execute_result"
    }
   ],
   "source": [
    "confusion_matrix(Y_train, Pred_Y_Train)"
   ]
  },
  {
   "cell_type": "code",
   "execution_count": 150,
   "metadata": {},
   "outputs": [
    {
     "data": {
      "text/plain": [
       "array([[2409,  111],\n",
       "       [  77, 2403]], dtype=int64)"
      ]
     },
     "execution_count": 150,
     "metadata": {},
     "output_type": "execute_result"
    }
   ],
   "source": [
    "confusion_matrix(Y_test, Pred_Y_Test)"
   ]
  },
  {
   "cell_type": "code",
   "execution_count": 151,
   "metadata": {},
   "outputs": [],
   "source": [
    "from sklearn.model_selection import RandomizedSearchCV\n",
    "\n",
    "param = {\n",
    "    \"max_depth\":[11,12,13,14,15],\n",
    "    \"min_child_weight\": [2,3,4,5],\n",
    "    \"gamma\": [0.3,0.4,0.5,0.6],\n",
    "    \"subsample\":[0.7,0.8,0.9],\n",
    "    \"colsample_bytree\":[0.7,0.8,0.9],\n",
    "    \"n_estimators\":[200,225,250],\n",
    "    \"learning_rate\":[0.05,0.1,0.2]\n",
    "}\n",
    "\n",
    "rsearchh = RandomizedSearchCV( estimator = XGBClassifier ( objective = \"binary:logistic\", nthread=4, seed=88),\n",
    "                  param_distributions = param , scoring=\"accuracy\", n_jobs=-1, cv=10, verbose=2 , refit=True)\n"
   ]
  },
  {
   "cell_type": "code",
   "execution_count": 152,
   "metadata": {},
   "outputs": [
    {
     "name": "stdout",
     "output_type": "stream",
     "text": [
      "Fitting 10 folds for each of 10 candidates, totalling 100 fits\n"
     ]
    },
    {
     "name": "stderr",
     "output_type": "stream",
     "text": [
      "[Parallel(n_jobs=-1)]: Using backend LokyBackend with 8 concurrent workers.\n",
      "[Parallel(n_jobs=-1)]: Done  25 tasks      | elapsed:  4.0min\n",
      "[Parallel(n_jobs=-1)]: Done 100 out of 100 | elapsed: 15.2min finished\n"
     ]
    },
    {
     "data": {
      "text/plain": [
       "RandomizedSearchCV(cv=10, error_score=nan,\n",
       "                   estimator=XGBClassifier(base_score=None, booster=None,\n",
       "                                           colsample_bylevel=None,\n",
       "                                           colsample_bynode=None,\n",
       "                                           colsample_bytree=None, gamma=None,\n",
       "                                           gpu_id=None, importance_type='gain',\n",
       "                                           interaction_constraints=None,\n",
       "                                           learning_rate=None,\n",
       "                                           max_delta_step=None, max_depth=None,\n",
       "                                           min_child_weight=None, missing=nan,\n",
       "                                           monotone_constraints=None,...\n",
       "                   iid='deprecated', n_iter=10, n_jobs=-1,\n",
       "                   param_distributions={'colsample_bytree': [0.7, 0.8, 0.9],\n",
       "                                        'gamma': [0.3, 0.4, 0.5, 0.6],\n",
       "                                        'learning_rate': [0.05, 0.1, 0.2],\n",
       "                                        'max_depth': [11, 12, 13, 14, 15],\n",
       "                                        'min_child_weight': [2, 3, 4, 5],\n",
       "                                        'n_estimators': [200, 225, 250],\n",
       "                                        'subsample': [0.7, 0.8, 0.9]},\n",
       "                   pre_dispatch='2*n_jobs', random_state=None, refit=True,\n",
       "                   return_train_score=False, scoring='accuracy', verbose=2)"
      ]
     },
     "execution_count": 152,
     "metadata": {},
     "output_type": "execute_result"
    }
   ],
   "source": [
    "rsearchh.fit(X_train,Y_train)"
   ]
  },
  {
   "cell_type": "code",
   "execution_count": 153,
   "metadata": {},
   "outputs": [
    {
     "data": {
      "text/plain": [
       "{'subsample': 0.9,\n",
       " 'n_estimators': 225,\n",
       " 'min_child_weight': 4,\n",
       " 'max_depth': 11,\n",
       " 'learning_rate': 0.05,\n",
       " 'gamma': 0.5,\n",
       " 'colsample_bytree': 0.7}"
      ]
     },
     "execution_count": 153,
     "metadata": {},
     "output_type": "execute_result"
    }
   ],
   "source": [
    "rsearchh.best_params_"
   ]
  },
  {
   "cell_type": "code",
   "execution_count": 154,
   "metadata": {},
   "outputs": [
    {
     "data": {
      "text/plain": [
       "0.9619310651545476"
      ]
     },
     "execution_count": 154,
     "metadata": {},
     "output_type": "execute_result"
    }
   ],
   "source": [
    "rsearchh.best_score_"
   ]
  },
  {
   "cell_type": "code",
   "execution_count": 155,
   "metadata": {},
   "outputs": [
    {
     "name": "stdout",
     "output_type": "stream",
     "text": [
      "Train 0.9796653110207347\n",
      "Test 0.9616\n"
     ]
    }
   ],
   "source": [
    "from xgboost import XGBClassifier\n",
    "\n",
    "tuned_xgb = XGBClassifier(subsample = 0.9 , n_estimators = 225 , min_child_weight = 4, max_depth = 11 , learning_rate = 0.05,\n",
    "                        gamma = 0.5, colsample_bytree = 0.7)\n",
    "\n",
    "tuned_xgb.fit(X_train, Y_train)\n",
    "\n",
    "tuned_xgb_Pred_Y_Train = tuned_xgb.predict(X_train)\n",
    "tuned_xgb_Pred_Y_Train_p = tuned_xgb.predict_proba(X_train)\n",
    "\n",
    "tuned_Xgb_accuracy_train = accuracy_score(Y_train, tuned_xgb_Pred_Y_Train)\n",
    "\n",
    "tuned_xgb_Pred_Y_Test = tuned_xgb.predict(X_test)\n",
    "tuned_xgb_Pred_Y_Test_p = tuned_xgb.predict_proba(X_test)\n",
    "\n",
    "tuned_Xgb_accuracy_test = accuracy_score(Y_test, tuned_xgb_Pred_Y_Test)\n",
    "\n",
    "print(\"Train\", tuned_Xgb_accuracy_train)\n",
    "print(\"Test\", tuned_Xgb_accuracy_test)"
   ]
  },
  {
   "cell_type": "markdown",
   "metadata": {},
   "source": [
    "## XGB is very well handling the overfitting , results seems to be satisfactory."
   ]
  },
  {
   "cell_type": "code",
   "execution_count": 156,
   "metadata": {},
   "outputs": [
    {
     "name": "stdout",
     "output_type": "stream",
     "text": [
      "accuracy : 0.9796653110207347\n",
      "Precision : 0.9767349636483807\n",
      "Recall : 0.9828411811652035\n",
      "F1 score : 0.9797785586421799\n",
      "ROC_AUC_Score 0.9796574573116485\n",
      "Jaccard Similarity Score :  97.97 %\n"
     ]
    }
   ],
   "source": [
    "eval_metrics(Y_train, tuned_xgb_Pred_Y_Train)"
   ]
  },
  {
   "cell_type": "code",
   "execution_count": 157,
   "metadata": {},
   "outputs": [
    {
     "name": "stdout",
     "output_type": "stream",
     "text": [
      "accuracy : 0.9616\n",
      "Precision : 0.9550517104216388\n",
      "Recall : 0.9681451612903226\n",
      "F1 score : 0.9615538646375651\n",
      "ROC_AUC_Score 0.9616519457245265\n",
      "Jaccard Similarity Score :  96.16 %\n"
     ]
    }
   ],
   "source": [
    "eval_metrics(Y_test, tuned_xgb_Pred_Y_Test)"
   ]
  },
  {
   "cell_type": "code",
   "execution_count": null,
   "metadata": {},
   "outputs": [],
   "source": []
  },
  {
   "cell_type": "code",
   "execution_count": 158,
   "metadata": {},
   "outputs": [
    {
     "data": {
      "text/plain": [
       "array([[7305,  176],\n",
       "       [ 129, 7389]], dtype=int64)"
      ]
     },
     "execution_count": 158,
     "metadata": {},
     "output_type": "execute_result"
    }
   ],
   "source": [
    "confusion_matrix(Y_train, tuned_xgb_Pred_Y_Train)"
   ]
  },
  {
   "cell_type": "code",
   "execution_count": 159,
   "metadata": {},
   "outputs": [
    {
     "data": {
      "text/plain": [
       "array([[2407,  113],\n",
       "       [  79, 2401]], dtype=int64)"
      ]
     },
     "execution_count": 159,
     "metadata": {},
     "output_type": "execute_result"
    }
   ],
   "source": [
    "confusion_matrix(Y_test, tuned_xgb_Pred_Y_Test)"
   ]
  },
  {
   "cell_type": "code",
   "execution_count": 160,
   "metadata": {},
   "outputs": [
    {
     "data": {
      "text/html": [
       "\n",
       "\n",
       "\n",
       "\n",
       "\n",
       "\n",
       "  <div class=\"bk-root\" id=\"6cc8addc-ee0c-46da-9336-0bd8502f5702\" data-root-id=\"1256\"></div>\n"
      ]
     },
     "metadata": {},
     "output_type": "display_data"
    },
    {
     "data": {
      "application/javascript": [
       "(function(root) {\n",
       "  function embed_document(root) {\n",
       "    \n",
       "  var docs_json = {\"edd65217-e45d-4458-945a-70a07f8de1a4\":{\"roots\":{\"references\":[{\"attributes\":{\"below\":[{\"id\":\"1267\",\"type\":\"LinearAxis\"}],\"center\":[{\"id\":\"1271\",\"type\":\"Grid\"},{\"id\":\"1276\",\"type\":\"Grid\"},{\"id\":\"1301\",\"type\":\"Legend\"}],\"left\":[{\"id\":\"1272\",\"type\":\"LinearAxis\"}],\"renderers\":[{\"id\":\"1293\",\"type\":\"GlyphRenderer\"},{\"id\":\"1306\",\"type\":\"GlyphRenderer\"}],\"title\":{\"id\":\"1257\",\"type\":\"Title\"},\"toolbar\":{\"id\":\"1283\",\"type\":\"Toolbar\"},\"x_range\":{\"id\":\"1259\",\"type\":\"DataRange1d\"},\"x_scale\":{\"id\":\"1263\",\"type\":\"LinearScale\"},\"y_range\":{\"id\":\"1261\",\"type\":\"DataRange1d\"},\"y_scale\":{\"id\":\"1265\",\"type\":\"LinearScale\"}},\"id\":\"1256\",\"subtype\":\"Figure\",\"type\":\"Plot\"},{\"attributes\":{\"source\":{\"id\":\"1290\",\"type\":\"ColumnDataSource\"}},\"id\":\"1294\",\"type\":\"CDSView\"},{\"attributes\":{},\"id\":\"1280\",\"type\":\"SaveTool\"},{\"attributes\":{\"overlay\":{\"id\":\"1300\",\"type\":\"BoxAnnotation\"}},\"id\":\"1279\",\"type\":\"BoxZoomTool\"},{\"attributes\":{},\"id\":\"1297\",\"type\":\"BasicTickFormatter\"},{\"attributes\":{},\"id\":\"1333\",\"type\":\"Selection\"},{\"attributes\":{\"formatter\":{\"id\":\"1299\",\"type\":\"BasicTickFormatter\"},\"ticker\":{\"id\":\"1268\",\"type\":\"BasicTicker\"}},\"id\":\"1267\",\"type\":\"LinearAxis\"},{\"attributes\":{},\"id\":\"1282\",\"type\":\"HelpTool\"},{\"attributes\":{\"line_color\":\"#d15555\",\"line_dash\":[2,4,6,4],\"line_width\":2,\"x\":{\"field\":\"x\"},\"y\":{\"field\":\"y\"}},\"id\":\"1304\",\"type\":\"Line\"},{\"attributes\":{},\"id\":\"1263\",\"type\":\"LinearScale\"},{\"attributes\":{},\"id\":\"1278\",\"type\":\"WheelZoomTool\"},{\"attributes\":{},\"id\":\"1281\",\"type\":\"ResetTool\"},{\"attributes\":{\"data_source\":{\"id\":\"1290\",\"type\":\"ColumnDataSource\"},\"glyph\":{\"id\":\"1291\",\"type\":\"Line\"},\"hover_glyph\":null,\"muted_glyph\":null,\"nonselection_glyph\":{\"id\":\"1292\",\"type\":\"Line\"},\"selection_glyph\":null,\"view\":{\"id\":\"1294\",\"type\":\"CDSView\"}},\"id\":\"1293\",\"type\":\"GlyphRenderer\"},{\"attributes\":{},\"id\":\"1265\",\"type\":\"LinearScale\"},{\"attributes\":{},\"id\":\"1334\",\"type\":\"UnionRenderers\"},{\"attributes\":{\"formatter\":{\"id\":\"1297\",\"type\":\"BasicTickFormatter\"},\"ticker\":{\"id\":\"1273\",\"type\":\"BasicTicker\"}},\"id\":\"1272\",\"type\":\"LinearAxis\"},{\"attributes\":{},\"id\":\"1299\",\"type\":\"BasicTickFormatter\"},{\"attributes\":{\"source\":{\"id\":\"1303\",\"type\":\"ColumnDataSource\"}},\"id\":\"1307\",\"type\":\"CDSView\"},{\"attributes\":{},\"id\":\"1268\",\"type\":\"BasicTicker\"},{\"attributes\":{\"ticker\":{\"id\":\"1268\",\"type\":\"BasicTicker\"}},\"id\":\"1271\",\"type\":\"Grid\"},{\"attributes\":{\"line_alpha\":0.1,\"line_color\":\"#1f77b4\",\"line_dash\":[2,4,6,4],\"line_width\":2,\"x\":{\"field\":\"x\"},\"y\":{\"field\":\"y\"}},\"id\":\"1305\",\"type\":\"Line\"},{\"attributes\":{},\"id\":\"1273\",\"type\":\"BasicTicker\"},{\"attributes\":{\"active_drag\":\"auto\",\"active_inspect\":\"auto\",\"active_multi\":null,\"active_scroll\":\"auto\",\"active_tap\":\"auto\",\"tools\":[{\"id\":\"1277\",\"type\":\"PanTool\"},{\"id\":\"1278\",\"type\":\"WheelZoomTool\"},{\"id\":\"1279\",\"type\":\"BoxZoomTool\"},{\"id\":\"1280\",\"type\":\"SaveTool\"},{\"id\":\"1281\",\"type\":\"ResetTool\"},{\"id\":\"1282\",\"type\":\"HelpTool\"}]},\"id\":\"1283\",\"type\":\"Toolbar\"},{\"attributes\":{\"data_source\":{\"id\":\"1303\",\"type\":\"ColumnDataSource\"},\"glyph\":{\"id\":\"1304\",\"type\":\"Line\"},\"hover_glyph\":null,\"muted_glyph\":null,\"nonselection_glyph\":{\"id\":\"1305\",\"type\":\"Line\"},\"selection_glyph\":null,\"view\":{\"id\":\"1307\",\"type\":\"CDSView\"}},\"id\":\"1306\",\"type\":\"GlyphRenderer\"},{\"attributes\":{\"bottom_units\":\"screen\",\"fill_alpha\":{\"value\":0.5},\"fill_color\":{\"value\":\"lightgrey\"},\"left_units\":\"screen\",\"level\":\"overlay\",\"line_alpha\":{\"value\":1.0},\"line_color\":{\"value\":\"black\"},\"line_dash\":[4,4],\"line_width\":{\"value\":2},\"render_mode\":\"css\",\"right_units\":\"screen\",\"top_units\":\"screen\"},\"id\":\"1300\",\"type\":\"BoxAnnotation\"},{\"attributes\":{\"dimension\":1,\"ticker\":{\"id\":\"1273\",\"type\":\"BasicTicker\"}},\"id\":\"1276\",\"type\":\"Grid\"},{\"attributes\":{\"line_alpha\":0.1,\"line_color\":\"#1f77b4\",\"line_width\":2,\"x\":{\"field\":\"x\"},\"y\":{\"field\":\"y\"}},\"id\":\"1292\",\"type\":\"Line\"},{\"attributes\":{\"label\":{\"value\":\"AUC = 0.98\"},\"renderers\":[{\"id\":\"1293\",\"type\":\"GlyphRenderer\"}]},\"id\":\"1302\",\"type\":\"LegendItem\"},{\"attributes\":{\"callback\":null,\"data\":{\"x\":{\"__ndarray__\":\"AAAAAAAAAADk7pMFRReYPwAAAAAAAPA/\",\"dtype\":\"float64\",\"shape\":[3]},\"y\":{\"__ndarray__\":\"AAAAAAAAAACph0hZb3PvPwAAAAAAAPA/\",\"dtype\":\"float64\",\"shape\":[3]}},\"selected\":{\"id\":\"1333\",\"type\":\"Selection\"},\"selection_policy\":{\"id\":\"1334\",\"type\":\"UnionRenderers\"}},\"id\":\"1290\",\"type\":\"ColumnDataSource\"},{\"attributes\":{\"callback\":null},\"id\":\"1261\",\"type\":\"DataRange1d\"},{\"attributes\":{},\"id\":\"1336\",\"type\":\"UnionRenderers\"},{\"attributes\":{\"callback\":null,\"data\":{\"x\":[0,1],\"y\":[0,1]},\"selected\":{\"id\":\"1335\",\"type\":\"Selection\"},\"selection_policy\":{\"id\":\"1336\",\"type\":\"UnionRenderers\"}},\"id\":\"1303\",\"type\":\"ColumnDataSource\"},{\"attributes\":{},\"id\":\"1335\",\"type\":\"Selection\"},{\"attributes\":{\"callback\":null},\"id\":\"1259\",\"type\":\"DataRange1d\"},{\"attributes\":{\"line_color\":\"#0077bc\",\"line_width\":2,\"x\":{\"field\":\"x\"},\"y\":{\"field\":\"y\"}},\"id\":\"1291\",\"type\":\"Line\"},{\"attributes\":{\"text\":\"ROC Curve - Train data\"},\"id\":\"1257\",\"type\":\"Title\"},{\"attributes\":{\"items\":[{\"id\":\"1302\",\"type\":\"LegendItem\"}]},\"id\":\"1301\",\"type\":\"Legend\"},{\"attributes\":{},\"id\":\"1277\",\"type\":\"PanTool\"}],\"root_ids\":[\"1256\"]},\"title\":\"Bokeh Application\",\"version\":\"1.4.0\"}};\n",
       "  var render_items = [{\"docid\":\"edd65217-e45d-4458-945a-70a07f8de1a4\",\"roots\":{\"1256\":\"6cc8addc-ee0c-46da-9336-0bd8502f5702\"}}];\n",
       "  root.Bokeh.embed.embed_items_notebook(docs_json, render_items);\n",
       "\n",
       "  }\n",
       "  if (root.Bokeh !== undefined) {\n",
       "    embed_document(root);\n",
       "  } else {\n",
       "    var attempts = 0;\n",
       "    var timer = setInterval(function(root) {\n",
       "      if (root.Bokeh !== undefined) {\n",
       "        clearInterval(timer);\n",
       "        embed_document(root);\n",
       "      } else {\n",
       "        attempts++;\n",
       "        if (attempts > 100) {\n",
       "          clearInterval(timer);\n",
       "          console.log(\"Bokeh: ERROR: Unable to run BokehJS code because BokehJS library is missing\");\n",
       "        }\n",
       "      }\n",
       "    }, 10, root)\n",
       "  }\n",
       "})(window);"
      ],
      "application/vnd.bokehjs_exec.v0+json": ""
     },
     "metadata": {
      "application/vnd.bokehjs_exec.v0+json": {
       "id": "1256"
      }
     },
     "output_type": "display_data"
    }
   ],
   "source": [
    "plt.rcParams[\"figure.figsize\"] = (5,5)\n",
    "\n",
    "from sklearn.metrics import auc\n",
    "fpr, tpr, _ = roc_curve(np.array(Y_train), tuned_xgb_Pred_Y_Train)\n",
    "auc = auc(fpr,tpr)\n",
    "p = figure(title=\"ROC Curve - Train data\")\n",
    "r = p.line(fpr,tpr,color='#0077bc',legend = 'AUC = '+ str(round(auc,3)), line_width=2)\n",
    "s = p.line([0,1],[0,1], color= '#d15555',line_dash='dotdash',line_width=2)\n",
    "show(p)"
   ]
  },
  {
   "cell_type": "code",
   "execution_count": 161,
   "metadata": {},
   "outputs": [
    {
     "data": {
      "text/html": [
       "\n",
       "\n",
       "\n",
       "\n",
       "\n",
       "\n",
       "  <div class=\"bk-root\" id=\"796cb9fd-c57c-48cc-92ea-e0dab6aea75d\" data-root-id=\"1398\"></div>\n"
      ]
     },
     "metadata": {},
     "output_type": "display_data"
    },
    {
     "data": {
      "application/javascript": [
       "(function(root) {\n",
       "  function embed_document(root) {\n",
       "    \n",
       "  var docs_json = {\"4d60d483-4ad9-4268-9ccf-3f1bb38f761e\":{\"roots\":{\"references\":[{\"attributes\":{\"below\":[{\"id\":\"1409\",\"type\":\"LinearAxis\"}],\"center\":[{\"id\":\"1413\",\"type\":\"Grid\"},{\"id\":\"1418\",\"type\":\"Grid\"},{\"id\":\"1443\",\"type\":\"Legend\"}],\"left\":[{\"id\":\"1414\",\"type\":\"LinearAxis\"}],\"renderers\":[{\"id\":\"1435\",\"type\":\"GlyphRenderer\"},{\"id\":\"1448\",\"type\":\"GlyphRenderer\"}],\"title\":{\"id\":\"1399\",\"type\":\"Title\"},\"toolbar\":{\"id\":\"1425\",\"type\":\"Toolbar\"},\"x_range\":{\"id\":\"1401\",\"type\":\"DataRange1d\"},\"x_scale\":{\"id\":\"1405\",\"type\":\"LinearScale\"},\"y_range\":{\"id\":\"1403\",\"type\":\"DataRange1d\"},\"y_scale\":{\"id\":\"1407\",\"type\":\"LinearScale\"}},\"id\":\"1398\",\"subtype\":\"Figure\",\"type\":\"Plot\"},{\"attributes\":{},\"id\":\"1488\",\"type\":\"UnionRenderers\"},{\"attributes\":{\"formatter\":{\"id\":\"1441\",\"type\":\"BasicTickFormatter\"},\"ticker\":{\"id\":\"1410\",\"type\":\"BasicTicker\"}},\"id\":\"1409\",\"type\":\"LinearAxis\"},{\"attributes\":{\"callback\":null,\"data\":{\"x\":{\"__ndarray__\":\"AAAAAAAAAABXb/VWb/WmPwAAAAAAAPA/\",\"dtype\":\"float64\",\"shape\":[3]},\"y\":{\"__ndarray__\":\"AAAAAAAAAAD7uLCPC/vuPwAAAAAAAPA/\",\"dtype\":\"float64\",\"shape\":[3]}},\"selected\":{\"id\":\"1485\",\"type\":\"Selection\"},\"selection_policy\":{\"id\":\"1486\",\"type\":\"UnionRenderers\"}},\"id\":\"1432\",\"type\":\"ColumnDataSource\"},{\"attributes\":{\"items\":[{\"id\":\"1444\",\"type\":\"LegendItem\"}]},\"id\":\"1443\",\"type\":\"Legend\"},{\"attributes\":{},\"id\":\"1405\",\"type\":\"LinearScale\"},{\"attributes\":{},\"id\":\"1424\",\"type\":\"HelpTool\"},{\"attributes\":{\"callback\":null},\"id\":\"1401\",\"type\":\"DataRange1d\"},{\"attributes\":{},\"id\":\"1487\",\"type\":\"Selection\"},{\"attributes\":{},\"id\":\"1407\",\"type\":\"LinearScale\"},{\"attributes\":{\"source\":{\"id\":\"1445\",\"type\":\"ColumnDataSource\"}},\"id\":\"1449\",\"type\":\"CDSView\"},{\"attributes\":{\"overlay\":{\"id\":\"1442\",\"type\":\"BoxAnnotation\"}},\"id\":\"1421\",\"type\":\"BoxZoomTool\"},{\"attributes\":{},\"id\":\"1486\",\"type\":\"UnionRenderers\"},{\"attributes\":{\"callback\":null},\"id\":\"1403\",\"type\":\"DataRange1d\"},{\"attributes\":{\"formatter\":{\"id\":\"1439\",\"type\":\"BasicTickFormatter\"},\"ticker\":{\"id\":\"1415\",\"type\":\"BasicTicker\"}},\"id\":\"1414\",\"type\":\"LinearAxis\"},{\"attributes\":{},\"id\":\"1485\",\"type\":\"Selection\"},{\"attributes\":{\"label\":{\"value\":\"AUC = 0.962\"},\"renderers\":[{\"id\":\"1435\",\"type\":\"GlyphRenderer\"}]},\"id\":\"1444\",\"type\":\"LegendItem\"},{\"attributes\":{},\"id\":\"1441\",\"type\":\"BasicTickFormatter\"},{\"attributes\":{\"callback\":null,\"data\":{\"x\":[0,1],\"y\":[0,1]},\"selected\":{\"id\":\"1487\",\"type\":\"Selection\"},\"selection_policy\":{\"id\":\"1488\",\"type\":\"UnionRenderers\"}},\"id\":\"1445\",\"type\":\"ColumnDataSource\"},{\"attributes\":{\"bottom_units\":\"screen\",\"fill_alpha\":{\"value\":0.5},\"fill_color\":{\"value\":\"lightgrey\"},\"left_units\":\"screen\",\"level\":\"overlay\",\"line_alpha\":{\"value\":1.0},\"line_color\":{\"value\":\"black\"},\"line_dash\":[4,4],\"line_width\":{\"value\":2},\"render_mode\":\"css\",\"right_units\":\"screen\",\"top_units\":\"screen\"},\"id\":\"1442\",\"type\":\"BoxAnnotation\"},{\"attributes\":{},\"id\":\"1420\",\"type\":\"WheelZoomTool\"},{\"attributes\":{\"active_drag\":\"auto\",\"active_inspect\":\"auto\",\"active_multi\":null,\"active_scroll\":\"auto\",\"active_tap\":\"auto\",\"tools\":[{\"id\":\"1419\",\"type\":\"PanTool\"},{\"id\":\"1420\",\"type\":\"WheelZoomTool\"},{\"id\":\"1421\",\"type\":\"BoxZoomTool\"},{\"id\":\"1422\",\"type\":\"SaveTool\"},{\"id\":\"1423\",\"type\":\"ResetTool\"},{\"id\":\"1424\",\"type\":\"HelpTool\"}]},\"id\":\"1425\",\"type\":\"Toolbar\"},{\"attributes\":{\"line_alpha\":0.1,\"line_color\":\"#1f77b4\",\"line_width\":2,\"x\":{\"field\":\"x\"},\"y\":{\"field\":\"y\"}},\"id\":\"1434\",\"type\":\"Line\"},{\"attributes\":{},\"id\":\"1415\",\"type\":\"BasicTicker\"},{\"attributes\":{},\"id\":\"1410\",\"type\":\"BasicTicker\"},{\"attributes\":{},\"id\":\"1419\",\"type\":\"PanTool\"},{\"attributes\":{\"line_color\":\"#d15555\",\"line_dash\":[2,4,6,4],\"line_width\":2,\"x\":{\"field\":\"x\"},\"y\":{\"field\":\"y\"}},\"id\":\"1446\",\"type\":\"Line\"},{\"attributes\":{\"text\":\"ROC Curve - Test data\"},\"id\":\"1399\",\"type\":\"Title\"},{\"attributes\":{\"source\":{\"id\":\"1432\",\"type\":\"ColumnDataSource\"}},\"id\":\"1436\",\"type\":\"CDSView\"},{\"attributes\":{\"data_source\":{\"id\":\"1432\",\"type\":\"ColumnDataSource\"},\"glyph\":{\"id\":\"1433\",\"type\":\"Line\"},\"hover_glyph\":null,\"muted_glyph\":null,\"nonselection_glyph\":{\"id\":\"1434\",\"type\":\"Line\"},\"selection_glyph\":null,\"view\":{\"id\":\"1436\",\"type\":\"CDSView\"}},\"id\":\"1435\",\"type\":\"GlyphRenderer\"},{\"attributes\":{},\"id\":\"1423\",\"type\":\"ResetTool\"},{\"attributes\":{\"line_alpha\":0.1,\"line_color\":\"#1f77b4\",\"line_dash\":[2,4,6,4],\"line_width\":2,\"x\":{\"field\":\"x\"},\"y\":{\"field\":\"y\"}},\"id\":\"1447\",\"type\":\"Line\"},{\"attributes\":{},\"id\":\"1422\",\"type\":\"SaveTool\"},{\"attributes\":{\"data_source\":{\"id\":\"1445\",\"type\":\"ColumnDataSource\"},\"glyph\":{\"id\":\"1446\",\"type\":\"Line\"},\"hover_glyph\":null,\"muted_glyph\":null,\"nonselection_glyph\":{\"id\":\"1447\",\"type\":\"Line\"},\"selection_glyph\":null,\"view\":{\"id\":\"1449\",\"type\":\"CDSView\"}},\"id\":\"1448\",\"type\":\"GlyphRenderer\"},{\"attributes\":{\"ticker\":{\"id\":\"1410\",\"type\":\"BasicTicker\"}},\"id\":\"1413\",\"type\":\"Grid\"},{\"attributes\":{\"line_color\":\"#0077bc\",\"line_width\":2,\"x\":{\"field\":\"x\"},\"y\":{\"field\":\"y\"}},\"id\":\"1433\",\"type\":\"Line\"},{\"attributes\":{\"dimension\":1,\"ticker\":{\"id\":\"1415\",\"type\":\"BasicTicker\"}},\"id\":\"1418\",\"type\":\"Grid\"},{\"attributes\":{},\"id\":\"1439\",\"type\":\"BasicTickFormatter\"}],\"root_ids\":[\"1398\"]},\"title\":\"Bokeh Application\",\"version\":\"1.4.0\"}};\n",
       "  var render_items = [{\"docid\":\"4d60d483-4ad9-4268-9ccf-3f1bb38f761e\",\"roots\":{\"1398\":\"796cb9fd-c57c-48cc-92ea-e0dab6aea75d\"}}];\n",
       "  root.Bokeh.embed.embed_items_notebook(docs_json, render_items);\n",
       "\n",
       "  }\n",
       "  if (root.Bokeh !== undefined) {\n",
       "    embed_document(root);\n",
       "  } else {\n",
       "    var attempts = 0;\n",
       "    var timer = setInterval(function(root) {\n",
       "      if (root.Bokeh !== undefined) {\n",
       "        clearInterval(timer);\n",
       "        embed_document(root);\n",
       "      } else {\n",
       "        attempts++;\n",
       "        if (attempts > 100) {\n",
       "          clearInterval(timer);\n",
       "          console.log(\"Bokeh: ERROR: Unable to run BokehJS code because BokehJS library is missing\");\n",
       "        }\n",
       "      }\n",
       "    }, 10, root)\n",
       "  }\n",
       "})(window);"
      ],
      "application/vnd.bokehjs_exec.v0+json": ""
     },
     "metadata": {
      "application/vnd.bokehjs_exec.v0+json": {
       "id": "1398"
      }
     },
     "output_type": "display_data"
    }
   ],
   "source": [
    "from sklearn.metrics import auc\n",
    "fpr, tpr, _ = roc_curve(Y_test, tuned_xgb_Pred_Y_Test)\n",
    "auc = auc(fpr,tpr)\n",
    "p = figure(title=\"ROC Curve - Test data\")\n",
    "r = p.line(fpr,tpr,color='#0077bc',legend = 'AUC = '+ str(round(auc,3)), line_width=2)\n",
    "s = p.line([0,1],[0,1], color= '#d15555',line_dash='dotdash',line_width=2)\n",
    "show(p)"
   ]
  },
  {
   "cell_type": "code",
   "execution_count": 162,
   "metadata": {},
   "outputs": [],
   "source": [
    "validate_train_XGB = model_validation(X_train,tuned_xgb_Pred_Y_Train,tuned_xgb)\n",
    "validate_test_XGB = model_validation(X_test,tuned_xgb_Pred_Y_Test,tuned_xgb)"
   ]
  },
  {
   "cell_type": "code",
   "execution_count": 163,
   "metadata": {},
   "outputs": [
    {
     "data": {
      "text/html": [
       "<div>\n",
       "<style scoped>\n",
       "    .dataframe tbody tr th:only-of-type {\n",
       "        vertical-align: middle;\n",
       "    }\n",
       "\n",
       "    .dataframe tbody tr th {\n",
       "        vertical-align: top;\n",
       "    }\n",
       "\n",
       "    .dataframe thead th {\n",
       "        text-align: right;\n",
       "    }\n",
       "</style>\n",
       "<table border=\"1\" class=\"dataframe\">\n",
       "  <thead>\n",
       "    <tr style=\"text-align: right;\">\n",
       "      <th></th>\n",
       "      <th>min_score</th>\n",
       "      <th>max_score</th>\n",
       "      <th>Bad</th>\n",
       "      <th>Good</th>\n",
       "      <th>Total</th>\n",
       "    </tr>\n",
       "    <tr>\n",
       "      <th>Decile</th>\n",
       "      <th></th>\n",
       "      <th></th>\n",
       "      <th></th>\n",
       "      <th></th>\n",
       "      <th></th>\n",
       "    </tr>\n",
       "  </thead>\n",
       "  <tbody>\n",
       "    <tr>\n",
       "      <th>1</th>\n",
       "      <td>0.998343</td>\n",
       "      <td>0.999805</td>\n",
       "      <td>1500.0</td>\n",
       "      <td>0.0</td>\n",
       "      <td>1500.0</td>\n",
       "    </tr>\n",
       "    <tr>\n",
       "      <th>2</th>\n",
       "      <td>0.995848</td>\n",
       "      <td>0.998342</td>\n",
       "      <td>1500.0</td>\n",
       "      <td>0.0</td>\n",
       "      <td>1500.0</td>\n",
       "    </tr>\n",
       "    <tr>\n",
       "      <th>3</th>\n",
       "      <td>0.987109</td>\n",
       "      <td>0.995845</td>\n",
       "      <td>1500.0</td>\n",
       "      <td>0.0</td>\n",
       "      <td>1500.0</td>\n",
       "    </tr>\n",
       "    <tr>\n",
       "      <th>4</th>\n",
       "      <td>0.939331</td>\n",
       "      <td>0.987106</td>\n",
       "      <td>1500.0</td>\n",
       "      <td>0.0</td>\n",
       "      <td>1500.0</td>\n",
       "    </tr>\n",
       "    <tr>\n",
       "      <th>5</th>\n",
       "      <td>0.546624</td>\n",
       "      <td>0.939304</td>\n",
       "      <td>1499.0</td>\n",
       "      <td>0.0</td>\n",
       "      <td>1499.0</td>\n",
       "    </tr>\n",
       "    <tr>\n",
       "      <th>6</th>\n",
       "      <td>0.043624</td>\n",
       "      <td>0.545928</td>\n",
       "      <td>66.0</td>\n",
       "      <td>1434.0</td>\n",
       "      <td>1500.0</td>\n",
       "    </tr>\n",
       "    <tr>\n",
       "      <th>7</th>\n",
       "      <td>0.009139</td>\n",
       "      <td>0.043602</td>\n",
       "      <td>0.0</td>\n",
       "      <td>1500.0</td>\n",
       "      <td>1500.0</td>\n",
       "    </tr>\n",
       "    <tr>\n",
       "      <th>8</th>\n",
       "      <td>0.003194</td>\n",
       "      <td>0.009136</td>\n",
       "      <td>0.0</td>\n",
       "      <td>1500.0</td>\n",
       "      <td>1500.0</td>\n",
       "    </tr>\n",
       "    <tr>\n",
       "      <th>9</th>\n",
       "      <td>0.001205</td>\n",
       "      <td>0.003193</td>\n",
       "      <td>0.0</td>\n",
       "      <td>1500.0</td>\n",
       "      <td>1500.0</td>\n",
       "    </tr>\n",
       "    <tr>\n",
       "      <th>10</th>\n",
       "      <td>0.000084</td>\n",
       "      <td>0.001203</td>\n",
       "      <td>0.0</td>\n",
       "      <td>1500.0</td>\n",
       "      <td>1500.0</td>\n",
       "    </tr>\n",
       "  </tbody>\n",
       "</table>\n",
       "</div>"
      ],
      "text/plain": [
       "        min_score  max_score     Bad    Good   Total\n",
       "Decile                                              \n",
       "1        0.998343   0.999805  1500.0     0.0  1500.0\n",
       "2        0.995848   0.998342  1500.0     0.0  1500.0\n",
       "3        0.987109   0.995845  1500.0     0.0  1500.0\n",
       "4        0.939331   0.987106  1500.0     0.0  1500.0\n",
       "5        0.546624   0.939304  1499.0     0.0  1499.0\n",
       "6        0.043624   0.545928    66.0  1434.0  1500.0\n",
       "7        0.009139   0.043602     0.0  1500.0  1500.0\n",
       "8        0.003194   0.009136     0.0  1500.0  1500.0\n",
       "9        0.001205   0.003193     0.0  1500.0  1500.0\n",
       "10       0.000084   0.001203     0.0  1500.0  1500.0"
      ]
     },
     "execution_count": 163,
     "metadata": {},
     "output_type": "execute_result"
    }
   ],
   "source": [
    "validate_train_XGB"
   ]
  },
  {
   "cell_type": "code",
   "execution_count": 164,
   "metadata": {},
   "outputs": [
    {
     "data": {
      "text/html": [
       "<div>\n",
       "<style scoped>\n",
       "    .dataframe tbody tr th:only-of-type {\n",
       "        vertical-align: middle;\n",
       "    }\n",
       "\n",
       "    .dataframe tbody tr th {\n",
       "        vertical-align: top;\n",
       "    }\n",
       "\n",
       "    .dataframe thead th {\n",
       "        text-align: right;\n",
       "    }\n",
       "</style>\n",
       "<table border=\"1\" class=\"dataframe\">\n",
       "  <thead>\n",
       "    <tr style=\"text-align: right;\">\n",
       "      <th></th>\n",
       "      <th>min_score</th>\n",
       "      <th>max_score</th>\n",
       "      <th>Bad</th>\n",
       "      <th>Good</th>\n",
       "      <th>Total</th>\n",
       "    </tr>\n",
       "    <tr>\n",
       "      <th>Decile</th>\n",
       "      <th></th>\n",
       "      <th></th>\n",
       "      <th></th>\n",
       "      <th></th>\n",
       "      <th></th>\n",
       "    </tr>\n",
       "  </thead>\n",
       "  <tbody>\n",
       "    <tr>\n",
       "      <th>1</th>\n",
       "      <td>0.998360</td>\n",
       "      <td>0.999815</td>\n",
       "      <td>500.0</td>\n",
       "      <td>0.0</td>\n",
       "      <td>500.0</td>\n",
       "    </tr>\n",
       "    <tr>\n",
       "      <th>2</th>\n",
       "      <td>0.995926</td>\n",
       "      <td>0.998359</td>\n",
       "      <td>500.0</td>\n",
       "      <td>0.0</td>\n",
       "      <td>500.0</td>\n",
       "    </tr>\n",
       "    <tr>\n",
       "      <th>3</th>\n",
       "      <td>0.986302</td>\n",
       "      <td>0.995920</td>\n",
       "      <td>500.0</td>\n",
       "      <td>0.0</td>\n",
       "      <td>500.0</td>\n",
       "    </tr>\n",
       "    <tr>\n",
       "      <th>4</th>\n",
       "      <td>0.933427</td>\n",
       "      <td>0.986282</td>\n",
       "      <td>500.0</td>\n",
       "      <td>0.0</td>\n",
       "      <td>500.0</td>\n",
       "    </tr>\n",
       "    <tr>\n",
       "      <th>5</th>\n",
       "      <td>0.526291</td>\n",
       "      <td>0.932948</td>\n",
       "      <td>500.0</td>\n",
       "      <td>0.0</td>\n",
       "      <td>500.0</td>\n",
       "    </tr>\n",
       "    <tr>\n",
       "      <th>6</th>\n",
       "      <td>0.042748</td>\n",
       "      <td>0.525903</td>\n",
       "      <td>14.0</td>\n",
       "      <td>486.0</td>\n",
       "      <td>500.0</td>\n",
       "    </tr>\n",
       "    <tr>\n",
       "      <th>7</th>\n",
       "      <td>0.009454</td>\n",
       "      <td>0.042541</td>\n",
       "      <td>0.0</td>\n",
       "      <td>500.0</td>\n",
       "      <td>500.0</td>\n",
       "    </tr>\n",
       "    <tr>\n",
       "      <th>8</th>\n",
       "      <td>0.003151</td>\n",
       "      <td>0.009407</td>\n",
       "      <td>0.0</td>\n",
       "      <td>500.0</td>\n",
       "      <td>500.0</td>\n",
       "    </tr>\n",
       "    <tr>\n",
       "      <th>9</th>\n",
       "      <td>0.001192</td>\n",
       "      <td>0.003142</td>\n",
       "      <td>0.0</td>\n",
       "      <td>500.0</td>\n",
       "      <td>500.0</td>\n",
       "    </tr>\n",
       "    <tr>\n",
       "      <th>10</th>\n",
       "      <td>0.000100</td>\n",
       "      <td>0.001191</td>\n",
       "      <td>0.0</td>\n",
       "      <td>500.0</td>\n",
       "      <td>500.0</td>\n",
       "    </tr>\n",
       "  </tbody>\n",
       "</table>\n",
       "</div>"
      ],
      "text/plain": [
       "        min_score  max_score    Bad   Good  Total\n",
       "Decile                                           \n",
       "1        0.998360   0.999815  500.0    0.0  500.0\n",
       "2        0.995926   0.998359  500.0    0.0  500.0\n",
       "3        0.986302   0.995920  500.0    0.0  500.0\n",
       "4        0.933427   0.986282  500.0    0.0  500.0\n",
       "5        0.526291   0.932948  500.0    0.0  500.0\n",
       "6        0.042748   0.525903   14.0  486.0  500.0\n",
       "7        0.009454   0.042541    0.0  500.0  500.0\n",
       "8        0.003151   0.009407    0.0  500.0  500.0\n",
       "9        0.001192   0.003142    0.0  500.0  500.0\n",
       "10       0.000100   0.001191    0.0  500.0  500.0"
      ]
     },
     "execution_count": 164,
     "metadata": {},
     "output_type": "execute_result"
    }
   ],
   "source": [
    "validate_test_XGB"
   ]
  },
  {
   "cell_type": "code",
   "execution_count": 165,
   "metadata": {},
   "outputs": [
    {
     "data": {
      "image/png": "[encoded data removed]",
      "text/plain": [
       "<Figure size 360x360 with 1 Axes>"
      ]
     },
     "metadata": {},
     "output_type": "display_data"
    }
   ],
   "source": [
    "skplt.metrics.plot_cumulative_gain(Y_train, tuned_xgb_Pred_Y_Train_p)\n",
    "plt.show()"
   ]
  },
  {
   "cell_type": "code",
   "execution_count": 166,
   "metadata": {},
   "outputs": [
    {
     "data": {
      "image/png": "[encoded data removed]",
      "text/plain": [
       "<Figure size 360x360 with 1 Axes>"
      ]
     },
     "metadata": {},
     "output_type": "display_data"
    }
   ],
   "source": [
    "skplt.metrics.plot_cumulative_gain(Y_test, tuned_xgb_Pred_Y_Test_p)\n",
    "plt.show()"
   ]
  },
  {
   "cell_type": "code",
   "execution_count": 192,
   "metadata": {},
   "outputs": [],
   "source": [
    "imp_features = pd.DataFrame({'feature': X_train.columns,\n",
    "                   'importance': tuned_xgb.feature_importances_*100}).\\\n",
    "                    sort_values('importance', ascending = False)"
   ]
  },
  {
   "cell_type": "code",
   "execution_count": 193,
   "metadata": {},
   "outputs": [
    {
     "data": {
      "text/html": [
       "<div>\n",
       "<style scoped>\n",
       "    .dataframe tbody tr th:only-of-type {\n",
       "        vertical-align: middle;\n",
       "    }\n",
       "\n",
       "    .dataframe tbody tr th {\n",
       "        vertical-align: top;\n",
       "    }\n",
       "\n",
       "    .dataframe thead th {\n",
       "        text-align: right;\n",
       "    }\n",
       "</style>\n",
       "<table border=\"1\" class=\"dataframe\">\n",
       "  <thead>\n",
       "    <tr style=\"text-align: right;\">\n",
       "      <th></th>\n",
       "      <th>feature</th>\n",
       "      <th>importance</th>\n",
       "    </tr>\n",
       "  </thead>\n",
       "  <tbody>\n",
       "    <tr>\n",
       "      <th>25</th>\n",
       "      <td>SALES_CHANNEL_Call Centers</td>\n",
       "      <td>6.820143</td>\n",
       "    </tr>\n",
       "    <tr>\n",
       "      <th>24</th>\n",
       "      <td>SALES_CHANNEL_Call Center</td>\n",
       "      <td>6.801900</td>\n",
       "    </tr>\n",
       "    <tr>\n",
       "      <th>50</th>\n",
       "      <td>Satellite_SM5</td>\n",
       "      <td>6.574444</td>\n",
       "    </tr>\n",
       "    <tr>\n",
       "      <th>26</th>\n",
       "      <td>SALES_CHANNEL_Retail/Others</td>\n",
       "      <td>6.331600</td>\n",
       "    </tr>\n",
       "    <tr>\n",
       "      <th>31</th>\n",
       "      <td>SALES_CHANNEL_Web orders</td>\n",
       "      <td>5.925551</td>\n",
       "    </tr>\n",
       "    <tr>\n",
       "      <th>2</th>\n",
       "      <td>SITE_TYPE_DESC</td>\n",
       "      <td>5.651404</td>\n",
       "    </tr>\n",
       "    <tr>\n",
       "      <th>27</th>\n",
       "      <td>SALES_CHANNEL_Retail/others</td>\n",
       "      <td>5.595551</td>\n",
       "    </tr>\n",
       "    <tr>\n",
       "      <th>13</th>\n",
       "      <td>SERVICE_PLAN_Power150</td>\n",
       "      <td>5.267970</td>\n",
       "    </tr>\n",
       "    <tr>\n",
       "      <th>30</th>\n",
       "      <td>SALES_CHANNEL_Web Orders</td>\n",
       "      <td>5.075121</td>\n",
       "    </tr>\n",
       "    <tr>\n",
       "      <th>16</th>\n",
       "      <td>SERVICE_PLAN_SO</td>\n",
       "      <td>4.154067</td>\n",
       "    </tr>\n",
       "    <tr>\n",
       "      <th>45</th>\n",
       "      <td>Satellite_G16</td>\n",
       "      <td>3.695032</td>\n",
       "    </tr>\n",
       "    <tr>\n",
       "      <th>53</th>\n",
       "      <td>Satellite_Unknown</td>\n",
       "      <td>2.931111</td>\n",
       "    </tr>\n",
       "    <tr>\n",
       "      <th>12</th>\n",
       "      <td>SERVICE_PLAN_Power15</td>\n",
       "      <td>2.918605</td>\n",
       "    </tr>\n",
       "    <tr>\n",
       "      <th>48</th>\n",
       "      <td>Satellite_G3C</td>\n",
       "      <td>2.497505</td>\n",
       "    </tr>\n",
       "    <tr>\n",
       "      <th>52</th>\n",
       "      <td>Satellite_SPACEWAY3</td>\n",
       "      <td>2.384888</td>\n",
       "    </tr>\n",
       "    <tr>\n",
       "      <th>23</th>\n",
       "      <td>MODEL_UNK</td>\n",
       "      <td>2.253712</td>\n",
       "    </tr>\n",
       "    <tr>\n",
       "      <th>47</th>\n",
       "      <td>Satellite_G28</td>\n",
       "      <td>2.181874</td>\n",
       "    </tr>\n",
       "    <tr>\n",
       "      <th>51</th>\n",
       "      <td>Satellite_SM6</td>\n",
       "      <td>1.822973</td>\n",
       "    </tr>\n",
       "    <tr>\n",
       "      <th>42</th>\n",
       "      <td>Satellite_AM6</td>\n",
       "      <td>1.792207</td>\n",
       "    </tr>\n",
       "    <tr>\n",
       "      <th>6</th>\n",
       "      <td>COMPUTER_OWNER</td>\n",
       "      <td>1.785860</td>\n",
       "    </tr>\n",
       "    <tr>\n",
       "      <th>43</th>\n",
       "      <td>Satellite_AM9</td>\n",
       "      <td>1.598011</td>\n",
       "    </tr>\n",
       "    <tr>\n",
       "      <th>20</th>\n",
       "      <td>MODEL_DW7000</td>\n",
       "      <td>1.589380</td>\n",
       "    </tr>\n",
       "    <tr>\n",
       "      <th>1</th>\n",
       "      <td>FEEDBACK</td>\n",
       "      <td>1.140763</td>\n",
       "    </tr>\n",
       "    <tr>\n",
       "      <th>49</th>\n",
       "      <td>Satellite_HZN</td>\n",
       "      <td>1.129921</td>\n",
       "    </tr>\n",
       "    <tr>\n",
       "      <th>29</th>\n",
       "      <td>SALES_CHANNEL_Vars</td>\n",
       "      <td>0.764345</td>\n",
       "    </tr>\n",
       "    <tr>\n",
       "      <th>21</th>\n",
       "      <td>MODEL_HN7000S</td>\n",
       "      <td>0.762122</td>\n",
       "    </tr>\n",
       "    <tr>\n",
       "      <th>7</th>\n",
       "      <td>Income</td>\n",
       "      <td>0.698591</td>\n",
       "    </tr>\n",
       "    <tr>\n",
       "      <th>28</th>\n",
       "      <td>SALES_CHANNEL_Sales Agents</td>\n",
       "      <td>0.645701</td>\n",
       "    </tr>\n",
       "    <tr>\n",
       "      <th>46</th>\n",
       "      <td>Satellite_G26</td>\n",
       "      <td>0.622178</td>\n",
       "    </tr>\n",
       "    <tr>\n",
       "      <th>8</th>\n",
       "      <td>SERVICE_PLAN_Basic</td>\n",
       "      <td>0.602367</td>\n",
       "    </tr>\n",
       "    <tr>\n",
       "      <th>14</th>\n",
       "      <td>SERVICE_PLAN_Pro</td>\n",
       "      <td>0.587301</td>\n",
       "    </tr>\n",
       "    <tr>\n",
       "      <th>44</th>\n",
       "      <td>Satellite_AMC</td>\n",
       "      <td>0.576531</td>\n",
       "    </tr>\n",
       "    <tr>\n",
       "      <th>9</th>\n",
       "      <td>SERVICE_PLAN_Basic_Ltd</td>\n",
       "      <td>0.520122</td>\n",
       "    </tr>\n",
       "    <tr>\n",
       "      <th>5</th>\n",
       "      <td>PRESENCE_OF_CHILDREN</td>\n",
       "      <td>0.517002</td>\n",
       "    </tr>\n",
       "    <tr>\n",
       "      <th>15</th>\n",
       "      <td>SERVICE_PLAN_Proplus</td>\n",
       "      <td>0.494032</td>\n",
       "    </tr>\n",
       "    <tr>\n",
       "      <th>22</th>\n",
       "      <td>MODEL_HN9000</td>\n",
       "      <td>0.467318</td>\n",
       "    </tr>\n",
       "    <tr>\n",
       "      <th>17</th>\n",
       "      <td>SERVICE_PLAN_Unknown</td>\n",
       "      <td>0.416103</td>\n",
       "    </tr>\n",
       "    <tr>\n",
       "      <th>11</th>\n",
       "      <td>SERVICE_PLAN_Home</td>\n",
       "      <td>0.406590</td>\n",
       "    </tr>\n",
       "    <tr>\n",
       "      <th>54</th>\n",
       "      <td>MARITAL_STATUS_0</td>\n",
       "      <td>0.355382</td>\n",
       "    </tr>\n",
       "    <tr>\n",
       "      <th>10</th>\n",
       "      <td>SERVICE_PLAN_Elite</td>\n",
       "      <td>0.341311</td>\n",
       "    </tr>\n",
       "    <tr>\n",
       "      <th>19</th>\n",
       "      <td>MODEL_DW6000</td>\n",
       "      <td>0.317219</td>\n",
       "    </tr>\n",
       "    <tr>\n",
       "      <th>4</th>\n",
       "      <td>AGE</td>\n",
       "      <td>0.291328</td>\n",
       "    </tr>\n",
       "    <tr>\n",
       "      <th>55</th>\n",
       "      <td>MARITAL_STATUS_1</td>\n",
       "      <td>0.272881</td>\n",
       "    </tr>\n",
       "    <tr>\n",
       "      <th>18</th>\n",
       "      <td>MODEL_DW4000</td>\n",
       "      <td>0.268987</td>\n",
       "    </tr>\n",
       "    <tr>\n",
       "      <th>0</th>\n",
       "      <td>DIRECT_INDIRECT_CHANNEL</td>\n",
       "      <td>0.267097</td>\n",
       "    </tr>\n",
       "    <tr>\n",
       "      <th>32</th>\n",
       "      <td>Zip_0</td>\n",
       "      <td>0.193912</td>\n",
       "    </tr>\n",
       "    <tr>\n",
       "      <th>35</th>\n",
       "      <td>Zip_3</td>\n",
       "      <td>0.183383</td>\n",
       "    </tr>\n",
       "    <tr>\n",
       "      <th>56</th>\n",
       "      <td>MARITAL_STATUS_2</td>\n",
       "      <td>0.182137</td>\n",
       "    </tr>\n",
       "    <tr>\n",
       "      <th>38</th>\n",
       "      <td>Zip_6</td>\n",
       "      <td>0.167266</td>\n",
       "    </tr>\n",
       "    <tr>\n",
       "      <th>37</th>\n",
       "      <td>Zip_5</td>\n",
       "      <td>0.167219</td>\n",
       "    </tr>\n",
       "    <tr>\n",
       "      <th>33</th>\n",
       "      <td>Zip_1</td>\n",
       "      <td>0.152424</td>\n",
       "    </tr>\n",
       "    <tr>\n",
       "      <th>36</th>\n",
       "      <td>Zip_4</td>\n",
       "      <td>0.147146</td>\n",
       "    </tr>\n",
       "    <tr>\n",
       "      <th>41</th>\n",
       "      <td>Zip_9</td>\n",
       "      <td>0.144121</td>\n",
       "    </tr>\n",
       "    <tr>\n",
       "      <th>39</th>\n",
       "      <td>Zip_7</td>\n",
       "      <td>0.142587</td>\n",
       "    </tr>\n",
       "    <tr>\n",
       "      <th>40</th>\n",
       "      <td>Zip_8</td>\n",
       "      <td>0.136820</td>\n",
       "    </tr>\n",
       "    <tr>\n",
       "      <th>34</th>\n",
       "      <td>Zip_2</td>\n",
       "      <td>0.136548</td>\n",
       "    </tr>\n",
       "    <tr>\n",
       "      <th>3</th>\n",
       "      <td>GENDER</td>\n",
       "      <td>0.132327</td>\n",
       "    </tr>\n",
       "  </tbody>\n",
       "</table>\n",
       "</div>"
      ],
      "text/plain": [
       "                        feature  importance\n",
       "25   SALES_CHANNEL_Call Centers    6.820143\n",
       "24    SALES_CHANNEL_Call Center    6.801900\n",
       "50                Satellite_SM5    6.574444\n",
       "26  SALES_CHANNEL_Retail/Others    6.331600\n",
       "31     SALES_CHANNEL_Web orders    5.925551\n",
       "2                SITE_TYPE_DESC    5.651404\n",
       "27  SALES_CHANNEL_Retail/others    5.595551\n",
       "13        SERVICE_PLAN_Power150    5.267970\n",
       "30     SALES_CHANNEL_Web Orders    5.075121\n",
       "16              SERVICE_PLAN_SO    4.154067\n",
       "45                Satellite_G16    3.695032\n",
       "53            Satellite_Unknown    2.931111\n",
       "12         SERVICE_PLAN_Power15    2.918605\n",
       "48                Satellite_G3C    2.497505\n",
       "52          Satellite_SPACEWAY3    2.384888\n",
       "23                    MODEL_UNK    2.253712\n",
       "47                Satellite_G28    2.181874\n",
       "51                Satellite_SM6    1.822973\n",
       "42                Satellite_AM6    1.792207\n",
       "6                COMPUTER_OWNER    1.785860\n",
       "43                Satellite_AM9    1.598011\n",
       "20                 MODEL_DW7000    1.589380\n",
       "1                      FEEDBACK    1.140763\n",
       "49                Satellite_HZN    1.129921\n",
       "29           SALES_CHANNEL_Vars    0.764345\n",
       "21                MODEL_HN7000S    0.762122\n",
       "7                        Income    0.698591\n",
       "28   SALES_CHANNEL_Sales Agents    0.645701\n",
       "46                Satellite_G26    0.622178\n",
       "8            SERVICE_PLAN_Basic    0.602367\n",
       "14             SERVICE_PLAN_Pro    0.587301\n",
       "44                Satellite_AMC    0.576531\n",
       "9        SERVICE_PLAN_Basic_Ltd    0.520122\n",
       "5          PRESENCE_OF_CHILDREN    0.517002\n",
       "15         SERVICE_PLAN_Proplus    0.494032\n",
       "22                 MODEL_HN9000    0.467318\n",
       "17         SERVICE_PLAN_Unknown    0.416103\n",
       "11            SERVICE_PLAN_Home    0.406590\n",
       "54             MARITAL_STATUS_0    0.355382\n",
       "10           SERVICE_PLAN_Elite    0.341311\n",
       "19                 MODEL_DW6000    0.317219\n",
       "4                           AGE    0.291328\n",
       "55             MARITAL_STATUS_1    0.272881\n",
       "18                 MODEL_DW4000    0.268987\n",
       "0       DIRECT_INDIRECT_CHANNEL    0.267097\n",
       "32                        Zip_0    0.193912\n",
       "35                        Zip_3    0.183383\n",
       "56             MARITAL_STATUS_2    0.182137\n",
       "38                        Zip_6    0.167266\n",
       "37                        Zip_5    0.167219\n",
       "33                        Zip_1    0.152424\n",
       "36                        Zip_4    0.147146\n",
       "41                        Zip_9    0.144121\n",
       "39                        Zip_7    0.142587\n",
       "40                        Zip_8    0.136820\n",
       "34                        Zip_2    0.136548\n",
       "3                        GENDER    0.132327"
      ]
     },
     "execution_count": 193,
     "metadata": {},
     "output_type": "execute_result"
    }
   ],
   "source": [
    "imp_features"
   ]
  },
  {
   "cell_type": "code",
   "execution_count": null,
   "metadata": {},
   "outputs": [],
   "source": []
  },
  {
   "cell_type": "markdown",
   "metadata": {},
   "source": [
    "## Decision Trees"
   ]
  },
  {
   "cell_type": "code",
   "execution_count": 167,
   "metadata": {},
   "outputs": [
    {
     "name": "stdout",
     "output_type": "stream",
     "text": [
      "Train 1.0\n",
      "Test 0.928\n"
     ]
    }
   ],
   "source": [
    "from sklearn.tree import DecisionTreeClassifier\n",
    "\n",
    "dtree = DecisionTreeClassifier()\n",
    "\n",
    "dtree.fit(X_train, Y_train)\n",
    "\n",
    "dt_Pred_X = dtree.predict(X_train)\n",
    "\n",
    "accuracy1 = accuracy_score(Y_train, dt_Pred_X)\n",
    "\n",
    "dt_Pred_Y = dtree.predict(X_test)\n",
    "\n",
    "accuracy2 = accuracy_score(Y_test, dt_Pred_Y)\n",
    "\n",
    "print(\"Train\", accuracy1)\n",
    "print(\"Test\", accuracy2)"
   ]
  },
  {
   "cell_type": "code",
   "execution_count": 168,
   "metadata": {},
   "outputs": [
    {
     "name": "stdout",
     "output_type": "stream",
     "text": [
      "accuracy : 1.0\n",
      "Precision : 1.0\n",
      "Recall : 1.0\n",
      "F1 score : 1.0\n",
      "ROC_AUC_Score 1.0\n",
      "Jaccard Similarity Score :  100.0 %\n"
     ]
    }
   ],
   "source": [
    "eval_metrics(Y_train, dt_Pred_X)"
   ]
  },
  {
   "cell_type": "code",
   "execution_count": 169,
   "metadata": {},
   "outputs": [
    {
     "name": "stdout",
     "output_type": "stream",
     "text": [
      "accuracy : 0.928\n",
      "Precision : 0.9288025889967637\n",
      "Recall : 0.9258064516129032\n",
      "F1 score : 0.9273021001615509\n",
      "ROC_AUC_Score 0.9279825908858168\n",
      "Jaccard Similarity Score :  92.8 %\n"
     ]
    }
   ],
   "source": [
    "eval_metrics(Y_test, dt_Pred_Y)"
   ]
  },
  {
   "cell_type": "code",
   "execution_count": 170,
   "metadata": {},
   "outputs": [
    {
     "data": {
      "text/plain": [
       "array([[7481,    0],\n",
       "       [   0, 7518]], dtype=int64)"
      ]
     },
     "execution_count": 170,
     "metadata": {},
     "output_type": "execute_result"
    }
   ],
   "source": [
    "confusion_matrix(Y_train, dt_Pred_X)"
   ]
  },
  {
   "cell_type": "code",
   "execution_count": 171,
   "metadata": {},
   "outputs": [
    {
     "data": {
      "text/plain": [
       "array([[2344,  176],\n",
       "       [ 184, 2296]], dtype=int64)"
      ]
     },
     "execution_count": 171,
     "metadata": {},
     "output_type": "execute_result"
    }
   ],
   "source": [
    "confusion_matrix(Y_test, dt_Pred_Y)"
   ]
  },
  {
   "cell_type": "markdown",
   "metadata": {},
   "source": [
    "## Tuning Decision Trees using Randomized search"
   ]
  },
  {
   "cell_type": "code",
   "execution_count": 176,
   "metadata": {},
   "outputs": [],
   "source": [
    "from sklearn.model_selection import RandomizedSearchCV\n",
    "\n",
    "param = {'max_depth': [22,23,24,25,26],\n",
    "                  'max_features': [11,12,13,14],\n",
    "                 'criterion':['gini','entropy']\n",
    "        }\n",
    "\n",
    "rsearch_dt = RandomizedSearchCV( estimator =  DecisionTreeClassifier(),\n",
    "                  param_distributions = param , scoring=\"accuracy\", n_jobs=-1, cv=10, verbose=2 , refit=True)\n"
   ]
  },
  {
   "cell_type": "code",
   "execution_count": 177,
   "metadata": {},
   "outputs": [
    {
     "name": "stdout",
     "output_type": "stream",
     "text": [
      "Fitting 10 folds for each of 10 candidates, totalling 100 fits\n"
     ]
    },
    {
     "name": "stderr",
     "output_type": "stream",
     "text": [
      "[Parallel(n_jobs=-1)]: Using backend LokyBackend with 8 concurrent workers.\n",
      "[Parallel(n_jobs=-1)]: Done  34 tasks      | elapsed:    0.7s\n",
      "[Parallel(n_jobs=-1)]: Done 100 out of 100 | elapsed:    1.7s finished\n"
     ]
    },
    {
     "data": {
      "text/plain": [
       "RandomizedSearchCV(cv=10, error_score=nan,\n",
       "                   estimator=DecisionTreeClassifier(ccp_alpha=0.0,\n",
       "                                                    class_weight=None,\n",
       "                                                    criterion='gini',\n",
       "                                                    max_depth=None,\n",
       "                                                    max_features=None,\n",
       "                                                    max_leaf_nodes=None,\n",
       "                                                    min_impurity_decrease=0.0,\n",
       "                                                    min_impurity_split=None,\n",
       "                                                    min_samples_leaf=1,\n",
       "                                                    min_samples_split=2,\n",
       "                                                    min_weight_fraction_leaf=0.0,\n",
       "                                                    presort='deprecated',\n",
       "                                                    random_state=None,\n",
       "                                                    splitter='best'),\n",
       "                   iid='deprecated', n_iter=10, n_jobs=-1,\n",
       "                   param_distributions={'criterion': ['gini', 'entropy'],\n",
       "                                        'max_depth': [22, 23, 24, 25, 26],\n",
       "                                        'max_features': [11, 12, 13, 14]},\n",
       "                   pre_dispatch='2*n_jobs', random_state=None, refit=True,\n",
       "                   return_train_score=False, scoring='accuracy', verbose=2)"
      ]
     },
     "execution_count": 177,
     "metadata": {},
     "output_type": "execute_result"
    }
   ],
   "source": [
    "rsearch_dt.fit(X_train,Y_train)"
   ]
  },
  {
   "cell_type": "code",
   "execution_count": 178,
   "metadata": {},
   "outputs": [
    {
     "data": {
      "text/plain": [
       "{'max_features': 14, 'max_depth': 26, 'criterion': 'entropy'}"
      ]
     },
     "execution_count": 178,
     "metadata": {},
     "output_type": "execute_result"
    }
   ],
   "source": [
    "rsearch_dt.best_params_"
   ]
  },
  {
   "cell_type": "code",
   "execution_count": 179,
   "metadata": {},
   "outputs": [
    {
     "data": {
      "text/plain": [
       "0.9249951078496776"
      ]
     },
     "execution_count": 179,
     "metadata": {},
     "output_type": "execute_result"
    }
   ],
   "source": [
    "rsearch_dt.best_score_"
   ]
  },
  {
   "cell_type": "code",
   "execution_count": null,
   "metadata": {},
   "outputs": [],
   "source": []
  },
  {
   "cell_type": "code",
   "execution_count": 180,
   "metadata": {},
   "outputs": [
    {
     "name": "stdout",
     "output_type": "stream",
     "text": [
      "Train 0.9864657643842922\n",
      "Test 0.9218\n"
     ]
    }
   ],
   "source": [
    "dtree_tuned = DecisionTreeClassifier(max_features = 14, max_depth = 26 , criterion = \"entropy\" , random_state = 42)\n",
    "\n",
    "dtree_tuned.fit(X_train, Y_train)\n",
    "\n",
    "tuned_dt_Pred_X_train = dtree_tuned.predict(X_train)\n",
    "\n",
    "tuned_accuracy_train = accuracy_score(Y_train, tuned_dt_Pred_X_train)\n",
    "\n",
    "tuned_dt_Pred_Y_test = dtree_tuned.predict(X_test)\n",
    "\n",
    "tuned_accuracy_test = accuracy_score(Y_test, tuned_dt_Pred_Y_test)\n",
    "\n",
    "print(\"Train\", tuned_accuracy_train)\n",
    "print(\"Test\", tuned_accuracy_test)"
   ]
  },
  {
   "cell_type": "code",
   "execution_count": 181,
   "metadata": {},
   "outputs": [
    {
     "name": "stdout",
     "output_type": "stream",
     "text": [
      "accuracy : 0.9864657643842922\n",
      "Precision : 0.9843729307376506\n",
      "Recall : 0.9886938015429636\n",
      "F1 score : 0.9865286349459155\n",
      "ROC_AUC_Score 0.9864602546011837\n",
      "Jaccard Similarity Score :  98.65 %\n"
     ]
    }
   ],
   "source": [
    "eval_metrics(Y_train, tuned_dt_Pred_X_train)"
   ]
  },
  {
   "cell_type": "code",
   "execution_count": 182,
   "metadata": {},
   "outputs": [
    {
     "name": "stdout",
     "output_type": "stream",
     "text": [
      "accuracy : 0.9218\n",
      "Precision : 0.9169660678642715\n",
      "Recall : 0.9262096774193549\n",
      "F1 score : 0.9215646940822468\n",
      "ROC_AUC_Score 0.9218349974398361\n",
      "Jaccard Similarity Score :  92.18 %\n"
     ]
    }
   ],
   "source": [
    "eval_metrics(Y_test, tuned_dt_Pred_Y_test)"
   ]
  },
  {
   "cell_type": "code",
   "execution_count": 183,
   "metadata": {},
   "outputs": [
    {
     "data": {
      "text/plain": [
       "array([[7363,  118],\n",
       "       [  85, 7433]], dtype=int64)"
      ]
     },
     "execution_count": 183,
     "metadata": {},
     "output_type": "execute_result"
    }
   ],
   "source": [
    "confusion_matrix(Y_train, tuned_dt_Pred_X_train)"
   ]
  },
  {
   "cell_type": "code",
   "execution_count": 184,
   "metadata": {},
   "outputs": [
    {
     "data": {
      "text/plain": [
       "array([[2312,  208],\n",
       "       [ 183, 2297]], dtype=int64)"
      ]
     },
     "execution_count": 184,
     "metadata": {},
     "output_type": "execute_result"
    }
   ],
   "source": [
    "confusion_matrix(Y_test, tuned_dt_Pred_Y_test)"
   ]
  },
  {
   "cell_type": "code",
   "execution_count": null,
   "metadata": {},
   "outputs": [],
   "source": []
  },
  {
   "cell_type": "markdown",
   "metadata": {},
   "source": [
    "## K-Nearest-Neighbour Classifier"
   ]
  },
  {
   "cell_type": "code",
   "execution_count": 185,
   "metadata": {},
   "outputs": [
    {
     "name": "stdout",
     "output_type": "stream",
     "text": [
      "Train 0.9483932853358863\n",
      "Test 0.9280273937532003\n"
     ]
    }
   ],
   "source": [
    "from sklearn.neighbors import KNeighborsClassifier\n",
    "\n",
    "#Create KNN Object.\n",
    "knn = KNeighborsClassifier()\n",
    "\n",
    "knn.fit(X_train,Y_train)\n",
    "\n",
    "Pred_train =knn.predict(X_train)\n",
    "Pred_train_prob =knn.predict_proba(X_train)\n",
    "\n",
    "Accuracy_1 = roc_auc_score(Y_train, Pred_train)\n",
    "\n",
    "Pred_test = knn.predict(X_test)\n",
    "Pred_test_prob =knn.predict_proba(X_test)\n",
    "\n",
    "Accuracy_2 = roc_auc_score(Y_test, Pred_test)\n",
    "print(\"Train\", Accuracy_1)\n",
    "print(\"Test\", Accuracy_2)"
   ]
  },
  {
   "cell_type": "code",
   "execution_count": 186,
   "metadata": {},
   "outputs": [
    {
     "name": "stdout",
     "output_type": "stream",
     "text": [
      "accuracy : 0.9483965597706514\n",
      "Precision : 0.947452229299363\n",
      "Recall : 0.9497206703910615\n",
      "F1 score : 0.9485850936628138\n",
      "ROC_AUC_Score 0.9483932853358863\n",
      "Jaccard Similarity Score :  94.84 %\n"
     ]
    }
   ],
   "source": [
    "eval_metrics(Y_train,Pred_train)"
   ]
  },
  {
   "cell_type": "code",
   "execution_count": 187,
   "metadata": {},
   "outputs": [
    {
     "name": "stdout",
     "output_type": "stream",
     "text": [
      "accuracy : 0.928\n",
      "Precision : 0.924\n",
      "Recall : 0.9314516129032258\n",
      "F1 score : 0.927710843373494\n",
      "ROC_AUC_Score 0.9280273937532003\n",
      "Jaccard Similarity Score :  92.8 %\n"
     ]
    }
   ],
   "source": [
    "eval_metrics(Y_test,Pred_test)"
   ]
  },
  {
   "cell_type": "code",
   "execution_count": 188,
   "metadata": {},
   "outputs": [
    {
     "data": {
      "text/plain": [
       "array([[7085,  396],\n",
       "       [ 378, 7140]], dtype=int64)"
      ]
     },
     "execution_count": 188,
     "metadata": {},
     "output_type": "execute_result"
    }
   ],
   "source": [
    "confusion_matrix(Y_train,Pred_train)"
   ]
  },
  {
   "cell_type": "code",
   "execution_count": 189,
   "metadata": {},
   "outputs": [
    {
     "data": {
      "text/plain": [
       "array([[2330,  190],\n",
       "       [ 170, 2310]], dtype=int64)"
      ]
     },
     "execution_count": 189,
     "metadata": {},
     "output_type": "execute_result"
    }
   ],
   "source": [
    "confusion_matrix(Y_test,Pred_test)"
   ]
  },
  {
   "cell_type": "markdown",
   "metadata": {},
   "source": [
    "## Tuning KNN Classifier using Randomized search"
   ]
  },
  {
   "cell_type": "code",
   "execution_count": 190,
   "metadata": {},
   "outputs": [],
   "source": [
    "#List Hyperparameters that we want to tune.\n",
    "\n",
    "leaf_size = list(range(1,50))\n",
    "n_neighbors = list(range(1,30))\n",
    "p=[1,2]\n",
    "\n",
    "#Convert to dictionary\n",
    "\n",
    "hyperparam = dict(leaf_size=leaf_size, n_neighbors=n_neighbors, p=p)\n",
    "\n",
    "#Create new KNN object\n",
    "\n",
    "knn_2 = KNeighborsClassifier()\n",
    "\n",
    "from sklearn.model_selection import RandomizedSearchCV\n",
    "\n",
    "rsearch_knn = RandomizedSearchCV( estimator = knn_2,\n",
    "                  param_distributions = hyperparam , scoring=\"accuracy\", n_jobs=-1, cv=10, verbose=2 , refit=True)\n"
   ]
  },
  {
   "cell_type": "code",
   "execution_count": 191,
   "metadata": {},
   "outputs": [
    {
     "name": "stdout",
     "output_type": "stream",
     "text": [
      "Fitting 10 folds for each of 10 candidates, totalling 100 fits\n"
     ]
    },
    {
     "name": "stderr",
     "output_type": "stream",
     "text": [
      "[Parallel(n_jobs=-1)]: Using backend LokyBackend with 8 concurrent workers.\n",
      "[Parallel(n_jobs=-1)]: Done  25 tasks      | elapsed:   38.6s\n",
      "[Parallel(n_jobs=-1)]: Done 100 out of 100 | elapsed:  2.4min finished\n"
     ]
    },
    {
     "data": {
      "text/plain": [
       "RandomizedSearchCV(cv=10, error_score=nan,\n",
       "                   estimator=KNeighborsClassifier(algorithm='auto',\n",
       "                                                  leaf_size=30,\n",
       "                                                  metric='minkowski',\n",
       "                                                  metric_params=None,\n",
       "                                                  n_jobs=None, n_neighbors=5,\n",
       "                                                  p=2, weights='uniform'),\n",
       "                   iid='deprecated', n_iter=10, n_jobs=-1,\n",
       "                   param_distributions={'leaf_size': [1, 2, 3, 4, 5, 6, 7, 8, 9,\n",
       "                                                      10, 11, 12, 13, 14, 15,\n",
       "                                                      16, 17, 18, 19, 20, 21,\n",
       "                                                      22, 23, 24, 25, 26, 27,\n",
       "                                                      28, 29, 30, ...],\n",
       "                                        'n_neighbors': [1, 2, 3, 4, 5, 6, 7, 8,\n",
       "                                                        9, 10, 11, 12, 13, 14,\n",
       "                                                        15, 16, 17, 18, 19, 20,\n",
       "                                                        21, 22, 23, 24, 25, 26,\n",
       "                                                        27, 28, 29],\n",
       "                                        'p': [1, 2]},\n",
       "                   pre_dispatch='2*n_jobs', random_state=None, refit=True,\n",
       "                   return_train_score=False, scoring='accuracy', verbose=2)"
      ]
     },
     "execution_count": 191,
     "metadata": {},
     "output_type": "execute_result"
    }
   ],
   "source": [
    "rsearch_knn.fit(X_train,Y_train)"
   ]
  },
  {
   "cell_type": "code",
   "execution_count": 194,
   "metadata": {},
   "outputs": [
    {
     "data": {
      "text/plain": [
       "{'p': 1, 'n_neighbors': 21, 'leaf_size': 43}"
      ]
     },
     "execution_count": 194,
     "metadata": {},
     "output_type": "execute_result"
    }
   ],
   "source": [
    "rsearch_knn.best_params_"
   ]
  },
  {
   "cell_type": "code",
   "execution_count": 195,
   "metadata": {},
   "outputs": [
    {
     "data": {
      "text/plain": [
       "0.9335958194351791"
      ]
     },
     "execution_count": 195,
     "metadata": {},
     "output_type": "execute_result"
    }
   ],
   "source": [
    "rsearch_knn.best_score_"
   ]
  },
  {
   "cell_type": "markdown",
   "metadata": {},
   "source": [
    "## Tuned KNN classifer"
   ]
  },
  {
   "cell_type": "code",
   "execution_count": 196,
   "metadata": {},
   "outputs": [
    {
     "name": "stdout",
     "output_type": "stream",
     "text": [
      "Train 0.9430671294654092\n",
      "Test 0.9416122631848438\n"
     ]
    }
   ],
   "source": [
    "from sklearn.neighbors import KNeighborsClassifier\n",
    "\n",
    "#Create KNN Object.\n",
    "tuned_knn = KNeighborsClassifier(p = 1 , n_neighbors = 21 , leaf_size = 43)\n",
    "\n",
    "tuned_knn.fit(X_train,Y_train)\n",
    "\n",
    "tuned_knn_Pred_train =tuned_knn.predict(X_train)\n",
    "tuned_knn_Pred_train_prob =tuned_knn.predict_proba(X_train)\n",
    "\n",
    "Tuned_Accuracy_1 = roc_auc_score(Y_train, tuned_knn_Pred_train)\n",
    "\n",
    "tuned_knn_Pred_test = tuned_knn.predict(X_test)\n",
    "tuned_knn_Pred_test_prob =tuned_knn.predict_proba(X_test)\n",
    "\n",
    "Tuned_Accuracy_2 = roc_auc_score(Y_test, tuned_knn_Pred_test)\n",
    "print(\"Train\", Tuned_Accuracy_1)\n",
    "print(\"Test\", Tuned_Accuracy_2)"
   ]
  },
  {
   "cell_type": "code",
   "execution_count": 197,
   "metadata": {},
   "outputs": [
    {
     "name": "stdout",
     "output_type": "stream",
     "text": [
      "accuracy : 0.9430628708580572\n",
      "Precision : 0.9448598130841122\n",
      "Recall : 0.9413407821229051\n",
      "F1 score : 0.9430970149253732\n",
      "ROC_AUC_Score 0.9430671294654092\n",
      "Jaccard Similarity Score :  94.31 %\n"
     ]
    }
   ],
   "source": [
    "eval_metrics(Y_train, tuned_knn_Pred_train)"
   ]
  },
  {
   "cell_type": "code",
   "execution_count": 198,
   "metadata": {},
   "outputs": [
    {
     "name": "stdout",
     "output_type": "stream",
     "text": [
      "accuracy : 0.9416\n",
      "Precision : 0.9393574297188755\n",
      "Recall : 0.9431451612903226\n",
      "F1 score : 0.9412474849094566\n",
      "ROC_AUC_Score 0.9416122631848438\n",
      "Jaccard Similarity Score :  94.16 %\n"
     ]
    }
   ],
   "source": [
    "eval_metrics(Y_test, tuned_knn_Pred_test)"
   ]
  },
  {
   "cell_type": "code",
   "execution_count": 199,
   "metadata": {},
   "outputs": [
    {
     "data": {
      "text/plain": [
       "array([[7068,  413],\n",
       "       [ 441, 7077]], dtype=int64)"
      ]
     },
     "execution_count": 199,
     "metadata": {},
     "output_type": "execute_result"
    }
   ],
   "source": [
    "confusion_matrix(Y_train, tuned_knn_Pred_train)"
   ]
  },
  {
   "cell_type": "code",
   "execution_count": 200,
   "metadata": {},
   "outputs": [
    {
     "data": {
      "text/plain": [
       "array([[2369,  151],\n",
       "       [ 141, 2339]], dtype=int64)"
      ]
     },
     "execution_count": 200,
     "metadata": {},
     "output_type": "execute_result"
    }
   ],
   "source": [
    "confusion_matrix(Y_test, tuned_knn_Pred_test)"
   ]
  },
  {
   "cell_type": "code",
   "execution_count": 276,
   "metadata": {},
   "outputs": [
    {
     "data": {
      "text/html": [
       "\n",
       "\n",
       "\n",
       "\n",
       "\n",
       "\n",
       "  <div class=\"bk-root\" id=\"51889a54-cd17-4d91-b199-ac7e7f9b36c9\" data-root-id=\"2672\"></div>\n"
      ]
     },
     "metadata": {},
     "output_type": "display_data"
    },
    {
     "data": {
      "application/javascript": [
       "(function(root) {\n",
       "  function embed_document(root) {\n",
       "    \n",
       "  var docs_json = {\"28304eb6-03ec-4919-bf5b-32b2258cb51a\":{\"roots\":{\"references\":[{\"attributes\":{\"below\":[{\"id\":\"2683\",\"type\":\"LinearAxis\"}],\"center\":[{\"id\":\"2687\",\"type\":\"Grid\"},{\"id\":\"2692\",\"type\":\"Grid\"},{\"id\":\"2717\",\"type\":\"Legend\"}],\"left\":[{\"id\":\"2688\",\"type\":\"LinearAxis\"}],\"renderers\":[{\"id\":\"2709\",\"type\":\"GlyphRenderer\"},{\"id\":\"2722\",\"type\":\"GlyphRenderer\"}],\"title\":{\"id\":\"2673\",\"type\":\"Title\"},\"toolbar\":{\"id\":\"2699\",\"type\":\"Toolbar\"},\"x_range\":{\"id\":\"2675\",\"type\":\"DataRange1d\"},\"x_scale\":{\"id\":\"2679\",\"type\":\"LinearScale\"},\"y_range\":{\"id\":\"2677\",\"type\":\"DataRange1d\"},\"y_scale\":{\"id\":\"2681\",\"type\":\"LinearScale\"}},\"id\":\"2672\",\"subtype\":\"Figure\",\"type\":\"Plot\"},{\"attributes\":{},\"id\":\"2713\",\"type\":\"BasicTickFormatter\"},{\"attributes\":{\"formatter\":{\"id\":\"2715\",\"type\":\"BasicTickFormatter\"},\"ticker\":{\"id\":\"2684\",\"type\":\"BasicTicker\"}},\"id\":\"2683\",\"type\":\"LinearAxis\"},{\"attributes\":{\"ticker\":{\"id\":\"2684\",\"type\":\"BasicTicker\"}},\"id\":\"2687\",\"type\":\"Grid\"},{\"attributes\":{\"callback\":null},\"id\":\"2675\",\"type\":\"DataRange1d\"},{\"attributes\":{\"source\":{\"id\":\"2706\",\"type\":\"ColumnDataSource\"}},\"id\":\"2710\",\"type\":\"CDSView\"},{\"attributes\":{\"data_source\":{\"id\":\"2719\",\"type\":\"ColumnDataSource\"},\"glyph\":{\"id\":\"2720\",\"type\":\"Line\"},\"hover_glyph\":null,\"muted_glyph\":null,\"nonselection_glyph\":{\"id\":\"2721\",\"type\":\"Line\"},\"selection_glyph\":null,\"view\":{\"id\":\"2723\",\"type\":\"CDSView\"}},\"id\":\"2722\",\"type\":\"GlyphRenderer\"},{\"attributes\":{},\"id\":\"2696\",\"type\":\"SaveTool\"},{\"attributes\":{},\"id\":\"2697\",\"type\":\"ResetTool\"},{\"attributes\":{\"line_color\":\"#d15555\",\"line_dash\":[2,4,6,4],\"line_width\":2,\"x\":{\"field\":\"x\"},\"y\":{\"field\":\"y\"}},\"id\":\"2720\",\"type\":\"Line\"},{\"attributes\":{\"data_source\":{\"id\":\"2706\",\"type\":\"ColumnDataSource\"},\"glyph\":{\"id\":\"2707\",\"type\":\"Line\"},\"hover_glyph\":null,\"muted_glyph\":null,\"nonselection_glyph\":{\"id\":\"2708\",\"type\":\"Line\"},\"selection_glyph\":null,\"view\":{\"id\":\"2710\",\"type\":\"CDSView\"}},\"id\":\"2709\",\"type\":\"GlyphRenderer\"},{\"attributes\":{},\"id\":\"2681\",\"type\":\"LinearScale\"},{\"attributes\":{},\"id\":\"2698\",\"type\":\"HelpTool\"},{\"attributes\":{\"text\":\"ROC Curve - Train data\"},\"id\":\"2673\",\"type\":\"Title\"},{\"attributes\":{\"items\":[{\"id\":\"2718\",\"type\":\"LegendItem\"}]},\"id\":\"2717\",\"type\":\"Legend\"},{\"attributes\":{},\"id\":\"2832\",\"type\":\"UnionRenderers\"},{\"attributes\":{\"line_alpha\":0.1,\"line_color\":\"#1f77b4\",\"line_dash\":[2,4,6,4],\"line_width\":2,\"x\":{\"field\":\"x\"},\"y\":{\"field\":\"y\"}},\"id\":\"2721\",\"type\":\"Line\"},{\"attributes\":{},\"id\":\"2694\",\"type\":\"WheelZoomTool\"},{\"attributes\":{},\"id\":\"2829\",\"type\":\"Selection\"},{\"attributes\":{\"formatter\":{\"id\":\"2713\",\"type\":\"BasicTickFormatter\"},\"ticker\":{\"id\":\"2689\",\"type\":\"BasicTicker\"}},\"id\":\"2688\",\"type\":\"LinearAxis\"},{\"attributes\":{},\"id\":\"2693\",\"type\":\"PanTool\"},{\"attributes\":{\"overlay\":{\"id\":\"2716\",\"type\":\"BoxAnnotation\"}},\"id\":\"2695\",\"type\":\"BoxZoomTool\"},{\"attributes\":{\"callback\":null,\"data\":{\"x\":{\"__ndarray__\":\"AAAAAAAAAAC+kUWHB0SsPwAAAAAAAPA/\",\"dtype\":\"float64\",\"shape\":[3]},\"y\":{\"__ndarray__\":\"AAAAAAAAAABtfDO0dh/uPwAAAAAAAPA/\",\"dtype\":\"float64\",\"shape\":[3]}},\"selected\":{\"id\":\"2829\",\"type\":\"Selection\"},\"selection_policy\":{\"id\":\"2830\",\"type\":\"UnionRenderers\"}},\"id\":\"2706\",\"type\":\"ColumnDataSource\"},{\"attributes\":{},\"id\":\"2715\",\"type\":\"BasicTickFormatter\"},{\"attributes\":{},\"id\":\"2831\",\"type\":\"Selection\"},{\"attributes\":{\"source\":{\"id\":\"2719\",\"type\":\"ColumnDataSource\"}},\"id\":\"2723\",\"type\":\"CDSView\"},{\"attributes\":{},\"id\":\"2684\",\"type\":\"BasicTicker\"},{\"attributes\":{},\"id\":\"2679\",\"type\":\"LinearScale\"},{\"attributes\":{\"dimension\":1,\"ticker\":{\"id\":\"2689\",\"type\":\"BasicTicker\"}},\"id\":\"2692\",\"type\":\"Grid\"},{\"attributes\":{\"callback\":null,\"data\":{\"x\":[0,1],\"y\":[0,1]},\"selected\":{\"id\":\"2831\",\"type\":\"Selection\"},\"selection_policy\":{\"id\":\"2832\",\"type\":\"UnionRenderers\"}},\"id\":\"2719\",\"type\":\"ColumnDataSource\"},{\"attributes\":{\"active_drag\":\"auto\",\"active_inspect\":\"auto\",\"active_multi\":null,\"active_scroll\":\"auto\",\"active_tap\":\"auto\",\"tools\":[{\"id\":\"2693\",\"type\":\"PanTool\"},{\"id\":\"2694\",\"type\":\"WheelZoomTool\"},{\"id\":\"2695\",\"type\":\"BoxZoomTool\"},{\"id\":\"2696\",\"type\":\"SaveTool\"},{\"id\":\"2697\",\"type\":\"ResetTool\"},{\"id\":\"2698\",\"type\":\"HelpTool\"}]},\"id\":\"2699\",\"type\":\"Toolbar\"},{\"attributes\":{\"bottom_units\":\"screen\",\"fill_alpha\":{\"value\":0.5},\"fill_color\":{\"value\":\"lightgrey\"},\"left_units\":\"screen\",\"level\":\"overlay\",\"line_alpha\":{\"value\":1.0},\"line_color\":{\"value\":\"black\"},\"line_dash\":[4,4],\"line_width\":{\"value\":2},\"render_mode\":\"css\",\"right_units\":\"screen\",\"top_units\":\"screen\"},\"id\":\"2716\",\"type\":\"BoxAnnotation\"},{\"attributes\":{},\"id\":\"2689\",\"type\":\"BasicTicker\"},{\"attributes\":{\"label\":{\"value\":\"AUC = 0.943\"},\"renderers\":[{\"id\":\"2709\",\"type\":\"GlyphRenderer\"}]},\"id\":\"2718\",\"type\":\"LegendItem\"},{\"attributes\":{\"callback\":null},\"id\":\"2677\",\"type\":\"DataRange1d\"},{\"attributes\":{\"line_alpha\":0.1,\"line_color\":\"#1f77b4\",\"line_width\":2,\"x\":{\"field\":\"x\"},\"y\":{\"field\":\"y\"}},\"id\":\"2708\",\"type\":\"Line\"},{\"attributes\":{},\"id\":\"2830\",\"type\":\"UnionRenderers\"},{\"attributes\":{\"line_color\":\"#0077bc\",\"line_width\":2,\"x\":{\"field\":\"x\"},\"y\":{\"field\":\"y\"}},\"id\":\"2707\",\"type\":\"Line\"}],\"root_ids\":[\"2672\"]},\"title\":\"Bokeh Application\",\"version\":\"1.4.0\"}};\n",
       "  var render_items = [{\"docid\":\"28304eb6-03ec-4919-bf5b-32b2258cb51a\",\"roots\":{\"2672\":\"51889a54-cd17-4d91-b199-ac7e7f9b36c9\"}}];\n",
       "  root.Bokeh.embed.embed_items_notebook(docs_json, render_items);\n",
       "\n",
       "  }\n",
       "  if (root.Bokeh !== undefined) {\n",
       "    embed_document(root);\n",
       "  } else {\n",
       "    var attempts = 0;\n",
       "    var timer = setInterval(function(root) {\n",
       "      if (root.Bokeh !== undefined) {\n",
       "        clearInterval(timer);\n",
       "        embed_document(root);\n",
       "      } else {\n",
       "        attempts++;\n",
       "        if (attempts > 100) {\n",
       "          clearInterval(timer);\n",
       "          console.log(\"Bokeh: ERROR: Unable to run BokehJS code because BokehJS library is missing\");\n",
       "        }\n",
       "      }\n",
       "    }, 10, root)\n",
       "  }\n",
       "})(window);"
      ],
      "application/vnd.bokehjs_exec.v0+json": ""
     },
     "metadata": {
      "application/vnd.bokehjs_exec.v0+json": {
       "id": "2672"
      }
     },
     "output_type": "display_data"
    }
   ],
   "source": [
    "plt.rcParams[\"figure.figsize\"] = (5,5)\n",
    "\n",
    "from sklearn.metrics import auc\n",
    "fpr, tpr, _ = roc_curve(np.array(Y_train), tuned_knn_Pred_train)\n",
    "auc = auc(fpr,tpr)\n",
    "p = figure(title=\"ROC Curve - Train data\")\n",
    "r = p.line(fpr,tpr,color='#0077bc',legend = 'AUC = '+ str(round(auc,3)), line_width=2)\n",
    "s = p.line([0,1],[0,1], color= '#d15555',line_dash='dotdash',line_width=2)\n",
    "show(p)"
   ]
  },
  {
   "cell_type": "code",
   "execution_count": 280,
   "metadata": {},
   "outputs": [
    {
     "data": {
      "text/html": [
       "\n",
       "\n",
       "\n",
       "\n",
       "\n",
       "\n",
       "  <div class=\"bk-root\" id=\"37a954bd-0fd3-4492-b9b9-a33e6bd68ef3\" data-root-id=\"2894\"></div>\n"
      ]
     },
     "metadata": {},
     "output_type": "display_data"
    },
    {
     "data": {
      "application/javascript": [
       "(function(root) {\n",
       "  function embed_document(root) {\n",
       "    \n",
       "  var docs_json = {\"49f51261-2b51-45db-b9fc-5e42517f9a8f\":{\"roots\":{\"references\":[{\"attributes\":{\"below\":[{\"id\":\"2905\",\"type\":\"LinearAxis\"}],\"center\":[{\"id\":\"2909\",\"type\":\"Grid\"},{\"id\":\"2914\",\"type\":\"Grid\"},{\"id\":\"2939\",\"type\":\"Legend\"}],\"left\":[{\"id\":\"2910\",\"type\":\"LinearAxis\"}],\"renderers\":[{\"id\":\"2931\",\"type\":\"GlyphRenderer\"},{\"id\":\"2944\",\"type\":\"GlyphRenderer\"}],\"title\":{\"id\":\"2895\",\"type\":\"Title\"},\"toolbar\":{\"id\":\"2921\",\"type\":\"Toolbar\"},\"x_range\":{\"id\":\"2897\",\"type\":\"DataRange1d\"},\"x_scale\":{\"id\":\"2901\",\"type\":\"LinearScale\"},\"y_range\":{\"id\":\"2899\",\"type\":\"DataRange1d\"},\"y_scale\":{\"id\":\"2903\",\"type\":\"LinearScale\"}},\"id\":\"2894\",\"subtype\":\"Figure\",\"type\":\"Plot\"},{\"attributes\":{},\"id\":\"2920\",\"type\":\"HelpTool\"},{\"attributes\":{\"formatter\":{\"id\":\"2937\",\"type\":\"BasicTickFormatter\"},\"ticker\":{\"id\":\"2906\",\"type\":\"BasicTicker\"}},\"id\":\"2905\",\"type\":\"LinearAxis\"},{\"attributes\":{\"callback\":null,\"data\":{\"x\":{\"__ndarray__\":\"AAAAAAAAAADf6q3e6q2uPwAAAAAAAPA/\",\"dtype\":\"float64\",\"shape\":[3]},\"y\":{\"__ndarray__\":\"AAAAAAAAAAAu7OPCPi7uPwAAAAAAAPA/\",\"dtype\":\"float64\",\"shape\":[3]}},\"selected\":{\"id\":\"3061\",\"type\":\"Selection\"},\"selection_policy\":{\"id\":\"3062\",\"type\":\"UnionRenderers\"}},\"id\":\"2928\",\"type\":\"ColumnDataSource\"},{\"attributes\":{\"data_source\":{\"id\":\"2928\",\"type\":\"ColumnDataSource\"},\"glyph\":{\"id\":\"2929\",\"type\":\"Line\"},\"hover_glyph\":null,\"muted_glyph\":null,\"nonselection_glyph\":{\"id\":\"2930\",\"type\":\"Line\"},\"selection_glyph\":null,\"view\":{\"id\":\"2932\",\"type\":\"CDSView\"}},\"id\":\"2931\",\"type\":\"GlyphRenderer\"},{\"attributes\":{},\"id\":\"2916\",\"type\":\"WheelZoomTool\"},{\"attributes\":{\"label\":{\"value\":\"AUC = 0.942\"},\"renderers\":[{\"id\":\"2931\",\"type\":\"GlyphRenderer\"}]},\"id\":\"2940\",\"type\":\"LegendItem\"},{\"attributes\":{\"text\":\"ROC Curve - Test data\"},\"id\":\"2895\",\"type\":\"Title\"},{\"attributes\":{},\"id\":\"2935\",\"type\":\"BasicTickFormatter\"},{\"attributes\":{},\"id\":\"2937\",\"type\":\"BasicTickFormatter\"},{\"attributes\":{\"line_alpha\":0.1,\"line_color\":\"#1f77b4\",\"line_width\":2,\"x\":{\"field\":\"x\"},\"y\":{\"field\":\"y\"}},\"id\":\"2930\",\"type\":\"Line\"},{\"attributes\":{\"source\":{\"id\":\"2928\",\"type\":\"ColumnDataSource\"}},\"id\":\"2932\",\"type\":\"CDSView\"},{\"attributes\":{\"data_source\":{\"id\":\"2941\",\"type\":\"ColumnDataSource\"},\"glyph\":{\"id\":\"2942\",\"type\":\"Line\"},\"hover_glyph\":null,\"muted_glyph\":null,\"nonselection_glyph\":{\"id\":\"2943\",\"type\":\"Line\"},\"selection_glyph\":null,\"view\":{\"id\":\"2945\",\"type\":\"CDSView\"}},\"id\":\"2944\",\"type\":\"GlyphRenderer\"},{\"attributes\":{\"formatter\":{\"id\":\"2935\",\"type\":\"BasicTickFormatter\"},\"ticker\":{\"id\":\"2911\",\"type\":\"BasicTicker\"}},\"id\":\"2910\",\"type\":\"LinearAxis\"},{\"attributes\":{\"active_drag\":\"auto\",\"active_inspect\":\"auto\",\"active_multi\":null,\"active_scroll\":\"auto\",\"active_tap\":\"auto\",\"tools\":[{\"id\":\"2915\",\"type\":\"PanTool\"},{\"id\":\"2916\",\"type\":\"WheelZoomTool\"},{\"id\":\"2917\",\"type\":\"BoxZoomTool\"},{\"id\":\"2918\",\"type\":\"SaveTool\"},{\"id\":\"2919\",\"type\":\"ResetTool\"},{\"id\":\"2920\",\"type\":\"HelpTool\"}]},\"id\":\"2921\",\"type\":\"Toolbar\"},{\"attributes\":{},\"id\":\"3063\",\"type\":\"Selection\"},{\"attributes\":{\"line_alpha\":0.1,\"line_color\":\"#1f77b4\",\"line_dash\":[2,4,6,4],\"line_width\":2,\"x\":{\"field\":\"x\"},\"y\":{\"field\":\"y\"}},\"id\":\"2943\",\"type\":\"Line\"},{\"attributes\":{\"callback\":null,\"data\":{\"x\":[0,1],\"y\":[0,1]},\"selected\":{\"id\":\"3063\",\"type\":\"Selection\"},\"selection_policy\":{\"id\":\"3064\",\"type\":\"UnionRenderers\"}},\"id\":\"2941\",\"type\":\"ColumnDataSource\"},{\"attributes\":{},\"id\":\"2911\",\"type\":\"BasicTicker\"},{\"attributes\":{\"ticker\":{\"id\":\"2906\",\"type\":\"BasicTicker\"}},\"id\":\"2909\",\"type\":\"Grid\"},{\"attributes\":{\"line_color\":\"#0077bc\",\"line_width\":2,\"x\":{\"field\":\"x\"},\"y\":{\"field\":\"y\"}},\"id\":\"2929\",\"type\":\"Line\"},{\"attributes\":{\"dimension\":1,\"ticker\":{\"id\":\"2911\",\"type\":\"BasicTicker\"}},\"id\":\"2914\",\"type\":\"Grid\"},{\"attributes\":{},\"id\":\"2903\",\"type\":\"LinearScale\"},{\"attributes\":{},\"id\":\"2901\",\"type\":\"LinearScale\"},{\"attributes\":{\"overlay\":{\"id\":\"2938\",\"type\":\"BoxAnnotation\"}},\"id\":\"2917\",\"type\":\"BoxZoomTool\"},{\"attributes\":{},\"id\":\"2918\",\"type\":\"SaveTool\"},{\"attributes\":{},\"id\":\"3061\",\"type\":\"Selection\"},{\"attributes\":{\"items\":[{\"id\":\"2940\",\"type\":\"LegendItem\"}]},\"id\":\"2939\",\"type\":\"Legend\"},{\"attributes\":{\"callback\":null},\"id\":\"2897\",\"type\":\"DataRange1d\"},{\"attributes\":{\"source\":{\"id\":\"2941\",\"type\":\"ColumnDataSource\"}},\"id\":\"2945\",\"type\":\"CDSView\"},{\"attributes\":{\"bottom_units\":\"screen\",\"fill_alpha\":{\"value\":0.5},\"fill_color\":{\"value\":\"lightgrey\"},\"left_units\":\"screen\",\"level\":\"overlay\",\"line_alpha\":{\"value\":1.0},\"line_color\":{\"value\":\"black\"},\"line_dash\":[4,4],\"line_width\":{\"value\":2},\"render_mode\":\"css\",\"right_units\":\"screen\",\"top_units\":\"screen\"},\"id\":\"2938\",\"type\":\"BoxAnnotation\"},{\"attributes\":{\"line_color\":\"#d15555\",\"line_dash\":[2,4,6,4],\"line_width\":2,\"x\":{\"field\":\"x\"},\"y\":{\"field\":\"y\"}},\"id\":\"2942\",\"type\":\"Line\"},{\"attributes\":{},\"id\":\"2915\",\"type\":\"PanTool\"},{\"attributes\":{},\"id\":\"2906\",\"type\":\"BasicTicker\"},{\"attributes\":{},\"id\":\"2919\",\"type\":\"ResetTool\"},{\"attributes\":{},\"id\":\"3062\",\"type\":\"UnionRenderers\"},{\"attributes\":{},\"id\":\"3064\",\"type\":\"UnionRenderers\"},{\"attributes\":{\"callback\":null},\"id\":\"2899\",\"type\":\"DataRange1d\"}],\"root_ids\":[\"2894\"]},\"title\":\"Bokeh Application\",\"version\":\"1.4.0\"}};\n",
       "  var render_items = [{\"docid\":\"49f51261-2b51-45db-b9fc-5e42517f9a8f\",\"roots\":{\"2894\":\"37a954bd-0fd3-4492-b9b9-a33e6bd68ef3\"}}];\n",
       "  root.Bokeh.embed.embed_items_notebook(docs_json, render_items);\n",
       "\n",
       "  }\n",
       "  if (root.Bokeh !== undefined) {\n",
       "    embed_document(root);\n",
       "  } else {\n",
       "    var attempts = 0;\n",
       "    var timer = setInterval(function(root) {\n",
       "      if (root.Bokeh !== undefined) {\n",
       "        clearInterval(timer);\n",
       "        embed_document(root);\n",
       "      } else {\n",
       "        attempts++;\n",
       "        if (attempts > 100) {\n",
       "          clearInterval(timer);\n",
       "          console.log(\"Bokeh: ERROR: Unable to run BokehJS code because BokehJS library is missing\");\n",
       "        }\n",
       "      }\n",
       "    }, 10, root)\n",
       "  }\n",
       "})(window);"
      ],
      "application/vnd.bokehjs_exec.v0+json": ""
     },
     "metadata": {
      "application/vnd.bokehjs_exec.v0+json": {
       "id": "2894"
      }
     },
     "output_type": "display_data"
    }
   ],
   "source": [
    "from sklearn.metrics import auc\n",
    "fpr, tpr, _ = roc_curve(np.array(Y_test), tuned_knn_Pred_test)\n",
    "auc = auc(fpr,tpr)\n",
    "p = figure(title=\"ROC Curve - Test data\")\n",
    "r = p.line(fpr,tpr,color='#0077bc',legend = 'AUC = '+ str(round(auc,3)), line_width=2)\n",
    "s = p.line([0,1],[0,1], color= '#d15555',line_dash='dotdash',line_width=2)\n",
    "show(p)"
   ]
  },
  {
   "cell_type": "code",
   "execution_count": 311,
   "metadata": {},
   "outputs": [],
   "source": [
    "validate_train_knn = model_validation(X_train,tuned_xgb_Pred_Y_Train,tuned_knn)\n",
    "validate_test_knn = model_validation(X_test,tuned_xgb_Pred_Y_Test,tuned_knn)"
   ]
  },
  {
   "cell_type": "code",
   "execution_count": 312,
   "metadata": {},
   "outputs": [
    {
     "data": {
      "text/html": [
       "<div>\n",
       "<style scoped>\n",
       "    .dataframe tbody tr th:only-of-type {\n",
       "        vertical-align: middle;\n",
       "    }\n",
       "\n",
       "    .dataframe tbody tr th {\n",
       "        vertical-align: top;\n",
       "    }\n",
       "\n",
       "    .dataframe thead th {\n",
       "        text-align: right;\n",
       "    }\n",
       "</style>\n",
       "<table border=\"1\" class=\"dataframe\">\n",
       "  <thead>\n",
       "    <tr style=\"text-align: right;\">\n",
       "      <th></th>\n",
       "      <th>min_score</th>\n",
       "      <th>max_score</th>\n",
       "      <th>Bad</th>\n",
       "      <th>Good</th>\n",
       "      <th>Total</th>\n",
       "    </tr>\n",
       "    <tr>\n",
       "      <th>Decile</th>\n",
       "      <th></th>\n",
       "      <th></th>\n",
       "      <th></th>\n",
       "      <th></th>\n",
       "      <th></th>\n",
       "    </tr>\n",
       "  </thead>\n",
       "  <tbody>\n",
       "    <tr>\n",
       "      <th>1</th>\n",
       "      <td>1.000000</td>\n",
       "      <td>1.000000</td>\n",
       "      <td>1500.0</td>\n",
       "      <td>0.0</td>\n",
       "      <td>1500.0</td>\n",
       "    </tr>\n",
       "    <tr>\n",
       "      <th>2</th>\n",
       "      <td>0.952381</td>\n",
       "      <td>1.000000</td>\n",
       "      <td>1500.0</td>\n",
       "      <td>0.0</td>\n",
       "      <td>1500.0</td>\n",
       "    </tr>\n",
       "    <tr>\n",
       "      <th>3</th>\n",
       "      <td>0.857143</td>\n",
       "      <td>0.952381</td>\n",
       "      <td>1499.0</td>\n",
       "      <td>1.0</td>\n",
       "      <td>1500.0</td>\n",
       "    </tr>\n",
       "    <tr>\n",
       "      <th>4</th>\n",
       "      <td>0.714286</td>\n",
       "      <td>0.857143</td>\n",
       "      <td>1485.0</td>\n",
       "      <td>15.0</td>\n",
       "      <td>1500.0</td>\n",
       "    </tr>\n",
       "    <tr>\n",
       "      <th>5</th>\n",
       "      <td>0.476190</td>\n",
       "      <td>0.714286</td>\n",
       "      <td>1224.0</td>\n",
       "      <td>275.0</td>\n",
       "      <td>1499.0</td>\n",
       "    </tr>\n",
       "    <tr>\n",
       "      <th>6</th>\n",
       "      <td>0.238095</td>\n",
       "      <td>0.476190</td>\n",
       "      <td>337.0</td>\n",
       "      <td>1163.0</td>\n",
       "      <td>1500.0</td>\n",
       "    </tr>\n",
       "    <tr>\n",
       "      <th>7</th>\n",
       "      <td>0.142857</td>\n",
       "      <td>0.238095</td>\n",
       "      <td>19.0</td>\n",
       "      <td>1481.0</td>\n",
       "      <td>1500.0</td>\n",
       "    </tr>\n",
       "    <tr>\n",
       "      <th>8</th>\n",
       "      <td>0.047619</td>\n",
       "      <td>0.142857</td>\n",
       "      <td>1.0</td>\n",
       "      <td>1499.0</td>\n",
       "      <td>1500.0</td>\n",
       "    </tr>\n",
       "    <tr>\n",
       "      <th>9</th>\n",
       "      <td>0.000000</td>\n",
       "      <td>0.047619</td>\n",
       "      <td>0.0</td>\n",
       "      <td>1500.0</td>\n",
       "      <td>1500.0</td>\n",
       "    </tr>\n",
       "    <tr>\n",
       "      <th>10</th>\n",
       "      <td>0.000000</td>\n",
       "      <td>0.000000</td>\n",
       "      <td>0.0</td>\n",
       "      <td>1500.0</td>\n",
       "      <td>1500.0</td>\n",
       "    </tr>\n",
       "  </tbody>\n",
       "</table>\n",
       "</div>"
      ],
      "text/plain": [
       "        min_score  max_score     Bad    Good   Total\n",
       "Decile                                              \n",
       "1        1.000000   1.000000  1500.0     0.0  1500.0\n",
       "2        0.952381   1.000000  1500.0     0.0  1500.0\n",
       "3        0.857143   0.952381  1499.0     1.0  1500.0\n",
       "4        0.714286   0.857143  1485.0    15.0  1500.0\n",
       "5        0.476190   0.714286  1224.0   275.0  1499.0\n",
       "6        0.238095   0.476190   337.0  1163.0  1500.0\n",
       "7        0.142857   0.238095    19.0  1481.0  1500.0\n",
       "8        0.047619   0.142857     1.0  1499.0  1500.0\n",
       "9        0.000000   0.047619     0.0  1500.0  1500.0\n",
       "10       0.000000   0.000000     0.0  1500.0  1500.0"
      ]
     },
     "execution_count": 312,
     "metadata": {},
     "output_type": "execute_result"
    }
   ],
   "source": [
    "validate_train_knn"
   ]
  },
  {
   "cell_type": "code",
   "execution_count": 313,
   "metadata": {},
   "outputs": [
    {
     "data": {
      "text/html": [
       "<div>\n",
       "<style scoped>\n",
       "    .dataframe tbody tr th:only-of-type {\n",
       "        vertical-align: middle;\n",
       "    }\n",
       "\n",
       "    .dataframe tbody tr th {\n",
       "        vertical-align: top;\n",
       "    }\n",
       "\n",
       "    .dataframe thead th {\n",
       "        text-align: right;\n",
       "    }\n",
       "</style>\n",
       "<table border=\"1\" class=\"dataframe\">\n",
       "  <thead>\n",
       "    <tr style=\"text-align: right;\">\n",
       "      <th></th>\n",
       "      <th>min_score</th>\n",
       "      <th>max_score</th>\n",
       "      <th>Bad</th>\n",
       "      <th>Good</th>\n",
       "      <th>Total</th>\n",
       "    </tr>\n",
       "    <tr>\n",
       "      <th>Decile</th>\n",
       "      <th></th>\n",
       "      <th></th>\n",
       "      <th></th>\n",
       "      <th></th>\n",
       "      <th></th>\n",
       "    </tr>\n",
       "  </thead>\n",
       "  <tbody>\n",
       "    <tr>\n",
       "      <th>1</th>\n",
       "      <td>1.000000</td>\n",
       "      <td>1.000000</td>\n",
       "      <td>500.0</td>\n",
       "      <td>0.0</td>\n",
       "      <td>500.0</td>\n",
       "    </tr>\n",
       "    <tr>\n",
       "      <th>2</th>\n",
       "      <td>0.952381</td>\n",
       "      <td>1.000000</td>\n",
       "      <td>500.0</td>\n",
       "      <td>0.0</td>\n",
       "      <td>500.0</td>\n",
       "    </tr>\n",
       "    <tr>\n",
       "      <th>3</th>\n",
       "      <td>0.857143</td>\n",
       "      <td>0.952381</td>\n",
       "      <td>499.0</td>\n",
       "      <td>1.0</td>\n",
       "      <td>500.0</td>\n",
       "    </tr>\n",
       "    <tr>\n",
       "      <th>4</th>\n",
       "      <td>0.714286</td>\n",
       "      <td>0.857143</td>\n",
       "      <td>492.0</td>\n",
       "      <td>8.0</td>\n",
       "      <td>500.0</td>\n",
       "    </tr>\n",
       "    <tr>\n",
       "      <th>5</th>\n",
       "      <td>0.476190</td>\n",
       "      <td>0.714286</td>\n",
       "      <td>404.0</td>\n",
       "      <td>96.0</td>\n",
       "      <td>500.0</td>\n",
       "    </tr>\n",
       "    <tr>\n",
       "      <th>6</th>\n",
       "      <td>0.238095</td>\n",
       "      <td>0.476190</td>\n",
       "      <td>115.0</td>\n",
       "      <td>385.0</td>\n",
       "      <td>500.0</td>\n",
       "    </tr>\n",
       "    <tr>\n",
       "      <th>7</th>\n",
       "      <td>0.142857</td>\n",
       "      <td>0.238095</td>\n",
       "      <td>4.0</td>\n",
       "      <td>496.0</td>\n",
       "      <td>500.0</td>\n",
       "    </tr>\n",
       "    <tr>\n",
       "      <th>8</th>\n",
       "      <td>0.047619</td>\n",
       "      <td>0.142857</td>\n",
       "      <td>0.0</td>\n",
       "      <td>500.0</td>\n",
       "      <td>500.0</td>\n",
       "    </tr>\n",
       "    <tr>\n",
       "      <th>9</th>\n",
       "      <td>0.000000</td>\n",
       "      <td>0.047619</td>\n",
       "      <td>0.0</td>\n",
       "      <td>500.0</td>\n",
       "      <td>500.0</td>\n",
       "    </tr>\n",
       "    <tr>\n",
       "      <th>10</th>\n",
       "      <td>0.000000</td>\n",
       "      <td>0.000000</td>\n",
       "      <td>0.0</td>\n",
       "      <td>500.0</td>\n",
       "      <td>500.0</td>\n",
       "    </tr>\n",
       "  </tbody>\n",
       "</table>\n",
       "</div>"
      ],
      "text/plain": [
       "        min_score  max_score    Bad   Good  Total\n",
       "Decile                                           \n",
       "1        1.000000   1.000000  500.0    0.0  500.0\n",
       "2        0.952381   1.000000  500.0    0.0  500.0\n",
       "3        0.857143   0.952381  499.0    1.0  500.0\n",
       "4        0.714286   0.857143  492.0    8.0  500.0\n",
       "5        0.476190   0.714286  404.0   96.0  500.0\n",
       "6        0.238095   0.476190  115.0  385.0  500.0\n",
       "7        0.142857   0.238095    4.0  496.0  500.0\n",
       "8        0.047619   0.142857    0.0  500.0  500.0\n",
       "9        0.000000   0.047619    0.0  500.0  500.0\n",
       "10       0.000000   0.000000    0.0  500.0  500.0"
      ]
     },
     "execution_count": 313,
     "metadata": {},
     "output_type": "execute_result"
    }
   ],
   "source": [
    "validate_test_knn"
   ]
  },
  {
   "cell_type": "code",
   "execution_count": null,
   "metadata": {},
   "outputs": [],
   "source": []
  },
  {
   "cell_type": "markdown",
   "metadata": {},
   "source": [
    "## Support Vector Classifiers (SVM)"
   ]
  },
  {
   "cell_type": "code",
   "execution_count": null,
   "metadata": {},
   "outputs": [],
   "source": []
  },
  {
   "cell_type": "code",
   "execution_count": 201,
   "metadata": {},
   "outputs": [
    {
     "name": "stdout",
     "output_type": "stream",
     "text": [
      "Accuracy Score:\n",
      "TEST 0.957\n",
      "TRAIN 0.9705313687579172\n"
     ]
    }
   ],
   "source": [
    "#Running SVM with default hyperparameter\n",
    "from sklearn.svm import SVC\n",
    "\n",
    "svc = SVC() #Default hyperparameters\n",
    "\n",
    "svc.fit(X_train,Y_train)\n",
    "\n",
    "y_pred_test =svc.predict(X_test)\n",
    "\n",
    "y_pred_train =svc.predict(X_train)\n",
    "\n",
    "print('Accuracy Score:')\n",
    "print(\"TEST\" ,accuracy_score(Y_test,y_pred_test))\n",
    "print(\"TRAIN\", accuracy_score(Y_train,y_pred_train))"
   ]
  },
  {
   "cell_type": "code",
   "execution_count": 202,
   "metadata": {},
   "outputs": [
    {
     "name": "stdout",
     "output_type": "stream",
     "text": [
      "accuracy : 0.9705313687579172\n",
      "Precision : 0.9665084388185654\n",
      "Recall : 0.9749933492950252\n",
      "F1 score : 0.9707323533306846\n",
      "ROC_AUC_Score 0.9705203345860236\n",
      "Jaccard Similarity Score :  97.05 %\n"
     ]
    }
   ],
   "source": [
    "eval_metrics(Y_train,y_pred_train)"
   ]
  },
  {
   "cell_type": "code",
   "execution_count": 203,
   "metadata": {},
   "outputs": [
    {
     "name": "stdout",
     "output_type": "stream",
     "text": [
      "accuracy : 0.957\n",
      "Precision : 0.9470983024082116\n",
      "Recall : 0.9673387096774193\n",
      "F1 score : 0.957111510073808\n",
      "ROC_AUC_Score 0.957082053251408\n",
      "Jaccard Similarity Score :  95.7 %\n"
     ]
    }
   ],
   "source": [
    "eval_metrics(Y_test,y_pred_test)"
   ]
  },
  {
   "cell_type": "code",
   "execution_count": 204,
   "metadata": {},
   "outputs": [
    {
     "data": {
      "text/plain": [
       "array([[7227,  254],\n",
       "       [ 188, 7330]], dtype=int64)"
      ]
     },
     "execution_count": 204,
     "metadata": {},
     "output_type": "execute_result"
    }
   ],
   "source": [
    "confusion_matrix(Y_train,y_pred_train)"
   ]
  },
  {
   "cell_type": "code",
   "execution_count": 205,
   "metadata": {},
   "outputs": [
    {
     "data": {
      "text/plain": [
       "array([[2386,  134],\n",
       "       [  81, 2399]], dtype=int64)"
      ]
     },
     "execution_count": 205,
     "metadata": {},
     "output_type": "execute_result"
    }
   ],
   "source": [
    "confusion_matrix(Y_test,y_pred_test)"
   ]
  },
  {
   "cell_type": "code",
   "execution_count": null,
   "metadata": {},
   "outputs": [],
   "source": []
  },
  {
   "cell_type": "code",
   "execution_count": 206,
   "metadata": {},
   "outputs": [],
   "source": [
    "tune_params = {\n",
    " 'C': (np.arange(0.1,1,0.01)) , 'kernel': ['linear'],\n",
    " 'C': (np.arange(0.1,1,0.1)) , 'gamma': [0.01,0.02,0.03,0.04,0.05], 'kernel': ['rbf'],\n",
    " 'degree': [2,3,4] ,'gamma':[0.01,0.02,0.03,0.04,0.05], 'C':(np.arange(0.1,1,0.1)) , 'kernel':['poly']\n",
    "                   }\n",
    "\n",
    "\n",
    "rsearch_svm = RandomizedSearchCV( estimator = svc,\n",
    "                  param_distributions = tune_params , scoring=\"accuracy\", n_jobs=-1, cv=10, verbose=2 , refit=True)\n"
   ]
  },
  {
   "cell_type": "code",
   "execution_count": 207,
   "metadata": {},
   "outputs": [
    {
     "name": "stdout",
     "output_type": "stream",
     "text": [
      "Fitting 10 folds for each of 10 candidates, totalling 100 fits\n"
     ]
    },
    {
     "name": "stderr",
     "output_type": "stream",
     "text": [
      "[Parallel(n_jobs=-1)]: Using backend LokyBackend with 8 concurrent workers.\n",
      "[Parallel(n_jobs=-1)]: Done  25 tasks      | elapsed:  3.8min\n",
      "[Parallel(n_jobs=-1)]: Done 100 out of 100 | elapsed: 13.0min finished\n"
     ]
    },
    {
     "data": {
      "text/plain": [
       "RandomizedSearchCV(cv=10, error_score=nan,\n",
       "                   estimator=SVC(C=1.0, break_ties=False, cache_size=200,\n",
       "                                 class_weight=None, coef0=0.0,\n",
       "                                 decision_function_shape='ovr', degree=3,\n",
       "                                 gamma='scale', kernel='rbf', max_iter=-1,\n",
       "                                 probability=False, random_state=None,\n",
       "                                 shrinking=True, tol=0.001, verbose=False),\n",
       "                   iid='deprecated', n_iter=10, n_jobs=-1,\n",
       "                   param_distributions={'C': array([0.1, 0.2, 0.3, 0.4, 0.5, 0.6, 0.7, 0.8, 0.9]),\n",
       "                                        'degree': [2, 3, 4],\n",
       "                                        'gamma': [0.01, 0.02, 0.03, 0.04, 0.05],\n",
       "                                        'kernel': ['poly']},\n",
       "                   pre_dispatch='2*n_jobs', random_state=None, refit=True,\n",
       "                   return_train_score=False, scoring='accuracy', verbose=2)"
      ]
     },
     "execution_count": 207,
     "metadata": {},
     "output_type": "execute_result"
    }
   ],
   "source": [
    "rsearch_svm.fit(X_train,Y_train)"
   ]
  },
  {
   "cell_type": "code",
   "execution_count": 208,
   "metadata": {},
   "outputs": [
    {
     "data": {
      "text/plain": [
       "{'kernel': 'poly', 'gamma': 0.05, 'degree': 2, 'C': 0.8}"
      ]
     },
     "execution_count": 208,
     "metadata": {},
     "output_type": "execute_result"
    }
   ],
   "source": [
    "rsearch_svm.best_params_"
   ]
  },
  {
   "cell_type": "code",
   "execution_count": 209,
   "metadata": {},
   "outputs": [
    {
     "data": {
      "text/plain": [
       "0.9473964420724927"
      ]
     },
     "execution_count": 209,
     "metadata": {},
     "output_type": "execute_result"
    }
   ],
   "source": [
    "rsearch_svm.best_score_"
   ]
  },
  {
   "cell_type": "code",
   "execution_count": null,
   "metadata": {},
   "outputs": [],
   "source": []
  },
  {
   "cell_type": "code",
   "execution_count": 305,
   "metadata": {},
   "outputs": [
    {
     "name": "stdout",
     "output_type": "stream",
     "text": [
      "Accuracy Score:\n",
      "TRAIN 0.9525968397893193\n",
      "TEST 0.9532\n"
     ]
    }
   ],
   "source": [
    "#Running SVM with tuned hyperparameter\n",
    "\n",
    "tuned_svc = SVC(kernel=\"poly\",gamma = 0.05 , degree = 2, C = 0.8 , probability=True) \n",
    "\n",
    "tuned_svc.fit(X_train,Y_train)\n",
    "\n",
    "tuned_svc_Y_pred_train =tuned_svc.predict(X_train)\n",
    "\n",
    "tuned_svc_Y_pred_test =tuned_svc.predict(X_test)\n",
    "\n",
    "print('Accuracy Score:')\n",
    "print(\"TRAIN\", accuracy_score(Y_train,tuned_svc_Y_pred_train))\n",
    "print(\"TEST\" ,accuracy_score(Y_test,tuned_svc_Y_pred_test))"
   ]
  },
  {
   "cell_type": "code",
   "execution_count": 306,
   "metadata": {},
   "outputs": [
    {
     "name": "stdout",
     "output_type": "stream",
     "text": [
      "accuracy : 0.9525968397893193\n",
      "Precision : 0.9491883331133694\n",
      "Recall : 0.9566374035647779\n",
      "F1 score : 0.952898310698907\n",
      "ROC_AUC_Score 0.9525868477521791\n",
      "Jaccard Similarity Score :  95.26 %\n"
     ]
    }
   ],
   "source": [
    "eval_metrics(Y_train,tuned_svc_Y_pred_train)"
   ]
  },
  {
   "cell_type": "code",
   "execution_count": 307,
   "metadata": {},
   "outputs": [
    {
     "name": "stdout",
     "output_type": "stream",
     "text": [
      "accuracy : 0.9532\n",
      "Precision : 0.9459888800635425\n",
      "Recall : 0.9604838709677419\n",
      "F1 score : 0.9531812725090035\n",
      "ROC_AUC_Score 0.9532578084997438\n",
      "Jaccard Similarity Score :  95.32 %\n"
     ]
    }
   ],
   "source": [
    "eval_metrics(Y_test,tuned_svc_Y_pred_test)"
   ]
  },
  {
   "cell_type": "code",
   "execution_count": 308,
   "metadata": {},
   "outputs": [
    {
     "data": {
      "text/plain": [
       "array([[7096,  385],\n",
       "       [ 326, 7192]], dtype=int64)"
      ]
     },
     "execution_count": 308,
     "metadata": {},
     "output_type": "execute_result"
    }
   ],
   "source": [
    "confusion_matrix(Y_train,tuned_svc_Y_pred_train)"
   ]
  },
  {
   "cell_type": "code",
   "execution_count": 309,
   "metadata": {},
   "outputs": [
    {
     "data": {
      "text/plain": [
       "array([[2384,  136],\n",
       "       [  98, 2382]], dtype=int64)"
      ]
     },
     "execution_count": 309,
     "metadata": {},
     "output_type": "execute_result"
    }
   ],
   "source": [
    "confusion_matrix(Y_test,tuned_svc_Y_pred_test)"
   ]
  },
  {
   "cell_type": "code",
   "execution_count": 318,
   "metadata": {},
   "outputs": [],
   "source": [
    "validate_train_svc = model_validation(X_train,tuned_svc_Y_pred_train,tuned_svc)\n",
    "validate_test_svc = model_validation(X_test,tuned_svc_Y_pred_test,tuned_svc)"
   ]
  },
  {
   "cell_type": "code",
   "execution_count": 319,
   "metadata": {},
   "outputs": [
    {
     "data": {
      "text/html": [
       "<div>\n",
       "<style scoped>\n",
       "    .dataframe tbody tr th:only-of-type {\n",
       "        vertical-align: middle;\n",
       "    }\n",
       "\n",
       "    .dataframe tbody tr th {\n",
       "        vertical-align: top;\n",
       "    }\n",
       "\n",
       "    .dataframe thead th {\n",
       "        text-align: right;\n",
       "    }\n",
       "</style>\n",
       "<table border=\"1\" class=\"dataframe\">\n",
       "  <thead>\n",
       "    <tr style=\"text-align: right;\">\n",
       "      <th></th>\n",
       "      <th>min_score</th>\n",
       "      <th>max_score</th>\n",
       "      <th>Bad</th>\n",
       "      <th>Good</th>\n",
       "      <th>Total</th>\n",
       "    </tr>\n",
       "    <tr>\n",
       "      <th>Decile</th>\n",
       "      <th></th>\n",
       "      <th></th>\n",
       "      <th></th>\n",
       "      <th></th>\n",
       "      <th></th>\n",
       "    </tr>\n",
       "  </thead>\n",
       "  <tbody>\n",
       "    <tr>\n",
       "      <th>1</th>\n",
       "      <td>0.999998</td>\n",
       "      <td>1.000000</td>\n",
       "      <td>1500.0</td>\n",
       "      <td>0.0</td>\n",
       "      <td>1500.0</td>\n",
       "    </tr>\n",
       "    <tr>\n",
       "      <th>2</th>\n",
       "      <td>0.996049</td>\n",
       "      <td>0.999998</td>\n",
       "      <td>1500.0</td>\n",
       "      <td>0.0</td>\n",
       "      <td>1500.0</td>\n",
       "    </tr>\n",
       "    <tr>\n",
       "      <th>3</th>\n",
       "      <td>0.986054</td>\n",
       "      <td>0.996047</td>\n",
       "      <td>1500.0</td>\n",
       "      <td>0.0</td>\n",
       "      <td>1500.0</td>\n",
       "    </tr>\n",
       "    <tr>\n",
       "      <th>4</th>\n",
       "      <td>0.945576</td>\n",
       "      <td>0.986051</td>\n",
       "      <td>1500.0</td>\n",
       "      <td>0.0</td>\n",
       "      <td>1500.0</td>\n",
       "    </tr>\n",
       "    <tr>\n",
       "      <th>5</th>\n",
       "      <td>0.533147</td>\n",
       "      <td>0.945549</td>\n",
       "      <td>1499.0</td>\n",
       "      <td>0.0</td>\n",
       "      <td>1499.0</td>\n",
       "    </tr>\n",
       "    <tr>\n",
       "      <th>6</th>\n",
       "      <td>0.054323</td>\n",
       "      <td>0.532405</td>\n",
       "      <td>78.0</td>\n",
       "      <td>1422.0</td>\n",
       "      <td>1500.0</td>\n",
       "    </tr>\n",
       "    <tr>\n",
       "      <th>7</th>\n",
       "      <td>0.012437</td>\n",
       "      <td>0.054288</td>\n",
       "      <td>0.0</td>\n",
       "      <td>1500.0</td>\n",
       "      <td>1500.0</td>\n",
       "    </tr>\n",
       "    <tr>\n",
       "      <th>8</th>\n",
       "      <td>0.003216</td>\n",
       "      <td>0.012431</td>\n",
       "      <td>0.0</td>\n",
       "      <td>1500.0</td>\n",
       "      <td>1500.0</td>\n",
       "    </tr>\n",
       "    <tr>\n",
       "      <th>9</th>\n",
       "      <td>0.000827</td>\n",
       "      <td>0.003204</td>\n",
       "      <td>0.0</td>\n",
       "      <td>1500.0</td>\n",
       "      <td>1500.0</td>\n",
       "    </tr>\n",
       "    <tr>\n",
       "      <th>10</th>\n",
       "      <td>0.000008</td>\n",
       "      <td>0.000827</td>\n",
       "      <td>0.0</td>\n",
       "      <td>1500.0</td>\n",
       "      <td>1500.0</td>\n",
       "    </tr>\n",
       "  </tbody>\n",
       "</table>\n",
       "</div>"
      ],
      "text/plain": [
       "        min_score  max_score     Bad    Good   Total\n",
       "Decile                                              \n",
       "1        0.999998   1.000000  1500.0     0.0  1500.0\n",
       "2        0.996049   0.999998  1500.0     0.0  1500.0\n",
       "3        0.986054   0.996047  1500.0     0.0  1500.0\n",
       "4        0.945576   0.986051  1500.0     0.0  1500.0\n",
       "5        0.533147   0.945549  1499.0     0.0  1499.0\n",
       "6        0.054323   0.532405    78.0  1422.0  1500.0\n",
       "7        0.012437   0.054288     0.0  1500.0  1500.0\n",
       "8        0.003216   0.012431     0.0  1500.0  1500.0\n",
       "9        0.000827   0.003204     0.0  1500.0  1500.0\n",
       "10       0.000008   0.000827     0.0  1500.0  1500.0"
      ]
     },
     "execution_count": 319,
     "metadata": {},
     "output_type": "execute_result"
    }
   ],
   "source": [
    "validate_train_svc"
   ]
  },
  {
   "cell_type": "code",
   "execution_count": 320,
   "metadata": {},
   "outputs": [
    {
     "data": {
      "text/html": [
       "<div>\n",
       "<style scoped>\n",
       "    .dataframe tbody tr th:only-of-type {\n",
       "        vertical-align: middle;\n",
       "    }\n",
       "\n",
       "    .dataframe tbody tr th {\n",
       "        vertical-align: top;\n",
       "    }\n",
       "\n",
       "    .dataframe thead th {\n",
       "        text-align: right;\n",
       "    }\n",
       "</style>\n",
       "<table border=\"1\" class=\"dataframe\">\n",
       "  <thead>\n",
       "    <tr style=\"text-align: right;\">\n",
       "      <th></th>\n",
       "      <th>min_score</th>\n",
       "      <th>max_score</th>\n",
       "      <th>Bad</th>\n",
       "      <th>Good</th>\n",
       "      <th>Total</th>\n",
       "    </tr>\n",
       "    <tr>\n",
       "      <th>Decile</th>\n",
       "      <th></th>\n",
       "      <th></th>\n",
       "      <th></th>\n",
       "      <th></th>\n",
       "      <th></th>\n",
       "    </tr>\n",
       "  </thead>\n",
       "  <tbody>\n",
       "    <tr>\n",
       "      <th>1</th>\n",
       "      <td>0.999998</td>\n",
       "      <td>1.000000</td>\n",
       "      <td>500.0</td>\n",
       "      <td>0.0</td>\n",
       "      <td>500.0</td>\n",
       "    </tr>\n",
       "    <tr>\n",
       "      <th>2</th>\n",
       "      <td>0.996257</td>\n",
       "      <td>0.999998</td>\n",
       "      <td>500.0</td>\n",
       "      <td>0.0</td>\n",
       "      <td>500.0</td>\n",
       "    </tr>\n",
       "    <tr>\n",
       "      <th>3</th>\n",
       "      <td>0.986246</td>\n",
       "      <td>0.996221</td>\n",
       "      <td>500.0</td>\n",
       "      <td>0.0</td>\n",
       "      <td>500.0</td>\n",
       "    </tr>\n",
       "    <tr>\n",
       "      <th>4</th>\n",
       "      <td>0.934461</td>\n",
       "      <td>0.986210</td>\n",
       "      <td>500.0</td>\n",
       "      <td>0.0</td>\n",
       "      <td>500.0</td>\n",
       "    </tr>\n",
       "    <tr>\n",
       "      <th>5</th>\n",
       "      <td>0.516586</td>\n",
       "      <td>0.934144</td>\n",
       "      <td>500.0</td>\n",
       "      <td>0.0</td>\n",
       "      <td>500.0</td>\n",
       "    </tr>\n",
       "    <tr>\n",
       "      <th>6</th>\n",
       "      <td>0.060300</td>\n",
       "      <td>0.514834</td>\n",
       "      <td>18.0</td>\n",
       "      <td>482.0</td>\n",
       "      <td>500.0</td>\n",
       "    </tr>\n",
       "    <tr>\n",
       "      <th>7</th>\n",
       "      <td>0.011591</td>\n",
       "      <td>0.060211</td>\n",
       "      <td>0.0</td>\n",
       "      <td>500.0</td>\n",
       "      <td>500.0</td>\n",
       "    </tr>\n",
       "    <tr>\n",
       "      <th>8</th>\n",
       "      <td>0.003418</td>\n",
       "      <td>0.011590</td>\n",
       "      <td>0.0</td>\n",
       "      <td>500.0</td>\n",
       "      <td>500.0</td>\n",
       "    </tr>\n",
       "    <tr>\n",
       "      <th>9</th>\n",
       "      <td>0.000863</td>\n",
       "      <td>0.003402</td>\n",
       "      <td>0.0</td>\n",
       "      <td>500.0</td>\n",
       "      <td>500.0</td>\n",
       "    </tr>\n",
       "    <tr>\n",
       "      <th>10</th>\n",
       "      <td>0.000008</td>\n",
       "      <td>0.000860</td>\n",
       "      <td>0.0</td>\n",
       "      <td>500.0</td>\n",
       "      <td>500.0</td>\n",
       "    </tr>\n",
       "  </tbody>\n",
       "</table>\n",
       "</div>"
      ],
      "text/plain": [
       "        min_score  max_score    Bad   Good  Total\n",
       "Decile                                           \n",
       "1        0.999998   1.000000  500.0    0.0  500.0\n",
       "2        0.996257   0.999998  500.0    0.0  500.0\n",
       "3        0.986246   0.996221  500.0    0.0  500.0\n",
       "4        0.934461   0.986210  500.0    0.0  500.0\n",
       "5        0.516586   0.934144  500.0    0.0  500.0\n",
       "6        0.060300   0.514834   18.0  482.0  500.0\n",
       "7        0.011591   0.060211    0.0  500.0  500.0\n",
       "8        0.003418   0.011590    0.0  500.0  500.0\n",
       "9        0.000863   0.003402    0.0  500.0  500.0\n",
       "10       0.000008   0.000860    0.0  500.0  500.0"
      ]
     },
     "execution_count": 320,
     "metadata": {},
     "output_type": "execute_result"
    }
   ],
   "source": [
    "validate_test_svc"
   ]
  },
  {
   "cell_type": "code",
   "execution_count": 296,
   "metadata": {},
   "outputs": [
    {
     "data": {
      "text/html": [
       "\n",
       "\n",
       "\n",
       "\n",
       "\n",
       "\n",
       "  <div class=\"bk-root\" id=\"45433a3f-7046-48dc-8f53-80852ea22736\" data-root-id=\"4154\"></div>\n"
      ]
     },
     "metadata": {},
     "output_type": "display_data"
    },
    {
     "data": {
      "application/javascript": [
       "(function(root) {\n",
       "  function embed_document(root) {\n",
       "    \n",
       "  var docs_json = {\"a27d4137-fb9a-48e3-ab85-d22beb68bcb3\":{\"roots\":{\"references\":[{\"attributes\":{\"below\":[{\"id\":\"4165\",\"type\":\"LinearAxis\"}],\"center\":[{\"id\":\"4169\",\"type\":\"Grid\"},{\"id\":\"4174\",\"type\":\"Grid\"},{\"id\":\"4199\",\"type\":\"Legend\"}],\"left\":[{\"id\":\"4170\",\"type\":\"LinearAxis\"}],\"renderers\":[{\"id\":\"4191\",\"type\":\"GlyphRenderer\"},{\"id\":\"4204\",\"type\":\"GlyphRenderer\"}],\"title\":{\"id\":\"4155\",\"type\":\"Title\"},\"toolbar\":{\"id\":\"4181\",\"type\":\"Toolbar\"},\"x_range\":{\"id\":\"4157\",\"type\":\"DataRange1d\"},\"x_scale\":{\"id\":\"4161\",\"type\":\"LinearScale\"},\"y_range\":{\"id\":\"4159\",\"type\":\"DataRange1d\"},\"y_scale\":{\"id\":\"4163\",\"type\":\"LinearScale\"}},\"id\":\"4154\",\"subtype\":\"Figure\",\"type\":\"Plot\"},{\"attributes\":{\"data_source\":{\"id\":\"4188\",\"type\":\"ColumnDataSource\"},\"glyph\":{\"id\":\"4189\",\"type\":\"Line\"},\"hover_glyph\":null,\"muted_glyph\":null,\"nonselection_glyph\":{\"id\":\"4190\",\"type\":\"Line\"},\"selection_glyph\":null,\"view\":{\"id\":\"4192\",\"type\":\"CDSView\"}},\"id\":\"4191\",\"type\":\"GlyphRenderer\"},{\"attributes\":{},\"id\":\"4372\",\"type\":\"UnionRenderers\"},{\"attributes\":{\"formatter\":{\"id\":\"4197\",\"type\":\"BasicTickFormatter\"},\"ticker\":{\"id\":\"4166\",\"type\":\"BasicTicker\"}},\"id\":\"4165\",\"type\":\"LinearAxis\"},{\"attributes\":{\"source\":{\"id\":\"4201\",\"type\":\"ColumnDataSource\"}},\"id\":\"4205\",\"type\":\"CDSView\"},{\"attributes\":{\"label\":{\"value\":\"AUC = 0.953\"},\"renderers\":[{\"id\":\"4191\",\"type\":\"GlyphRenderer\"}]},\"id\":\"4200\",\"type\":\"LegendItem\"},{\"attributes\":{\"callback\":null,\"data\":{\"x\":{\"__ndarray__\":\"AAAAAAAAAABJzRl+c1mqPwAAAAAAAPA/\",\"dtype\":\"float64\",\"shape\":[3]},\"y\":{\"__ndarray__\":\"AAAAAAAAAABJHU4LxpzuPwAAAAAAAPA/\",\"dtype\":\"float64\",\"shape\":[3]}},\"selected\":{\"id\":\"4371\",\"type\":\"Selection\"},\"selection_policy\":{\"id\":\"4372\",\"type\":\"UnionRenderers\"}},\"id\":\"4188\",\"type\":\"ColumnDataSource\"},{\"attributes\":{},\"id\":\"4371\",\"type\":\"Selection\"},{\"attributes\":{},\"id\":\"4195\",\"type\":\"BasicTickFormatter\"},{\"attributes\":{},\"id\":\"4166\",\"type\":\"BasicTicker\"},{\"attributes\":{\"line_alpha\":0.1,\"line_color\":\"#1f77b4\",\"line_dash\":[2,4,6,4],\"line_width\":2,\"x\":{\"field\":\"x\"},\"y\":{\"field\":\"y\"}},\"id\":\"4203\",\"type\":\"Line\"},{\"attributes\":{\"overlay\":{\"id\":\"4198\",\"type\":\"BoxAnnotation\"}},\"id\":\"4177\",\"type\":\"BoxZoomTool\"},{\"attributes\":{},\"id\":\"4178\",\"type\":\"SaveTool\"},{\"attributes\":{},\"id\":\"4176\",\"type\":\"WheelZoomTool\"},{\"attributes\":{},\"id\":\"4374\",\"type\":\"UnionRenderers\"},{\"attributes\":{\"text\":\"ROC Curve - Train data\"},\"id\":\"4155\",\"type\":\"Title\"},{\"attributes\":{},\"id\":\"4163\",\"type\":\"LinearScale\"},{\"attributes\":{},\"id\":\"4175\",\"type\":\"PanTool\"},{\"attributes\":{\"bottom_units\":\"screen\",\"fill_alpha\":{\"value\":0.5},\"fill_color\":{\"value\":\"lightgrey\"},\"left_units\":\"screen\",\"level\":\"overlay\",\"line_alpha\":{\"value\":1.0},\"line_color\":{\"value\":\"black\"},\"line_dash\":[4,4],\"line_width\":{\"value\":2},\"render_mode\":\"css\",\"right_units\":\"screen\",\"top_units\":\"screen\"},\"id\":\"4198\",\"type\":\"BoxAnnotation\"},{\"attributes\":{\"callback\":null},\"id\":\"4157\",\"type\":\"DataRange1d\"},{\"attributes\":{\"formatter\":{\"id\":\"4195\",\"type\":\"BasicTickFormatter\"},\"ticker\":{\"id\":\"4171\",\"type\":\"BasicTicker\"}},\"id\":\"4170\",\"type\":\"LinearAxis\"},{\"attributes\":{\"ticker\":{\"id\":\"4166\",\"type\":\"BasicTicker\"}},\"id\":\"4169\",\"type\":\"Grid\"},{\"attributes\":{\"line_color\":\"#d15555\",\"line_dash\":[2,4,6,4],\"line_width\":2,\"x\":{\"field\":\"x\"},\"y\":{\"field\":\"y\"}},\"id\":\"4202\",\"type\":\"Line\"},{\"attributes\":{},\"id\":\"4171\",\"type\":\"BasicTicker\"},{\"attributes\":{\"line_alpha\":0.1,\"line_color\":\"#1f77b4\",\"line_width\":2,\"x\":{\"field\":\"x\"},\"y\":{\"field\":\"y\"}},\"id\":\"4190\",\"type\":\"Line\"},{\"attributes\":{\"active_drag\":\"auto\",\"active_inspect\":\"auto\",\"active_multi\":null,\"active_scroll\":\"auto\",\"active_tap\":\"auto\",\"tools\":[{\"id\":\"4175\",\"type\":\"PanTool\"},{\"id\":\"4176\",\"type\":\"WheelZoomTool\"},{\"id\":\"4177\",\"type\":\"BoxZoomTool\"},{\"id\":\"4178\",\"type\":\"SaveTool\"},{\"id\":\"4179\",\"type\":\"ResetTool\"},{\"id\":\"4180\",\"type\":\"HelpTool\"}]},\"id\":\"4181\",\"type\":\"Toolbar\"},{\"attributes\":{\"callback\":null,\"data\":{\"x\":[0,1],\"y\":[0,1]},\"selected\":{\"id\":\"4373\",\"type\":\"Selection\"},\"selection_policy\":{\"id\":\"4374\",\"type\":\"UnionRenderers\"}},\"id\":\"4201\",\"type\":\"ColumnDataSource\"},{\"attributes\":{},\"id\":\"4180\",\"type\":\"HelpTool\"},{\"attributes\":{},\"id\":\"4373\",\"type\":\"Selection\"},{\"attributes\":{\"dimension\":1,\"ticker\":{\"id\":\"4171\",\"type\":\"BasicTicker\"}},\"id\":\"4174\",\"type\":\"Grid\"},{\"attributes\":{},\"id\":\"4161\",\"type\":\"LinearScale\"},{\"attributes\":{\"line_color\":\"#0077bc\",\"line_width\":2,\"x\":{\"field\":\"x\"},\"y\":{\"field\":\"y\"}},\"id\":\"4189\",\"type\":\"Line\"},{\"attributes\":{\"source\":{\"id\":\"4188\",\"type\":\"ColumnDataSource\"}},\"id\":\"4192\",\"type\":\"CDSView\"},{\"attributes\":{\"data_source\":{\"id\":\"4201\",\"type\":\"ColumnDataSource\"},\"glyph\":{\"id\":\"4202\",\"type\":\"Line\"},\"hover_glyph\":null,\"muted_glyph\":null,\"nonselection_glyph\":{\"id\":\"4203\",\"type\":\"Line\"},\"selection_glyph\":null,\"view\":{\"id\":\"4205\",\"type\":\"CDSView\"}},\"id\":\"4204\",\"type\":\"GlyphRenderer\"},{\"attributes\":{\"items\":[{\"id\":\"4200\",\"type\":\"LegendItem\"}]},\"id\":\"4199\",\"type\":\"Legend\"},{\"attributes\":{},\"id\":\"4197\",\"type\":\"BasicTickFormatter\"},{\"attributes\":{\"callback\":null},\"id\":\"4159\",\"type\":\"DataRange1d\"},{\"attributes\":{},\"id\":\"4179\",\"type\":\"ResetTool\"}],\"root_ids\":[\"4154\"]},\"title\":\"Bokeh Application\",\"version\":\"1.4.0\"}};\n",
       "  var render_items = [{\"docid\":\"a27d4137-fb9a-48e3-ab85-d22beb68bcb3\",\"roots\":{\"4154\":\"45433a3f-7046-48dc-8f53-80852ea22736\"}}];\n",
       "  root.Bokeh.embed.embed_items_notebook(docs_json, render_items);\n",
       "\n",
       "  }\n",
       "  if (root.Bokeh !== undefined) {\n",
       "    embed_document(root);\n",
       "  } else {\n",
       "    var attempts = 0;\n",
       "    var timer = setInterval(function(root) {\n",
       "      if (root.Bokeh !== undefined) {\n",
       "        clearInterval(timer);\n",
       "        embed_document(root);\n",
       "      } else {\n",
       "        attempts++;\n",
       "        if (attempts > 100) {\n",
       "          clearInterval(timer);\n",
       "          console.log(\"Bokeh: ERROR: Unable to run BokehJS code because BokehJS library is missing\");\n",
       "        }\n",
       "      }\n",
       "    }, 10, root)\n",
       "  }\n",
       "})(window);"
      ],
      "application/vnd.bokehjs_exec.v0+json": ""
     },
     "metadata": {
      "application/vnd.bokehjs_exec.v0+json": {
       "id": "4154"
      }
     },
     "output_type": "display_data"
    }
   ],
   "source": [
    "from sklearn.metrics import roc_curve,auc\n",
    "plt.rcParams[\"figure.figsize\"] = (5,5)\n",
    "fpr, tpr, _ = roc_curve(np.array(Y_train), tuned_svc_Y_pred_train)\n",
    "auc = auc(fpr,tpr)\n",
    "p = figure(title=\"ROC Curve - Train data\")\n",
    "r = p.line(fpr,tpr,color='#0077bc',legend = 'AUC = '+ str(round(auc,3)), line_width=2)\n",
    "s = p.line([0,1],[0,1], color= '#d15555',line_dash='dotdash',line_width=2)\n",
    "show(p)"
   ]
  },
  {
   "cell_type": "code",
   "execution_count": 300,
   "metadata": {},
   "outputs": [
    {
     "data": {
      "text/html": [
       "\n",
       "\n",
       "\n",
       "\n",
       "\n",
       "\n",
       "  <div class=\"bk-root\" id=\"43fa60cb-2a94-4496-b411-d50f9f0992b5\" data-root-id=\"4436\"></div>\n"
      ]
     },
     "metadata": {},
     "output_type": "display_data"
    },
    {
     "data": {
      "application/javascript": [
       "(function(root) {\n",
       "  function embed_document(root) {\n",
       "    \n",
       "  var docs_json = {\"accd2285-abb9-41ab-911f-ea98d0a07e7b\":{\"roots\":{\"references\":[{\"attributes\":{\"below\":[{\"id\":\"4447\",\"type\":\"LinearAxis\"}],\"center\":[{\"id\":\"4451\",\"type\":\"Grid\"},{\"id\":\"4456\",\"type\":\"Grid\"},{\"id\":\"4481\",\"type\":\"Legend\"}],\"left\":[{\"id\":\"4452\",\"type\":\"LinearAxis\"}],\"renderers\":[{\"id\":\"4473\",\"type\":\"GlyphRenderer\"},{\"id\":\"4486\",\"type\":\"GlyphRenderer\"}],\"title\":{\"id\":\"4437\",\"type\":\"Title\"},\"toolbar\":{\"id\":\"4463\",\"type\":\"Toolbar\"},\"x_range\":{\"id\":\"4439\",\"type\":\"DataRange1d\"},\"x_scale\":{\"id\":\"4443\",\"type\":\"LinearScale\"},\"y_range\":{\"id\":\"4441\",\"type\":\"DataRange1d\"},\"y_scale\":{\"id\":\"4445\",\"type\":\"LinearScale\"}},\"id\":\"4436\",\"subtype\":\"Figure\",\"type\":\"Plot\"},{\"attributes\":{\"active_drag\":\"auto\",\"active_inspect\":\"auto\",\"active_multi\":null,\"active_scroll\":\"auto\",\"active_tap\":\"auto\",\"tools\":[{\"id\":\"4457\",\"type\":\"PanTool\"},{\"id\":\"4458\",\"type\":\"WheelZoomTool\"},{\"id\":\"4459\",\"type\":\"BoxZoomTool\"},{\"id\":\"4460\",\"type\":\"SaveTool\"},{\"id\":\"4461\",\"type\":\"ResetTool\"},{\"id\":\"4462\",\"type\":\"HelpTool\"}]},\"id\":\"4463\",\"type\":\"Toolbar\"},{\"attributes\":{\"items\":[{\"id\":\"4482\",\"type\":\"LegendItem\"}]},\"id\":\"4481\",\"type\":\"Legend\"},{\"attributes\":{},\"id\":\"4461\",\"type\":\"ResetTool\"},{\"attributes\":{\"data_source\":{\"id\":\"4483\",\"type\":\"ColumnDataSource\"},\"glyph\":{\"id\":\"4484\",\"type\":\"Line\"},\"hover_glyph\":null,\"muted_glyph\":null,\"nonselection_glyph\":{\"id\":\"4485\",\"type\":\"Line\"},\"selection_glyph\":null,\"view\":{\"id\":\"4487\",\"type\":\"CDSView\"}},\"id\":\"4486\",\"type\":\"GlyphRenderer\"},{\"attributes\":{\"line_color\":\"#0077bc\",\"line_width\":2,\"x\":{\"field\":\"x\"},\"y\":{\"field\":\"y\"}},\"id\":\"4471\",\"type\":\"Line\"},{\"attributes\":{\"line_alpha\":0.1,\"line_color\":\"#1f77b4\",\"line_dash\":[2,4,6,4],\"line_width\":2,\"x\":{\"field\":\"x\"},\"y\":{\"field\":\"y\"}},\"id\":\"4485\",\"type\":\"Line\"},{\"attributes\":{},\"id\":\"4477\",\"type\":\"BasicTickFormatter\"},{\"attributes\":{\"callback\":null},\"id\":\"4439\",\"type\":\"DataRange1d\"},{\"attributes\":{\"source\":{\"id\":\"4483\",\"type\":\"ColumnDataSource\"}},\"id\":\"4487\",\"type\":\"CDSView\"},{\"attributes\":{\"overlay\":{\"id\":\"4480\",\"type\":\"BoxAnnotation\"}},\"id\":\"4459\",\"type\":\"BoxZoomTool\"},{\"attributes\":{\"bottom_units\":\"screen\",\"fill_alpha\":{\"value\":0.5},\"fill_color\":{\"value\":\"lightgrey\"},\"left_units\":\"screen\",\"level\":\"overlay\",\"line_alpha\":{\"value\":1.0},\"line_color\":{\"value\":\"black\"},\"line_dash\":[4,4],\"line_width\":{\"value\":2},\"render_mode\":\"css\",\"right_units\":\"screen\",\"top_units\":\"screen\"},\"id\":\"4480\",\"type\":\"BoxAnnotation\"},{\"attributes\":{\"source\":{\"id\":\"4470\",\"type\":\"ColumnDataSource\"}},\"id\":\"4474\",\"type\":\"CDSView\"},{\"attributes\":{},\"id\":\"4458\",\"type\":\"WheelZoomTool\"},{\"attributes\":{\"formatter\":{\"id\":\"4477\",\"type\":\"BasicTickFormatter\"},\"ticker\":{\"id\":\"4453\",\"type\":\"BasicTicker\"}},\"id\":\"4452\",\"type\":\"LinearAxis\"},{\"attributes\":{\"label\":{\"value\":\"AUC = 0.953\"},\"renderers\":[{\"id\":\"4473\",\"type\":\"GlyphRenderer\"}]},\"id\":\"4482\",\"type\":\"LegendItem\"},{\"attributes\":{},\"id\":\"4445\",\"type\":\"LinearScale\"},{\"attributes\":{},\"id\":\"4448\",\"type\":\"BasicTicker\"},{\"attributes\":{\"line_alpha\":0.1,\"line_color\":\"#1f77b4\",\"line_width\":2,\"x\":{\"field\":\"x\"},\"y\":{\"field\":\"y\"}},\"id\":\"4472\",\"type\":\"Line\"},{\"attributes\":{\"callback\":null,\"data\":{\"x\":{\"__ndarray__\":\"AAAAAAAAAAAcuqEbuqGrPwAAAAAAAPA/\",\"dtype\":\"float64\",\"shape\":[3]},\"y\":{\"__ndarray__\":\"AAAAAAAAAAC8isSrSLzuPwAAAAAAAPA/\",\"dtype\":\"float64\",\"shape\":[3]}},\"selected\":{\"id\":\"4663\",\"type\":\"Selection\"},\"selection_policy\":{\"id\":\"4664\",\"type\":\"UnionRenderers\"}},\"id\":\"4470\",\"type\":\"ColumnDataSource\"},{\"attributes\":{},\"id\":\"4453\",\"type\":\"BasicTicker\"},{\"attributes\":{},\"id\":\"4665\",\"type\":\"Selection\"},{\"attributes\":{\"line_color\":\"#d15555\",\"line_dash\":[2,4,6,4],\"line_width\":2,\"x\":{\"field\":\"x\"},\"y\":{\"field\":\"y\"}},\"id\":\"4484\",\"type\":\"Line\"},{\"attributes\":{\"data_source\":{\"id\":\"4470\",\"type\":\"ColumnDataSource\"},\"glyph\":{\"id\":\"4471\",\"type\":\"Line\"},\"hover_glyph\":null,\"muted_glyph\":null,\"nonselection_glyph\":{\"id\":\"4472\",\"type\":\"Line\"},\"selection_glyph\":null,\"view\":{\"id\":\"4474\",\"type\":\"CDSView\"}},\"id\":\"4473\",\"type\":\"GlyphRenderer\"},{\"attributes\":{},\"id\":\"4457\",\"type\":\"PanTool\"},{\"attributes\":{},\"id\":\"4462\",\"type\":\"HelpTool\"},{\"attributes\":{},\"id\":\"4460\",\"type\":\"SaveTool\"},{\"attributes\":{\"ticker\":{\"id\":\"4448\",\"type\":\"BasicTicker\"}},\"id\":\"4451\",\"type\":\"Grid\"},{\"attributes\":{\"callback\":null},\"id\":\"4441\",\"type\":\"DataRange1d\"},{\"attributes\":{\"formatter\":{\"id\":\"4479\",\"type\":\"BasicTickFormatter\"},\"ticker\":{\"id\":\"4448\",\"type\":\"BasicTicker\"}},\"id\":\"4447\",\"type\":\"LinearAxis\"},{\"attributes\":{\"callback\":null,\"data\":{\"x\":[0,1],\"y\":[0,1]},\"selected\":{\"id\":\"4665\",\"type\":\"Selection\"},\"selection_policy\":{\"id\":\"4666\",\"type\":\"UnionRenderers\"}},\"id\":\"4483\",\"type\":\"ColumnDataSource\"},{\"attributes\":{},\"id\":\"4666\",\"type\":\"UnionRenderers\"},{\"attributes\":{\"text\":\"ROC Curve - Test data\"},\"id\":\"4437\",\"type\":\"Title\"},{\"attributes\":{\"dimension\":1,\"ticker\":{\"id\":\"4453\",\"type\":\"BasicTicker\"}},\"id\":\"4456\",\"type\":\"Grid\"},{\"attributes\":{},\"id\":\"4663\",\"type\":\"Selection\"},{\"attributes\":{},\"id\":\"4664\",\"type\":\"UnionRenderers\"},{\"attributes\":{},\"id\":\"4479\",\"type\":\"BasicTickFormatter\"},{\"attributes\":{},\"id\":\"4443\",\"type\":\"LinearScale\"}],\"root_ids\":[\"4436\"]},\"title\":\"Bokeh Application\",\"version\":\"1.4.0\"}};\n",
       "  var render_items = [{\"docid\":\"accd2285-abb9-41ab-911f-ea98d0a07e7b\",\"roots\":{\"4436\":\"43fa60cb-2a94-4496-b411-d50f9f0992b5\"}}];\n",
       "  root.Bokeh.embed.embed_items_notebook(docs_json, render_items);\n",
       "\n",
       "  }\n",
       "  if (root.Bokeh !== undefined) {\n",
       "    embed_document(root);\n",
       "  } else {\n",
       "    var attempts = 0;\n",
       "    var timer = setInterval(function(root) {\n",
       "      if (root.Bokeh !== undefined) {\n",
       "        clearInterval(timer);\n",
       "        embed_document(root);\n",
       "      } else {\n",
       "        attempts++;\n",
       "        if (attempts > 100) {\n",
       "          clearInterval(timer);\n",
       "          console.log(\"Bokeh: ERROR: Unable to run BokehJS code because BokehJS library is missing\");\n",
       "        }\n",
       "      }\n",
       "    }, 10, root)\n",
       "  }\n",
       "})(window);"
      ],
      "application/vnd.bokehjs_exec.v0+json": ""
     },
     "metadata": {
      "application/vnd.bokehjs_exec.v0+json": {
       "id": "4436"
      }
     },
     "output_type": "display_data"
    }
   ],
   "source": [
    "from sklearn.metrics import roc_curve,auc\n",
    "fpr, tpr, _ = roc_curve(np.array(Y_test), tuned_svc_Y_pred_test)\n",
    "auc = auc(fpr,tpr)\n",
    "p = figure(title=\"ROC Curve - Test data\")\n",
    "r = p.line(fpr,tpr,color='#0077bc',legend = 'AUC = '+ str(round(auc,3)), line_width=2)\n",
    "s = p.line([0,1],[0,1], color= '#d15555',line_dash='dotdash',line_width=2)\n",
    "show(p)"
   ]
  },
  {
   "cell_type": "code",
   "execution_count": null,
   "metadata": {},
   "outputs": [],
   "source": []
  },
  {
   "cell_type": "markdown",
   "metadata": {},
   "source": [
    "## Logistic Regresssion"
   ]
  },
  {
   "cell_type": "code",
   "execution_count": 215,
   "metadata": {},
   "outputs": [
    {
     "name": "stdout",
     "output_type": "stream",
     "text": [
      "Accuracy Score:\n",
      "TEST 0.9288\n",
      "TRAIN 0.9280618707913861\n"
     ]
    }
   ],
   "source": [
    "#Running LM with default hyperparameter\n",
    "from sklearn.linear_model import LogisticRegression\n",
    "\n",
    "lm = LogisticRegression() #Default hyperparameters\n",
    "\n",
    "lm.fit(X_train,Y_train)\n",
    "\n",
    "lm_Y_pred_test =lm.predict(X_test)\n",
    "\n",
    "lm_Y_pred_train =lm.predict(X_train)\n",
    "\n",
    "print('Accuracy Score:')\n",
    "print(\"TEST\" ,accuracy_score(Y_test,lm_Y_pred_test))\n",
    "print(\"TRAIN\", accuracy_score(Y_train,lm_Y_pred_train))"
   ]
  },
  {
   "cell_type": "code",
   "execution_count": 301,
   "metadata": {},
   "outputs": [
    {
     "data": {
      "text/plain": [
       "array([[ 0.09462713, -1.06116057,  1.59419382,  0.03195757,  0.46628304,\n",
       "         0.70043436,  1.48584936,  0.24929831, -1.09202883, -0.93164023,\n",
       "        -0.02842226, -0.40070737,  3.76729448, -4.64242492,  0.06223517,\n",
       "        -0.51242642,  3.76675565,  0.01190958,  0.25203006,  0.76168623,\n",
       "         1.95549005, -0.58808832,  0.48723793, -2.8678111 , -4.80722776,\n",
       "         4.36265182,  4.69988562, -4.40710007,  0.04308164,  0.14449922,\n",
       "         4.69963366, -4.73487927,  0.06375964,  0.27174973, -0.03285431,\n",
       "        -0.0247406 , -0.15053382, -0.04539903,  0.0433303 , -0.11743488,\n",
       "         0.07289802, -0.08023022, -1.04910725, -1.40581795,  1.3412734 ,\n",
       "        -2.03350393,  1.46258475,  1.93560848,  1.15915809,  0.07400015,\n",
       "        -2.33532361,  1.06869771, -0.04259046, -0.17443454,  0.56332437,\n",
       "        -0.44573839, -0.11704113]])"
      ]
     },
     "execution_count": 301,
     "metadata": {},
     "output_type": "execute_result"
    }
   ],
   "source": [
    "lm.coef_"
   ]
  },
  {
   "cell_type": "code",
   "execution_count": 303,
   "metadata": {},
   "outputs": [
    {
     "name": "stdout",
     "output_type": "stream",
     "text": [
      "Feature: 0, Score: 0.09463\n",
      "Feature: 1, Score: -1.06116\n",
      "Feature: 2, Score: 1.59419\n",
      "Feature: 3, Score: 0.03196\n",
      "Feature: 4, Score: 0.46628\n",
      "Feature: 5, Score: 0.70043\n",
      "Feature: 6, Score: 1.48585\n",
      "Feature: 7, Score: 0.24930\n",
      "Feature: 8, Score: -1.09203\n",
      "Feature: 9, Score: -0.93164\n",
      "Feature: 10, Score: -0.02842\n",
      "Feature: 11, Score: -0.40071\n",
      "Feature: 12, Score: 3.76729\n",
      "Feature: 13, Score: -4.64242\n",
      "Feature: 14, Score: 0.06224\n",
      "Feature: 15, Score: -0.51243\n",
      "Feature: 16, Score: 3.76676\n",
      "Feature: 17, Score: 0.01191\n",
      "Feature: 18, Score: 0.25203\n",
      "Feature: 19, Score: 0.76169\n",
      "Feature: 20, Score: 1.95549\n",
      "Feature: 21, Score: -0.58809\n",
      "Feature: 22, Score: 0.48724\n",
      "Feature: 23, Score: -2.86781\n",
      "Feature: 24, Score: -4.80723\n",
      "Feature: 25, Score: 4.36265\n",
      "Feature: 26, Score: 4.69989\n",
      "Feature: 27, Score: -4.40710\n",
      "Feature: 28, Score: 0.04308\n",
      "Feature: 29, Score: 0.14450\n",
      "Feature: 30, Score: 4.69963\n",
      "Feature: 31, Score: -4.73488\n",
      "Feature: 32, Score: 0.06376\n",
      "Feature: 33, Score: 0.27175\n",
      "Feature: 34, Score: -0.03285\n",
      "Feature: 35, Score: -0.02474\n",
      "Feature: 36, Score: -0.15053\n",
      "Feature: 37, Score: -0.04540\n",
      "Feature: 38, Score: 0.04333\n",
      "Feature: 39, Score: -0.11743\n",
      "Feature: 40, Score: 0.07290\n",
      "Feature: 41, Score: -0.08023\n",
      "Feature: 42, Score: -1.04911\n",
      "Feature: 43, Score: -1.40582\n",
      "Feature: 44, Score: 1.34127\n",
      "Feature: 45, Score: -2.03350\n",
      "Feature: 46, Score: 1.46258\n",
      "Feature: 47, Score: 1.93561\n",
      "Feature: 48, Score: 1.15916\n",
      "Feature: 49, Score: 0.07400\n",
      "Feature: 50, Score: -2.33532\n",
      "Feature: 51, Score: 1.06870\n",
      "Feature: 52, Score: -0.04259\n",
      "Feature: 53, Score: -0.17443\n",
      "Feature: 54, Score: 0.56332\n",
      "Feature: 55, Score: -0.44574\n",
      "Feature: 56, Score: -0.11704\n"
     ]
    },
    {
     "data": {
      "image/png": "[encoded data removed]",
      "text/plain": [
       "<Figure size 360x360 with 1 Axes>"
      ]
     },
     "metadata": {},
     "output_type": "display_data"
    }
   ],
   "source": [
    "import matplotlib.pyplot as pyplot\n",
    "# get importance\n",
    "importance = lm.coef_[0]\n",
    "# summarize feature importance\n",
    "for i,v in enumerate(importance):\n",
    "\tprint('Feature: %0d, Score: %.5f' % (i,v))\n",
    "# plot feature importance\n",
    "pyplot.bar([x for x in range(len(importance))], importance)\n",
    "pyplot.show()"
   ]
  },
  {
   "cell_type": "code",
   "execution_count": 216,
   "metadata": {},
   "outputs": [
    {
     "name": "stdout",
     "output_type": "stream",
     "text": [
      "accuracy : 0.9280618707913861\n",
      "Precision : 0.9289806795469687\n",
      "Recall : 0.9273743016759777\n",
      "F1 score : 0.9281767955801105\n",
      "ROC_AUC_Score 0.9280635711026594\n",
      "Jaccard Similarity Score :  92.81 %\n"
     ]
    }
   ],
   "source": [
    "eval_metrics(Y_train,lm_Y_pred_train)"
   ]
  },
  {
   "cell_type": "code",
   "execution_count": 217,
   "metadata": {},
   "outputs": [
    {
     "name": "stdout",
     "output_type": "stream",
     "text": [
      "accuracy : 0.9288\n",
      "Precision : 0.9224343675417661\n",
      "Recall : 0.9350806451612903\n",
      "F1 score : 0.9287144573488186\n",
      "ROC_AUC_Score 0.9288498463901691\n",
      "Jaccard Similarity Score :  92.88 %\n"
     ]
    }
   ],
   "source": [
    "eval_metrics(Y_test,lm_Y_pred_test)"
   ]
  },
  {
   "cell_type": "code",
   "execution_count": 218,
   "metadata": {},
   "outputs": [
    {
     "data": {
      "text/plain": [
       "array([[6948,  533],\n",
       "       [ 546, 6972]], dtype=int64)"
      ]
     },
     "execution_count": 218,
     "metadata": {},
     "output_type": "execute_result"
    }
   ],
   "source": [
    "confusion_matrix(Y_train,lm_Y_pred_train)"
   ]
  },
  {
   "cell_type": "code",
   "execution_count": 219,
   "metadata": {},
   "outputs": [
    {
     "data": {
      "text/plain": [
       "array([[2325,  195],\n",
       "       [ 161, 2319]], dtype=int64)"
      ]
     },
     "execution_count": 219,
     "metadata": {},
     "output_type": "execute_result"
    }
   ],
   "source": [
    "confusion_matrix(Y_test,lm_Y_pred_test)"
   ]
  },
  {
   "cell_type": "code",
   "execution_count": 327,
   "metadata": {},
   "outputs": [],
   "source": [
    "validate_train_lm = model_validation(X_train,lm_Y_pred_train,lm)\n",
    "validate_test_lm = model_validation(X_test,lm_Y_pred_test,lm)"
   ]
  },
  {
   "cell_type": "markdown",
   "metadata": {},
   "source": [
    "## Trying penalties l1& l2 "
   ]
  },
  {
   "cell_type": "code",
   "execution_count": 220,
   "metadata": {},
   "outputs": [
    {
     "name": "stdout",
     "output_type": "stream",
     "text": [
      "Fitting 10 folds for each of 10 candidates, totalling 100 fits\n"
     ]
    },
    {
     "name": "stderr",
     "output_type": "stream",
     "text": [
      "[Parallel(n_jobs=-1)]: Using backend LokyBackend with 8 concurrent workers.\n",
      "[Parallel(n_jobs=-1)]: Done  25 tasks      | elapsed:    2.1s\n",
      "[Parallel(n_jobs=-1)]: Done 100 out of 100 | elapsed:    7.1s finished\n"
     ]
    },
    {
     "name": "stdout",
     "output_type": "stream",
     "text": [
      "tuned hpyerparameters :(best parameters)  {'penalty': 'l2', 'C': 100.0}\n",
      "accuracy : 0.9272626195241273\n"
     ]
    }
   ],
   "source": [
    "grid = {\n",
    "    \"C\":np.logspace(-3,3,7), \n",
    "    \"penalty\":[\"l1\",\"l2\"]\n",
    "} \n",
    "\n",
    "logreg = LogisticRegression()\n",
    "\n",
    "rsearch_lm = RandomizedSearchCV( estimator = logreg,\n",
    "                  param_distributions = grid , scoring=\"accuracy\", n_jobs=-1, cv=10, verbose=2 , refit=True)\n",
    "\n",
    "rsearch_lm.fit(X_train,Y_train)\n",
    "\n",
    "print(\"tuned hpyerparameters :(best parameters) \",rsearch_lm.best_params_)\n",
    "print(\"accuracy :\",rsearch_lm.best_score_)"
   ]
  },
  {
   "cell_type": "code",
   "execution_count": 221,
   "metadata": {},
   "outputs": [
    {
     "name": "stdout",
     "output_type": "stream",
     "text": [
      "Accuracy Score:\n",
      "TEST 0.9294\n",
      "TRAIN 0.9283952263484232\n"
     ]
    }
   ],
   "source": [
    "#Running LM with tuned hyperparameter\n",
    "\n",
    "tuned_lm = LogisticRegression(penalty = \"l2\" , C = 100.0) #Tuned hyperparameters\n",
    "\n",
    "tuned_lm.fit(X_train,Y_train)\n",
    "\n",
    "tuned_Y_Pred_test = tuned_lm.predict(X_test)\n",
    "\n",
    "tuned_Y_Pred_train = tuned_lm.predict(X_train)\n",
    "\n",
    "print('Accuracy Score:')\n",
    "print(\"TEST\" ,accuracy_score(Y_test,tuned_Y_Pred_test))\n",
    "print(\"TRAIN\", accuracy_score(Y_train,tuned_Y_Pred_train))"
   ]
  },
  {
   "cell_type": "code",
   "execution_count": 222,
   "metadata": {},
   "outputs": [
    {
     "name": "stdout",
     "output_type": "stream",
     "text": [
      "accuracy : 0.9294\n",
      "Precision : 0.9228628230616303\n",
      "Recall : 0.9358870967741936\n",
      "F1 score : 0.9293293293293293\n",
      "ROC_AUC_Score 0.9294514848950335\n",
      "Jaccard Similarity Score :  92.94 %\n"
     ]
    }
   ],
   "source": [
    "eval_metrics(Y_test,tuned_Y_Pred_test)"
   ]
  },
  {
   "cell_type": "code",
   "execution_count": 223,
   "metadata": {},
   "outputs": [
    {
     "name": "stdout",
     "output_type": "stream",
     "text": [
      "accuracy : 0.9283952263484232\n",
      "Precision : 0.9293710021321961\n",
      "Recall : 0.9276403298749667\n",
      "F1 score : 0.9285048595393423\n",
      "ROC_AUC_Score 0.928397093155636\n",
      "Jaccard Similarity Score :  92.84 %\n"
     ]
    }
   ],
   "source": [
    "eval_metrics(Y_train,tuned_Y_Pred_train)"
   ]
  },
  {
   "cell_type": "code",
   "execution_count": 224,
   "metadata": {},
   "outputs": [
    {
     "data": {
      "text/plain": [
       "array([[2326,  194],\n",
       "       [ 159, 2321]], dtype=int64)"
      ]
     },
     "execution_count": 224,
     "metadata": {},
     "output_type": "execute_result"
    }
   ],
   "source": [
    "confusion_matrix(Y_test,tuned_Y_Pred_test)"
   ]
  },
  {
   "cell_type": "code",
   "execution_count": 225,
   "metadata": {},
   "outputs": [
    {
     "data": {
      "text/plain": [
       "array([[6951,  530],\n",
       "       [ 544, 6974]], dtype=int64)"
      ]
     },
     "execution_count": 225,
     "metadata": {},
     "output_type": "execute_result"
    }
   ],
   "source": [
    "confusion_matrix(Y_train,tuned_Y_Pred_train)"
   ]
  },
  {
   "cell_type": "code",
   "execution_count": null,
   "metadata": {},
   "outputs": [],
   "source": []
  },
  {
   "cell_type": "markdown",
   "metadata": {},
   "source": [
    "# Dimesnionality Reduction using PCA"
   ]
  },
  {
   "cell_type": "code",
   "execution_count": 228,
   "metadata": {},
   "outputs": [],
   "source": [
    "XX = X.copy()\n",
    "YY = Y.copy()\n",
    "\n",
    "pc = PCA()\n",
    "\n",
    "X = pc.fit_transform(X)\n",
    "X = pd.DataFrame(X)\n",
    "\n",
    "plt.rcParams[\"figure.figsize\"] = (5,5)\n",
    "\n",
    "variance = np.cumsum (np.round(pc.explained_variance_ratio_, decimals=4)*100)"
   ]
  },
  {
   "cell_type": "code",
   "execution_count": 229,
   "metadata": {},
   "outputs": [
    {
     "data": {
      "text/plain": [
       "[<matplotlib.lines.Line2D at 0x26c25a7f148>]"
      ]
     },
     "execution_count": 229,
     "metadata": {},
     "output_type": "execute_result"
    },
    {
     "data": {
      "image/png": "[encoded data removed]",
      "text/plain": [
       "<Figure size 360x360 with 1 Axes>"
      ]
     },
     "metadata": {},
     "output_type": "display_data"
    }
   ],
   "source": [
    "plt.plot(variance)"
   ]
  },
  {
   "cell_type": "code",
   "execution_count": 230,
   "metadata": {},
   "outputs": [],
   "source": [
    "PC = PCA(n_components = 40)\n",
    "\n",
    "XX = PC.fit_transform(XX)\n",
    "XX = pd.DataFrame(XX)\n",
    "\n",
    "from sklearn.model_selection import train_test_split\n",
    "\n",
    "XX_train, XX_test, YY_train, YY_test = train_test_split( XX, YY , test_size=0.2, random_state=42)\n"
   ]
  },
  {
   "cell_type": "markdown",
   "metadata": {},
   "source": [
    "## Random Forest using Principal Components"
   ]
  },
  {
   "cell_type": "code",
   "execution_count": 231,
   "metadata": {},
   "outputs": [
    {
     "name": "stdout",
     "output_type": "stream",
     "text": [
      "Train 1.0\n",
      "Test 0.946\n"
     ]
    }
   ],
   "source": [
    "rf_pca = RandomForestClassifier()\n",
    "\n",
    "rf_pca.fit(XX_train, YY_train)\n",
    "\n",
    "rf_Pred_X = rf_pca.predict(XX_train)\n",
    "\n",
    "Rf_accuracy1 = accuracy_score(YY_train, rf_Pred_X)\n",
    "\n",
    "rf_Pred_Y = rf_pca.predict(XX_test)\n",
    "\n",
    "Rf_accuracy2 = accuracy_score(YY_test, rf_Pred_Y)\n",
    "\n",
    "print(\"Train\", Rf_accuracy1)\n",
    "print(\"Test\", Rf_accuracy2)"
   ]
  },
  {
   "cell_type": "code",
   "execution_count": 232,
   "metadata": {},
   "outputs": [
    {
     "name": "stdout",
     "output_type": "stream",
     "text": [
      "accuracy : 1.0\n",
      "Precision : 1.0\n",
      "Recall : 1.0\n",
      "F1 score : 1.0\n",
      "ROC_AUC_Score 1.0\n",
      "Jaccard Similarity Score :  100.0 %\n"
     ]
    }
   ],
   "source": [
    "eval_metrics(YY_train, rf_Pred_X)"
   ]
  },
  {
   "cell_type": "code",
   "execution_count": 233,
   "metadata": {},
   "outputs": [
    {
     "name": "stdout",
     "output_type": "stream",
     "text": [
      "accuracy : 0.946\n",
      "Precision : 0.9337585868498528\n",
      "Recall : 0.9591733870967742\n",
      "F1 score : 0.9462953754351069\n",
      "ROC_AUC_Score 0.9461045506912443\n",
      "Jaccard Similarity Score :  94.6 %\n"
     ]
    }
   ],
   "source": [
    "eval_metrics(YY_test, rf_Pred_Y)"
   ]
  },
  {
   "cell_type": "code",
   "execution_count": 234,
   "metadata": {},
   "outputs": [
    {
     "data": {
      "text/plain": [
       "array([[7985,    0],\n",
       "       [   0, 8014]], dtype=int64)"
      ]
     },
     "execution_count": 234,
     "metadata": {},
     "output_type": "execute_result"
    }
   ],
   "source": [
    "confusion_matrix(YY_train, rf_Pred_X) "
   ]
  },
  {
   "cell_type": "code",
   "execution_count": 235,
   "metadata": {},
   "outputs": [
    {
     "data": {
      "text/plain": [
       "array([[1881,  135],\n",
       "       [  81, 1903]], dtype=int64)"
      ]
     },
     "execution_count": 235,
     "metadata": {},
     "output_type": "execute_result"
    }
   ],
   "source": [
    "confusion_matrix(YY_test, rf_Pred_Y) "
   ]
  },
  {
   "cell_type": "code",
   "execution_count": 236,
   "metadata": {},
   "outputs": [],
   "source": [
    "rf_pca_validate_train = model_validation(XX_train,YY_train,rf_pca)\n",
    "rf_pca_validate_test = model_validation(XX_test,YY_test,rf_pca)"
   ]
  },
  {
   "cell_type": "code",
   "execution_count": 237,
   "metadata": {},
   "outputs": [
    {
     "data": {
      "text/html": [
       "<div>\n",
       "<style scoped>\n",
       "    .dataframe tbody tr th:only-of-type {\n",
       "        vertical-align: middle;\n",
       "    }\n",
       "\n",
       "    .dataframe tbody tr th {\n",
       "        vertical-align: top;\n",
       "    }\n",
       "\n",
       "    .dataframe thead th {\n",
       "        text-align: right;\n",
       "    }\n",
       "</style>\n",
       "<table border=\"1\" class=\"dataframe\">\n",
       "  <thead>\n",
       "    <tr style=\"text-align: right;\">\n",
       "      <th></th>\n",
       "      <th>min_score</th>\n",
       "      <th>max_score</th>\n",
       "      <th>Bad</th>\n",
       "      <th>Good</th>\n",
       "      <th>Total</th>\n",
       "    </tr>\n",
       "    <tr>\n",
       "      <th>Decile</th>\n",
       "      <th></th>\n",
       "      <th></th>\n",
       "      <th></th>\n",
       "      <th></th>\n",
       "      <th></th>\n",
       "    </tr>\n",
       "  </thead>\n",
       "  <tbody>\n",
       "    <tr>\n",
       "      <th>1</th>\n",
       "      <td>0.99</td>\n",
       "      <td>1.00</td>\n",
       "      <td>1600.0</td>\n",
       "      <td>0.0</td>\n",
       "      <td>1600.0</td>\n",
       "    </tr>\n",
       "    <tr>\n",
       "      <th>2</th>\n",
       "      <td>0.98</td>\n",
       "      <td>0.99</td>\n",
       "      <td>1600.0</td>\n",
       "      <td>0.0</td>\n",
       "      <td>1600.0</td>\n",
       "    </tr>\n",
       "    <tr>\n",
       "      <th>3</th>\n",
       "      <td>0.95</td>\n",
       "      <td>0.98</td>\n",
       "      <td>1600.0</td>\n",
       "      <td>0.0</td>\n",
       "      <td>1600.0</td>\n",
       "    </tr>\n",
       "    <tr>\n",
       "      <th>4</th>\n",
       "      <td>0.91</td>\n",
       "      <td>0.95</td>\n",
       "      <td>1600.0</td>\n",
       "      <td>0.0</td>\n",
       "      <td>1600.0</td>\n",
       "    </tr>\n",
       "    <tr>\n",
       "      <th>5</th>\n",
       "      <td>0.64</td>\n",
       "      <td>0.91</td>\n",
       "      <td>1599.0</td>\n",
       "      <td>0.0</td>\n",
       "      <td>1599.0</td>\n",
       "    </tr>\n",
       "    <tr>\n",
       "      <th>6</th>\n",
       "      <td>0.10</td>\n",
       "      <td>0.64</td>\n",
       "      <td>15.0</td>\n",
       "      <td>1585.0</td>\n",
       "      <td>1600.0</td>\n",
       "    </tr>\n",
       "    <tr>\n",
       "      <th>7</th>\n",
       "      <td>0.04</td>\n",
       "      <td>0.10</td>\n",
       "      <td>0.0</td>\n",
       "      <td>1600.0</td>\n",
       "      <td>1600.0</td>\n",
       "    </tr>\n",
       "    <tr>\n",
       "      <th>8</th>\n",
       "      <td>0.02</td>\n",
       "      <td>0.04</td>\n",
       "      <td>0.0</td>\n",
       "      <td>1600.0</td>\n",
       "      <td>1600.0</td>\n",
       "    </tr>\n",
       "    <tr>\n",
       "      <th>9</th>\n",
       "      <td>0.00</td>\n",
       "      <td>0.02</td>\n",
       "      <td>0.0</td>\n",
       "      <td>1600.0</td>\n",
       "      <td>1600.0</td>\n",
       "    </tr>\n",
       "    <tr>\n",
       "      <th>10</th>\n",
       "      <td>0.00</td>\n",
       "      <td>0.00</td>\n",
       "      <td>0.0</td>\n",
       "      <td>1600.0</td>\n",
       "      <td>1600.0</td>\n",
       "    </tr>\n",
       "  </tbody>\n",
       "</table>\n",
       "</div>"
      ],
      "text/plain": [
       "        min_score  max_score     Bad    Good   Total\n",
       "Decile                                              \n",
       "1            0.99       1.00  1600.0     0.0  1600.0\n",
       "2            0.98       0.99  1600.0     0.0  1600.0\n",
       "3            0.95       0.98  1600.0     0.0  1600.0\n",
       "4            0.91       0.95  1600.0     0.0  1600.0\n",
       "5            0.64       0.91  1599.0     0.0  1599.0\n",
       "6            0.10       0.64    15.0  1585.0  1600.0\n",
       "7            0.04       0.10     0.0  1600.0  1600.0\n",
       "8            0.02       0.04     0.0  1600.0  1600.0\n",
       "9            0.00       0.02     0.0  1600.0  1600.0\n",
       "10           0.00       0.00     0.0  1600.0  1600.0"
      ]
     },
     "execution_count": 237,
     "metadata": {},
     "output_type": "execute_result"
    }
   ],
   "source": [
    "rf_pca_validate_train"
   ]
  },
  {
   "cell_type": "code",
   "execution_count": 238,
   "metadata": {},
   "outputs": [
    {
     "data": {
      "text/html": [
       "<div>\n",
       "<style scoped>\n",
       "    .dataframe tbody tr th:only-of-type {\n",
       "        vertical-align: middle;\n",
       "    }\n",
       "\n",
       "    .dataframe tbody tr th {\n",
       "        vertical-align: top;\n",
       "    }\n",
       "\n",
       "    .dataframe thead th {\n",
       "        text-align: right;\n",
       "    }\n",
       "</style>\n",
       "<table border=\"1\" class=\"dataframe\">\n",
       "  <thead>\n",
       "    <tr style=\"text-align: right;\">\n",
       "      <th></th>\n",
       "      <th>min_score</th>\n",
       "      <th>max_score</th>\n",
       "      <th>Bad</th>\n",
       "      <th>Good</th>\n",
       "      <th>Total</th>\n",
       "    </tr>\n",
       "    <tr>\n",
       "      <th>Decile</th>\n",
       "      <th></th>\n",
       "      <th></th>\n",
       "      <th></th>\n",
       "      <th></th>\n",
       "      <th></th>\n",
       "    </tr>\n",
       "  </thead>\n",
       "  <tbody>\n",
       "    <tr>\n",
       "      <th>1</th>\n",
       "      <td>0.98</td>\n",
       "      <td>1.00</td>\n",
       "      <td>400.0</td>\n",
       "      <td>0.0</td>\n",
       "      <td>400.0</td>\n",
       "    </tr>\n",
       "    <tr>\n",
       "      <th>2</th>\n",
       "      <td>0.94</td>\n",
       "      <td>0.98</td>\n",
       "      <td>399.0</td>\n",
       "      <td>1.0</td>\n",
       "      <td>400.0</td>\n",
       "    </tr>\n",
       "    <tr>\n",
       "      <th>3</th>\n",
       "      <td>0.87</td>\n",
       "      <td>0.94</td>\n",
       "      <td>397.0</td>\n",
       "      <td>3.0</td>\n",
       "      <td>400.0</td>\n",
       "    </tr>\n",
       "    <tr>\n",
       "      <th>4</th>\n",
       "      <td>0.76</td>\n",
       "      <td>0.87</td>\n",
       "      <td>382.0</td>\n",
       "      <td>18.0</td>\n",
       "      <td>400.0</td>\n",
       "    </tr>\n",
       "    <tr>\n",
       "      <th>5</th>\n",
       "      <td>0.54</td>\n",
       "      <td>0.76</td>\n",
       "      <td>310.0</td>\n",
       "      <td>90.0</td>\n",
       "      <td>400.0</td>\n",
       "    </tr>\n",
       "    <tr>\n",
       "      <th>6</th>\n",
       "      <td>0.25</td>\n",
       "      <td>0.54</td>\n",
       "      <td>81.0</td>\n",
       "      <td>319.0</td>\n",
       "      <td>400.0</td>\n",
       "    </tr>\n",
       "    <tr>\n",
       "      <th>7</th>\n",
       "      <td>0.12</td>\n",
       "      <td>0.25</td>\n",
       "      <td>10.0</td>\n",
       "      <td>390.0</td>\n",
       "      <td>400.0</td>\n",
       "    </tr>\n",
       "    <tr>\n",
       "      <th>8</th>\n",
       "      <td>0.06</td>\n",
       "      <td>0.12</td>\n",
       "      <td>4.0</td>\n",
       "      <td>396.0</td>\n",
       "      <td>400.0</td>\n",
       "    </tr>\n",
       "    <tr>\n",
       "      <th>9</th>\n",
       "      <td>0.02</td>\n",
       "      <td>0.06</td>\n",
       "      <td>0.0</td>\n",
       "      <td>400.0</td>\n",
       "      <td>400.0</td>\n",
       "    </tr>\n",
       "    <tr>\n",
       "      <th>10</th>\n",
       "      <td>0.00</td>\n",
       "      <td>0.02</td>\n",
       "      <td>1.0</td>\n",
       "      <td>399.0</td>\n",
       "      <td>400.0</td>\n",
       "    </tr>\n",
       "  </tbody>\n",
       "</table>\n",
       "</div>"
      ],
      "text/plain": [
       "        min_score  max_score    Bad   Good  Total\n",
       "Decile                                           \n",
       "1            0.98       1.00  400.0    0.0  400.0\n",
       "2            0.94       0.98  399.0    1.0  400.0\n",
       "3            0.87       0.94  397.0    3.0  400.0\n",
       "4            0.76       0.87  382.0   18.0  400.0\n",
       "5            0.54       0.76  310.0   90.0  400.0\n",
       "6            0.25       0.54   81.0  319.0  400.0\n",
       "7            0.12       0.25   10.0  390.0  400.0\n",
       "8            0.06       0.12    4.0  396.0  400.0\n",
       "9            0.02       0.06    0.0  400.0  400.0\n",
       "10           0.00       0.02    1.0  399.0  400.0"
      ]
     },
     "execution_count": 238,
     "metadata": {},
     "output_type": "execute_result"
    }
   ],
   "source": [
    "rf_pca_validate_test"
   ]
  },
  {
   "cell_type": "code",
   "execution_count": 239,
   "metadata": {},
   "outputs": [
    {
     "data": {
      "text/html": [
       "\n",
       "\n",
       "\n",
       "\n",
       "\n",
       "\n",
       "  <div class=\"bk-root\" id=\"7731687a-29cf-4fe8-b9c4-e227e62f7100\" data-root-id=\"1550\"></div>\n"
      ]
     },
     "metadata": {},
     "output_type": "display_data"
    },
    {
     "data": {
      "application/javascript": [
       "(function(root) {\n",
       "  function embed_document(root) {\n",
       "    \n",
       "  var docs_json = {\"bf8a1ac9-93b5-4dca-8090-75c65b483747\":{\"roots\":{\"references\":[{\"attributes\":{\"below\":[{\"id\":\"1561\",\"type\":\"LinearAxis\"}],\"center\":[{\"id\":\"1565\",\"type\":\"Grid\"},{\"id\":\"1570\",\"type\":\"Grid\"},{\"id\":\"1595\",\"type\":\"Legend\"}],\"left\":[{\"id\":\"1566\",\"type\":\"LinearAxis\"}],\"renderers\":[{\"id\":\"1587\",\"type\":\"GlyphRenderer\"},{\"id\":\"1600\",\"type\":\"GlyphRenderer\"}],\"title\":{\"id\":\"1551\",\"type\":\"Title\"},\"toolbar\":{\"id\":\"1577\",\"type\":\"Toolbar\"},\"x_range\":{\"id\":\"1553\",\"type\":\"DataRange1d\"},\"x_scale\":{\"id\":\"1557\",\"type\":\"LinearScale\"},\"y_range\":{\"id\":\"1555\",\"type\":\"DataRange1d\"},\"y_scale\":{\"id\":\"1559\",\"type\":\"LinearScale\"}},\"id\":\"1550\",\"subtype\":\"Figure\",\"type\":\"Plot\"},{\"attributes\":{\"dimension\":1,\"ticker\":{\"id\":\"1567\",\"type\":\"BasicTicker\"}},\"id\":\"1570\",\"type\":\"Grid\"},{\"attributes\":{\"text\":\"ROC Curve - Train data\"},\"id\":\"1551\",\"type\":\"Title\"},{\"attributes\":{\"overlay\":{\"id\":\"1594\",\"type\":\"BoxAnnotation\"}},\"id\":\"1573\",\"type\":\"BoxZoomTool\"},{\"attributes\":{\"source\":{\"id\":\"1584\",\"type\":\"ColumnDataSource\"}},\"id\":\"1588\",\"type\":\"CDSView\"},{\"attributes\":{},\"id\":\"1576\",\"type\":\"HelpTool\"},{\"attributes\":{\"formatter\":{\"id\":\"1593\",\"type\":\"BasicTickFormatter\"},\"ticker\":{\"id\":\"1562\",\"type\":\"BasicTicker\"}},\"id\":\"1561\",\"type\":\"LinearAxis\"},{\"attributes\":{},\"id\":\"1572\",\"type\":\"WheelZoomTool\"},{\"attributes\":{},\"id\":\"1571\",\"type\":\"PanTool\"},{\"attributes\":{\"source\":{\"id\":\"1597\",\"type\":\"ColumnDataSource\"}},\"id\":\"1601\",\"type\":\"CDSView\"},{\"attributes\":{\"ticker\":{\"id\":\"1562\",\"type\":\"BasicTicker\"}},\"id\":\"1565\",\"type\":\"Grid\"},{\"attributes\":{\"callback\":null,\"data\":{\"x\":[0,1],\"y\":[0,1]},\"selected\":{\"id\":\"1649\",\"type\":\"Selection\"},\"selection_policy\":{\"id\":\"1650\",\"type\":\"UnionRenderers\"}},\"id\":\"1597\",\"type\":\"ColumnDataSource\"},{\"attributes\":{},\"id\":\"1650\",\"type\":\"UnionRenderers\"},{\"attributes\":{\"callback\":null},\"id\":\"1553\",\"type\":\"DataRange1d\"},{\"attributes\":{\"line_alpha\":0.1,\"line_color\":\"#1f77b4\",\"line_dash\":[2,4,6,4],\"line_width\":2,\"x\":{\"field\":\"x\"},\"y\":{\"field\":\"y\"}},\"id\":\"1599\",\"type\":\"Line\"},{\"attributes\":{},\"id\":\"1648\",\"type\":\"UnionRenderers\"},{\"attributes\":{\"items\":[{\"id\":\"1596\",\"type\":\"LegendItem\"}]},\"id\":\"1595\",\"type\":\"Legend\"},{\"attributes\":{\"callback\":null,\"data\":{\"x\":{\"__ndarray__\":\"AAAAAAAAAAAAAAAAAAAAAAAAAAAAAPA/\",\"dtype\":\"float64\",\"shape\":[3]},\"y\":{\"__ndarray__\":\"AAAAAAAAAAAAAAAAAADwPwAAAAAAAPA/\",\"dtype\":\"float64\",\"shape\":[3]}},\"selected\":{\"id\":\"1647\",\"type\":\"Selection\"},\"selection_policy\":{\"id\":\"1648\",\"type\":\"UnionRenderers\"}},\"id\":\"1584\",\"type\":\"ColumnDataSource\"},{\"attributes\":{},\"id\":\"1593\",\"type\":\"BasicTickFormatter\"},{\"attributes\":{\"line_alpha\":0.1,\"line_color\":\"#1f77b4\",\"line_width\":2,\"x\":{\"field\":\"x\"},\"y\":{\"field\":\"y\"}},\"id\":\"1586\",\"type\":\"Line\"},{\"attributes\":{},\"id\":\"1575\",\"type\":\"ResetTool\"},{\"attributes\":{\"data_source\":{\"id\":\"1597\",\"type\":\"ColumnDataSource\"},\"glyph\":{\"id\":\"1598\",\"type\":\"Line\"},\"hover_glyph\":null,\"muted_glyph\":null,\"nonselection_glyph\":{\"id\":\"1599\",\"type\":\"Line\"},\"selection_glyph\":null,\"view\":{\"id\":\"1601\",\"type\":\"CDSView\"}},\"id\":\"1600\",\"type\":\"GlyphRenderer\"},{\"attributes\":{},\"id\":\"1557\",\"type\":\"LinearScale\"},{\"attributes\":{},\"id\":\"1647\",\"type\":\"Selection\"},{\"attributes\":{},\"id\":\"1559\",\"type\":\"LinearScale\"},{\"attributes\":{\"bottom_units\":\"screen\",\"fill_alpha\":{\"value\":0.5},\"fill_color\":{\"value\":\"lightgrey\"},\"left_units\":\"screen\",\"level\":\"overlay\",\"line_alpha\":{\"value\":1.0},\"line_color\":{\"value\":\"black\"},\"line_dash\":[4,4],\"line_width\":{\"value\":2},\"render_mode\":\"css\",\"right_units\":\"screen\",\"top_units\":\"screen\"},\"id\":\"1594\",\"type\":\"BoxAnnotation\"},{\"attributes\":{\"line_color\":\"#0077bc\",\"line_width\":2,\"x\":{\"field\":\"x\"},\"y\":{\"field\":\"y\"}},\"id\":\"1585\",\"type\":\"Line\"},{\"attributes\":{},\"id\":\"1562\",\"type\":\"BasicTicker\"},{\"attributes\":{},\"id\":\"1649\",\"type\":\"Selection\"},{\"attributes\":{\"data_source\":{\"id\":\"1584\",\"type\":\"ColumnDataSource\"},\"glyph\":{\"id\":\"1585\",\"type\":\"Line\"},\"hover_glyph\":null,\"muted_glyph\":null,\"nonselection_glyph\":{\"id\":\"1586\",\"type\":\"Line\"},\"selection_glyph\":null,\"view\":{\"id\":\"1588\",\"type\":\"CDSView\"}},\"id\":\"1587\",\"type\":\"GlyphRenderer\"},{\"attributes\":{\"active_drag\":\"auto\",\"active_inspect\":\"auto\",\"active_multi\":null,\"active_scroll\":\"auto\",\"active_tap\":\"auto\",\"tools\":[{\"id\":\"1571\",\"type\":\"PanTool\"},{\"id\":\"1572\",\"type\":\"WheelZoomTool\"},{\"id\":\"1573\",\"type\":\"BoxZoomTool\"},{\"id\":\"1574\",\"type\":\"SaveTool\"},{\"id\":\"1575\",\"type\":\"ResetTool\"},{\"id\":\"1576\",\"type\":\"HelpTool\"}]},\"id\":\"1577\",\"type\":\"Toolbar\"},{\"attributes\":{},\"id\":\"1567\",\"type\":\"BasicTicker\"},{\"attributes\":{\"formatter\":{\"id\":\"1591\",\"type\":\"BasicTickFormatter\"},\"ticker\":{\"id\":\"1567\",\"type\":\"BasicTicker\"}},\"id\":\"1566\",\"type\":\"LinearAxis\"},{\"attributes\":{\"callback\":null},\"id\":\"1555\",\"type\":\"DataRange1d\"},{\"attributes\":{},\"id\":\"1574\",\"type\":\"SaveTool\"},{\"attributes\":{\"label\":{\"value\":\"AUC = 1.0\"},\"renderers\":[{\"id\":\"1587\",\"type\":\"GlyphRenderer\"}]},\"id\":\"1596\",\"type\":\"LegendItem\"},{\"attributes\":{},\"id\":\"1591\",\"type\":\"BasicTickFormatter\"},{\"attributes\":{\"line_color\":\"#d15555\",\"line_dash\":[2,4,6,4],\"line_width\":2,\"x\":{\"field\":\"x\"},\"y\":{\"field\":\"y\"}},\"id\":\"1598\",\"type\":\"Line\"}],\"root_ids\":[\"1550\"]},\"title\":\"Bokeh Application\",\"version\":\"1.4.0\"}};\n",
       "  var render_items = [{\"docid\":\"bf8a1ac9-93b5-4dca-8090-75c65b483747\",\"roots\":{\"1550\":\"7731687a-29cf-4fe8-b9c4-e227e62f7100\"}}];\n",
       "  root.Bokeh.embed.embed_items_notebook(docs_json, render_items);\n",
       "\n",
       "  }\n",
       "  if (root.Bokeh !== undefined) {\n",
       "    embed_document(root);\n",
       "  } else {\n",
       "    var attempts = 0;\n",
       "    var timer = setInterval(function(root) {\n",
       "      if (root.Bokeh !== undefined) {\n",
       "        clearInterval(timer);\n",
       "        embed_document(root);\n",
       "      } else {\n",
       "        attempts++;\n",
       "        if (attempts > 100) {\n",
       "          clearInterval(timer);\n",
       "          console.log(\"Bokeh: ERROR: Unable to run BokehJS code because BokehJS library is missing\");\n",
       "        }\n",
       "      }\n",
       "    }, 10, root)\n",
       "  }\n",
       "})(window);"
      ],
      "application/vnd.bokehjs_exec.v0+json": ""
     },
     "metadata": {
      "application/vnd.bokehjs_exec.v0+json": {
       "id": "1550"
      }
     },
     "output_type": "display_data"
    }
   ],
   "source": [
    "from sklearn.metrics import auc\n",
    "preds = rf_pca.predict(XX_train)\n",
    "fpr, tpr, _ = roc_curve(np.array(YY_train), preds)\n",
    "auc = auc(fpr,tpr)\n",
    "p = figure(title=\"ROC Curve - Train data\")\n",
    "r = p.line(fpr,tpr,color='#0077bc',legend = 'AUC = '+ str(round(auc,3)), line_width=2)\n",
    "s = p.line([0,1],[0,1], color= '#d15555',line_dash='dotdash',line_width=2)\n",
    "show(p)"
   ]
  },
  {
   "cell_type": "code",
   "execution_count": 240,
   "metadata": {},
   "outputs": [
    {
     "data": {
      "text/html": [
       "\n",
       "\n",
       "\n",
       "\n",
       "\n",
       "\n",
       "  <div class=\"bk-root\" id=\"a83f81db-646e-4b94-9598-b5ef3beca561\" data-root-id=\"1712\"></div>\n"
      ]
     },
     "metadata": {},
     "output_type": "display_data"
    },
    {
     "data": {
      "application/javascript": [
       "(function(root) {\n",
       "  function embed_document(root) {\n",
       "    \n",
       "  var docs_json = {\"0d5575f9-f663-44c7-9697-4bf6f0b86557\":{\"roots\":{\"references\":[{\"attributes\":{\"below\":[{\"id\":\"1723\",\"type\":\"LinearAxis\"}],\"center\":[{\"id\":\"1727\",\"type\":\"Grid\"},{\"id\":\"1732\",\"type\":\"Grid\"},{\"id\":\"1757\",\"type\":\"Legend\"}],\"left\":[{\"id\":\"1728\",\"type\":\"LinearAxis\"}],\"renderers\":[{\"id\":\"1749\",\"type\":\"GlyphRenderer\"},{\"id\":\"1762\",\"type\":\"GlyphRenderer\"}],\"title\":{\"id\":\"1713\",\"type\":\"Title\"},\"toolbar\":{\"id\":\"1739\",\"type\":\"Toolbar\"},\"x_range\":{\"id\":\"1715\",\"type\":\"DataRange1d\"},\"x_scale\":{\"id\":\"1719\",\"type\":\"LinearScale\"},\"y_range\":{\"id\":\"1717\",\"type\":\"DataRange1d\"},\"y_scale\":{\"id\":\"1721\",\"type\":\"LinearScale\"}},\"id\":\"1712\",\"subtype\":\"Figure\",\"type\":\"Plot\"},{\"attributes\":{},\"id\":\"1822\",\"type\":\"UnionRenderers\"},{\"attributes\":{\"label\":{\"value\":\"AUC = 0.946\"},\"renderers\":[{\"id\":\"1749\",\"type\":\"GlyphRenderer\"}]},\"id\":\"1758\",\"type\":\"LegendItem\"},{\"attributes\":{\"line_alpha\":0.1,\"line_color\":\"#1f77b4\",\"line_dash\":[2,4,6,4],\"line_width\":2,\"x\":{\"field\":\"x\"},\"y\":{\"field\":\"y\"}},\"id\":\"1761\",\"type\":\"Line\"},{\"attributes\":{},\"id\":\"1820\",\"type\":\"UnionRenderers\"},{\"attributes\":{\"items\":[{\"id\":\"1758\",\"type\":\"LegendItem\"}]},\"id\":\"1757\",\"type\":\"Legend\"},{\"attributes\":{\"text\":\"ROC Curve - Train data\"},\"id\":\"1713\",\"type\":\"Title\"},{\"attributes\":{\"ticker\":{\"id\":\"1724\",\"type\":\"BasicTicker\"}},\"id\":\"1727\",\"type\":\"Grid\"},{\"attributes\":{},\"id\":\"1721\",\"type\":\"LinearScale\"},{\"attributes\":{\"callback\":null},\"id\":\"1715\",\"type\":\"DataRange1d\"},{\"attributes\":{\"line_alpha\":0.1,\"line_color\":\"#1f77b4\",\"line_width\":2,\"x\":{\"field\":\"x\"},\"y\":{\"field\":\"y\"}},\"id\":\"1748\",\"type\":\"Line\"},{\"attributes\":{\"source\":{\"id\":\"1746\",\"type\":\"ColumnDataSource\"}},\"id\":\"1750\",\"type\":\"CDSView\"},{\"attributes\":{\"line_color\":\"#d15555\",\"line_dash\":[2,4,6,4],\"line_width\":2,\"x\":{\"field\":\"x\"},\"y\":{\"field\":\"y\"}},\"id\":\"1760\",\"type\":\"Line\"},{\"attributes\":{},\"id\":\"1724\",\"type\":\"BasicTicker\"},{\"attributes\":{\"formatter\":{\"id\":\"1753\",\"type\":\"BasicTickFormatter\"},\"ticker\":{\"id\":\"1729\",\"type\":\"BasicTicker\"}},\"id\":\"1728\",\"type\":\"LinearAxis\"},{\"attributes\":{},\"id\":\"1734\",\"type\":\"WheelZoomTool\"},{\"attributes\":{\"bottom_units\":\"screen\",\"fill_alpha\":{\"value\":0.5},\"fill_color\":{\"value\":\"lightgrey\"},\"left_units\":\"screen\",\"level\":\"overlay\",\"line_alpha\":{\"value\":1.0},\"line_color\":{\"value\":\"black\"},\"line_dash\":[4,4],\"line_width\":{\"value\":2},\"render_mode\":\"css\",\"right_units\":\"screen\",\"top_units\":\"screen\"},\"id\":\"1756\",\"type\":\"BoxAnnotation\"},{\"attributes\":{\"callback\":null,\"data\":{\"x\":[0,1],\"y\":[0,1]},\"selected\":{\"id\":\"1821\",\"type\":\"Selection\"},\"selection_policy\":{\"id\":\"1822\",\"type\":\"UnionRenderers\"}},\"id\":\"1759\",\"type\":\"ColumnDataSource\"},{\"attributes\":{},\"id\":\"1738\",\"type\":\"HelpTool\"},{\"attributes\":{},\"id\":\"1719\",\"type\":\"LinearScale\"},{\"attributes\":{},\"id\":\"1729\",\"type\":\"BasicTicker\"},{\"attributes\":{\"formatter\":{\"id\":\"1755\",\"type\":\"BasicTickFormatter\"},\"ticker\":{\"id\":\"1724\",\"type\":\"BasicTicker\"}},\"id\":\"1723\",\"type\":\"LinearAxis\"},{\"attributes\":{\"callback\":null},\"id\":\"1717\",\"type\":\"DataRange1d\"},{\"attributes\":{},\"id\":\"1736\",\"type\":\"SaveTool\"},{\"attributes\":{},\"id\":\"1737\",\"type\":\"ResetTool\"},{\"attributes\":{\"callback\":null,\"data\":{\"x\":{\"__ndarray__\":\"AAAAAAAAAABJkiRJkiSxPwAAAAAAAPA/\",\"dtype\":\"float64\",\"shape\":[3]},\"y\":{\"__ndarray__\":\"AAAAAAAAAAAyxhhjjLHuPwAAAAAAAPA/\",\"dtype\":\"float64\",\"shape\":[3]}},\"selected\":{\"id\":\"1819\",\"type\":\"Selection\"},\"selection_policy\":{\"id\":\"1820\",\"type\":\"UnionRenderers\"}},\"id\":\"1746\",\"type\":\"ColumnDataSource\"},{\"attributes\":{\"data_source\":{\"id\":\"1746\",\"type\":\"ColumnDataSource\"},\"glyph\":{\"id\":\"1747\",\"type\":\"Line\"},\"hover_glyph\":null,\"muted_glyph\":null,\"nonselection_glyph\":{\"id\":\"1748\",\"type\":\"Line\"},\"selection_glyph\":null,\"view\":{\"id\":\"1750\",\"type\":\"CDSView\"}},\"id\":\"1749\",\"type\":\"GlyphRenderer\"},{\"attributes\":{\"dimension\":1,\"ticker\":{\"id\":\"1729\",\"type\":\"BasicTicker\"}},\"id\":\"1732\",\"type\":\"Grid\"},{\"attributes\":{\"source\":{\"id\":\"1759\",\"type\":\"ColumnDataSource\"}},\"id\":\"1763\",\"type\":\"CDSView\"},{\"attributes\":{},\"id\":\"1755\",\"type\":\"BasicTickFormatter\"},{\"attributes\":{\"line_color\":\"#0077bc\",\"line_width\":2,\"x\":{\"field\":\"x\"},\"y\":{\"field\":\"y\"}},\"id\":\"1747\",\"type\":\"Line\"},{\"attributes\":{},\"id\":\"1733\",\"type\":\"PanTool\"},{\"attributes\":{},\"id\":\"1753\",\"type\":\"BasicTickFormatter\"},{\"attributes\":{},\"id\":\"1821\",\"type\":\"Selection\"},{\"attributes\":{\"data_source\":{\"id\":\"1759\",\"type\":\"ColumnDataSource\"},\"glyph\":{\"id\":\"1760\",\"type\":\"Line\"},\"hover_glyph\":null,\"muted_glyph\":null,\"nonselection_glyph\":{\"id\":\"1761\",\"type\":\"Line\"},\"selection_glyph\":null,\"view\":{\"id\":\"1763\",\"type\":\"CDSView\"}},\"id\":\"1762\",\"type\":\"GlyphRenderer\"},{\"attributes\":{\"active_drag\":\"auto\",\"active_inspect\":\"auto\",\"active_multi\":null,\"active_scroll\":\"auto\",\"active_tap\":\"auto\",\"tools\":[{\"id\":\"1733\",\"type\":\"PanTool\"},{\"id\":\"1734\",\"type\":\"WheelZoomTool\"},{\"id\":\"1735\",\"type\":\"BoxZoomTool\"},{\"id\":\"1736\",\"type\":\"SaveTool\"},{\"id\":\"1737\",\"type\":\"ResetTool\"},{\"id\":\"1738\",\"type\":\"HelpTool\"}]},\"id\":\"1739\",\"type\":\"Toolbar\"},{\"attributes\":{\"overlay\":{\"id\":\"1756\",\"type\":\"BoxAnnotation\"}},\"id\":\"1735\",\"type\":\"BoxZoomTool\"},{\"attributes\":{},\"id\":\"1819\",\"type\":\"Selection\"}],\"root_ids\":[\"1712\"]},\"title\":\"Bokeh Application\",\"version\":\"1.4.0\"}};\n",
       "  var render_items = [{\"docid\":\"0d5575f9-f663-44c7-9697-4bf6f0b86557\",\"roots\":{\"1712\":\"a83f81db-646e-4b94-9598-b5ef3beca561\"}}];\n",
       "  root.Bokeh.embed.embed_items_notebook(docs_json, render_items);\n",
       "\n",
       "  }\n",
       "  if (root.Bokeh !== undefined) {\n",
       "    embed_document(root);\n",
       "  } else {\n",
       "    var attempts = 0;\n",
       "    var timer = setInterval(function(root) {\n",
       "      if (root.Bokeh !== undefined) {\n",
       "        clearInterval(timer);\n",
       "        embed_document(root);\n",
       "      } else {\n",
       "        attempts++;\n",
       "        if (attempts > 100) {\n",
       "          clearInterval(timer);\n",
       "          console.log(\"Bokeh: ERROR: Unable to run BokehJS code because BokehJS library is missing\");\n",
       "        }\n",
       "      }\n",
       "    }, 10, root)\n",
       "  }\n",
       "})(window);"
      ],
      "application/vnd.bokehjs_exec.v0+json": ""
     },
     "metadata": {
      "application/vnd.bokehjs_exec.v0+json": {
       "id": "1712"
      }
     },
     "output_type": "display_data"
    }
   ],
   "source": [
    "from sklearn.metrics import auc\n",
    "predss = rf_pca.predict(XX_test)\n",
    "fpr, tpr, _ = roc_curve(np.array(YY_test), predss)\n",
    "auc = auc(fpr,tpr)\n",
    "p = figure(title=\"ROC Curve - Train data\")\n",
    "r = p.line(fpr,tpr,color='#0077bc',legend = 'AUC = '+ str(round(auc,3)), line_width=2)\n",
    "s = p.line([0,1],[0,1], color= '#d15555',line_dash='dotdash',line_width=2)\n",
    "show(p)"
   ]
  },
  {
   "cell_type": "code",
   "execution_count": null,
   "metadata": {},
   "outputs": [],
   "source": []
  },
  {
   "cell_type": "code",
   "execution_count": 241,
   "metadata": {},
   "outputs": [],
   "source": [
    "from sklearn.model_selection import RandomizedSearchCV\n",
    "\n",
    "tuned_pca_rf = RandomForestClassifier(random_state=42)\n",
    "start = time.time()\n",
    "\n",
    "\n",
    "Param = {\n",
    "              'max_depth':[45,46,47,48,49,50],\n",
    "              'min_samples_split':[13,14,15,16],\n",
    "              'n_estimators':[34,35,36,37,38],\n",
    "              'bootstrap': [True, False],\n",
    "              'max_features': ['auto', 'sqrt', None],\n",
    "              'criterion': ['gini', 'entropy']\n",
    "}\n",
    "\n",
    "rsearch_pca_rf = RandomizedSearchCV( estimator = tuned_pca_rf, param_distributions = Param , scoring=\"accuracy\", n_jobs=-1, cv=10, verbose=2 , refit=True)"
   ]
  },
  {
   "cell_type": "code",
   "execution_count": 242,
   "metadata": {},
   "outputs": [
    {
     "name": "stdout",
     "output_type": "stream",
     "text": [
      "Fitting 10 folds for each of 10 candidates, totalling 100 fits\n"
     ]
    },
    {
     "name": "stderr",
     "output_type": "stream",
     "text": [
      "[Parallel(n_jobs=-1)]: Using backend LokyBackend with 8 concurrent workers.\n",
      "[Parallel(n_jobs=-1)]: Done  25 tasks      | elapsed:   47.0s\n",
      "[Parallel(n_jobs=-1)]: Done 100 out of 100 | elapsed: 12.5min finished\n"
     ]
    },
    {
     "data": {
      "text/plain": [
       "RandomizedSearchCV(cv=10, error_score=nan,\n",
       "                   estimator=RandomForestClassifier(bootstrap=True,\n",
       "                                                    ccp_alpha=0.0,\n",
       "                                                    class_weight=None,\n",
       "                                                    criterion='gini',\n",
       "                                                    max_depth=None,\n",
       "                                                    max_features='auto',\n",
       "                                                    max_leaf_nodes=None,\n",
       "                                                    max_samples=None,\n",
       "                                                    min_impurity_decrease=0.0,\n",
       "                                                    min_impurity_split=None,\n",
       "                                                    min_samples_leaf=1,\n",
       "                                                    min_samples_split=2,\n",
       "                                                    min_weight_fraction_leaf=0.0,\n",
       "                                                    n_estimators=100,\n",
       "                                                    n_job...\n",
       "                   iid='deprecated', n_iter=10, n_jobs=-1,\n",
       "                   param_distributions={'bootstrap': [True, False],\n",
       "                                        'criterion': ['gini', 'entropy'],\n",
       "                                        'max_depth': [45, 46, 47, 48, 49, 50],\n",
       "                                        'max_features': ['auto', 'sqrt', None],\n",
       "                                        'min_samples_split': [13, 14, 15, 16],\n",
       "                                        'n_estimators': [34, 35, 36, 37, 38]},\n",
       "                   pre_dispatch='2*n_jobs', random_state=None, refit=True,\n",
       "                   return_train_score=False, scoring='accuracy', verbose=2)"
      ]
     },
     "execution_count": 242,
     "metadata": {},
     "output_type": "execute_result"
    }
   ],
   "source": [
    "rsearch_pca_rf.fit(XX_train,YY_train)"
   ]
  },
  {
   "cell_type": "code",
   "execution_count": 243,
   "metadata": {},
   "outputs": [
    {
     "data": {
      "text/plain": [
       "{'n_estimators': 35,\n",
       " 'min_samples_split': 13,\n",
       " 'max_features': 'auto',\n",
       " 'max_depth': 50,\n",
       " 'criterion': 'gini',\n",
       " 'bootstrap': False}"
      ]
     },
     "execution_count": 243,
     "metadata": {},
     "output_type": "execute_result"
    }
   ],
   "source": [
    "rsearch_pca_rf.best_params_"
   ]
  },
  {
   "cell_type": "code",
   "execution_count": 244,
   "metadata": {},
   "outputs": [
    {
     "data": {
      "text/plain": [
       "0.9441837867417135"
      ]
     },
     "execution_count": 244,
     "metadata": {},
     "output_type": "execute_result"
    }
   ],
   "source": [
    "rsearch_pca_rf.best_score_"
   ]
  },
  {
   "cell_type": "markdown",
   "metadata": {},
   "source": [
    "## Random Forest HyperParam Tuning "
   ]
  },
  {
   "cell_type": "code",
   "execution_count": 245,
   "metadata": {},
   "outputs": [
    {
     "name": "stdout",
     "output_type": "stream",
     "text": [
      "Train 0.9994999687480468\n",
      "Test 0.947\n"
     ]
    }
   ],
   "source": [
    "tuned_pca_rf = RandomForestClassifier(n_estimators=35,min_samples_split=13,max_features=\"auto\",max_depth=50, criterion = \"gini\",\n",
    "                             bootstrap=False,random_state=42)\n",
    "tuned_pca_rf.fit(XX_train, YY_train)\n",
    "\n",
    "tuned_pca_Pred_X = tuned_pca_rf.predict(XX_train)\n",
    "\n",
    "tuned_pca_rf_accuracy1 = accuracy_score(YY_train, tuned_pca_Pred_X)\n",
    "\n",
    "tuned_pca_Pred_Y = tuned_pca_rf.predict(XX_test)\n",
    "\n",
    "tuned_pca_rf_accuracy2 = accuracy_score(YY_test, tuned_pca_Pred_Y)\n",
    "\n",
    "print(\"Train\", tuned_pca_rf_accuracy1)\n",
    "print(\"Test\", tuned_pca_rf_accuracy2)"
   ]
  },
  {
   "cell_type": "code",
   "execution_count": 246,
   "metadata": {},
   "outputs": [
    {
     "name": "stdout",
     "output_type": "stream",
     "text": [
      "accuracy : 0.9994999687480468\n",
      "Precision : 0.9996255616575137\n",
      "Recall : 0.9993760918392812\n",
      "F1 score : 0.9995008111818295\n",
      "ROC_AUC_Score 0.9995001936967227\n",
      "Jaccard Similarity Score :  99.95 %\n"
     ]
    }
   ],
   "source": [
    "eval_metrics(YY_train, tuned_pca_Pred_X)"
   ]
  },
  {
   "cell_type": "code",
   "execution_count": 247,
   "metadata": {},
   "outputs": [
    {
     "name": "stdout",
     "output_type": "stream",
     "text": [
      "accuracy : 0.947\n",
      "Precision : 0.9317738791423001\n",
      "Recall : 0.9637096774193549\n",
      "F1 score : 0.9474727452923687\n",
      "ROC_AUC_Score 0.9471326164874553\n",
      "Jaccard Similarity Score :  94.7 %\n"
     ]
    }
   ],
   "source": [
    "eval_metrics(YY_test, tuned_pca_Pred_Y)"
   ]
  },
  {
   "cell_type": "code",
   "execution_count": 248,
   "metadata": {},
   "outputs": [
    {
     "data": {
      "text/plain": [
       "array([[7982,    3],\n",
       "       [   5, 8009]], dtype=int64)"
      ]
     },
     "execution_count": 248,
     "metadata": {},
     "output_type": "execute_result"
    }
   ],
   "source": [
    "confusion_matrix(YY_train, tuned_pca_Pred_X)"
   ]
  },
  {
   "cell_type": "code",
   "execution_count": 249,
   "metadata": {},
   "outputs": [
    {
     "data": {
      "text/plain": [
       "array([[1876,  140],\n",
       "       [  72, 1912]], dtype=int64)"
      ]
     },
     "execution_count": 249,
     "metadata": {},
     "output_type": "execute_result"
    }
   ],
   "source": [
    "confusion_matrix(YY_test, tuned_pca_Pred_Y)"
   ]
  },
  {
   "cell_type": "code",
   "execution_count": null,
   "metadata": {},
   "outputs": [],
   "source": []
  },
  {
   "cell_type": "markdown",
   "metadata": {},
   "source": [
    "## XGB using Principal Components"
   ]
  },
  {
   "cell_type": "code",
   "execution_count": 250,
   "metadata": {},
   "outputs": [
    {
     "name": "stdout",
     "output_type": "stream",
     "text": [
      "Train 0.9993124570285643\n",
      "Test 0.95275\n"
     ]
    }
   ],
   "source": [
    "pca_xgb = XGBClassifier()\n",
    "\n",
    "pca_xgb.fit(XX_train, YY_train)\n",
    "\n",
    "pca_xgb_train_pred = pca_xgb.predict(XX_train)\n",
    "\n",
    "pca_xgb_accuracy_1 = accuracy_score(YY_train, pca_xgb_train_pred)\n",
    "\n",
    "pca_xgb_test_pred = pca_xgb.predict(XX_test)\n",
    "\n",
    "pca_xgb_accuracy_2 = accuracy_score(YY_test, pca_xgb_test_pred)\n",
    "print(\"Train\", pca_xgb_accuracy_1)\n",
    "print(\"Test\", pca_xgb_accuracy_2)"
   ]
  },
  {
   "cell_type": "code",
   "execution_count": 331,
   "metadata": {},
   "outputs": [
    {
     "name": "stdout",
     "output_type": "stream",
     "text": [
      "accuracy : 0.9993124570285643\n",
      "Precision : 0.9995006865559856\n",
      "Recall : 0.9991265285749937\n",
      "F1 score : 0.9993135725429019\n",
      "ROC_AUC_Score 0.9993127946569396\n",
      "Jaccard Similarity Score :  99.93 %\n"
     ]
    }
   ],
   "source": [
    "eval_metrics(YY_train, pca_xgb_train_pred)"
   ]
  },
  {
   "cell_type": "code",
   "execution_count": 332,
   "metadata": {},
   "outputs": [
    {
     "name": "stdout",
     "output_type": "stream",
     "text": [
      "accuracy : 0.95275\n",
      "Precision : 0.9427725703009373\n",
      "Recall : 0.9632056451612904\n",
      "F1 score : 0.9528795811518325\n",
      "ROC_AUC_Score 0.952832981310804\n",
      "Jaccard Similarity Score :  95.28 %\n"
     ]
    }
   ],
   "source": [
    "eval_metrics(YY_test, pca_xgb_test_pred)"
   ]
  },
  {
   "cell_type": "code",
   "execution_count": 334,
   "metadata": {},
   "outputs": [
    {
     "data": {
      "text/plain": [
       "array([[7981,    4],\n",
       "       [   7, 8007]], dtype=int64)"
      ]
     },
     "execution_count": 334,
     "metadata": {},
     "output_type": "execute_result"
    }
   ],
   "source": [
    "confusion_matrix(YY_train, pca_xgb_train_pred)"
   ]
  },
  {
   "cell_type": "code",
   "execution_count": 335,
   "metadata": {},
   "outputs": [
    {
     "data": {
      "text/plain": [
       "array([[1900,  116],\n",
       "       [  73, 1911]], dtype=int64)"
      ]
     },
     "execution_count": 335,
     "metadata": {},
     "output_type": "execute_result"
    }
   ],
   "source": [
    "confusion_matrix(YY_test, pca_xgb_test_pred)"
   ]
  },
  {
   "cell_type": "code",
   "execution_count": 251,
   "metadata": {},
   "outputs": [],
   "source": [
    "from sklearn.model_selection import RandomizedSearchCV\n",
    "\n",
    "Params = {\n",
    "    \"max_depth\":[11,12,13],\n",
    "    \"min_child_weight\": [3,4,5],\n",
    "    \"gamma\": [0.2,0.3,0.4],\n",
    "    \"subsample\":[0.7,0.8,0.9],\n",
    "    \"colsample_bytree\":[0.7,0.8,0.9],\n",
    "    \"n_estimators\":[200,225,250],\n",
    "    \"learning_rate\":[0.05,0.1,0.2]\n",
    "}\n",
    "rsearch_XGB = RandomizedSearchCV( estimator = XGBClassifier ( objective = \"binary:logistic\", nthread=4, seed=88),\n",
    "                  param_distributions = Params , scoring=\"accuracy\", n_jobs=-1, cv=10, verbose=2 , refit=True)"
   ]
  },
  {
   "cell_type": "code",
   "execution_count": 252,
   "metadata": {},
   "outputs": [
    {
     "name": "stdout",
     "output_type": "stream",
     "text": [
      "Fitting 10 folds for each of 10 candidates, totalling 100 fits\n"
     ]
    },
    {
     "name": "stderr",
     "output_type": "stream",
     "text": [
      "[Parallel(n_jobs=-1)]: Using backend LokyBackend with 8 concurrent workers.\n",
      "[Parallel(n_jobs=-1)]: Done  25 tasks      | elapsed:  4.5min\n",
      "[Parallel(n_jobs=-1)]: Done 100 out of 100 | elapsed: 18.6min finished\n"
     ]
    },
    {
     "data": {
      "text/plain": [
       "RandomizedSearchCV(cv=10, error_score=nan,\n",
       "                   estimator=XGBClassifier(base_score=None, booster=None,\n",
       "                                           colsample_bylevel=None,\n",
       "                                           colsample_bynode=None,\n",
       "                                           colsample_bytree=None, gamma=None,\n",
       "                                           gpu_id=None, importance_type='gain',\n",
       "                                           interaction_constraints=None,\n",
       "                                           learning_rate=None,\n",
       "                                           max_delta_step=None, max_depth=None,\n",
       "                                           min_child_weight=None, missing=nan,\n",
       "                                           monotone_constraints=None,...\n",
       "                   iid='deprecated', n_iter=10, n_jobs=-1,\n",
       "                   param_distributions={'colsample_bytree': [0.7, 0.8, 0.9],\n",
       "                                        'gamma': [0.2, 0.3, 0.4],\n",
       "                                        'learning_rate': [0.05, 0.1, 0.2],\n",
       "                                        'max_depth': [11, 12, 13],\n",
       "                                        'min_child_weight': [3, 4, 5],\n",
       "                                        'n_estimators': [200, 225, 250],\n",
       "                                        'subsample': [0.7, 0.8, 0.9]},\n",
       "                   pre_dispatch='2*n_jobs', random_state=None, refit=True,\n",
       "                   return_train_score=False, scoring='accuracy', verbose=2)"
      ]
     },
     "execution_count": 252,
     "metadata": {},
     "output_type": "execute_result"
    }
   ],
   "source": [
    "rsearch_XGB.fit(XX_train,YY_train)"
   ]
  },
  {
   "cell_type": "code",
   "execution_count": 253,
   "metadata": {},
   "outputs": [
    {
     "data": {
      "text/plain": [
       "{'subsample': 0.8,\n",
       " 'n_estimators': 250,\n",
       " 'min_child_weight': 3,\n",
       " 'max_depth': 12,\n",
       " 'learning_rate': 0.1,\n",
       " 'gamma': 0.4,\n",
       " 'colsample_bytree': 0.9}"
      ]
     },
     "execution_count": 253,
     "metadata": {},
     "output_type": "execute_result"
    }
   ],
   "source": [
    "rsearch_XGB.best_params_"
   ]
  },
  {
   "cell_type": "markdown",
   "metadata": {},
   "source": [
    "# GridSearchCv"
   ]
  },
  {
   "cell_type": "code",
   "execution_count": 268,
   "metadata": {},
   "outputs": [
    {
     "name": "stdout",
     "output_type": "stream",
     "text": [
      "Fitting 5 folds for each of 1500 candidates, totalling 7500 fits\n"
     ]
    },
    {
     "name": "stderr",
     "output_type": "stream",
     "text": [
      "[Parallel(n_jobs=-1)]: Using backend LokyBackend with 8 concurrent workers.\n",
      "[Parallel(n_jobs=-1)]: Done  34 tasks      | elapsed:    7.7s\n",
      "[Parallel(n_jobs=-1)]: Done 184 tasks      | elapsed:   30.5s\n",
      "[Parallel(n_jobs=-1)]: Done 434 tasks      | elapsed:  2.4min\n",
      "[Parallel(n_jobs=-1)]: Done 784 tasks      | elapsed:  4.6min\n",
      "[Parallel(n_jobs=-1)]: Done 1234 tasks      | elapsed:  7.1min\n",
      "[Parallel(n_jobs=-1)]: Done 1784 tasks      | elapsed: 10.3min\n",
      "[Parallel(n_jobs=-1)]: Done 2434 tasks      | elapsed: 14.1min\n",
      "[Parallel(n_jobs=-1)]: Done 3184 tasks      | elapsed: 18.4min\n",
      "[Parallel(n_jobs=-1)]: Done 4034 tasks      | elapsed: 23.8min\n",
      "[Parallel(n_jobs=-1)]: Done 4984 tasks      | elapsed: 32.1min\n",
      "[Parallel(n_jobs=-1)]: Done 6034 tasks      | elapsed: 41.2min\n",
      "[Parallel(n_jobs=-1)]: Done 7184 tasks      | elapsed: 50.1min\n",
      "[Parallel(n_jobs=-1)]: Done 7500 out of 7500 | elapsed: 52.9min finished\n"
     ]
    },
    {
     "name": "stdout",
     "output_type": "stream",
     "text": [
      "Best Parameters using grid search: \n",
      " {'bootstrap': False, 'criterion': 'entropy', 'max_depth': 44, 'max_features': 'auto', 'min_samples_split': 12, 'n_estimators': 31}\n",
      "Time taken in grid search:  3175.69\n"
     ]
    },
    {
     "data": {
      "text/plain": [
       "0.955263865733022"
      ]
     },
     "execution_count": 268,
     "metadata": {},
     "output_type": "execute_result"
    }
   ],
   "source": [
    "fit_rf = RandomForestClassifier(random_state=42)\n",
    "start = time.time()\n",
    "\n",
    "param_dist = {\n",
    "\n",
    "'max_depth':[44,45,46,47,48],\n",
    "'min_samples_split':[10,11,12,13,14],\n",
    "'n_estimators':[31,32,33,34,35],\n",
    "'bootstrap': [True, False],\n",
    "'max_features': ['auto', 'sqrt', None],\n",
    "'criterion': ['gini', 'entropy']\n",
    "             } \n",
    "\n",
    "cv_rf = GridSearchCV(fit_rf, cv = 5,\n",
    "                     param_grid=param_dist, \n",
    "                     n_jobs = -1, verbose=1)\n",
    "\n",
    "cv_rf.fit(X_train, Y_train)\n",
    "print('Best Parameters using grid search: \\n', \n",
    "      cv_rf.best_params_)\n",
    "end = time.time()\n",
    "print('Time taken in grid search: {0: .2f}'.format(end - start))\n",
    "\n",
    "cv_rf.best_score_"
   ]
  },
  {
   "cell_type": "code",
   "execution_count": 254,
   "metadata": {},
   "outputs": [
    {
     "data": {
      "text/plain": [
       "0.954497029393371"
      ]
     },
     "execution_count": 254,
     "metadata": {},
     "output_type": "execute_result"
    }
   ],
   "source": [
    "rsearch_XGB.best_score_"
   ]
  },
  {
   "cell_type": "code",
   "execution_count": 255,
   "metadata": {},
   "outputs": [
    {
     "name": "stdout",
     "output_type": "stream",
     "text": [
      "Train 1.0\n",
      "Test 0.95325\n"
     ]
    }
   ],
   "source": [
    "tuned_pca_xgb = XGBClassifier(subsample = 0.8, n_estimators = 250 , min_child_weight = 3 , max_depth = 12 , \n",
    "                    learning_rate = 0.1 ,gamma = 0.4, colsample_bytree = 0.9)\n",
    "\n",
    "tuned_pca_xgb.fit(XX_train, YY_train)\n",
    "\n",
    "tuned_pca_xgb_pred_train = tuned_pca_xgb.predict(XX_train)\n",
    "tuned_pca_xgb_pred_train_prob = tuned_pca_xgb.predict_proba(XX_train)\n",
    "\n",
    "tuned_pca_xgb_accuracy_1 = accuracy_score(YY_train, tuned_pca_xgb_pred_train)\n",
    "\n",
    "tuned_pca_xgb_pred_test = tuned_pca_xgb.predict(XX_test)\n",
    "tuned_pca_xgb_pred_test_prob = tuned_pca_xgb.predict_proba(XX_test)\n",
    "\n",
    "tuned_pca_xgb_accuracy_2 = accuracy_score(YY_test, tuned_pca_xgb_pred_test)\n",
    "print(\"Train\", tuned_pca_xgb_accuracy_1)\n",
    "print(\"Test\", tuned_pca_xgb_accuracy_2)"
   ]
  },
  {
   "cell_type": "code",
   "execution_count": 256,
   "metadata": {},
   "outputs": [
    {
     "name": "stdout",
     "output_type": "stream",
     "text": [
      "accuracy : 1.0\n",
      "Precision : 1.0\n",
      "Recall : 1.0\n",
      "F1 score : 1.0\n",
      "ROC_AUC_Score 1.0\n",
      "Jaccard Similarity Score :  100.0 %\n"
     ]
    }
   ],
   "source": [
    "eval_metrics(YY_train, tuned_pca_xgb_pred_train)"
   ]
  },
  {
   "cell_type": "code",
   "execution_count": 257,
   "metadata": {},
   "outputs": [
    {
     "name": "stdout",
     "output_type": "stream",
     "text": [
      "accuracy : 0.95325\n",
      "Precision : 0.941957697983276\n",
      "Recall : 0.9652217741935484\n",
      "F1 score : 0.9534478466517301\n",
      "ROC_AUC_Score 0.9533450140809012\n",
      "Jaccard Similarity Score :  95.32 %\n"
     ]
    }
   ],
   "source": [
    "eval_metrics(YY_test, tuned_pca_xgb_pred_test)"
   ]
  },
  {
   "cell_type": "code",
   "execution_count": 258,
   "metadata": {},
   "outputs": [
    {
     "data": {
      "text/plain": [
       "array([[7985,    0],\n",
       "       [   0, 8014]], dtype=int64)"
      ]
     },
     "execution_count": 258,
     "metadata": {},
     "output_type": "execute_result"
    }
   ],
   "source": [
    "confusion_matrix(YY_train, tuned_pca_xgb_pred_train)"
   ]
  },
  {
   "cell_type": "code",
   "execution_count": 259,
   "metadata": {},
   "outputs": [
    {
     "data": {
      "text/plain": [
       "array([[1898,  118],\n",
       "       [  69, 1915]], dtype=int64)"
      ]
     },
     "execution_count": 259,
     "metadata": {},
     "output_type": "execute_result"
    }
   ],
   "source": [
    "confusion_matrix(YY_test, tuned_pca_xgb_pred_test)"
   ]
  },
  {
   "cell_type": "code",
   "execution_count": 260,
   "metadata": {},
   "outputs": [],
   "source": [
    "tuned_pca_xgb_pred_train_prob = pd.DataFrame(tuned_pca_xgb_pred_train_prob)\n",
    "tuned_pca_xgb_pred_test_prob = pd.DataFrame(tuned_pca_xgb_pred_test_prob)"
   ]
  },
  {
   "cell_type": "code",
   "execution_count": 261,
   "metadata": {},
   "outputs": [
    {
     "data": {
      "image/png": "[encoded data removed]",
      "text/plain": [
       "<Figure size 360x360 with 1 Axes>"
      ]
     },
     "metadata": {},
     "output_type": "display_data"
    }
   ],
   "source": [
    "skplt.metrics.plot_cumulative_gain(YY_train, tuned_pca_xgb_pred_train_prob)\n",
    "plt.show()"
   ]
  },
  {
   "cell_type": "code",
   "execution_count": 262,
   "metadata": {},
   "outputs": [
    {
     "data": {
      "image/png": "[encoded data removed]",
      "text/plain": [
       "<Figure size 360x360 with 1 Axes>"
      ]
     },
     "metadata": {},
     "output_type": "display_data"
    }
   ],
   "source": [
    "skplt.metrics.plot_cumulative_gain(YY_test, tuned_pca_xgb_pred_test_prob)\n",
    "plt.show()"
   ]
  },
  {
   "cell_type": "code",
   "execution_count": 263,
   "metadata": {},
   "outputs": [
    {
     "data": {
      "text/html": [
       "\n",
       "\n",
       "\n",
       "\n",
       "\n",
       "\n",
       "  <div class=\"bk-root\" id=\"94694b9f-33cf-40f3-a37a-027733d0950e\" data-root-id=\"1884\"></div>\n"
      ]
     },
     "metadata": {},
     "output_type": "display_data"
    },
    {
     "data": {
      "application/javascript": [
       "(function(root) {\n",
       "  function embed_document(root) {\n",
       "    \n",
       "  var docs_json = {\"0143dbed-ee33-4a91-8302-0cd6d5c273a1\":{\"roots\":{\"references\":[{\"attributes\":{\"below\":[{\"id\":\"1895\",\"type\":\"LinearAxis\"}],\"center\":[{\"id\":\"1899\",\"type\":\"Grid\"},{\"id\":\"1904\",\"type\":\"Grid\"},{\"id\":\"1929\",\"type\":\"Legend\"}],\"left\":[{\"id\":\"1900\",\"type\":\"LinearAxis\"}],\"renderers\":[{\"id\":\"1921\",\"type\":\"GlyphRenderer\"},{\"id\":\"1934\",\"type\":\"GlyphRenderer\"}],\"title\":{\"id\":\"1885\",\"type\":\"Title\"},\"toolbar\":{\"id\":\"1911\",\"type\":\"Toolbar\"},\"x_range\":{\"id\":\"1887\",\"type\":\"DataRange1d\"},\"x_scale\":{\"id\":\"1891\",\"type\":\"LinearScale\"},\"y_range\":{\"id\":\"1889\",\"type\":\"DataRange1d\"},\"y_scale\":{\"id\":\"1893\",\"type\":\"LinearScale\"}},\"id\":\"1884\",\"subtype\":\"Figure\",\"type\":\"Plot\"},{\"attributes\":{\"active_drag\":\"auto\",\"active_inspect\":\"auto\",\"active_multi\":null,\"active_scroll\":\"auto\",\"active_tap\":\"auto\",\"tools\":[{\"id\":\"1905\",\"type\":\"PanTool\"},{\"id\":\"1906\",\"type\":\"WheelZoomTool\"},{\"id\":\"1907\",\"type\":\"BoxZoomTool\"},{\"id\":\"1908\",\"type\":\"SaveTool\"},{\"id\":\"1909\",\"type\":\"ResetTool\"},{\"id\":\"1910\",\"type\":\"HelpTool\"}]},\"id\":\"1911\",\"type\":\"Toolbar\"},{\"attributes\":{},\"id\":\"2002\",\"type\":\"UnionRenderers\"},{\"attributes\":{\"dimension\":1,\"ticker\":{\"id\":\"1901\",\"type\":\"BasicTicker\"}},\"id\":\"1904\",\"type\":\"Grid\"},{\"attributes\":{},\"id\":\"2003\",\"type\":\"Selection\"},{\"attributes\":{\"formatter\":{\"id\":\"1927\",\"type\":\"BasicTickFormatter\"},\"ticker\":{\"id\":\"1896\",\"type\":\"BasicTicker\"}},\"id\":\"1895\",\"type\":\"LinearAxis\"},{\"attributes\":{},\"id\":\"1891\",\"type\":\"LinearScale\"},{\"attributes\":{\"source\":{\"id\":\"1918\",\"type\":\"ColumnDataSource\"}},\"id\":\"1922\",\"type\":\"CDSView\"},{\"attributes\":{},\"id\":\"1908\",\"type\":\"SaveTool\"},{\"attributes\":{\"callback\":null},\"id\":\"1889\",\"type\":\"DataRange1d\"},{\"attributes\":{},\"id\":\"2001\",\"type\":\"Selection\"},{\"attributes\":{},\"id\":\"1905\",\"type\":\"PanTool\"},{\"attributes\":{\"data_source\":{\"id\":\"1931\",\"type\":\"ColumnDataSource\"},\"glyph\":{\"id\":\"1932\",\"type\":\"Line\"},\"hover_glyph\":null,\"muted_glyph\":null,\"nonselection_glyph\":{\"id\":\"1933\",\"type\":\"Line\"},\"selection_glyph\":null,\"view\":{\"id\":\"1935\",\"type\":\"CDSView\"}},\"id\":\"1934\",\"type\":\"GlyphRenderer\"},{\"attributes\":{\"callback\":null,\"data\":{\"x\":[0,1],\"y\":[0,1]},\"selected\":{\"id\":\"2003\",\"type\":\"Selection\"},\"selection_policy\":{\"id\":\"2004\",\"type\":\"UnionRenderers\"}},\"id\":\"1931\",\"type\":\"ColumnDataSource\"},{\"attributes\":{},\"id\":\"1909\",\"type\":\"ResetTool\"},{\"attributes\":{\"callback\":null},\"id\":\"1887\",\"type\":\"DataRange1d\"},{\"attributes\":{\"items\":[{\"id\":\"1930\",\"type\":\"LegendItem\"}]},\"id\":\"1929\",\"type\":\"Legend\"},{\"attributes\":{\"label\":{\"value\":\"AUC = 1.0\"},\"renderers\":[{\"id\":\"1921\",\"type\":\"GlyphRenderer\"}]},\"id\":\"1930\",\"type\":\"LegendItem\"},{\"attributes\":{\"line_color\":\"#0077bc\",\"line_width\":2,\"x\":{\"field\":\"x\"},\"y\":{\"field\":\"y\"}},\"id\":\"1919\",\"type\":\"Line\"},{\"attributes\":{\"ticker\":{\"id\":\"1896\",\"type\":\"BasicTicker\"}},\"id\":\"1899\",\"type\":\"Grid\"},{\"attributes\":{},\"id\":\"1893\",\"type\":\"LinearScale\"},{\"attributes\":{\"data_source\":{\"id\":\"1918\",\"type\":\"ColumnDataSource\"},\"glyph\":{\"id\":\"1919\",\"type\":\"Line\"},\"hover_glyph\":null,\"muted_glyph\":null,\"nonselection_glyph\":{\"id\":\"1920\",\"type\":\"Line\"},\"selection_glyph\":null,\"view\":{\"id\":\"1922\",\"type\":\"CDSView\"}},\"id\":\"1921\",\"type\":\"GlyphRenderer\"},{\"attributes\":{\"overlay\":{\"id\":\"1928\",\"type\":\"BoxAnnotation\"}},\"id\":\"1907\",\"type\":\"BoxZoomTool\"},{\"attributes\":{\"line_alpha\":0.1,\"line_color\":\"#1f77b4\",\"line_width\":2,\"x\":{\"field\":\"x\"},\"y\":{\"field\":\"y\"}},\"id\":\"1920\",\"type\":\"Line\"},{\"attributes\":{},\"id\":\"1925\",\"type\":\"BasicTickFormatter\"},{\"attributes\":{},\"id\":\"1927\",\"type\":\"BasicTickFormatter\"},{\"attributes\":{\"line_alpha\":0.1,\"line_color\":\"#1f77b4\",\"line_dash\":[2,4,6,4],\"line_width\":2,\"x\":{\"field\":\"x\"},\"y\":{\"field\":\"y\"}},\"id\":\"1933\",\"type\":\"Line\"},{\"attributes\":{\"line_color\":\"#d15555\",\"line_dash\":[2,4,6,4],\"line_width\":2,\"x\":{\"field\":\"x\"},\"y\":{\"field\":\"y\"}},\"id\":\"1932\",\"type\":\"Line\"},{\"attributes\":{\"bottom_units\":\"screen\",\"fill_alpha\":{\"value\":0.5},\"fill_color\":{\"value\":\"lightgrey\"},\"left_units\":\"screen\",\"level\":\"overlay\",\"line_alpha\":{\"value\":1.0},\"line_color\":{\"value\":\"black\"},\"line_dash\":[4,4],\"line_width\":{\"value\":2},\"render_mode\":\"css\",\"right_units\":\"screen\",\"top_units\":\"screen\"},\"id\":\"1928\",\"type\":\"BoxAnnotation\"},{\"attributes\":{\"text\":\"ROC Curve - Train data\"},\"id\":\"1885\",\"type\":\"Title\"},{\"attributes\":{\"callback\":null,\"data\":{\"x\":{\"__ndarray__\":\"AAAAAAAAAAAAAAAAAAAAAAAAAAAAAPA/\",\"dtype\":\"float64\",\"shape\":[3]},\"y\":{\"__ndarray__\":\"AAAAAAAAAAAAAAAAAADwPwAAAAAAAPA/\",\"dtype\":\"float64\",\"shape\":[3]}},\"selected\":{\"id\":\"2001\",\"type\":\"Selection\"},\"selection_policy\":{\"id\":\"2002\",\"type\":\"UnionRenderers\"}},\"id\":\"1918\",\"type\":\"ColumnDataSource\"},{\"attributes\":{},\"id\":\"1906\",\"type\":\"WheelZoomTool\"},{\"attributes\":{},\"id\":\"1896\",\"type\":\"BasicTicker\"},{\"attributes\":{},\"id\":\"2004\",\"type\":\"UnionRenderers\"},{\"attributes\":{\"source\":{\"id\":\"1931\",\"type\":\"ColumnDataSource\"}},\"id\":\"1935\",\"type\":\"CDSView\"},{\"attributes\":{},\"id\":\"1901\",\"type\":\"BasicTicker\"},{\"attributes\":{},\"id\":\"1910\",\"type\":\"HelpTool\"},{\"attributes\":{\"formatter\":{\"id\":\"1925\",\"type\":\"BasicTickFormatter\"},\"ticker\":{\"id\":\"1901\",\"type\":\"BasicTicker\"}},\"id\":\"1900\",\"type\":\"LinearAxis\"}],\"root_ids\":[\"1884\"]},\"title\":\"Bokeh Application\",\"version\":\"1.4.0\"}};\n",
       "  var render_items = [{\"docid\":\"0143dbed-ee33-4a91-8302-0cd6d5c273a1\",\"roots\":{\"1884\":\"94694b9f-33cf-40f3-a37a-027733d0950e\"}}];\n",
       "  root.Bokeh.embed.embed_items_notebook(docs_json, render_items);\n",
       "\n",
       "  }\n",
       "  if (root.Bokeh !== undefined) {\n",
       "    embed_document(root);\n",
       "  } else {\n",
       "    var attempts = 0;\n",
       "    var timer = setInterval(function(root) {\n",
       "      if (root.Bokeh !== undefined) {\n",
       "        clearInterval(timer);\n",
       "        embed_document(root);\n",
       "      } else {\n",
       "        attempts++;\n",
       "        if (attempts > 100) {\n",
       "          clearInterval(timer);\n",
       "          console.log(\"Bokeh: ERROR: Unable to run BokehJS code because BokehJS library is missing\");\n",
       "        }\n",
       "      }\n",
       "    }, 10, root)\n",
       "  }\n",
       "})(window);"
      ],
      "application/vnd.bokehjs_exec.v0+json": ""
     },
     "metadata": {
      "application/vnd.bokehjs_exec.v0+json": {
       "id": "1884"
      }
     },
     "output_type": "display_data"
    }
   ],
   "source": [
    "from sklearn.metrics import auc\n",
    "fpr, tpr, _ = roc_curve(np.array(YY_train), tuned_pca_xgb_pred_train)\n",
    "auc = auc(fpr,tpr)\n",
    "p = figure(title=\"ROC Curve - Train data\")\n",
    "r = p.line(fpr,tpr,color='#0077bc',legend = 'AUC = '+ str(round(auc,3)), line_width=2)\n",
    "s = p.line([0,1],[0,1], color= '#d15555',line_dash='dotdash',line_width=2)\n",
    "show(p)"
   ]
  },
  {
   "cell_type": "code",
   "execution_count": 264,
   "metadata": {},
   "outputs": [
    {
     "data": {
      "text/html": [
       "\n",
       "\n",
       "\n",
       "\n",
       "\n",
       "\n",
       "  <div class=\"bk-root\" id=\"76589b66-b9ed-4c62-9b9f-aba232ec32af\" data-root-id=\"2066\"></div>\n"
      ]
     },
     "metadata": {},
     "output_type": "display_data"
    },
    {
     "data": {
      "application/javascript": [
       "(function(root) {\n",
       "  function embed_document(root) {\n",
       "    \n",
       "  var docs_json = {\"7842c1b8-6c4c-4d9a-92eb-9e349a42721e\":{\"roots\":{\"references\":[{\"attributes\":{\"below\":[{\"id\":\"2077\",\"type\":\"LinearAxis\"}],\"center\":[{\"id\":\"2081\",\"type\":\"Grid\"},{\"id\":\"2086\",\"type\":\"Grid\"},{\"id\":\"2111\",\"type\":\"Legend\"}],\"left\":[{\"id\":\"2082\",\"type\":\"LinearAxis\"}],\"renderers\":[{\"id\":\"2103\",\"type\":\"GlyphRenderer\"},{\"id\":\"2116\",\"type\":\"GlyphRenderer\"}],\"title\":{\"id\":\"2067\",\"type\":\"Title\"},\"toolbar\":{\"id\":\"2093\",\"type\":\"Toolbar\"},\"x_range\":{\"id\":\"2069\",\"type\":\"DataRange1d\"},\"x_scale\":{\"id\":\"2073\",\"type\":\"LinearScale\"},\"y_range\":{\"id\":\"2071\",\"type\":\"DataRange1d\"},\"y_scale\":{\"id\":\"2075\",\"type\":\"LinearScale\"}},\"id\":\"2066\",\"subtype\":\"Figure\",\"type\":\"Plot\"},{\"attributes\":{},\"id\":\"2090\",\"type\":\"SaveTool\"},{\"attributes\":{\"label\":{\"value\":\"AUC = 0.953\"},\"renderers\":[{\"id\":\"2103\",\"type\":\"GlyphRenderer\"}]},\"id\":\"2112\",\"type\":\"LegendItem\"},{\"attributes\":{\"text\":\"ROC Curve - Train data\"},\"id\":\"2067\",\"type\":\"Title\"},{\"attributes\":{\"source\":{\"id\":\"2100\",\"type\":\"ColumnDataSource\"}},\"id\":\"2104\",\"type\":\"CDSView\"},{\"attributes\":{\"formatter\":{\"id\":\"2107\",\"type\":\"BasicTickFormatter\"},\"ticker\":{\"id\":\"2083\",\"type\":\"BasicTicker\"}},\"id\":\"2082\",\"type\":\"LinearAxis\"},{\"attributes\":{},\"id\":\"2195\",\"type\":\"Selection\"},{\"attributes\":{},\"id\":\"2109\",\"type\":\"BasicTickFormatter\"},{\"attributes\":{},\"id\":\"2196\",\"type\":\"UnionRenderers\"},{\"attributes\":{\"callback\":null},\"id\":\"2071\",\"type\":\"DataRange1d\"},{\"attributes\":{\"line_alpha\":0.1,\"line_color\":\"#1f77b4\",\"line_dash\":[2,4,6,4],\"line_width\":2,\"x\":{\"field\":\"x\"},\"y\":{\"field\":\"y\"}},\"id\":\"2115\",\"type\":\"Line\"},{\"attributes\":{},\"id\":\"2078\",\"type\":\"BasicTicker\"},{\"attributes\":{\"callback\":null},\"id\":\"2069\",\"type\":\"DataRange1d\"},{\"attributes\":{},\"id\":\"2091\",\"type\":\"ResetTool\"},{\"attributes\":{\"line_alpha\":0.1,\"line_color\":\"#1f77b4\",\"line_width\":2,\"x\":{\"field\":\"x\"},\"y\":{\"field\":\"y\"}},\"id\":\"2102\",\"type\":\"Line\"},{\"attributes\":{},\"id\":\"2193\",\"type\":\"Selection\"},{\"attributes\":{},\"id\":\"2194\",\"type\":\"UnionRenderers\"},{\"attributes\":{\"formatter\":{\"id\":\"2109\",\"type\":\"BasicTickFormatter\"},\"ticker\":{\"id\":\"2078\",\"type\":\"BasicTicker\"}},\"id\":\"2077\",\"type\":\"LinearAxis\"},{\"attributes\":{\"source\":{\"id\":\"2113\",\"type\":\"ColumnDataSource\"}},\"id\":\"2117\",\"type\":\"CDSView\"},{\"attributes\":{},\"id\":\"2083\",\"type\":\"BasicTicker\"},{\"attributes\":{\"active_drag\":\"auto\",\"active_inspect\":\"auto\",\"active_multi\":null,\"active_scroll\":\"auto\",\"active_tap\":\"auto\",\"tools\":[{\"id\":\"2087\",\"type\":\"PanTool\"},{\"id\":\"2088\",\"type\":\"WheelZoomTool\"},{\"id\":\"2089\",\"type\":\"BoxZoomTool\"},{\"id\":\"2090\",\"type\":\"SaveTool\"},{\"id\":\"2091\",\"type\":\"ResetTool\"},{\"id\":\"2092\",\"type\":\"HelpTool\"}]},\"id\":\"2093\",\"type\":\"Toolbar\"},{\"attributes\":{\"ticker\":{\"id\":\"2078\",\"type\":\"BasicTicker\"}},\"id\":\"2081\",\"type\":\"Grid\"},{\"attributes\":{},\"id\":\"2107\",\"type\":\"BasicTickFormatter\"},{\"attributes\":{\"bottom_units\":\"screen\",\"fill_alpha\":{\"value\":0.5},\"fill_color\":{\"value\":\"lightgrey\"},\"left_units\":\"screen\",\"level\":\"overlay\",\"line_alpha\":{\"value\":1.0},\"line_color\":{\"value\":\"black\"},\"line_dash\":[4,4],\"line_width\":{\"value\":2},\"render_mode\":\"css\",\"right_units\":\"screen\",\"top_units\":\"screen\"},\"id\":\"2110\",\"type\":\"BoxAnnotation\"},{\"attributes\":{},\"id\":\"2087\",\"type\":\"PanTool\"},{\"attributes\":{\"data_source\":{\"id\":\"2100\",\"type\":\"ColumnDataSource\"},\"glyph\":{\"id\":\"2101\",\"type\":\"Line\"},\"hover_glyph\":null,\"muted_glyph\":null,\"nonselection_glyph\":{\"id\":\"2102\",\"type\":\"Line\"},\"selection_glyph\":null,\"view\":{\"id\":\"2104\",\"type\":\"CDSView\"}},\"id\":\"2103\",\"type\":\"GlyphRenderer\"},{\"attributes\":{\"line_color\":\"#d15555\",\"line_dash\":[2,4,6,4],\"line_width\":2,\"x\":{\"field\":\"x\"},\"y\":{\"field\":\"y\"}},\"id\":\"2114\",\"type\":\"Line\"},{\"attributes\":{\"overlay\":{\"id\":\"2110\",\"type\":\"BoxAnnotation\"}},\"id\":\"2089\",\"type\":\"BoxZoomTool\"},{\"attributes\":{\"dimension\":1,\"ticker\":{\"id\":\"2083\",\"type\":\"BasicTicker\"}},\"id\":\"2086\",\"type\":\"Grid\"},{\"attributes\":{\"items\":[{\"id\":\"2112\",\"type\":\"LegendItem\"}]},\"id\":\"2111\",\"type\":\"Legend\"},{\"attributes\":{},\"id\":\"2088\",\"type\":\"WheelZoomTool\"},{\"attributes\":{},\"id\":\"2092\",\"type\":\"HelpTool\"},{\"attributes\":{\"line_color\":\"#0077bc\",\"line_width\":2,\"x\":{\"field\":\"x\"},\"y\":{\"field\":\"y\"}},\"id\":\"2101\",\"type\":\"Line\"},{\"attributes\":{\"data_source\":{\"id\":\"2113\",\"type\":\"ColumnDataSource\"},\"glyph\":{\"id\":\"2114\",\"type\":\"Line\"},\"hover_glyph\":null,\"muted_glyph\":null,\"nonselection_glyph\":{\"id\":\"2115\",\"type\":\"Line\"},\"selection_glyph\":null,\"view\":{\"id\":\"2117\",\"type\":\"CDSView\"}},\"id\":\"2116\",\"type\":\"GlyphRenderer\"},{\"attributes\":{\"callback\":null,\"data\":{\"x\":{\"__ndarray__\":\"AAAAAAAAAAB+3/d93/etPwAAAAAAAPA/\",\"dtype\":\"float64\",\"shape\":[3]},\"y\":{\"__ndarray__\":\"AAAAAAAAAABjjDHGGOPuPwAAAAAAAPA/\",\"dtype\":\"float64\",\"shape\":[3]}},\"selected\":{\"id\":\"2193\",\"type\":\"Selection\"},\"selection_policy\":{\"id\":\"2194\",\"type\":\"UnionRenderers\"}},\"id\":\"2100\",\"type\":\"ColumnDataSource\"},{\"attributes\":{\"callback\":null,\"data\":{\"x\":[0,1],\"y\":[0,1]},\"selected\":{\"id\":\"2195\",\"type\":\"Selection\"},\"selection_policy\":{\"id\":\"2196\",\"type\":\"UnionRenderers\"}},\"id\":\"2113\",\"type\":\"ColumnDataSource\"},{\"attributes\":{},\"id\":\"2073\",\"type\":\"LinearScale\"},{\"attributes\":{},\"id\":\"2075\",\"type\":\"LinearScale\"}],\"root_ids\":[\"2066\"]},\"title\":\"Bokeh Application\",\"version\":\"1.4.0\"}};\n",
       "  var render_items = [{\"docid\":\"7842c1b8-6c4c-4d9a-92eb-9e349a42721e\",\"roots\":{\"2066\":\"76589b66-b9ed-4c62-9b9f-aba232ec32af\"}}];\n",
       "  root.Bokeh.embed.embed_items_notebook(docs_json, render_items);\n",
       "\n",
       "  }\n",
       "  if (root.Bokeh !== undefined) {\n",
       "    embed_document(root);\n",
       "  } else {\n",
       "    var attempts = 0;\n",
       "    var timer = setInterval(function(root) {\n",
       "      if (root.Bokeh !== undefined) {\n",
       "        clearInterval(timer);\n",
       "        embed_document(root);\n",
       "      } else {\n",
       "        attempts++;\n",
       "        if (attempts > 100) {\n",
       "          clearInterval(timer);\n",
       "          console.log(\"Bokeh: ERROR: Unable to run BokehJS code because BokehJS library is missing\");\n",
       "        }\n",
       "      }\n",
       "    }, 10, root)\n",
       "  }\n",
       "})(window);"
      ],
      "application/vnd.bokehjs_exec.v0+json": ""
     },
     "metadata": {
      "application/vnd.bokehjs_exec.v0+json": {
       "id": "2066"
      }
     },
     "output_type": "display_data"
    }
   ],
   "source": [
    "fpr, tpr, _ = metrics.roc_curve(np.array(YY_test), tuned_pca_xgb_pred_test)\n",
    "auc = metrics.auc(fpr,tpr)\n",
    "p = figure(title=\"ROC Curve - Train data\")\n",
    "r = p.line(fpr,tpr,color='#0077bc',legend = 'AUC = '+ str(round(auc,3)), line_width=2)\n",
    "s = p.line([0,1],[0,1], color= '#d15555',line_dash='dotdash',line_width=2)\n",
    "show(p)"
   ]
  },
  {
   "cell_type": "code",
   "execution_count": 270,
   "metadata": {},
   "outputs": [],
   "source": [
    "tuned_pca_xgb_validate_train = model_validation(XX_train,YY_train,tuned_pca_xgb)\n",
    "tuned_pca_xgb_validate_test = model_validation(XX_test,YY_test,tuned_pca_xgb)"
   ]
  },
  {
   "cell_type": "code",
   "execution_count": 271,
   "metadata": {},
   "outputs": [
    {
     "data": {
      "text/html": [
       "<div>\n",
       "<style scoped>\n",
       "    .dataframe tbody tr th:only-of-type {\n",
       "        vertical-align: middle;\n",
       "    }\n",
       "\n",
       "    .dataframe tbody tr th {\n",
       "        vertical-align: top;\n",
       "    }\n",
       "\n",
       "    .dataframe thead th {\n",
       "        text-align: right;\n",
       "    }\n",
       "</style>\n",
       "<table border=\"1\" class=\"dataframe\">\n",
       "  <thead>\n",
       "    <tr style=\"text-align: right;\">\n",
       "      <th></th>\n",
       "      <th>min_score</th>\n",
       "      <th>max_score</th>\n",
       "      <th>Bad</th>\n",
       "      <th>Good</th>\n",
       "      <th>Total</th>\n",
       "    </tr>\n",
       "    <tr>\n",
       "      <th>Decile</th>\n",
       "      <th></th>\n",
       "      <th></th>\n",
       "      <th></th>\n",
       "      <th></th>\n",
       "      <th></th>\n",
       "    </tr>\n",
       "  </thead>\n",
       "  <tbody>\n",
       "    <tr>\n",
       "      <th>1</th>\n",
       "      <td>0.999782</td>\n",
       "      <td>0.999993</td>\n",
       "      <td>1600.0</td>\n",
       "      <td>0.0</td>\n",
       "      <td>1600.0</td>\n",
       "    </tr>\n",
       "    <tr>\n",
       "      <th>2</th>\n",
       "      <td>0.999276</td>\n",
       "      <td>0.999782</td>\n",
       "      <td>1600.0</td>\n",
       "      <td>0.0</td>\n",
       "      <td>1600.0</td>\n",
       "    </tr>\n",
       "    <tr>\n",
       "      <th>3</th>\n",
       "      <td>0.997506</td>\n",
       "      <td>0.999275</td>\n",
       "      <td>1600.0</td>\n",
       "      <td>0.0</td>\n",
       "      <td>1600.0</td>\n",
       "    </tr>\n",
       "    <tr>\n",
       "      <th>4</th>\n",
       "      <td>0.988416</td>\n",
       "      <td>0.997503</td>\n",
       "      <td>1600.0</td>\n",
       "      <td>0.0</td>\n",
       "      <td>1600.0</td>\n",
       "    </tr>\n",
       "    <tr>\n",
       "      <th>5</th>\n",
       "      <td>0.833128</td>\n",
       "      <td>0.988398</td>\n",
       "      <td>1599.0</td>\n",
       "      <td>0.0</td>\n",
       "      <td>1599.0</td>\n",
       "    </tr>\n",
       "    <tr>\n",
       "      <th>6</th>\n",
       "      <td>0.009953</td>\n",
       "      <td>0.832277</td>\n",
       "      <td>15.0</td>\n",
       "      <td>1585.0</td>\n",
       "      <td>1600.0</td>\n",
       "    </tr>\n",
       "    <tr>\n",
       "      <th>7</th>\n",
       "      <td>0.001880</td>\n",
       "      <td>0.009938</td>\n",
       "      <td>0.0</td>\n",
       "      <td>1600.0</td>\n",
       "      <td>1600.0</td>\n",
       "    </tr>\n",
       "    <tr>\n",
       "      <th>8</th>\n",
       "      <td>0.000542</td>\n",
       "      <td>0.001876</td>\n",
       "      <td>0.0</td>\n",
       "      <td>1600.0</td>\n",
       "      <td>1600.0</td>\n",
       "    </tr>\n",
       "    <tr>\n",
       "      <th>9</th>\n",
       "      <td>0.000167</td>\n",
       "      <td>0.000542</td>\n",
       "      <td>0.0</td>\n",
       "      <td>1600.0</td>\n",
       "      <td>1600.0</td>\n",
       "    </tr>\n",
       "    <tr>\n",
       "      <th>10</th>\n",
       "      <td>0.000008</td>\n",
       "      <td>0.000167</td>\n",
       "      <td>0.0</td>\n",
       "      <td>1600.0</td>\n",
       "      <td>1600.0</td>\n",
       "    </tr>\n",
       "  </tbody>\n",
       "</table>\n",
       "</div>"
      ],
      "text/plain": [
       "        min_score  max_score     Bad    Good   Total\n",
       "Decile                                              \n",
       "1        0.999782   0.999993  1600.0     0.0  1600.0\n",
       "2        0.999276   0.999782  1600.0     0.0  1600.0\n",
       "3        0.997506   0.999275  1600.0     0.0  1600.0\n",
       "4        0.988416   0.997503  1600.0     0.0  1600.0\n",
       "5        0.833128   0.988398  1599.0     0.0  1599.0\n",
       "6        0.009953   0.832277    15.0  1585.0  1600.0\n",
       "7        0.001880   0.009938     0.0  1600.0  1600.0\n",
       "8        0.000542   0.001876     0.0  1600.0  1600.0\n",
       "9        0.000167   0.000542     0.0  1600.0  1600.0\n",
       "10       0.000008   0.000167     0.0  1600.0  1600.0"
      ]
     },
     "execution_count": 271,
     "metadata": {},
     "output_type": "execute_result"
    }
   ],
   "source": [
    "tuned_pca_xgb_validate_train"
   ]
  },
  {
   "cell_type": "code",
   "execution_count": 272,
   "metadata": {},
   "outputs": [
    {
     "data": {
      "text/html": [
       "<div>\n",
       "<style scoped>\n",
       "    .dataframe tbody tr th:only-of-type {\n",
       "        vertical-align: middle;\n",
       "    }\n",
       "\n",
       "    .dataframe tbody tr th {\n",
       "        vertical-align: top;\n",
       "    }\n",
       "\n",
       "    .dataframe thead th {\n",
       "        text-align: right;\n",
       "    }\n",
       "</style>\n",
       "<table border=\"1\" class=\"dataframe\">\n",
       "  <thead>\n",
       "    <tr style=\"text-align: right;\">\n",
       "      <th></th>\n",
       "      <th>min_score</th>\n",
       "      <th>max_score</th>\n",
       "      <th>Bad</th>\n",
       "      <th>Good</th>\n",
       "      <th>Total</th>\n",
       "    </tr>\n",
       "    <tr>\n",
       "      <th>Decile</th>\n",
       "      <th></th>\n",
       "      <th></th>\n",
       "      <th></th>\n",
       "      <th></th>\n",
       "      <th></th>\n",
       "    </tr>\n",
       "  </thead>\n",
       "  <tbody>\n",
       "    <tr>\n",
       "      <th>1</th>\n",
       "      <td>0.999769</td>\n",
       "      <td>0.999990</td>\n",
       "      <td>400.0</td>\n",
       "      <td>0.0</td>\n",
       "      <td>400.0</td>\n",
       "    </tr>\n",
       "    <tr>\n",
       "      <th>2</th>\n",
       "      <td>0.999184</td>\n",
       "      <td>0.999769</td>\n",
       "      <td>400.0</td>\n",
       "      <td>0.0</td>\n",
       "      <td>400.0</td>\n",
       "    </tr>\n",
       "    <tr>\n",
       "      <th>3</th>\n",
       "      <td>0.996756</td>\n",
       "      <td>0.999183</td>\n",
       "      <td>399.0</td>\n",
       "      <td>1.0</td>\n",
       "      <td>400.0</td>\n",
       "    </tr>\n",
       "    <tr>\n",
       "      <th>4</th>\n",
       "      <td>0.975389</td>\n",
       "      <td>0.996730</td>\n",
       "      <td>390.0</td>\n",
       "      <td>10.0</td>\n",
       "      <td>400.0</td>\n",
       "    </tr>\n",
       "    <tr>\n",
       "      <th>5</th>\n",
       "      <td>0.615380</td>\n",
       "      <td>0.975270</td>\n",
       "      <td>308.0</td>\n",
       "      <td>92.0</td>\n",
       "      <td>400.0</td>\n",
       "    </tr>\n",
       "    <tr>\n",
       "      <th>6</th>\n",
       "      <td>0.022219</td>\n",
       "      <td>0.614419</td>\n",
       "      <td>80.0</td>\n",
       "      <td>320.0</td>\n",
       "      <td>400.0</td>\n",
       "    </tr>\n",
       "    <tr>\n",
       "      <th>7</th>\n",
       "      <td>0.002560</td>\n",
       "      <td>0.022065</td>\n",
       "      <td>5.0</td>\n",
       "      <td>395.0</td>\n",
       "      <td>400.0</td>\n",
       "    </tr>\n",
       "    <tr>\n",
       "      <th>8</th>\n",
       "      <td>0.000643</td>\n",
       "      <td>0.002551</td>\n",
       "      <td>2.0</td>\n",
       "      <td>398.0</td>\n",
       "      <td>400.0</td>\n",
       "    </tr>\n",
       "    <tr>\n",
       "      <th>9</th>\n",
       "      <td>0.000179</td>\n",
       "      <td>0.000642</td>\n",
       "      <td>0.0</td>\n",
       "      <td>400.0</td>\n",
       "      <td>400.0</td>\n",
       "    </tr>\n",
       "    <tr>\n",
       "      <th>10</th>\n",
       "      <td>0.000010</td>\n",
       "      <td>0.000179</td>\n",
       "      <td>0.0</td>\n",
       "      <td>400.0</td>\n",
       "      <td>400.0</td>\n",
       "    </tr>\n",
       "  </tbody>\n",
       "</table>\n",
       "</div>"
      ],
      "text/plain": [
       "        min_score  max_score    Bad   Good  Total\n",
       "Decile                                           \n",
       "1        0.999769   0.999990  400.0    0.0  400.0\n",
       "2        0.999184   0.999769  400.0    0.0  400.0\n",
       "3        0.996756   0.999183  399.0    1.0  400.0\n",
       "4        0.975389   0.996730  390.0   10.0  400.0\n",
       "5        0.615380   0.975270  308.0   92.0  400.0\n",
       "6        0.022219   0.614419   80.0  320.0  400.0\n",
       "7        0.002560   0.022065    5.0  395.0  400.0\n",
       "8        0.000643   0.002551    2.0  398.0  400.0\n",
       "9        0.000179   0.000642    0.0  400.0  400.0\n",
       "10       0.000010   0.000179    0.0  400.0  400.0"
      ]
     },
     "execution_count": 272,
     "metadata": {},
     "output_type": "execute_result"
    }
   ],
   "source": [
    "tuned_pca_xgb_validate_test"
   ]
  },
  {
   "cell_type": "code",
   "execution_count": null,
   "metadata": {},
   "outputs": [],
   "source": [
    "tuned_pca_xgb_validate_train.to_csv(\"C:\\\\TELECOM\\\\profile_trainn.csv\")\n",
    "tuned_pca_xgb_validate_test.to_csv(\"C:\\\\TELECOM\\\\profile_testt.csv\")"
   ]
  },
  {
   "cell_type": "code",
   "execution_count": null,
   "metadata": {},
   "outputs": [],
   "source": []
  }
 ],
 "metadata": {
  "kernelspec": {
   "display_name": "Python 3",
   "language": "python",
   "name": "python3"
  },
  "language_info": {
   "codemirror_mode": {
    "name": "ipython",
    "version": 3
   },
   "file_extension": ".py",
   "mimetype": "text/x-python",
   "name": "python",
   "nbconvert_exporter": "python",
   "pygments_lexer": "ipython3",
   "version": "3.7.6"
  }
 },
 "nbformat": 4,
 "nbformat_minor": 2
}
